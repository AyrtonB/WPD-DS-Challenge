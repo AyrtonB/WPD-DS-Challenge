{
 "cells": [
  {
   "cell_type": "code",
   "execution_count": 1,
   "id": "marine-consideration",
   "metadata": {},
   "outputs": [],
   "source": [
    "#default_exp constraints"
   ]
  },
  {
   "cell_type": "markdown",
   "id": "laughing-memory",
   "metadata": {},
   "source": [
    "# Battery Constraints\n",
    "\n",
    "The solution must meet constraints of the battery:\n",
    "\n",
    "- Must only charge between 00:00-15:30\n",
    "- Must only discharge between 15:30--21:00\n",
    "- Must not charge or discharge between 21:00--00:00\n",
    "- Battery must be empty at 00:00 each day\n",
    "\n",
    "<br>\n",
    "\n",
    "### Imports"
   ]
  },
  {
   "cell_type": "code",
   "execution_count": 2,
   "id": "offensive-wallpaper",
   "metadata": {},
   "outputs": [],
   "source": [
    "#exports\n",
    "import numpy as np\n",
    "import pandas as pd"
   ]
  },
  {
   "cell_type": "markdown",
   "id": "premium-brick",
   "metadata": {},
   "source": [
    "### Converting a charging schedule to capacity\n",
    "\n",
    "The solution is given in terms of the battery charge/discharge schedule, but it is also necessary to satisfy constraints on the capacity of the battery (see below). \n",
    "\n",
    "The charge is determined by $C_{t+1} = C_{t} + 0.5B_{t}$\n",
    "\n",
    "Note that we generally the initial value for capacity is 0 (the battery starts off empty). Change `init_value` if not."
   ]
  },
  {
   "cell_type": "code",
   "execution_count": 3,
   "id": "pediatric-personality",
   "metadata": {},
   "outputs": [],
   "source": [
    "#exports\n",
    "\n",
    "def charge_to_capacity(charge_schedule, init_value=0):\n",
    "    capacity = np.append(np.array([init_value]), np.cumsum(charge_schedule[:-1]/2))\n",
    "    return capacity"
   ]
  },
  {
   "cell_type": "markdown",
   "id": "consolidated-yemen",
   "metadata": {},
   "source": [
    "A simple example: "
   ]
  },
  {
   "cell_type": "code",
   "execution_count": 4,
   "id": "liberal-voice",
   "metadata": {},
   "outputs": [
    {
     "data": {
      "text/plain": [
       "array([0.  , 1.25, 1.5 , 1.5 , 1.  ])"
      ]
     },
     "execution_count": 4,
     "metadata": {},
     "output_type": "execute_result"
    }
   ],
   "source": [
    "b = np.array([2.5, 0.5, 0, -1, 0])\n",
    "charge_to_capacity(b)"
   ]
  },
  {
   "cell_type": "markdown",
   "id": "brief-mouse",
   "metadata": {},
   "source": [
    "### Determine whether a solution meets constraints\n",
    "\n",
    "The battery schedule must meet constraints such that all at timesteps the charging rate $B$ and capacity $C$ satisfy:\n",
    "\n",
    "* $B_{min} \\leq B \\leq B_{max}$ \n",
    "* $0 \\leq C \\leq C_{max}$\n",
    " \n",
    "In addition, we can only charge the battery between periods 1 (00:00) and 31 (15:00) inclusive, and discharge between periods 32 (15:30) and 42 (20:30) inclusive. For periods 43 to 48, there should be no activity, and the day must start with $C=0$. \n"
   ]
  },
  {
   "cell_type": "code",
   "execution_count": 5,
   "id": "living-hearts",
   "metadata": {},
   "outputs": [],
   "source": [
    "#exports\n",
    "\n",
    "def schedule_is_legal(schedule, B_min=-2.5, B_max=2.5, C_min=0, C_max=6, \n",
    "                      charge_times=('00:00', '15:00'), discharge_times=('15:30', '20:30'),\n",
    "                      no_activity_times=('21:00', '23:30'), tolerance=1e-09):\n",
    "    \"\"\"\n",
    "    Determine if a battery schedule meets constraints\n",
    "    \"\"\"\n",
    "        \n",
    "    charge = schedule.charge_MW.values\n",
    "    capacity = charge_to_capacity(schedule.charge_MW.values)\n",
    "    schedule['capacity'] = capacity\n",
    "    schedule = schedule.set_index(pd.to_datetime(schedule.index))\n",
    "    \n",
    "    if not np.all((charge >= B_min-tolerance) & (charge <= (B_max+tolerance))): # charge constraints\n",
    "        print(\"Charge constraint violated\")\n",
    "        return False\n",
    "    elif not np.all((capacity >= C_min-tolerance) & (capacity <= (C_max+tolerance))): # capacity constraints\n",
    "        print(\"Capacity constraint violated\")\n",
    "        return False\n",
    "    elif np.any(schedule.between_time(discharge_times[0], discharge_times[1]).charge_MW.values > (0+tolerance)): # Discharge between discharge_times\n",
    "        print(\"Attempted to charge during the discharge period\")\n",
    "        return False\n",
    "    elif np.any(schedule.between_time(charge_times[0], charge_times[1]).charge_MW.values < (0-tolerance)): # Charge between charge_times \n",
    "        print(\"Attempted to discharge during the charge period\")\n",
    "        return False\n",
    "    elif np.logical_not(\n",
    "                        np.any(\n",
    "                               np.isclose(schedule.between_time(no_activity_times[0], no_activity_times[1]).charge_MW.values, 0))): # No activity between no_activity_times \n",
    "        print(\"Attempted to discharge or charge during the no activity period\")\n",
    "        return False\n",
    "    elif np.logical_not(np.any(np.isclose(schedule.between_time('00:00', '00:00').capacity.values, 0))): # Must be empty at 00:00\n",
    "        print(\"Battery is not empty at 00:00\")\n",
    "        return False\n",
    "    else:\n",
    "        return True\n",
    "    "
   ]
  },
  {
   "cell_type": "markdown",
   "id": "suited-douglas",
   "metadata": {},
   "source": [
    "Testing out on a random schedule "
   ]
  },
  {
   "cell_type": "code",
   "execution_count": 6,
   "id": "joined-anaheim",
   "metadata": {},
   "outputs": [
    {
     "name": "stdout",
     "output_type": "stream",
     "text": [
      "Attempted to discharge during the charge period\n",
      "Is schedule legal? False\n"
     ]
    }
   ],
   "source": [
    "example_schedule = pd.read_csv('../data/raw/example_valid_schedule.csv')\n",
    "\n",
    "print(f\"Is schedule legal? {schedule_is_legal(example_schedule)}\")"
   ]
  },
  {
   "cell_type": "markdown",
   "id": "international-emphasis",
   "metadata": {},
   "source": [
    "<br>\n",
    "\n",
    "Finally we'll export the relevant code to our `batopt` module"
   ]
  },
  {
   "cell_type": "code",
   "execution_count": 7,
   "id": "found-worth",
   "metadata": {},
   "outputs": [
    {
     "name": "stdout",
     "output_type": "stream",
     "text": [
      "Converted 00-utilities.ipynb.\n",
      "Converted 01-data-cleaning.ipynb.\n",
      "Converted 02-battery-discharge.ipynb.\n",
      "Converted 03-battery-charge.ipynb.\n",
      "Converted 04-battery-constraints.ipynb.\n",
      "Converted 05-evaluation.ipynb.\n",
      "Converted 06-pipeline.ipynb.\n"
     ]
    }
   ],
   "source": [
    "#hide\n",
    "from nbdev.export import notebook2script\n",
    "    \n",
    "notebook2script()"
   ]
  },
  {
   "cell_type": "code",
   "execution_count": null,
   "id": "experimental-victorian",
   "metadata": {},
   "outputs": [],
   "source": []
  }
 ],
 "metadata": {
  "kernelspec": {
   "display_name": "Python 3",
   "language": "python",
   "name": "python3"
  },
  "language_info": {
   "codemirror_mode": {
    "name": "ipython",
    "version": 3
   },
   "file_extension": ".py",
   "mimetype": "text/x-python",
   "name": "python",
   "nbconvert_exporter": "python",
   "pygments_lexer": "ipython3",
   "version": "3.9.1"
  }
 },
 "nbformat": 4,
 "nbformat_minor": 5
}
