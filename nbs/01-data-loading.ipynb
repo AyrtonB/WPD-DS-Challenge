{
 "cells": [
  {
   "cell_type": "code",
   "execution_count": 1,
   "id": "parliamentary-intelligence",
   "metadata": {},
   "outputs": [],
   "source": [
    "#default_exp loading"
   ]
  },
  {
   "cell_type": "markdown",
   "id": "outstanding-transition",
   "metadata": {},
   "source": [
    "# Data Loading\n",
    "\n",
    "<br>\n",
    "\n",
    "### Imports"
   ]
  },
  {
   "cell_type": "code",
   "execution_count": 2,
   "id": "durable-sight",
   "metadata": {},
   "outputs": [],
   "source": [
    "import pandas as pd\n",
    "\n",
    "import seaborn as sns\n",
    "import matplotlib.pyplot as plt\n",
    "\n",
    "from batopt import utils\n",
    "\n",
    "import os\n",
    "import glob"
   ]
  },
  {
   "cell_type": "markdown",
   "id": "macro-conservative",
   "metadata": {},
   "source": [
    "<br>\n",
    "\n",
    "### User Inputs"
   ]
  },
  {
   "cell_type": "code",
   "execution_count": 3,
   "id": "disturbed-breakdown",
   "metadata": {},
   "outputs": [],
   "source": [
    "raw_data_dir = '../data/raw'"
   ]
  },
  {
   "cell_type": "markdown",
   "id": "neutral-vertex",
   "metadata": {},
   "source": [
    "<br>\n",
    "\n",
    "### Loading the Raw Data\n",
    "\n",
    "We'll start by loading in the demand data"
   ]
  },
  {
   "cell_type": "code",
   "execution_count": 4,
   "id": "lightweight-village",
   "metadata": {},
   "outputs": [],
   "source": [
    "#exports\n",
    "def load_training_dataset(raw_data_dir: str, dataset_name: str='demand', parse_dt_idx: bool=True) -> pd.DataFrame:\n",
    "    allowed_datasets = ['demand', 'pv', 'weather']\n",
    "    assert dataset_name in allowed_datasets, f\"`dataset_name` must be one of: {', '.join(allowed_datasets)} - not {dataset_name}\"\n",
    "    \n",
    "    df = pd.concat([pd.read_csv(f) for f in glob.glob(f'{raw_data_dir}/{dataset_name}_*.csv')], ignore_index = True)\n",
    "    \n",
    "    if parse_dt_idx == True:\n",
    "        assert 'datetime' in df.columns, 'if `parse_dt_idx` is True then `datetime` must be a column in the dataset'\n",
    "        \n",
    "        df['datetime'] = pd.to_datetime(df['datetime'], utc=True)\n",
    "        df = df.set_index('datetime')\n",
    "\n",
    "    return df"
   ]
  },
  {
   "cell_type": "code",
   "execution_count": 5,
   "id": "serial-collective",
   "metadata": {},
   "outputs": [
    {
     "data": {
      "text/html": [
       "<div>\n",
       "<style scoped>\n",
       "    .dataframe tbody tr th:only-of-type {\n",
       "        vertical-align: middle;\n",
       "    }\n",
       "\n",
       "    .dataframe tbody tr th {\n",
       "        vertical-align: top;\n",
       "    }\n",
       "\n",
       "    .dataframe thead th {\n",
       "        text-align: right;\n",
       "    }\n",
       "</style>\n",
       "<table border=\"1\" class=\"dataframe\">\n",
       "  <thead>\n",
       "    <tr style=\"text-align: right;\">\n",
       "      <th></th>\n",
       "      <th>demand_MW</th>\n",
       "    </tr>\n",
       "    <tr>\n",
       "      <th>datetime</th>\n",
       "      <th></th>\n",
       "    </tr>\n",
       "  </thead>\n",
       "  <tbody>\n",
       "    <tr>\n",
       "      <th>2017-11-03 00:00:00+00:00</th>\n",
       "      <td>2.19</td>\n",
       "    </tr>\n",
       "    <tr>\n",
       "      <th>2017-11-03 00:30:00+00:00</th>\n",
       "      <td>2.14</td>\n",
       "    </tr>\n",
       "    <tr>\n",
       "      <th>2017-11-03 01:00:00+00:00</th>\n",
       "      <td>2.01</td>\n",
       "    </tr>\n",
       "    <tr>\n",
       "      <th>2017-11-03 01:30:00+00:00</th>\n",
       "      <td>1.87</td>\n",
       "    </tr>\n",
       "    <tr>\n",
       "      <th>2017-11-03 02:00:00+00:00</th>\n",
       "      <td>1.86</td>\n",
       "    </tr>\n",
       "  </tbody>\n",
       "</table>\n",
       "</div>"
      ],
      "text/plain": [
       "                           demand_MW\n",
       "datetime                            \n",
       "2017-11-03 00:00:00+00:00       2.19\n",
       "2017-11-03 00:30:00+00:00       2.14\n",
       "2017-11-03 01:00:00+00:00       2.01\n",
       "2017-11-03 01:30:00+00:00       1.87\n",
       "2017-11-03 02:00:00+00:00       1.86"
      ]
     },
     "execution_count": 5,
     "metadata": {},
     "output_type": "execute_result"
    }
   ],
   "source": [
    "df_demand = load_training_dataset(raw_data_dir, 'demand')\n",
    "\n",
    "df_demand.head()"
   ]
  },
  {
   "cell_type": "markdown",
   "id": "detailed-doctor",
   "metadata": {},
   "source": [
    "<br>\n",
    "\n",
    "Then the pv"
   ]
  },
  {
   "cell_type": "code",
   "execution_count": 6,
   "id": "consistent-humanity",
   "metadata": {},
   "outputs": [
    {
     "data": {
      "text/html": [
       "<div>\n",
       "<style scoped>\n",
       "    .dataframe tbody tr th:only-of-type {\n",
       "        vertical-align: middle;\n",
       "    }\n",
       "\n",
       "    .dataframe tbody tr th {\n",
       "        vertical-align: top;\n",
       "    }\n",
       "\n",
       "    .dataframe thead th {\n",
       "        text-align: right;\n",
       "    }\n",
       "</style>\n",
       "<table border=\"1\" class=\"dataframe\">\n",
       "  <thead>\n",
       "    <tr style=\"text-align: right;\">\n",
       "      <th></th>\n",
       "      <th>irradiance_Wm-2</th>\n",
       "      <th>pv_power_mw</th>\n",
       "      <th>panel_temp_C</th>\n",
       "    </tr>\n",
       "    <tr>\n",
       "      <th>datetime</th>\n",
       "      <th></th>\n",
       "      <th></th>\n",
       "      <th></th>\n",
       "    </tr>\n",
       "  </thead>\n",
       "  <tbody>\n",
       "    <tr>\n",
       "      <th>2017-11-03 00:00:00+00:00</th>\n",
       "      <td>0.0</td>\n",
       "      <td>0.0</td>\n",
       "      <td>7.05</td>\n",
       "    </tr>\n",
       "    <tr>\n",
       "      <th>2017-11-03 00:30:00+00:00</th>\n",
       "      <td>0.0</td>\n",
       "      <td>0.0</td>\n",
       "      <td>7.38</td>\n",
       "    </tr>\n",
       "    <tr>\n",
       "      <th>2017-11-03 01:00:00+00:00</th>\n",
       "      <td>0.0</td>\n",
       "      <td>0.0</td>\n",
       "      <td>7.70</td>\n",
       "    </tr>\n",
       "    <tr>\n",
       "      <th>2017-11-03 01:30:00+00:00</th>\n",
       "      <td>0.0</td>\n",
       "      <td>0.0</td>\n",
       "      <td>7.48</td>\n",
       "    </tr>\n",
       "    <tr>\n",
       "      <th>2017-11-03 02:00:00+00:00</th>\n",
       "      <td>0.0</td>\n",
       "      <td>0.0</td>\n",
       "      <td>7.20</td>\n",
       "    </tr>\n",
       "  </tbody>\n",
       "</table>\n",
       "</div>"
      ],
      "text/plain": [
       "                           irradiance_Wm-2  pv_power_mw  panel_temp_C\n",
       "datetime                                                             \n",
       "2017-11-03 00:00:00+00:00              0.0          0.0          7.05\n",
       "2017-11-03 00:30:00+00:00              0.0          0.0          7.38\n",
       "2017-11-03 01:00:00+00:00              0.0          0.0          7.70\n",
       "2017-11-03 01:30:00+00:00              0.0          0.0          7.48\n",
       "2017-11-03 02:00:00+00:00              0.0          0.0          7.20"
      ]
     },
     "execution_count": 6,
     "metadata": {},
     "output_type": "execute_result"
    }
   ],
   "source": [
    "df_pv = load_training_dataset(raw_data_dir, 'pv')\n",
    "\n",
    "df_pv.head()"
   ]
  },
  {
   "cell_type": "markdown",
   "id": "judicial-craft",
   "metadata": {},
   "source": [
    "<br>\n",
    "\n",
    "And finally the weather"
   ]
  },
  {
   "cell_type": "code",
   "execution_count": 7,
   "id": "wooden-communication",
   "metadata": {},
   "outputs": [
    {
     "data": {
      "text/html": [
       "<div>\n",
       "<style scoped>\n",
       "    .dataframe tbody tr th:only-of-type {\n",
       "        vertical-align: middle;\n",
       "    }\n",
       "\n",
       "    .dataframe tbody tr th {\n",
       "        vertical-align: top;\n",
       "    }\n",
       "\n",
       "    .dataframe thead th {\n",
       "        text-align: right;\n",
       "    }\n",
       "</style>\n",
       "<table border=\"1\" class=\"dataframe\">\n",
       "  <thead>\n",
       "    <tr style=\"text-align: right;\">\n",
       "      <th></th>\n",
       "      <th>solar_location1</th>\n",
       "      <th>solar_location2</th>\n",
       "      <th>solar_location3</th>\n",
       "      <th>solar_location4</th>\n",
       "      <th>solar_location5</th>\n",
       "      <th>solar_location6</th>\n",
       "      <th>temp_location1</th>\n",
       "      <th>temp_location2</th>\n",
       "      <th>temp_location3</th>\n",
       "      <th>temp_location4</th>\n",
       "      <th>temp_location5</th>\n",
       "      <th>temp_location6</th>\n",
       "    </tr>\n",
       "    <tr>\n",
       "      <th>datetime</th>\n",
       "      <th></th>\n",
       "      <th></th>\n",
       "      <th></th>\n",
       "      <th></th>\n",
       "      <th></th>\n",
       "      <th></th>\n",
       "      <th></th>\n",
       "      <th></th>\n",
       "      <th></th>\n",
       "      <th></th>\n",
       "      <th></th>\n",
       "      <th></th>\n",
       "    </tr>\n",
       "  </thead>\n",
       "  <tbody>\n",
       "    <tr>\n",
       "      <th>2015-01-01 00:00:00+00:00</th>\n",
       "      <td>0.0</td>\n",
       "      <td>0.0</td>\n",
       "      <td>0.0</td>\n",
       "      <td>0.0</td>\n",
       "      <td>0.0</td>\n",
       "      <td>0.0</td>\n",
       "      <td>9.75</td>\n",
       "      <td>9.65</td>\n",
       "      <td>8.83</td>\n",
       "      <td>7.58</td>\n",
       "      <td>11.62</td>\n",
       "      <td>11.22</td>\n",
       "    </tr>\n",
       "    <tr>\n",
       "      <th>2015-01-01 01:00:00+00:00</th>\n",
       "      <td>0.0</td>\n",
       "      <td>0.0</td>\n",
       "      <td>0.0</td>\n",
       "      <td>0.0</td>\n",
       "      <td>0.0</td>\n",
       "      <td>0.0</td>\n",
       "      <td>9.91</td>\n",
       "      <td>9.76</td>\n",
       "      <td>8.90</td>\n",
       "      <td>7.62</td>\n",
       "      <td>11.65</td>\n",
       "      <td>11.32</td>\n",
       "    </tr>\n",
       "    <tr>\n",
       "      <th>2015-01-01 02:00:00+00:00</th>\n",
       "      <td>0.0</td>\n",
       "      <td>0.0</td>\n",
       "      <td>0.0</td>\n",
       "      <td>0.0</td>\n",
       "      <td>0.0</td>\n",
       "      <td>0.0</td>\n",
       "      <td>9.99</td>\n",
       "      <td>9.80</td>\n",
       "      <td>9.10</td>\n",
       "      <td>7.61</td>\n",
       "      <td>11.65</td>\n",
       "      <td>11.30</td>\n",
       "    </tr>\n",
       "  </tbody>\n",
       "</table>\n",
       "</div>"
      ],
      "text/plain": [
       "                           solar_location1  solar_location2  solar_location3  \\\n",
       "datetime                                                                       \n",
       "2015-01-01 00:00:00+00:00              0.0              0.0              0.0   \n",
       "2015-01-01 01:00:00+00:00              0.0              0.0              0.0   \n",
       "2015-01-01 02:00:00+00:00              0.0              0.0              0.0   \n",
       "\n",
       "                           solar_location4  solar_location5  solar_location6  \\\n",
       "datetime                                                                       \n",
       "2015-01-01 00:00:00+00:00              0.0              0.0              0.0   \n",
       "2015-01-01 01:00:00+00:00              0.0              0.0              0.0   \n",
       "2015-01-01 02:00:00+00:00              0.0              0.0              0.0   \n",
       "\n",
       "                           temp_location1  temp_location2  temp_location3  \\\n",
       "datetime                                                                    \n",
       "2015-01-01 00:00:00+00:00            9.75            9.65            8.83   \n",
       "2015-01-01 01:00:00+00:00            9.91            9.76            8.90   \n",
       "2015-01-01 02:00:00+00:00            9.99            9.80            9.10   \n",
       "\n",
       "                           temp_location4  temp_location5  temp_location6  \n",
       "datetime                                                                   \n",
       "2015-01-01 00:00:00+00:00            7.58           11.62           11.22  \n",
       "2015-01-01 01:00:00+00:00            7.62           11.65           11.32  \n",
       "2015-01-01 02:00:00+00:00            7.61           11.65           11.30  "
      ]
     },
     "execution_count": 7,
     "metadata": {},
     "output_type": "execute_result"
    }
   ],
   "source": [
    "df_weather = load_training_dataset(raw_data_dir, 'weather').sort_index(axis=1)\n",
    "\n",
    "df_weather.head(3)"
   ]
  },
  {
   "cell_type": "markdown",
   "id": "sonic-whole",
   "metadata": {},
   "source": [
    "<br>\n",
    "\n",
    "We'll also create a function that reads all of the datasets in at once and then combines them"
   ]
  },
  {
   "cell_type": "code",
   "execution_count": 8,
   "id": "following-walter",
   "metadata": {},
   "outputs": [],
   "source": [
    "#exports\n",
    "def combine_training_datasets(raw_data_dir):\n",
    "    df_combined = pd.DataFrame()\n",
    "\n",
    "    for dataset_name in ['demand', 'pv', 'weather']:\n",
    "        df_single_dataset = load_training_dataset(raw_data_dir, dataset_name)\n",
    "\n",
    "        cols_to_be_overwritten = set(df_combined.columns) - (set(df_combined.columns) - set(df_single_dataset.columns))\n",
    "        assert len(cols_to_be_overwritten) == 0, f\"The following columns exist in multiple datasets meaning data would be overwritten: {', '.join(cols_to_be_overwritten)}\"\n",
    "\n",
    "        df_combined = df_combined.append(df_single_dataset)\n",
    "    \n",
    "    df_combined = df_combined.sort_index()\n",
    "    \n",
    "    return df_combined"
   ]
  },
  {
   "cell_type": "code",
   "execution_count": 9,
   "id": "laden-default",
   "metadata": {},
   "outputs": [
    {
     "data": {
      "text/html": [
       "<div>\n",
       "<style scoped>\n",
       "    .dataframe tbody tr th:only-of-type {\n",
       "        vertical-align: middle;\n",
       "    }\n",
       "\n",
       "    .dataframe tbody tr th {\n",
       "        vertical-align: top;\n",
       "    }\n",
       "\n",
       "    .dataframe thead th {\n",
       "        text-align: right;\n",
       "    }\n",
       "</style>\n",
       "<table border=\"1\" class=\"dataframe\">\n",
       "  <thead>\n",
       "    <tr style=\"text-align: right;\">\n",
       "      <th></th>\n",
       "      <th>demand_MW</th>\n",
       "      <th>irradiance_Wm-2</th>\n",
       "      <th>pv_power_mw</th>\n",
       "      <th>panel_temp_C</th>\n",
       "      <th>temp_location3</th>\n",
       "      <th>temp_location6</th>\n",
       "      <th>temp_location2</th>\n",
       "      <th>temp_location4</th>\n",
       "      <th>temp_location5</th>\n",
       "      <th>temp_location1</th>\n",
       "      <th>solar_location3</th>\n",
       "      <th>solar_location6</th>\n",
       "      <th>solar_location2</th>\n",
       "      <th>solar_location4</th>\n",
       "      <th>solar_location5</th>\n",
       "      <th>solar_location1</th>\n",
       "    </tr>\n",
       "    <tr>\n",
       "      <th>datetime</th>\n",
       "      <th></th>\n",
       "      <th></th>\n",
       "      <th></th>\n",
       "      <th></th>\n",
       "      <th></th>\n",
       "      <th></th>\n",
       "      <th></th>\n",
       "      <th></th>\n",
       "      <th></th>\n",
       "      <th></th>\n",
       "      <th></th>\n",
       "      <th></th>\n",
       "      <th></th>\n",
       "      <th></th>\n",
       "      <th></th>\n",
       "      <th></th>\n",
       "    </tr>\n",
       "  </thead>\n",
       "  <tbody>\n",
       "    <tr>\n",
       "      <th>2015-01-01 00:00:00+00:00</th>\n",
       "      <td>NaN</td>\n",
       "      <td>NaN</td>\n",
       "      <td>NaN</td>\n",
       "      <td>NaN</td>\n",
       "      <td>8.83</td>\n",
       "      <td>11.22</td>\n",
       "      <td>9.65</td>\n",
       "      <td>7.58</td>\n",
       "      <td>11.62</td>\n",
       "      <td>9.75</td>\n",
       "      <td>0.0</td>\n",
       "      <td>0.0</td>\n",
       "      <td>0.0</td>\n",
       "      <td>0.0</td>\n",
       "      <td>0.0</td>\n",
       "      <td>0.0</td>\n",
       "    </tr>\n",
       "    <tr>\n",
       "      <th>2015-01-01 01:00:00+00:00</th>\n",
       "      <td>NaN</td>\n",
       "      <td>NaN</td>\n",
       "      <td>NaN</td>\n",
       "      <td>NaN</td>\n",
       "      <td>8.90</td>\n",
       "      <td>11.32</td>\n",
       "      <td>9.76</td>\n",
       "      <td>7.62</td>\n",
       "      <td>11.65</td>\n",
       "      <td>9.91</td>\n",
       "      <td>0.0</td>\n",
       "      <td>0.0</td>\n",
       "      <td>0.0</td>\n",
       "      <td>0.0</td>\n",
       "      <td>0.0</td>\n",
       "      <td>0.0</td>\n",
       "    </tr>\n",
       "    <tr>\n",
       "      <th>2015-01-01 02:00:00+00:00</th>\n",
       "      <td>NaN</td>\n",
       "      <td>NaN</td>\n",
       "      <td>NaN</td>\n",
       "      <td>NaN</td>\n",
       "      <td>9.10</td>\n",
       "      <td>11.30</td>\n",
       "      <td>9.80</td>\n",
       "      <td>7.61</td>\n",
       "      <td>11.65</td>\n",
       "      <td>9.99</td>\n",
       "      <td>0.0</td>\n",
       "      <td>0.0</td>\n",
       "      <td>0.0</td>\n",
       "      <td>0.0</td>\n",
       "      <td>0.0</td>\n",
       "      <td>0.0</td>\n",
       "    </tr>\n",
       "  </tbody>\n",
       "</table>\n",
       "</div>"
      ],
      "text/plain": [
       "                           demand_MW  irradiance_Wm-2  pv_power_mw  \\\n",
       "datetime                                                             \n",
       "2015-01-01 00:00:00+00:00        NaN              NaN          NaN   \n",
       "2015-01-01 01:00:00+00:00        NaN              NaN          NaN   \n",
       "2015-01-01 02:00:00+00:00        NaN              NaN          NaN   \n",
       "\n",
       "                           panel_temp_C  temp_location3  temp_location6  \\\n",
       "datetime                                                                  \n",
       "2015-01-01 00:00:00+00:00           NaN            8.83           11.22   \n",
       "2015-01-01 01:00:00+00:00           NaN            8.90           11.32   \n",
       "2015-01-01 02:00:00+00:00           NaN            9.10           11.30   \n",
       "\n",
       "                           temp_location2  temp_location4  temp_location5  \\\n",
       "datetime                                                                    \n",
       "2015-01-01 00:00:00+00:00            9.65            7.58           11.62   \n",
       "2015-01-01 01:00:00+00:00            9.76            7.62           11.65   \n",
       "2015-01-01 02:00:00+00:00            9.80            7.61           11.65   \n",
       "\n",
       "                           temp_location1  solar_location3  solar_location6  \\\n",
       "datetime                                                                      \n",
       "2015-01-01 00:00:00+00:00            9.75              0.0              0.0   \n",
       "2015-01-01 01:00:00+00:00            9.91              0.0              0.0   \n",
       "2015-01-01 02:00:00+00:00            9.99              0.0              0.0   \n",
       "\n",
       "                           solar_location2  solar_location4  solar_location5  \\\n",
       "datetime                                                                       \n",
       "2015-01-01 00:00:00+00:00              0.0              0.0              0.0   \n",
       "2015-01-01 01:00:00+00:00              0.0              0.0              0.0   \n",
       "2015-01-01 02:00:00+00:00              0.0              0.0              0.0   \n",
       "\n",
       "                           solar_location1  \n",
       "datetime                                    \n",
       "2015-01-01 00:00:00+00:00              0.0  \n",
       "2015-01-01 01:00:00+00:00              0.0  \n",
       "2015-01-01 02:00:00+00:00              0.0  "
      ]
     },
     "execution_count": 9,
     "metadata": {},
     "output_type": "execute_result"
    }
   ],
   "source": [
    "df_combined = combine_training_datasets(raw_data_dir)\n",
    "\n",
    "df_combined.head(3)"
   ]
  },
  {
   "cell_type": "markdown",
   "id": "split-comedy",
   "metadata": {},
   "source": [
    "<br>\n",
    "\n",
    "### Missing Values\n",
    "\n",
    "We'll quickly inspect the datasets and check their coverage over the full date range"
   ]
  },
  {
   "cell_type": "code",
   "execution_count": 10,
   "id": "aquatic-harmony",
   "metadata": {},
   "outputs": [],
   "source": [
    "#exports\n",
    "def identify_df_dt_entries(df_demand, df_pv, df_weather):\n",
    "    min_dt = min(df_demand.index.min(), df_pv.index.min(), df_weather.index.min())\n",
    "    max_dt = max(df_demand.index.max(), df_pv.index.max(), df_weather.index.max())\n",
    "\n",
    "    dt_rng = pd.date_range(min_dt, max_dt, freq='30T')\n",
    "    df_nulls = pd.DataFrame(index=dt_rng)\n",
    "\n",
    "    df_nulls['demand'] = df_demand.reindex(dt_rng).isnull().mean(axis=1).astype(int)\n",
    "    df_nulls['pv'] = df_pv.reindex(dt_rng).isnull().mean(axis=1).astype(int)\n",
    "    df_nulls['weather'] = df_weather.reindex(dt_rng).ffill(limit=1).isnull().mean(axis=1).astype(int)\n",
    "\n",
    "    df_entries = 1 - df_nulls\n",
    "    \n",
    "    return df_entries"
   ]
  },
  {
   "cell_type": "code",
   "execution_count": 11,
   "id": "qualified-fight",
   "metadata": {},
   "outputs": [
    {
     "data": {
      "text/plain": [
       "<AxesSubplot:>"
      ]
     },
     "execution_count": 11,
     "metadata": {},
     "output_type": "execute_result"
    },
    {
     "data": {
      "image/png": "[encoded data removed]",
      "text/plain": [
       "<Figure size 900x600 with 2 Axes>"
      ]
     },
     "metadata": {
      "needs_background": "light"
     },
     "output_type": "display_data"
    }
   ],
   "source": [
    "df_entries = identify_df_dt_entries(df_demand, df_pv, df_weather)\n",
    "\n",
    "# Plotting\n",
    "fig, ax = plt.subplots(dpi=150)\n",
    "\n",
    "sns.heatmap(df_entries.T, ax=ax, cmap=plt.cm.binary)\n",
    "\n",
    "utils.set_date_ticks(ax, '2015-01-01', '2018-07-31', axis='x', freq='Qs', date_format='%b %y')"
   ]
  },
  {
   "cell_type": "code",
   "execution_count": null,
   "id": "digital-chorus",
   "metadata": {},
   "outputs": [],
   "source": []
  },
  {
   "cell_type": "code",
   "execution_count": null,
   "id": "frozen-rendering",
   "metadata": {},
   "outputs": [],
   "source": []
  },
  {
   "cell_type": "code",
   "execution_count": null,
   "id": "checked-vaccine",
   "metadata": {},
   "outputs": [],
   "source": []
  },
  {
   "cell_type": "code",
   "execution_count": null,
   "id": "comparable-compiler",
   "metadata": {},
   "outputs": [],
   "source": []
  },
  {
   "cell_type": "markdown",
   "id": "detailed-chance",
   "metadata": {},
   "source": [
    "<br>\n",
    "\n",
    "Finally we'll export the relevant code to our `batopt` module"
   ]
  },
  {
   "cell_type": "code",
   "execution_count": 12,
   "id": "uniform-technology",
   "metadata": {},
   "outputs": [
    {
     "name": "stdout",
     "output_type": "stream",
     "text": [
      "Converted 00-utilities.ipynb.\n",
      "Converted 01-data-loading.ipynb.\n"
     ]
    }
   ],
   "source": [
    "#hide\n",
    "from nbdev.export import notebook2script\n",
    "    \n",
    "notebook2script()"
   ]
  }
 ],
 "metadata": {
  "kernelspec": {
   "display_name": "batopt",
   "language": "python",
   "name": "batopt"
  },
  "language_info": {
   "codemirror_mode": {
    "name": "ipython",
    "version": 3
   },
   "file_extension": ".py",
   "mimetype": "text/x-python",
   "name": "python",
   "nbconvert_exporter": "python",
   "pygments_lexer": "ipython3",
   "version": "3.9.1"
  }
 },
 "nbformat": 4,
 "nbformat_minor": 5
}
