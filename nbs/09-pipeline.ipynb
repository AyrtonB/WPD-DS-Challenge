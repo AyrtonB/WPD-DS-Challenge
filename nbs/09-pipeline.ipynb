{
 "cells": [
  {
   "cell_type": "code",
   "execution_count": 9,
   "id": "worth-african",
   "metadata": {},
   "outputs": [],
   "source": [
    "#default_exp pipeline"
   ]
  },
  {
   "cell_type": "markdown",
   "id": "alike-legend",
   "metadata": {},
   "source": [
    "# Pipeline\n",
    "\n",
    "<br>\n",
    "\n",
    "### Imports"
   ]
  },
  {
   "cell_type": "code",
   "execution_count": 10,
   "id": "cordless-questionnaire",
   "metadata": {},
   "outputs": [],
   "source": [
    "#exports\n",
    "import numpy as np\n",
    "import pandas as pd\n",
    "\n",
    "import os\n",
    "\n",
    "from dagster import execute_pipeline, pipeline, solid, Field\n",
    "from batopt import clean, discharge, charge, constraints, pv"
   ]
  },
  {
   "cell_type": "code",
   "execution_count": 11,
   "id": "incorrect-feature",
   "metadata": {},
   "outputs": [],
   "source": [
    "import FEAutils as hlp\n",
    "import matplotlib.pyplot as plt"
   ]
  },
  {
   "cell_type": "markdown",
   "id": "faced-playing",
   "metadata": {},
   "source": [
    "<br>\n",
    "\n",
    "### End-to-End\n",
    "\n",
    "We're now going to combine these steps into a pipeline using dagster, first we'll create the individual components."
   ]
  },
  {
   "cell_type": "code",
   "execution_count": 12,
   "id": "structured-fossil",
   "metadata": {},
   "outputs": [],
   "source": [
    "@solid()\n",
    "def load_data(_, raw_data_dir: str):\n",
    "    loaded_data = dict()\n",
    "    \n",
    "    loaded_data['pv'] = clean.load_training_dataset(raw_data_dir, 'pv')\n",
    "    loaded_data['demand'] = clean.load_training_dataset(raw_data_dir, 'demand')\n",
    "    loaded_data['weather'] = clean.load_training_dataset(raw_data_dir, 'weather', dt_idx_freq='H')\n",
    "    \n",
    "    return loaded_data\n",
    "\n",
    "@solid()\n",
    "def clean_data(_, loaded_data, raw_data_dir: str, intermediate_data_dir: str):\n",
    "    # Cleaning\n",
    "    cleaned_data = dict()\n",
    "\n",
    "    cleaned_data['pv'] = (loaded_data['pv']\n",
    "                          .pipe(clean.pv_anomalies_to_nan)\n",
    "                          .pipe(clean.interpolate_missing_panel_temps, loaded_data['weather'])\n",
    "                          .pipe(clean.interpolate_missing_site_irradiance, loaded_data['weather'])\n",
    "                          .pipe(clean.interpolate_missing_site_power)\n",
    "                         )\n",
    "    cleaned_data['weather'] = clean.interpolate_missing_weather_solar(loaded_data['pv'], loaded_data['weather'])\n",
    "    cleaned_data['demand'] = loaded_data['demand']\n",
    "    \n",
    "    # Saving\n",
    "    if os.path.exists(intermediate_data_dir) == False:\n",
    "        os.mkdir(intermediate_data_dir)\n",
    "        \n",
    "    set_num = clean.identify_latest_set_num(raw_data_dir)\n",
    "    \n",
    "    cleaned_data['pv'].to_csv(f'{intermediate_data_dir}/pv_set{set_num}.csv')\n",
    "    cleaned_data['demand'].to_csv(f'{intermediate_data_dir}/demand_set{set_num}.csv')\n",
    "    cleaned_data['weather'].to_csv(f'{intermediate_data_dir}/weather_set{set_num}.csv')\n",
    "            \n",
    "    return intermediate_data_dir\n",
    "\n",
    "@solid()\n",
    "def fit_and_save_charge_model(_, intermediate_data_dir: str, charge_opt_model_fp: str, model_params: dict):\n",
    "    X, y = charge.prepare_training_input_data(intermediate_data_dir, start_hour=5)\n",
    "    charge.fit_and_save_charging_model(X, y, charge_opt_model_fp, **model_params)\n",
    "    \n",
    "    return True\n",
    "\n",
    "@solid()\n",
    "def fit_and_save_pv_model(_, intermediate_data_dir: str, pv_model_fp: str, model_params: dict):\n",
    "    X, y = pv.prepare_training_input_data(intermediate_data_dir, start_hour=5)\n",
    "    pv.fit_and_save_pv_model(X, y, pv_model_fp, **model_params)\n",
    "    \n",
    "    return True\n",
    "\n",
    "@solid()\n",
    "def fit_and_save_discharge_model(_, intermediate_data_dir: str, discharge_opt_model_fp: str, model_params: dict):\n",
    "    X, y = discharge.prepare_training_input_data(intermediate_data_dir)\n",
    "    discharge.fit_and_save_model(X, y, discharge_opt_model_fp, **model_params)\n",
    "    \n",
    "    return True\n",
    "\n",
    "@solid()\n",
    "def construct_battery_profile(_, charge_model_success: bool, discharge_model_success: bool, intermediate_data_dir: str, raw_data_dir: str, discharge_opt_model_fp: str, pv_model_fp: str):\n",
    "    assert charge_model_success and discharge_model_success, 'Model training was unsuccessful'\n",
    "    \n",
    "    s_discharge_profile = discharge.optimise_latest_test_discharge_profile(raw_data_dir, intermediate_data_dir, discharge_opt_model_fp)\n",
    "    s_charge_profile = pv.optimise_latest_test_charge_profile(raw_data_dir, intermediate_data_dir, pv_model_fp)\n",
    "    \n",
    "    s_battery_profile = s_charge_profile + s_discharge_profile\n",
    "    s_battery_profile.name = 'charge_MW'\n",
    "    \n",
    "    return s_battery_profile\n",
    "\n",
    "@solid()\n",
    "def check_and_save_battery_profile(_, s_battery_profile, output_data_dir: str):\n",
    "    # Check that solution meets battery constraints\n",
    "    assert constraints.schedule_is_legal(s_battery_profile), \"Solution violates constraints\"\n",
    "    \n",
    "    # Saving\n",
    "    if os.path.exists(output_data_dir) == False:\n",
    "        os.mkdir(output_data_dir)\n",
    "        \n",
    "    s_battery_profile.index = s_battery_profile.index.tz_convert('UTC').tz_convert(None)\n",
    "    s_battery_profile.to_csv(f'{output_data_dir}/latest_submission.csv')\n",
    "    \n",
    "    return "
   ]
  },
  {
   "cell_type": "markdown",
   "id": "right-scale",
   "metadata": {},
   "source": [
    "<br>\n",
    "\n",
    "Then we'll combine them in a pipeline"
   ]
  },
  {
   "cell_type": "code",
   "execution_count": 13,
   "id": "ready-exhaust",
   "metadata": {},
   "outputs": [],
   "source": [
    "@pipeline\n",
    "def end_to_end_pipeline(): \n",
    "    loaded_data = load_data()\n",
    "    intermediate_data_dir = clean_data(loaded_data)\n",
    "    \n",
    "#     charge_model_success = fit_and_save_charge_model(intermediate_data_dir)\n",
    "    charge_model_success = fit_and_save_pv_model(intermediate_data_dir)\n",
    "    discharge_model_success = fit_and_save_discharge_model(intermediate_data_dir)\n",
    "    \n",
    "    s_battery_profile = construct_battery_profile(charge_model_success, discharge_model_success, intermediate_data_dir)\n",
    "    check_and_save_battery_profile(s_battery_profile)"
   ]
  },
  {
   "cell_type": "markdown",
   "id": "stock-council",
   "metadata": {},
   "source": [
    "<br>\n",
    "\n",
    "Which we'll now run a test"
   ]
  },
  {
   "cell_type": "code",
   "execution_count": null,
   "id": "renewable-break",
   "metadata": {},
   "outputs": [
    {
     "name": "stderr",
     "output_type": "stream",
     "text": [
      "2021-02-25 17:56:50 - dagster - DEBUG - end_to_end_pipeline - f2bfc1e4-6286-471a-88d0-44abc97df9b2 - 60026 - ENGINE_EVENT - Starting initialization of resources [asset_store].\n",
      "2021-02-25 17:56:50 - dagster - DEBUG - end_to_end_pipeline - f2bfc1e4-6286-471a-88d0-44abc97df9b2 - 60026 - ENGINE_EVENT - Finished initialization of resources [asset_store].\n",
      "2021-02-25 17:56:50 - dagster - DEBUG - end_to_end_pipeline - f2bfc1e4-6286-471a-88d0-44abc97df9b2 - 60026 - PIPELINE_START - Started execution of pipeline \"end_to_end_pipeline\".\n",
      "2021-02-25 17:56:50 - dagster - DEBUG - end_to_end_pipeline - f2bfc1e4-6286-471a-88d0-44abc97df9b2 - 60026 - ENGINE_EVENT - Executing steps in process (pid: 60026)\n",
      "2021-02-25 17:56:50 - dagster - DEBUG - end_to_end_pipeline - f2bfc1e4-6286-471a-88d0-44abc97df9b2 - 60026 - load_data.compute - STEP_START - Started execution of step \"load_data.compute\".\n",
      "2021-02-25 17:56:50 - dagster - DEBUG - end_to_end_pipeline - f2bfc1e4-6286-471a-88d0-44abc97df9b2 - 60026 - load_data.compute - STEP_INPUT - Got input \"raw_data_dir\" of type \"String\". (Type check passed).\n",
      "2021-02-25 17:56:50 - dagster - DEBUG - end_to_end_pipeline - f2bfc1e4-6286-471a-88d0-44abc97df9b2 - 60026 - load_data.compute - STEP_OUTPUT - Yielded output \"result\" of type \"Any\". (Type check passed).\n",
      "2021-02-25 17:56:50 - dagster - DEBUG - end_to_end_pipeline - f2bfc1e4-6286-471a-88d0-44abc97df9b2 - 60026 - load_data.compute - OBJECT_STORE_OPERATION - Stored intermediate object for output result in memory object store using pickle.\n",
      "2021-02-25 17:56:50 - dagster - DEBUG - end_to_end_pipeline - f2bfc1e4-6286-471a-88d0-44abc97df9b2 - 60026 - load_data.compute - STEP_SUCCESS - Finished execution of step \"load_data.compute\" in 142ms.\n",
      "2021-02-25 17:56:50 - dagster - DEBUG - end_to_end_pipeline - f2bfc1e4-6286-471a-88d0-44abc97df9b2 - 60026 - clean_data.compute - STEP_START - Started execution of step \"clean_data.compute\".\n",
      "2021-02-25 17:56:50 - dagster - DEBUG - end_to_end_pipeline - f2bfc1e4-6286-471a-88d0-44abc97df9b2 - 60026 - clean_data.compute - OBJECT_STORE_OPERATION - Retrieved intermediate object for input loaded_data in memory object store using pickle.\n",
      "2021-02-25 17:56:50 - dagster - DEBUG - end_to_end_pipeline - f2bfc1e4-6286-471a-88d0-44abc97df9b2 - 60026 - clean_data.compute - STEP_INPUT - Got input \"loaded_data\" of type \"Any\". (Type check passed).\n",
      "2021-02-25 17:56:50 - dagster - DEBUG - end_to_end_pipeline - f2bfc1e4-6286-471a-88d0-44abc97df9b2 - 60026 - clean_data.compute - STEP_INPUT - Got input \"raw_data_dir\" of type \"String\". (Type check passed).\n",
      "2021-02-25 17:56:50 - dagster - DEBUG - end_to_end_pipeline - f2bfc1e4-6286-471a-88d0-44abc97df9b2 - 60026 - clean_data.compute - STEP_INPUT - Got input \"intermediate_data_dir\" of type \"String\". (Type check passed).\n"
     ]
    }
   ],
   "source": [
    "run_config = {\n",
    "    'solids': {\n",
    "        'load_data': {\n",
    "            'inputs': {\n",
    "                'raw_data_dir': '../data/raw',\n",
    "            },\n",
    "        },\n",
    "        'clean_data': {\n",
    "            'inputs': {\n",
    "                'raw_data_dir': '../data/raw',\n",
    "                'intermediate_data_dir': '../data/intermediate',\n",
    "            },\n",
    "        },\n",
    "        'fit_and_save_discharge_model': {\n",
    "            'inputs': {\n",
    "                'discharge_opt_model_fp': '../models/discharge_opt.sav',\n",
    "                'model_params': {\n",
    "                    'criterion': 'mse',\n",
    "                    'min_samples_leaf': 4,\n",
    "                    'min_samples_split': 2,\n",
    "                    'n_estimators': 250                    \n",
    "                }\n",
    "            },\n",
    "        },\n",
    "        'fit_and_save_pv_model': {\n",
    "            'inputs': {\n",
    "                'pv_model_fp': '../models/pv_model.sav',\n",
    "                'model_params': {\n",
    "                }\n",
    "            },\n",
    "        },\n",
    "        'construct_battery_profile': {\n",
    "            'inputs': {\n",
    "                'raw_data_dir': '../data/raw',\n",
    "                'discharge_opt_model_fp': '../models/discharge_opt.sav',\n",
    "                'pv_model_fp': '../models/pv_model.sav',\n",
    "            },\n",
    "        },\n",
    "        'check_and_save_battery_profile': {\n",
    "            'inputs': {\n",
    "                'output_data_dir': '../data/output'\n",
    "            },\n",
    "        },\n",
    "    }\n",
    "}\n",
    "\n",
    "execute_pipeline(end_to_end_pipeline, run_config=run_config)"
   ]
  },
  {
   "cell_type": "markdown",
   "id": "progressive-starter",
   "metadata": {},
   "source": [
    "<br>\n",
    "\n",
    "We'll then visualise the latest charging profile"
   ]
  },
  {
   "cell_type": "code",
   "execution_count": null,
   "id": "intense-maria",
   "metadata": {},
   "outputs": [],
   "source": [
    "df_latest_submission = pd.read_csv('../data/output/latest_submission.csv')\n",
    "\n",
    "s_latest_submission = df_latest_submission.set_index('datetime')['charge_MW']\n",
    "s_latest_submission.index = pd.to_datetime(s_latest_submission.index)\n",
    "\n",
    "# Plotting\n",
    "fig, ax = plt.subplots(dpi=250)\n",
    "\n",
    "s_latest_submission.plot(ax=ax)\n",
    "\n",
    "ax.set_xlabel('')\n",
    "ax.set_ylabel('Charge (MW)')\n",
    "hlp.hide_spines(ax)\n",
    "fig.tight_layout()\n",
    "fig.savefig('../img/latest_submission.png', dpi=250)"
   ]
  },
  {
   "cell_type": "markdown",
   "id": "attempted-jackson",
   "metadata": {},
   "source": [
    "<br>\n",
    "\n",
    "Finally we'll export the relevant code to our `batopt` module"
   ]
  },
  {
   "cell_type": "code",
   "execution_count": null,
   "id": "sacred-measurement",
   "metadata": {},
   "outputs": [],
   "source": [
    "#hide\n",
    "from nbdev.export import notebook2script\n",
    "    \n",
    "notebook2script()"
   ]
  },
  {
   "cell_type": "code",
   "execution_count": null,
   "id": "general-evolution",
   "metadata": {},
   "outputs": [],
   "source": []
  }
 ],
 "metadata": {
  "kernelspec": {
   "display_name": "Python 3",
   "language": "python",
   "name": "python3"
  },
  "language_info": {
   "codemirror_mode": {
    "name": "ipython",
    "version": 3
   },
   "file_extension": ".py",
   "mimetype": "text/x-python",
   "name": "python",
   "nbconvert_exporter": "python",
   "pygments_lexer": "ipython3",
   "version": "3.9.1"
  }
 },
 "nbformat": 4,
 "nbformat_minor": 5
}
