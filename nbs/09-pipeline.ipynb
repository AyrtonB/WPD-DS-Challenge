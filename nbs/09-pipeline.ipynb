{
 "cells": [
  {
   "cell_type": "code",
   "execution_count": 1,
   "id": "incorrect-transaction",
   "metadata": {},
   "outputs": [],
   "source": [
    "#default_exp pipeline"
   ]
  },
  {
   "cell_type": "markdown",
   "id": "emerging-apple",
   "metadata": {},
   "source": [
    "# Pipeline\n",
    "\n",
    "<br>\n",
    "\n",
    "### Imports"
   ]
  },
  {
   "cell_type": "code",
   "execution_count": 7,
   "id": "strange-synthetic",
   "metadata": {},
   "outputs": [],
   "source": [
    "#exports\n",
    "import numpy as np\n",
    "import pandas as pd\n",
    "\n",
    "import os\n",
    "from sklearn.ensemble import RandomForestRegressor\n",
    "\n",
    "from dagster import execute_pipeline, pipeline, solid, Field\n",
    "from batopt import clean, discharge, charge, constraints, pv"
   ]
  },
  {
   "cell_type": "code",
   "execution_count": 8,
   "id": "preceding-bunch",
   "metadata": {},
   "outputs": [],
   "source": [
    "import FEAutils as hlp\n",
    "import matplotlib.pyplot as plt"
   ]
  },
  {
   "cell_type": "markdown",
   "id": "advisory-prophet",
   "metadata": {},
   "source": [
    "<br>\n",
    "\n",
    "### End-to-End\n",
    "\n",
    "We're now going to combine these steps into a pipeline using dagster, first we'll create the individual components."
   ]
  },
  {
   "cell_type": "code",
   "execution_count": 9,
   "id": "designed-transmission",
   "metadata": {},
   "outputs": [],
   "source": [
    "@solid()\n",
    "def load_data(_, raw_data_dir: str):\n",
    "    loaded_data = dict()\n",
    "    \n",
    "    loaded_data['pv'] = clean.load_training_dataset(raw_data_dir, 'pv')\n",
    "    loaded_data['demand'] = clean.load_training_dataset(raw_data_dir, 'demand')\n",
    "    loaded_data['weather'] = clean.load_training_dataset(raw_data_dir, 'weather', dt_idx_freq='H')\n",
    "    \n",
    "    return loaded_data\n",
    "\n",
    "@solid()\n",
    "def clean_data(_, loaded_data, raw_data_dir: str, intermediate_data_dir: str):\n",
    "    # Cleaning\n",
    "    cleaned_data = dict()\n",
    "\n",
    "    cleaned_data['pv'] = (loaded_data['pv']\n",
    "                          .pipe(clean.pv_anomalies_to_nan)\n",
    "                          .pipe(clean.interpolate_missing_panel_temps, loaded_data['weather'])\n",
    "                          .pipe(clean.interpolate_missing_site_irradiance, loaded_data['weather'])\n",
    "                          .pipe(clean.interpolate_missing_site_power)\n",
    "                         )\n",
    "    cleaned_data['weather'] = clean.interpolate_missing_weather_solar(loaded_data['pv'], loaded_data['weather'])\n",
    "    cleaned_data['weather'] = clean.interpolate_missing_temps(cleaned_data['weather'], 'temp_location4')\n",
    "    \n",
    "    cleaned_data['demand'] = loaded_data['demand']\n",
    "    \n",
    "    # Saving\n",
    "    if os.path.exists(intermediate_data_dir) == False:\n",
    "        os.mkdir(intermediate_data_dir)\n",
    "        \n",
    "    set_num = clean.identify_latest_set_num(raw_data_dir)\n",
    "    \n",
    "    cleaned_data['pv'].to_csv(f'{intermediate_data_dir}/pv_set{set_num}.csv')\n",
    "    cleaned_data['demand'].to_csv(f'{intermediate_data_dir}/demand_set{set_num}.csv')\n",
    "    cleaned_data['weather'].to_csv(f'{intermediate_data_dir}/weather_set{set_num}.csv')\n",
    "            \n",
    "    return intermediate_data_dir\n",
    "\n",
    "@solid()\n",
    "def fit_and_save_charge_model(_, intermediate_data_dir: str, charge_opt_model_fp: str, model_params: dict):\n",
    "    X, y = charge.prepare_training_input_data(intermediate_data_dir, start_hour=5)\n",
    "    charge.fit_and_save_charging_model(X, y, charge_opt_model_fp, **model_params)\n",
    "    \n",
    "    return True\n",
    "\n",
    "@solid()\n",
    "def fit_and_save_pv_model(_, intermediate_data_dir: str, pv_model_fp: str, model_params: dict):\n",
    "    X, y = pv.prepare_training_input_data(intermediate_data_dir)\n",
    "    pv.fit_and_save_pv_model(X, y, pv_model_fp, model_class=RandomForestRegressor, **model_params)\n",
    "    \n",
    "    return True\n",
    "\n",
    "@solid()\n",
    "def fit_and_save_discharge_model(_, intermediate_data_dir: str, discharge_opt_model_fp: str, model_params: dict):\n",
    "    X, y = discharge.prepare_training_input_data(intermediate_data_dir)\n",
    "    discharge.fit_and_save_model(X, y, discharge_opt_model_fp, **model_params)\n",
    "    \n",
    "    return True\n",
    "\n",
    "@solid()\n",
    "def construct_battery_profile(_, charge_model_success: bool, discharge_model_success: bool, intermediate_data_dir: str, raw_data_dir: str, discharge_opt_model_fp: str, pv_model_fp: str, charge_start_hour: int):\n",
    "    assert charge_model_success and discharge_model_success, 'Model training was unsuccessful'\n",
    "    \n",
    "    s_discharge_profile = discharge.optimise_latest_test_discharge_profile(raw_data_dir, intermediate_data_dir, discharge_opt_model_fp)\n",
    "    s_charge_profile = pv.optimise_latest_test_charge_profile(raw_data_dir, intermediate_data_dir, pv_model_fp, start_hour=charge_start_hour)\n",
    "    \n",
    "    s_battery_profile = s_charge_profile + s_discharge_profile\n",
    "    s_battery_profile.name = 'charge_MW'\n",
    "    \n",
    "    return s_battery_profile\n",
    "\n",
    "@solid()\n",
    "def check_and_save_battery_profile(_, s_battery_profile, output_data_dir: str):\n",
    "    # Check that solution meets battery constraints\n",
    "    assert constraints.schedule_is_legal(s_battery_profile), \"Solution violates constraints\"\n",
    "    \n",
    "    # Saving\n",
    "    if os.path.exists(output_data_dir) == False:\n",
    "        os.mkdir(output_data_dir)\n",
    "        \n",
    "    s_battery_profile.index = s_battery_profile.index.tz_convert('UTC').tz_convert(None)\n",
    "    s_battery_profile.to_csv(f'{output_data_dir}/latest_submission.csv')\n",
    "    \n",
    "    return "
   ]
  },
  {
   "cell_type": "markdown",
   "id": "legislative-occasion",
   "metadata": {},
   "source": [
    "<br>\n",
    "\n",
    "Then we'll combine them in a pipeline"
   ]
  },
  {
   "cell_type": "code",
   "execution_count": 10,
   "id": "great-heaven",
   "metadata": {},
   "outputs": [],
   "source": [
    "@pipeline\n",
    "def end_to_end_pipeline(): \n",
    "    loaded_data = load_data()\n",
    "    intermediate_data_dir = clean_data(loaded_data)\n",
    "    \n",
    "#     charge_model_success = fit_and_save_charge_model(intermediate_data_dir)\n",
    "    charge_model_success = fit_and_save_pv_model(intermediate_data_dir)\n",
    "    discharge_model_success = fit_and_save_discharge_model(intermediate_data_dir)\n",
    "    \n",
    "    s_battery_profile = construct_battery_profile(charge_model_success, discharge_model_success, intermediate_data_dir)\n",
    "    check_and_save_battery_profile(s_battery_profile)"
   ]
  },
  {
   "cell_type": "markdown",
   "id": "alike-center",
   "metadata": {},
   "source": [
    "<br>\n",
    "\n",
    "Which we'll now run a test"
   ]
  },
  {
   "cell_type": "code",
   "execution_count": null,
   "id": "threaded-color",
   "metadata": {},
   "outputs": [
    {
     "name": "stderr",
     "output_type": "stream",
     "text": [
      "2021-03-11 11:14:08 - dagster - DEBUG - end_to_end_pipeline - b55926ce-ae21-4a27-bd90-bdfbb0ee0cbd - 40919 - ENGINE_EVENT - Starting initialization of resources [asset_store].\n",
      "2021-03-11 11:14:08 - dagster - DEBUG - end_to_end_pipeline - b55926ce-ae21-4a27-bd90-bdfbb0ee0cbd - 40919 - ENGINE_EVENT - Finished initialization of resources [asset_store].\n",
      "2021-03-11 11:14:08 - dagster - DEBUG - end_to_end_pipeline - b55926ce-ae21-4a27-bd90-bdfbb0ee0cbd - 40919 - PIPELINE_START - Started execution of pipeline \"end_to_end_pipeline\".\n",
      "2021-03-11 11:14:08 - dagster - DEBUG - end_to_end_pipeline - b55926ce-ae21-4a27-bd90-bdfbb0ee0cbd - 40919 - ENGINE_EVENT - Executing steps in process (pid: 40919)\n",
      "2021-03-11 11:14:08 - dagster - DEBUG - end_to_end_pipeline - b55926ce-ae21-4a27-bd90-bdfbb0ee0cbd - 40919 - load_data.compute - STEP_START - Started execution of step \"load_data.compute\".\n",
      "2021-03-11 11:14:08 - dagster - DEBUG - end_to_end_pipeline - b55926ce-ae21-4a27-bd90-bdfbb0ee0cbd - 40919 - load_data.compute - STEP_INPUT - Got input \"raw_data_dir\" of type \"String\". (Type check passed).\n",
      "2021-03-11 11:14:08 - dagster - DEBUG - end_to_end_pipeline - b55926ce-ae21-4a27-bd90-bdfbb0ee0cbd - 40919 - load_data.compute - STEP_OUTPUT - Yielded output \"result\" of type \"Any\". (Type check passed).\n",
      "2021-03-11 11:14:08 - dagster - DEBUG - end_to_end_pipeline - b55926ce-ae21-4a27-bd90-bdfbb0ee0cbd - 40919 - load_data.compute - OBJECT_STORE_OPERATION - Stored intermediate object for output result in memory object store using pickle.\n",
      "2021-03-11 11:14:08 - dagster - DEBUG - end_to_end_pipeline - b55926ce-ae21-4a27-bd90-bdfbb0ee0cbd - 40919 - load_data.compute - STEP_SUCCESS - Finished execution of step \"load_data.compute\" in 195ms.\n",
      "2021-03-11 11:14:08 - dagster - DEBUG - end_to_end_pipeline - b55926ce-ae21-4a27-bd90-bdfbb0ee0cbd - 40919 - clean_data.compute - STEP_START - Started execution of step \"clean_data.compute\".\n",
      "2021-03-11 11:14:08 - dagster - DEBUG - end_to_end_pipeline - b55926ce-ae21-4a27-bd90-bdfbb0ee0cbd - 40919 - clean_data.compute - OBJECT_STORE_OPERATION - Retrieved intermediate object for input loaded_data in memory object store using pickle.\n",
      "2021-03-11 11:14:08 - dagster - DEBUG - end_to_end_pipeline - b55926ce-ae21-4a27-bd90-bdfbb0ee0cbd - 40919 - clean_data.compute - STEP_INPUT - Got input \"loaded_data\" of type \"Any\". (Type check passed).\n",
      "2021-03-11 11:14:08 - dagster - DEBUG - end_to_end_pipeline - b55926ce-ae21-4a27-bd90-bdfbb0ee0cbd - 40919 - clean_data.compute - STEP_INPUT - Got input \"raw_data_dir\" of type \"String\". (Type check passed).\n",
      "2021-03-11 11:14:08 - dagster - DEBUG - end_to_end_pipeline - b55926ce-ae21-4a27-bd90-bdfbb0ee0cbd - 40919 - clean_data.compute - STEP_INPUT - Got input \"intermediate_data_dir\" of type \"String\". (Type check passed).\n",
      "2021-03-11 11:15:49 - dagster - DEBUG - end_to_end_pipeline - b55926ce-ae21-4a27-bd90-bdfbb0ee0cbd - 40919 - clean_data.compute - STEP_OUTPUT - Yielded output \"result\" of type \"Any\". (Type check passed).\n",
      "2021-03-11 11:15:49 - dagster - DEBUG - end_to_end_pipeline - b55926ce-ae21-4a27-bd90-bdfbb0ee0cbd - 40919 - clean_data.compute - OBJECT_STORE_OPERATION - Stored intermediate object for output result in memory object store using pickle.\n",
      "2021-03-11 11:15:49 - dagster - DEBUG - end_to_end_pipeline - b55926ce-ae21-4a27-bd90-bdfbb0ee0cbd - 40919 - clean_data.compute - STEP_SUCCESS - Finished execution of step \"clean_data.compute\" in 1m40s.\n",
      "2021-03-11 11:15:49 - dagster - DEBUG - end_to_end_pipeline - b55926ce-ae21-4a27-bd90-bdfbb0ee0cbd - 40919 - fit_and_save_discharge_model.compute - STEP_START - Started execution of step \"fit_and_save_discharge_model.compute\".\n",
      "2021-03-11 11:15:49 - dagster - DEBUG - end_to_end_pipeline - b55926ce-ae21-4a27-bd90-bdfbb0ee0cbd - 40919 - fit_and_save_discharge_model.compute - OBJECT_STORE_OPERATION - Retrieved intermediate object for input intermediate_data_dir in memory object store using pickle.\n",
      "2021-03-11 11:15:49 - dagster - DEBUG - end_to_end_pipeline - b55926ce-ae21-4a27-bd90-bdfbb0ee0cbd - 40919 - fit_and_save_discharge_model.compute - STEP_INPUT - Got input \"intermediate_data_dir\" of type \"String\". (Type check passed).\n",
      "2021-03-11 11:15:49 - dagster - DEBUG - end_to_end_pipeline - b55926ce-ae21-4a27-bd90-bdfbb0ee0cbd - 40919 - fit_and_save_discharge_model.compute - STEP_INPUT - Got input \"discharge_opt_model_fp\" of type \"String\". (Type check passed).\n",
      "2021-03-11 11:15:49 - dagster - DEBUG - end_to_end_pipeline - b55926ce-ae21-4a27-bd90-bdfbb0ee0cbd - 40919 - fit_and_save_discharge_model.compute - STEP_INPUT - Got input \"model_params\" of type \"dict\". (Type check passed).\n",
      "2021-03-11 11:16:01 - dagster - DEBUG - end_to_end_pipeline - b55926ce-ae21-4a27-bd90-bdfbb0ee0cbd - 40919 - fit_and_save_discharge_model.compute - STEP_OUTPUT - Yielded output \"result\" of type \"Any\". (Type check passed).\n",
      "2021-03-11 11:16:01 - dagster - DEBUG - end_to_end_pipeline - b55926ce-ae21-4a27-bd90-bdfbb0ee0cbd - 40919 - fit_and_save_discharge_model.compute - OBJECT_STORE_OPERATION - Stored intermediate object for output result in memory object store using pickle.\n",
      "2021-03-11 11:16:01 - dagster - DEBUG - end_to_end_pipeline - b55926ce-ae21-4a27-bd90-bdfbb0ee0cbd - 40919 - fit_and_save_discharge_model.compute - STEP_SUCCESS - Finished execution of step \"fit_and_save_discharge_model.compute\" in 11.91s.\n",
      "2021-03-11 11:16:01 - dagster - DEBUG - end_to_end_pipeline - b55926ce-ae21-4a27-bd90-bdfbb0ee0cbd - 40919 - fit_and_save_pv_model.compute - STEP_START - Started execution of step \"fit_and_save_pv_model.compute\".\n",
      "2021-03-11 11:16:01 - dagster - DEBUG - end_to_end_pipeline - b55926ce-ae21-4a27-bd90-bdfbb0ee0cbd - 40919 - fit_and_save_pv_model.compute - OBJECT_STORE_OPERATION - Retrieved intermediate object for input intermediate_data_dir in memory object store using pickle.\n",
      "2021-03-11 11:16:01 - dagster - DEBUG - end_to_end_pipeline - b55926ce-ae21-4a27-bd90-bdfbb0ee0cbd - 40919 - fit_and_save_pv_model.compute - STEP_INPUT - Got input \"intermediate_data_dir\" of type \"String\". (Type check passed).\n",
      "2021-03-11 11:16:01 - dagster - DEBUG - end_to_end_pipeline - b55926ce-ae21-4a27-bd90-bdfbb0ee0cbd - 40919 - fit_and_save_pv_model.compute - STEP_INPUT - Got input \"pv_model_fp\" of type \"String\". (Type check passed).\n",
      "2021-03-11 11:16:01 - dagster - DEBUG - end_to_end_pipeline - b55926ce-ae21-4a27-bd90-bdfbb0ee0cbd - 40919 - fit_and_save_pv_model.compute - STEP_INPUT - Got input \"model_params\" of type \"dict\". (Type check passed).\n"
     ]
    }
   ],
   "source": [
    "run_config = {\n",
    "    'solids': {\n",
    "        'load_data': {\n",
    "            'inputs': {\n",
    "                'raw_data_dir': '../data/raw',\n",
    "            },\n",
    "        },\n",
    "        'clean_data': {\n",
    "            'inputs': {\n",
    "                'raw_data_dir': '../data/raw',\n",
    "                'intermediate_data_dir': '../data/intermediate',\n",
    "            },\n",
    "        },\n",
    "        'fit_and_save_discharge_model': {\n",
    "            'inputs': {\n",
    "                'discharge_opt_model_fp': '../models/discharge_opt.sav',\n",
    "                'model_params': {\n",
    "                    'criterion': 'mse',\n",
    "                    'bootstrap': True,\n",
    "                    'max_depth': 32,\n",
    "                    'max_features': 'auto',\n",
    "                    'min_samples_leaf': 1,\n",
    "                    'min_samples_split': 4,\n",
    "                    'n_estimators': 74                    \n",
    "                }\n",
    "            },\n",
    "        },\n",
    "        'fit_and_save_pv_model': {\n",
    "            'inputs': {\n",
    "                'pv_model_fp': '../models/pv_model.sav',\n",
    "                'model_params': {\n",
    "                    'criterion': 'mse', \n",
    "                    'max_depth': 46,\n",
    "                    'min_samples_leaf': 2,\n",
    "                    'n_estimators': 150\n",
    "                }\n",
    "            },\n",
    "        },\n",
    "        'construct_battery_profile': {\n",
    "            'inputs': {\n",
    "                'raw_data_dir': '../data/raw',\n",
    "                'discharge_opt_model_fp': '../models/discharge_opt.sav',\n",
    "                'pv_model_fp': '../models/pv_model.sav',\n",
    "                'charge_start_hour': 8,\n",
    "            },\n",
    "        },\n",
    "        'check_and_save_battery_profile': {\n",
    "            'inputs': {\n",
    "                'output_data_dir': '../data/output'\n",
    "            },\n",
    "        },\n",
    "    }\n",
    "}\n",
    "\n",
    "execute_pipeline(end_to_end_pipeline, run_config=run_config)"
   ]
  },
  {
   "cell_type": "markdown",
   "id": "promising-mobility",
   "metadata": {},
   "source": [
    "<br>\n",
    "\n",
    "We'll then visualise the latest charging profile"
   ]
  },
  {
   "cell_type": "code",
   "execution_count": null,
   "id": "expanded-sense",
   "metadata": {},
   "outputs": [],
   "source": [
    "df_latest_submission = pd.read_csv('../data/output/latest_submission.csv')\n",
    "\n",
    "s_latest_submission = df_latest_submission.set_index('datetime')['charge_MW']\n",
    "s_latest_submission.index = pd.to_datetime(s_latest_submission.index)\n",
    "\n",
    "# Plotting\n",
    "fig, ax = plt.subplots(dpi=250)\n",
    "\n",
    "s_latest_submission.plot(ax=ax)\n",
    "\n",
    "ax.set_xlabel('')\n",
    "ax.set_ylabel('Charge (MW)')\n",
    "hlp.hide_spines(ax)\n",
    "fig.tight_layout()\n",
    "fig.savefig('../img/latest_submission.png', dpi=250)"
   ]
  },
  {
   "cell_type": "markdown",
   "id": "embedded-parking",
   "metadata": {},
   "source": [
    "<br>\n",
    "\n",
    "Finally we'll export the relevant code to our `batopt` module"
   ]
  },
  {
   "cell_type": "code",
   "execution_count": null,
   "id": "complete-nashville",
   "metadata": {},
   "outputs": [],
   "source": [
    "#hide\n",
    "from nbdev.export import notebook2script\n",
    "    \n",
    "notebook2script()"
   ]
  }
 ],
 "metadata": {
  "kernelspec": {
   "display_name": "Python 3",
   "language": "python",
   "name": "python3"
  },
  "language_info": {
   "codemirror_mode": {
    "name": "ipython",
    "version": 3
   },
   "file_extension": ".py",
   "mimetype": "text/x-python",
   "name": "python",
   "nbconvert_exporter": "python",
   "pygments_lexer": "ipython3",
   "version": "3.9.1"
  }
 },
 "nbformat": 4,
 "nbformat_minor": 5
}
