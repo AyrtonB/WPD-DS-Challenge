{
 "cells": [
  {
   "cell_type": "code",
   "execution_count": 1,
   "id": "necessary-theater",
   "metadata": {},
   "outputs": [],
   "source": [
    "#default_exp tuning"
   ]
  },
  {
   "cell_type": "markdown",
   "id": "tutorial-congo",
   "metadata": {},
   "source": [
    "# Tuning\n",
    "\n",
    "<br>\n",
    "\n",
    "### Imports"
   ]
  },
  {
   "cell_type": "code",
   "execution_count": 30,
   "id": "serial-buffalo",
   "metadata": {},
   "outputs": [],
   "source": [
    "#exports\n",
    "import numpy as np\n",
    "import pandas as pd\n",
    "\n",
    "from sklearn.ensemble import RandomForestRegressor\n",
    "from sklearn.pipeline import Pipeline\n",
    "# from sklearn.model_selection import GroupKFold\n",
    "\n",
    "from skopt.plots import plot_objective\n",
    "from skopt.space import Real, Categorical, Integer\n",
    "\n",
    "from batopt import clean, discharge, charge, utils"
   ]
  },
  {
   "cell_type": "code",
   "execution_count": 3,
   "id": "driven-graduation",
   "metadata": {},
   "outputs": [],
   "source": [
    "import FEAutils as hlp\n",
    "import matplotlib.pyplot as plt"
   ]
  },
  {
   "cell_type": "markdown",
   "id": "seasonal-ground",
   "metadata": {},
   "source": [
    "<br>\n",
    "\n",
    "### User Inputs"
   ]
  },
  {
   "cell_type": "code",
   "execution_count": 4,
   "id": "ecological-gallery",
   "metadata": {},
   "outputs": [],
   "source": [
    "intermediate_data_dir = '../data/intermediate'"
   ]
  },
  {
   "cell_type": "markdown",
   "id": "mobile-resource",
   "metadata": {},
   "source": [
    "<br>\n",
    "\n",
    "### Preparing Data\n",
    "\n",
    "First we'll load in the target and feature data for both the charging and discharging models"
   ]
  },
  {
   "cell_type": "code",
   "execution_count": 5,
   "id": "irish-press",
   "metadata": {},
   "outputs": [
    {
     "data": {
      "text/html": [
       "<div>\n",
       "<style scoped>\n",
       "    .dataframe tbody tr th:only-of-type {\n",
       "        vertical-align: middle;\n",
       "    }\n",
       "\n",
       "    .dataframe tbody tr th {\n",
       "        vertical-align: top;\n",
       "    }\n",
       "\n",
       "    .dataframe thead th {\n",
       "        text-align: right;\n",
       "    }\n",
       "</style>\n",
       "<table border=\"1\" class=\"dataframe\">\n",
       "  <thead>\n",
       "    <tr style=\"text-align: right;\">\n",
       "      <th></th>\n",
       "      <th>temp_location1</th>\n",
       "      <th>temp_location2</th>\n",
       "      <th>temp_location3</th>\n",
       "      <th>temp_location4</th>\n",
       "      <th>temp_location5</th>\n",
       "      <th>temp_location6</th>\n",
       "      <th>solar_7d_lag</th>\n",
       "      <th>solar_location1</th>\n",
       "      <th>solar_location2</th>\n",
       "      <th>solar_location3</th>\n",
       "      <th>solar_location4</th>\n",
       "      <th>solar_location5</th>\n",
       "      <th>solar_location6</th>\n",
       "      <th>weekend</th>\n",
       "      <th>hour</th>\n",
       "      <th>doy</th>\n",
       "      <th>dow</th>\n",
       "    </tr>\n",
       "  </thead>\n",
       "  <tbody>\n",
       "    <tr>\n",
       "      <th>2017-11-10 05:00:00+00:00</th>\n",
       "      <td>12.190</td>\n",
       "      <td>12.07</td>\n",
       "      <td>11.880</td>\n",
       "      <td>11.29</td>\n",
       "      <td>13.37</td>\n",
       "      <td>13.43</td>\n",
       "      <td>0.00</td>\n",
       "      <td>0.00</td>\n",
       "      <td>0.00</td>\n",
       "      <td>0.00</td>\n",
       "      <td>0.000</td>\n",
       "      <td>0.000</td>\n",
       "      <td>0.00</td>\n",
       "      <td>0</td>\n",
       "      <td>5.0</td>\n",
       "      <td>314</td>\n",
       "      <td>4</td>\n",
       "    </tr>\n",
       "    <tr>\n",
       "      <th>2017-11-10 05:30:00+00:00</th>\n",
       "      <td>12.145</td>\n",
       "      <td>12.13</td>\n",
       "      <td>11.745</td>\n",
       "      <td>11.20</td>\n",
       "      <td>13.44</td>\n",
       "      <td>13.52</td>\n",
       "      <td>0.00</td>\n",
       "      <td>0.00</td>\n",
       "      <td>0.00</td>\n",
       "      <td>0.00</td>\n",
       "      <td>0.000</td>\n",
       "      <td>0.000</td>\n",
       "      <td>0.00</td>\n",
       "      <td>0</td>\n",
       "      <td>5.5</td>\n",
       "      <td>314</td>\n",
       "      <td>4</td>\n",
       "    </tr>\n",
       "    <tr>\n",
       "      <th>2017-11-10 06:00:00+00:00</th>\n",
       "      <td>12.100</td>\n",
       "      <td>12.19</td>\n",
       "      <td>11.610</td>\n",
       "      <td>11.11</td>\n",
       "      <td>13.51</td>\n",
       "      <td>13.61</td>\n",
       "      <td>0.00</td>\n",
       "      <td>0.00</td>\n",
       "      <td>0.00</td>\n",
       "      <td>0.00</td>\n",
       "      <td>0.000</td>\n",
       "      <td>0.000</td>\n",
       "      <td>0.00</td>\n",
       "      <td>0</td>\n",
       "      <td>6.0</td>\n",
       "      <td>314</td>\n",
       "      <td>4</td>\n",
       "    </tr>\n",
       "    <tr>\n",
       "      <th>2017-11-10 06:30:00+00:00</th>\n",
       "      <td>11.985</td>\n",
       "      <td>12.05</td>\n",
       "      <td>11.315</td>\n",
       "      <td>10.85</td>\n",
       "      <td>13.52</td>\n",
       "      <td>13.62</td>\n",
       "      <td>0.00</td>\n",
       "      <td>0.48</td>\n",
       "      <td>0.55</td>\n",
       "      <td>0.52</td>\n",
       "      <td>0.915</td>\n",
       "      <td>0.575</td>\n",
       "      <td>0.66</td>\n",
       "      <td>0</td>\n",
       "      <td>6.5</td>\n",
       "      <td>314</td>\n",
       "      <td>4</td>\n",
       "    </tr>\n",
       "    <tr>\n",
       "      <th>2017-11-10 07:00:00+00:00</th>\n",
       "      <td>11.870</td>\n",
       "      <td>11.91</td>\n",
       "      <td>11.020</td>\n",
       "      <td>10.59</td>\n",
       "      <td>13.53</td>\n",
       "      <td>13.63</td>\n",
       "      <td>0.02</td>\n",
       "      <td>0.96</td>\n",
       "      <td>1.10</td>\n",
       "      <td>1.04</td>\n",
       "      <td>1.830</td>\n",
       "      <td>1.150</td>\n",
       "      <td>1.32</td>\n",
       "      <td>0</td>\n",
       "      <td>7.0</td>\n",
       "      <td>314</td>\n",
       "      <td>4</td>\n",
       "    </tr>\n",
       "  </tbody>\n",
       "</table>\n",
       "</div>"
      ],
      "text/plain": [
       "                           temp_location1  temp_location2  temp_location3  \\\n",
       "2017-11-10 05:00:00+00:00          12.190           12.07          11.880   \n",
       "2017-11-10 05:30:00+00:00          12.145           12.13          11.745   \n",
       "2017-11-10 06:00:00+00:00          12.100           12.19          11.610   \n",
       "2017-11-10 06:30:00+00:00          11.985           12.05          11.315   \n",
       "2017-11-10 07:00:00+00:00          11.870           11.91          11.020   \n",
       "\n",
       "                           temp_location4  temp_location5  temp_location6  \\\n",
       "2017-11-10 05:00:00+00:00           11.29           13.37           13.43   \n",
       "2017-11-10 05:30:00+00:00           11.20           13.44           13.52   \n",
       "2017-11-10 06:00:00+00:00           11.11           13.51           13.61   \n",
       "2017-11-10 06:30:00+00:00           10.85           13.52           13.62   \n",
       "2017-11-10 07:00:00+00:00           10.59           13.53           13.63   \n",
       "\n",
       "                           solar_7d_lag  solar_location1  solar_location2  \\\n",
       "2017-11-10 05:00:00+00:00          0.00             0.00             0.00   \n",
       "2017-11-10 05:30:00+00:00          0.00             0.00             0.00   \n",
       "2017-11-10 06:00:00+00:00          0.00             0.00             0.00   \n",
       "2017-11-10 06:30:00+00:00          0.00             0.48             0.55   \n",
       "2017-11-10 07:00:00+00:00          0.02             0.96             1.10   \n",
       "\n",
       "                           solar_location3  solar_location4  solar_location5  \\\n",
       "2017-11-10 05:00:00+00:00             0.00            0.000            0.000   \n",
       "2017-11-10 05:30:00+00:00             0.00            0.000            0.000   \n",
       "2017-11-10 06:00:00+00:00             0.00            0.000            0.000   \n",
       "2017-11-10 06:30:00+00:00             0.52            0.915            0.575   \n",
       "2017-11-10 07:00:00+00:00             1.04            1.830            1.150   \n",
       "\n",
       "                           solar_location6  weekend  hour  doy  dow  \n",
       "2017-11-10 05:00:00+00:00             0.00        0   5.0  314    4  \n",
       "2017-11-10 05:30:00+00:00             0.00        0   5.5  314    4  \n",
       "2017-11-10 06:00:00+00:00             0.00        0   6.0  314    4  \n",
       "2017-11-10 06:30:00+00:00             0.66        0   6.5  314    4  \n",
       "2017-11-10 07:00:00+00:00             1.32        0   7.0  314    4  "
      ]
     },
     "execution_count": 5,
     "metadata": {},
     "output_type": "execute_result"
    }
   ],
   "source": [
    "charge_x, charge_y = charge.prepare_training_input_data(intermediate_data_dir)\n",
    "discharge_x, discharge_y = discharge.prepare_training_input_data(intermediate_data_dir)\n",
    "\n",
    "charge_x.head()"
   ]
  },
  {
   "cell_type": "code",
   "execution_count": null,
   "id": "danish-massage",
   "metadata": {},
   "outputs": [],
   "source": []
  },
  {
   "cell_type": "code",
   "execution_count": 6,
   "id": "august-testing",
   "metadata": {},
   "outputs": [
    {
     "data": {
      "text/plain": [
       "datetime\n",
       "2017-11-03 00:00:00+00:00    2.19\n",
       "2017-11-03 00:30:00+00:00    2.14\n",
       "2017-11-03 01:00:00+00:00    2.01\n",
       "2017-11-03 01:30:00+00:00    1.87\n",
       "2017-11-03 02:00:00+00:00    1.86\n",
       "Freq: 30T, Name: demand_MW, dtype: float64"
      ]
     },
     "execution_count": 6,
     "metadata": {},
     "output_type": "execute_result"
    }
   ],
   "source": [
    "s_demand = clean.load_training_dataset(intermediate_data_dir, 'demand')['demand_MW']\n",
    "\n",
    "s_demand.head()"
   ]
  },
  {
   "cell_type": "code",
   "execution_count": null,
   "id": "polish-monster",
   "metadata": {},
   "outputs": [],
   "source": []
  },
  {
   "cell_type": "code",
   "execution_count": 7,
   "id": "excessive-letter",
   "metadata": {},
   "outputs": [
    {
     "data": {
      "text/plain": [
       "datetime\n",
       "2017-11-03 00:00:00+00:00    0.0\n",
       "2017-11-03 00:30:00+00:00    0.0\n",
       "2017-11-03 01:00:00+00:00    0.0\n",
       "2017-11-03 01:30:00+00:00    0.0\n",
       "2017-11-03 02:00:00+00:00    0.0\n",
       "Freq: 30T, Name: pv_power_mw, dtype: float64"
      ]
     },
     "execution_count": 7,
     "metadata": {},
     "output_type": "execute_result"
    }
   ],
   "source": [
    "s_pv = clean.load_training_dataset(intermediate_data_dir, 'pv')['pv_power_mw']\n",
    "\n",
    "s_pv.head()"
   ]
  },
  {
   "cell_type": "code",
   "execution_count": null,
   "id": "alien-crowd",
   "metadata": {},
   "outputs": [],
   "source": []
  },
  {
   "cell_type": "code",
   "execution_count": 8,
   "id": "identified-clerk",
   "metadata": {},
   "outputs": [],
   "source": [
    "def get_train_test(arr, start_of_test_period): \n",
    "    train_arr = arr[:pd.to_datetime(start_of_test_period, utc=True)]\n",
    "    test_arr = arr[pd.to_datetime(start_of_test_period, utc=True):]\n",
    "    \n",
    "    return train_arr, test_arr\n",
    "\n",
    "start_of_test_period = '2018-09-15'\n",
    "\n",
    "charge_x_train, charge_x_test = get_train_test(charge_x, start_of_test_period)\n",
    "charge_y_train, charge_y_test = get_train_test(charge_y, start_of_test_period)\n",
    "discharge_x_train, discharge_x_test = get_train_test(discharge_x, start_of_test_period)\n",
    "discharge_y_train, discharge_y_test = get_train_test(discharge_y, start_of_test_period)"
   ]
  },
  {
   "cell_type": "markdown",
   "id": "cloudy-regression",
   "metadata": {},
   "source": [
    "<br>\n",
    "\n",
    "### Evaluation Metrics\n",
    "\n",
    "We want to evaluate each of our models based on their contribution to the final scoring value, to do this we'll first create some predictions for our discharge model."
   ]
  },
  {
   "cell_type": "code",
   "execution_count": 9,
   "id": "humanitarian-tackle",
   "metadata": {},
   "outputs": [
    {
     "data": {
      "text/plain": [
       "<AxesSubplot:>"
      ]
     },
     "execution_count": 9,
     "metadata": {},
     "output_type": "execute_result"
    },
    {
     "data": {
      "image/png": "[encoded data removed]",
      "text/plain": [
       "<Figure size 432x288 with 1 Axes>"
      ]
     },
     "metadata": {
      "needs_background": "light"
     },
     "output_type": "display_data"
    }
   ],
   "source": [
    "discharge_rf = RandomForestRegressor()\n",
    "\n",
    "discharge_rf.fit(discharge_x_train, discharge_y_train)\n",
    "discharge_y_pred = pd.Series(discharge_rf.predict(discharge_x_test), index=discharge_x_test.index)\n",
    "\n",
    "discharge_y_pred.plot()"
   ]
  },
  {
   "cell_type": "markdown",
   "id": "extreme-california",
   "metadata": {},
   "source": [
    "<br>\n",
    "\n",
    "We'll then create a time-series of the percentage peak reduction for each day"
   ]
  },
  {
   "cell_type": "code",
   "execution_count": 10,
   "id": "adjusted-amsterdam",
   "metadata": {},
   "outputs": [],
   "source": [
    "#exports\n",
    "def calculate_pct_peak_reduction_s(discharge_y_pred, s_demand):\n",
    "    s_demand_test = s_demand.loc[discharge_y_pred.index]\n",
    "\n",
    "    s_old_peaks = s_demand_test.groupby(s_demand_test.index.date).max()\n",
    "    s_new_peaks = (s_demand_test+discharge_y_pred).groupby(s_demand_test.index.date).max()\n",
    "\n",
    "    s_pct_peak_reduction = 100*(s_old_peaks - s_new_peaks)/s_new_peaks\n",
    "    s_pct_peak_reduction.index = pd.to_datetime(s_pct_peak_reduction.index)\n",
    "\n",
    "    return s_pct_peak_reduction"
   ]
  },
  {
   "cell_type": "code",
   "execution_count": 11,
   "id": "raising-coverage",
   "metadata": {},
   "outputs": [
    {
     "name": "stdout",
     "output_type": "stream",
     "text": [
      "The average peak reduction was 45.48%\n"
     ]
    },
    {
     "data": {
      "text/plain": [
       "<AxesSubplot:>"
      ]
     },
     "execution_count": 11,
     "metadata": {},
     "output_type": "execute_result"
    },
    {
     "data": {
      "image/png": "[encoded data removed]",
      "text/plain": [
       "<Figure size 432x288 with 1 Axes>"
      ]
     },
     "metadata": {
      "needs_background": "light"
     },
     "output_type": "display_data"
    }
   ],
   "source": [
    "s_pct_peak_reduction = calculate_pct_peak_reduction_s(discharge_y_pred, s_demand)\n",
    "\n",
    "print(f'The average peak reduction was {s_pct_peak_reduction.mean():.2f}%')\n",
    "\n",
    "s_pct_peak_reduction.plot()"
   ]
  },
  {
   "cell_type": "markdown",
   "id": "combined-parent",
   "metadata": {},
   "source": [
    "<br>\n",
    "\n",
    "We'll then repeat this with the charging model"
   ]
  },
  {
   "cell_type": "code",
   "execution_count": 12,
   "id": "subjective-familiar",
   "metadata": {},
   "outputs": [
    {
     "data": {
      "text/plain": [
       "<AxesSubplot:>"
      ]
     },
     "execution_count": 12,
     "metadata": {},
     "output_type": "execute_result"
    },
    {
     "data": {
      "image/png": "[encoded data removed]",
      "text/plain": [
       "<Figure size 432x288 with 1 Axes>"
      ]
     },
     "metadata": {
      "needs_background": "light"
     },
     "output_type": "display_data"
    }
   ],
   "source": [
    "charge_rf = RandomForestRegressor()\n",
    "\n",
    "charge_rf.fit(charge_x_train, charge_y_train)\n",
    "charge_y_pred = pd.Series(charge_rf.predict(charge_x_test), index=charge_x_test.index)\n",
    "\n",
    "charge_y_pred.plot()"
   ]
  },
  {
   "cell_type": "markdown",
   "id": "surprising-bacteria",
   "metadata": {},
   "source": [
    "<br>\n",
    "\n",
    "For which we'll calculate the emissions factor series"
   ]
  },
  {
   "cell_type": "code",
   "execution_count": 13,
   "id": "further-north",
   "metadata": {},
   "outputs": [],
   "source": [
    "#exports\n",
    "def calculate_emissions_factor_s(charge_y_pred, s_pv, solar_factor=3, grid_factor=1):\n",
    "    s_solar_charge_pct = (charge_y_pred - s_pv.loc[charge_y_pred.index]).clip(0).groupby(charge_y_pred.index.date).sum()/charge_y_pred.groupby(charge_y_pred.index.date).sum()\n",
    "    s_grid_charge_pct = 1 - s_solar_charge_pct\n",
    "\n",
    "    s_emissions_factor = solar_factor*s_solar_charge_pct + grid_factor*s_grid_charge_pct\n",
    "    s_emissions_factor.index = pd.to_datetime(s_emissions_factor.index)\n",
    "\n",
    "    return s_emissions_factor"
   ]
  },
  {
   "cell_type": "code",
   "execution_count": 14,
   "id": "hungarian-observer",
   "metadata": {},
   "outputs": [
    {
     "data": {
      "text/plain": [
       "<AxesSubplot:>"
      ]
     },
     "execution_count": 14,
     "metadata": {},
     "output_type": "execute_result"
    },
    {
     "data": {
      "image/png": "[encoded data removed]",
      "text/plain": [
       "<Figure size 432x288 with 1 Axes>"
      ]
     },
     "metadata": {
      "needs_background": "light"
     },
     "output_type": "display_data"
    }
   ],
   "source": [
    "s_emissions_factor = calculate_emissions_factor_s(charge_y_pred, s_pv)\n",
    "\n",
    "s_emissions_factor.plot()"
   ]
  },
  {
   "cell_type": "markdown",
   "id": "undefined-pearl",
   "metadata": {},
   "source": [
    "<br>\n",
    "\n",
    "We can then combine these two steps to determine our final score for each day"
   ]
  },
  {
   "cell_type": "code",
   "execution_count": 15,
   "id": "extraordinary-petersburg",
   "metadata": {},
   "outputs": [],
   "source": [
    "#exportd\n",
    "def calculate_score_s(discharge_y_pred, charge_y_pred, s_demand, s_pv, solar_factor=3, grid_factor=1):\n",
    "    s_pct_peak_reduction = calculate_pct_peak_reduction_s(discharge_y_pred, s_demand)\n",
    "    s_emissions_factor = calculate_emissions_factor_s(charge_y_pred, s_pv, solar_factor=solar_factor, grid_factor=grid_factor)\n",
    "    \n",
    "    s_score = s_pct_peak_reduction*s_emissions_factor\n",
    "    \n",
    "    return s_score"
   ]
  },
  {
   "cell_type": "code",
   "execution_count": 16,
   "id": "double-civilian",
   "metadata": {},
   "outputs": [
    {
     "name": "stdout",
     "output_type": "stream",
     "text": [
      "The average score was: 60.86\n"
     ]
    },
    {
     "data": {
      "text/plain": [
       "<AxesSubplot:>"
      ]
     },
     "execution_count": 16,
     "metadata": {},
     "output_type": "execute_result"
    },
    {
     "data": {
      "image/png": "[encoded data removed]",
      "text/plain": [
       "<Figure size 432x288 with 1 Axes>"
      ]
     },
     "metadata": {
      "needs_background": "light"
     },
     "output_type": "display_data"
    }
   ],
   "source": [
    "s_score = calculate_score_s(discharge_y_pred, charge_y_pred, s_demand, s_pv)\n",
    "\n",
    "print(f'The average score was: {s_score.mean():.2f}')\n",
    "\n",
    "s_score.plot()"
   ]
  },
  {
   "cell_type": "markdown",
   "id": "seasonal-subdivision",
   "metadata": {},
   "source": [
    "<br>\n",
    "\n",
    "For the charging we can also look at how much was sourced from PV relative to the potential maximum (capped at 6 MWh per day)."
   ]
  },
  {
   "cell_type": "code",
   "execution_count": 17,
   "id": "silent-placement",
   "metadata": {},
   "outputs": [
    {
     "data": {
      "text/plain": [
       "<AxesSubplot:>"
      ]
     },
     "execution_count": 17,
     "metadata": {},
     "output_type": "execute_result"
    },
    {
     "data": {
      "image/png": "[encoded data removed]",
      "text/plain": [
       "<Figure size 432x288 with 1 Axes>"
      ]
     },
     "metadata": {
      "needs_background": "light"
     },
     "output_type": "display_data"
    }
   ],
   "source": [
    "solar_charge = np.minimum(charge_y_pred, s_pv.loc[charge_y_pred.index])\n",
    "day_solar_charge = solar_charge.groupby(solar_charge.index.date).sum().clip(0,12)\n",
    "day_solar_charge.index = pd.to_datetime(day_solar_charge.index)\n",
    "\n",
    "solar_potential = np.clip(s_pv.loc[charge_y_pred.index], 0, 2.5)\n",
    "day_solar_potential = solar_potential.groupby(solar_potential.index.date).sum().clip(0,12)\n",
    "day_solar_potential.index = pd.to_datetime(day_solar_potential.index)\n",
    "\n",
    "day_solar_charge.plot()\n",
    "day_solar_potential.plot()"
   ]
  },
  {
   "cell_type": "code",
   "execution_count": 18,
   "id": "offensive-bishop",
   "metadata": {},
   "outputs": [
    {
     "data": {
      "text/plain": [
       "Text(0, 0.5, '% exploited')"
      ]
     },
     "execution_count": 18,
     "metadata": {},
     "output_type": "execute_result"
    },
    {
     "data": {
      "image/png": "[encoded data removed]",
      "text/plain": [
       "<Figure size 432x288 with 1 Axes>"
      ]
     },
     "metadata": {
      "needs_background": "light"
     },
     "output_type": "display_data"
    }
   ],
   "source": [
    "pct_exploit = 100 * day_solar_charge/day_solar_potential\n",
    "pct_exploit.plot()\n",
    "plt.ylabel('% exploited')"
   ]
  },
  {
   "cell_type": "markdown",
   "id": "right-appointment",
   "metadata": {},
   "source": [
    "<br>\n",
    "\n",
    "### Discharge Model Tuning\n",
    "\n",
    "We'll begin by carrying out some feature selection"
   ]
  },
  {
   "cell_type": "code",
   "execution_count": 19,
   "id": "prepared-league",
   "metadata": {},
   "outputs": [],
   "source": [
    "# use mlxtend to select the relevant features"
   ]
  },
  {
   "cell_type": "code",
   "execution_count": 24,
   "id": "helpful-boring",
   "metadata": {},
   "outputs": [
    {
     "data": {
      "text/html": [
       "<div>\n",
       "<style scoped>\n",
       "    .dataframe tbody tr th:only-of-type {\n",
       "        vertical-align: middle;\n",
       "    }\n",
       "\n",
       "    .dataframe tbody tr th {\n",
       "        vertical-align: top;\n",
       "    }\n",
       "\n",
       "    .dataframe thead th {\n",
       "        text-align: right;\n",
       "    }\n",
       "</style>\n",
       "<table border=\"1\" class=\"dataframe\">\n",
       "  <thead>\n",
       "    <tr style=\"text-align: right;\">\n",
       "      <th></th>\n",
       "      <th>temp_location1</th>\n",
       "      <th>temp_location2</th>\n",
       "      <th>temp_location3</th>\n",
       "      <th>temp_location4</th>\n",
       "      <th>temp_location5</th>\n",
       "      <th>temp_location6</th>\n",
       "      <th>spatial_avg_temp</th>\n",
       "      <th>daily_avg_temp</th>\n",
       "      <th>SP_demand_7d_lag</th>\n",
       "      <th>evening_demand_avg_7d_lag</th>\n",
       "      <th>evening_demand_max_7d_lag</th>\n",
       "      <th>weekend</th>\n",
       "      <th>hour</th>\n",
       "      <th>doy</th>\n",
       "      <th>dow</th>\n",
       "    </tr>\n",
       "  </thead>\n",
       "  <tbody>\n",
       "    <tr>\n",
       "      <th>2017-11-10 15:30:00+00:00</th>\n",
       "      <td>10.985</td>\n",
       "      <td>10.99</td>\n",
       "      <td>9.845</td>\n",
       "      <td>9.68</td>\n",
       "      <td>12.945</td>\n",
       "      <td>13.025</td>\n",
       "      <td>11.245000</td>\n",
       "      <td>11.449115</td>\n",
       "      <td>3.06</td>\n",
       "      <td>3.928333</td>\n",
       "      <td>4.59</td>\n",
       "      <td>0</td>\n",
       "      <td>15.5</td>\n",
       "      <td>314</td>\n",
       "      <td>4</td>\n",
       "    </tr>\n",
       "    <tr>\n",
       "      <th>2017-11-10 16:00:00+00:00</th>\n",
       "      <td>10.720</td>\n",
       "      <td>10.67</td>\n",
       "      <td>9.520</td>\n",
       "      <td>9.05</td>\n",
       "      <td>12.860</td>\n",
       "      <td>12.920</td>\n",
       "      <td>10.956667</td>\n",
       "      <td>11.449115</td>\n",
       "      <td>3.36</td>\n",
       "      <td>3.928333</td>\n",
       "      <td>4.59</td>\n",
       "      <td>0</td>\n",
       "      <td>16.0</td>\n",
       "      <td>314</td>\n",
       "      <td>4</td>\n",
       "    </tr>\n",
       "    <tr>\n",
       "      <th>2017-11-10 16:30:00+00:00</th>\n",
       "      <td>10.515</td>\n",
       "      <td>10.30</td>\n",
       "      <td>9.175</td>\n",
       "      <td>8.25</td>\n",
       "      <td>12.765</td>\n",
       "      <td>12.800</td>\n",
       "      <td>10.634167</td>\n",
       "      <td>11.449115</td>\n",
       "      <td>3.89</td>\n",
       "      <td>3.928333</td>\n",
       "      <td>4.59</td>\n",
       "      <td>0</td>\n",
       "      <td>16.5</td>\n",
       "      <td>314</td>\n",
       "      <td>4</td>\n",
       "    </tr>\n",
       "  </tbody>\n",
       "</table>\n",
       "</div>"
      ],
      "text/plain": [
       "                           temp_location1  temp_location2  temp_location3  \\\n",
       "2017-11-10 15:30:00+00:00          10.985           10.99           9.845   \n",
       "2017-11-10 16:00:00+00:00          10.720           10.67           9.520   \n",
       "2017-11-10 16:30:00+00:00          10.515           10.30           9.175   \n",
       "\n",
       "                           temp_location4  temp_location5  temp_location6  \\\n",
       "2017-11-10 15:30:00+00:00            9.68          12.945          13.025   \n",
       "2017-11-10 16:00:00+00:00            9.05          12.860          12.920   \n",
       "2017-11-10 16:30:00+00:00            8.25          12.765          12.800   \n",
       "\n",
       "                           spatial_avg_temp  daily_avg_temp  SP_demand_7d_lag  \\\n",
       "2017-11-10 15:30:00+00:00         11.245000       11.449115              3.06   \n",
       "2017-11-10 16:00:00+00:00         10.956667       11.449115              3.36   \n",
       "2017-11-10 16:30:00+00:00         10.634167       11.449115              3.89   \n",
       "\n",
       "                           evening_demand_avg_7d_lag  \\\n",
       "2017-11-10 15:30:00+00:00                   3.928333   \n",
       "2017-11-10 16:00:00+00:00                   3.928333   \n",
       "2017-11-10 16:30:00+00:00                   3.928333   \n",
       "\n",
       "                           evening_demand_max_7d_lag  weekend  hour  doy  dow  \n",
       "2017-11-10 15:30:00+00:00                       4.59        0  15.5  314    4  \n",
       "2017-11-10 16:00:00+00:00                       4.59        0  16.0  314    4  \n",
       "2017-11-10 16:30:00+00:00                       4.59        0  16.5  314    4  "
      ]
     },
     "execution_count": 24,
     "metadata": {},
     "output_type": "execute_result"
    }
   ],
   "source": [
    "discharge_x_train.head(3)"
   ]
  },
  {
   "cell_type": "code",
   "execution_count": null,
   "id": "absent-conversion",
   "metadata": {},
   "outputs": [],
   "source": []
  },
  {
   "cell_type": "code",
   "execution_count": null,
   "id": "electrical-plaza",
   "metadata": {},
   "outputs": [
    {
     "name": "stderr",
     "output_type": "stream",
     "text": [
      "[Parallel(n_jobs=-1)]: Using backend LokyBackend with 8 concurrent workers.\n"
     ]
    }
   ],
   "source": [
    "from mlxtend.feature_selection import SequentialFeatureSelector as SFS\n",
    "\n",
    "peak_reduction_scorer = discharge.construct_peak_reduction_calculator(s_demand=s_demand, scorer=True)\n",
    "\n",
    "sfs = SFS(\n",
    "    RandomForestRegressor(),\n",
    "    k_features=5, \n",
    "    n_jobs=-1,\n",
    "    scoring=peak_reduction_scorer,\n",
    "    verbose=2\n",
    ")\n",
    "\n",
    "week_groups = discharge_x_train.index.year + discharge_x_train.index.isocalendar().week/52\n",
    "sfs.fit(discharge_x_train, discharge_y_train, groups=week_groups)\n",
    "\n",
    "sfs.k_feature_names_"
   ]
  },
  {
   "cell_type": "code",
   "execution_count": null,
   "id": "accessory-illustration",
   "metadata": {},
   "outputs": [],
   "source": []
  },
  {
   "cell_type": "markdown",
   "id": "adopted-joining",
   "metadata": {},
   "source": [
    "<br>\n",
    "\n",
    "We'll now do some hyper-parameter tuning using the `skopt` library"
   ]
  },
  {
   "cell_type": "code",
   "execution_count": 21,
   "id": "happy-place",
   "metadata": {},
   "outputs": [
    {
     "name": "stdout",
     "output_type": "stream",
     "text": [
      "Fitting 8 folds for each of 1 candidates, totalling 8 fits\n"
     ]
    },
    {
     "name": "stderr",
     "output_type": "stream",
     "text": [
      "[Parallel(n_jobs=-1)]: Using backend LokyBackend with 8 concurrent workers.\n",
      "[Parallel(n_jobs=-1)]: Done   2 out of   8 | elapsed:   21.9s remaining:  1.1min\n",
      "[Parallel(n_jobs=-1)]: Done   8 out of   8 | elapsed:   22.7s finished\n",
      "[Parallel(n_jobs=-1)]: Using backend LokyBackend with 8 concurrent workers.\n"
     ]
    },
    {
     "name": "stdout",
     "output_type": "stream",
     "text": [
      "Fitting 8 folds for each of 1 candidates, totalling 8 fits\n"
     ]
    },
    {
     "name": "stderr",
     "output_type": "stream",
     "text": [
      "[Parallel(n_jobs=-1)]: Done   2 out of   8 | elapsed:  3.4min remaining: 10.3min\n",
      "[Parallel(n_jobs=-1)]: Done   8 out of   8 | elapsed:  3.7min finished\n",
      "[Parallel(n_jobs=-1)]: Using backend LokyBackend with 8 concurrent workers.\n"
     ]
    },
    {
     "name": "stdout",
     "output_type": "stream",
     "text": [
      "Fitting 8 folds for each of 1 candidates, totalling 8 fits\n"
     ]
    },
    {
     "name": "stderr",
     "output_type": "stream",
     "text": [
      "[Parallel(n_jobs=-1)]: Done   2 out of   8 | elapsed:   47.6s remaining:  2.4min\n",
      "[Parallel(n_jobs=-1)]: Done   8 out of   8 | elapsed:   50.0s finished\n",
      "[Parallel(n_jobs=-1)]: Using backend LokyBackend with 8 concurrent workers.\n"
     ]
    },
    {
     "name": "stdout",
     "output_type": "stream",
     "text": [
      "Fitting 8 folds for each of 1 candidates, totalling 8 fits\n"
     ]
    },
    {
     "name": "stderr",
     "output_type": "stream",
     "text": [
      "[Parallel(n_jobs=-1)]: Done   2 out of   8 | elapsed:    8.3s remaining:   25.0s\n",
      "[Parallel(n_jobs=-1)]: Done   8 out of   8 | elapsed:    9.0s finished\n",
      "[Parallel(n_jobs=-1)]: Using backend LokyBackend with 8 concurrent workers.\n"
     ]
    },
    {
     "name": "stdout",
     "output_type": "stream",
     "text": [
      "Fitting 8 folds for each of 1 candidates, totalling 8 fits\n"
     ]
    },
    {
     "name": "stderr",
     "output_type": "stream",
     "text": [
      "[Parallel(n_jobs=-1)]: Done   2 out of   8 | elapsed:   49.8s remaining:  2.5min\n",
      "[Parallel(n_jobs=-1)]: Done   8 out of   8 | elapsed:   55.5s finished\n"
     ]
    },
    {
     "name": "stdout",
     "output_type": "stream",
     "text": [
      "\n",
      "Cross-validation score: 91.86\n",
      "Hold-out score: 80.17\n",
      "\n",
      "Best params: \n",
      "OrderedDict([('pandas_RF__bootstrap', True), ('pandas_RF__criterion', 'mae'), ('pandas_RF__max_depth', 22), ('pandas_RF__max_features', 'sqrt'), ('pandas_RF__min_samples_leaf', 1), ('pandas_RF__min_samples_split', 7), ('pandas_RF__n_estimators', 223)])\n"
     ]
    }
   ],
   "source": [
    "# Look at plotting callback - https://github.com/scikit-optimize/scikit-optimize/issues/576#issuecomment-507395129\n",
    "\n",
    "pipeline = Pipeline([\n",
    "    ('pandas_RF', utils.PandasRandomForestRegressor())\n",
    "])\n",
    "\n",
    "search_spaces = {\n",
    "        'pandas_RF__min_samples_leaf': Integer(1, 20, 'uniform'),\n",
    "        'pandas_RF__criterion': Categorical(['mse', 'mae']),\n",
    "        'pandas_RF__n_estimators': Integer(50, 250, 'uniform'),\n",
    "        'pandas_RF__max_features': Categorical(['auto', 'sqrt']),\n",
    "        'pandas_RF__max_depth': Integer(10, 50, 'uniform'),\n",
    "        'pandas_RF__min_samples_split': Integer(2, 10, 'uniform'),\n",
    "        'pandas_RF__min_samples_leaf': Integer(1, 4, 'uniform'),\n",
    "        'pandas_RF__bootstrap': Categorical([True, False])\n",
    "}\n",
    "\n",
    "opt = utils.BayesSearchCV(\n",
    "    pipeline,\n",
    "    search_spaces,\n",
    "    n_iter=5,\n",
    "    verbose=1,\n",
    "    cv=8, # 8 works well for me as that's how many concurrent workers I can use\n",
    "    scoring=peak_reduction_scorer,\n",
    "    n_jobs=-1\n",
    ")\n",
    "\n",
    "fit_BayesSearchCV = True\n",
    "\n",
    "if fit_BayesSearchCV == True:\n",
    "    opt.fit(discharge_x_train, discharge_y_train, groups=week_groups)\n",
    "\n",
    "    print(f'\\nCross-validation score: {opt.best_score_:.2f}')\n",
    "    print(f'Hold-out score: {opt.score(discharge_x_test, discharge_y_test):.2f}')\n",
    "    print(f'\\nBest params: \\n{opt.best_params_}')"
   ]
  },
  {
   "cell_type": "code",
   "execution_count": 22,
   "id": "alpha-quarterly",
   "metadata": {},
   "outputs": [],
   "source": [
    "# Cross-validation score: 91.20\n",
    "# Hold-out score: 80.95"
   ]
  },
  {
   "cell_type": "code",
   "execution_count": null,
   "id": "injured-grove",
   "metadata": {},
   "outputs": [],
   "source": []
  },
  {
   "cell_type": "markdown",
   "id": "raised-crazy",
   "metadata": {},
   "source": [
    "<br>\n",
    "\n",
    "Finally we'll export the relevant code to our `batopt` module"
   ]
  },
  {
   "cell_type": "code",
   "execution_count": 23,
   "id": "potential-metro",
   "metadata": {},
   "outputs": [
    {
     "name": "stdout",
     "output_type": "stream",
     "text": [
      "Converted 00-utilities.ipynb.\n",
      "Converted 01-cleaning.ipynb.\n",
      "Converted 02-discharging.ipynb.\n",
      "Converted 03-charging.ipynb.\n",
      "Converted 04-constraints.ipynb.\n",
      "Converted 05-tuning.ipynb.\n",
      "Converted 06-pipeline.ipynb.\n",
      "Converted 07-charging-nn.ipynb.\n",
      "Converted 08-similar-days.ipynb.\n"
     ]
    }
   ],
   "source": [
    "#hide\n",
    "from nbdev.export import notebook2script\n",
    "    \n",
    "notebook2script()"
   ]
  }
 ],
 "metadata": {
  "kernelspec": {
   "display_name": "batopt",
   "language": "python",
   "name": "batopt"
  },
  "language_info": {
   "codemirror_mode": {
    "name": "ipython",
    "version": 3
   },
   "file_extension": ".py",
   "mimetype": "text/x-python",
   "name": "python",
   "nbconvert_exporter": "python",
   "pygments_lexer": "ipython3",
   "version": "3.9.1"
  }
 },
 "nbformat": 4,
 "nbformat_minor": 5
}
