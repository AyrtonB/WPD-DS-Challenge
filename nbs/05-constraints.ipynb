{
 "cells": [
  {
   "cell_type": "code",
   "execution_count": null,
   "id": "controlling-vertical",
   "metadata": {},
   "outputs": [],
   "source": [
    "#default_exp constraints"
   ]
  },
  {
   "cell_type": "markdown",
   "id": "removed-sheffield",
   "metadata": {},
   "source": [
    "# Battery Constraints\n",
    "\n",
    "The solution must meet constraints of the battery:\n",
    "\n",
    "- Must only charge between 00:00-15:30\n",
    "- Must only discharge between 15:30--21:00\n",
    "- Must not charge or discharge between 21:00--00:00\n",
    "- Battery must be empty at 00:00 each day\n",
    "\n",
    "<br>\n",
    "\n",
    "### Imports"
   ]
  },
  {
   "cell_type": "code",
   "execution_count": null,
   "id": "relative-omega",
   "metadata": {},
   "outputs": [],
   "source": [
    "#exports\n",
    "import numpy as np\n",
    "import pandas as pd"
   ]
  },
  {
   "cell_type": "markdown",
   "id": "joint-canon",
   "metadata": {},
   "source": [
    "<br>\n",
    "\n",
    "### Loading an Example Charging Rate Profile"
   ]
  },
  {
   "cell_type": "code",
   "execution_count": null,
   "id": "thousand-screening",
   "metadata": {},
   "outputs": [
    {
     "data": {
      "text/plain": [
       "datetime\n",
       "2018-07-23 00:00:00+00:00    0.0\n",
       "2018-07-23 00:30:00+00:00    0.0\n",
       "2018-07-23 01:00:00+00:00    0.0\n",
       "2018-07-23 01:30:00+00:00    0.0\n",
       "2018-07-23 02:00:00+00:00    0.0\n",
       "Name: charge_MW, dtype: float64"
      ]
     },
     "execution_count": null,
     "metadata": {},
     "output_type": "execute_result"
    }
   ],
   "source": [
    "df_charge_rate = pd.read_csv('../data/output/latest_submission.csv')\n",
    "\n",
    "s_charge_rate = df_charge_rate.set_index('datetime')['charge_MW']\n",
    "s_charge_rate.index = pd.to_datetime(s_charge_rate.index)\n",
    "\n",
    "s_charge_rate.head()"
   ]
  },
  {
   "cell_type": "markdown",
   "id": "massive-invitation",
   "metadata": {},
   "source": [
    "<br>\n",
    "\n",
    "### Checking for Nulls\n",
    "\n",
    "Before we start doing anything clever we'll do a simple check for null values"
   ]
  },
  {
   "cell_type": "code",
   "execution_count": null,
   "id": "elementary-newfoundland",
   "metadata": {},
   "outputs": [],
   "source": [
    "#exports\n",
    "def check_for_nulls(s_charge_rate):\n",
    "    assert s_charge_rate.isnull().sum()==0, 'There are null values in the charge rate time-series'"
   ]
  },
  {
   "cell_type": "code",
   "execution_count": null,
   "id": "vocal-saturn",
   "metadata": {},
   "outputs": [],
   "source": [
    "check_for_nulls(s_charge_rate)"
   ]
  },
  {
   "cell_type": "markdown",
   "id": "funky-stanley",
   "metadata": {},
   "source": [
    "<br>\n",
    "\n",
    "### Converting a charging schedule to capacity\n",
    "\n",
    "The solution is given in terms of the battery charge/discharge schedule, but it is also necessary to satisfy constraints on the capacity of the battery (see below). \n",
    "\n",
    "The charge is determined by $C_{t+1} = C_{t} + 0.5B_{t}$\n",
    "\n",
    "We'll start by generating the charge state time-series"
   ]
  },
  {
   "cell_type": "code",
   "execution_count": null,
   "id": "emotional-overall",
   "metadata": {},
   "outputs": [],
   "source": [
    "#exports\n",
    "def construct_charge_state_s(s_charge_rate: pd.Series, time_unit: float=0.5) -> pd.Series:\n",
    "    s_charge_state = (s_charge_rate\n",
    "                      .cumsum()\n",
    "                      .divide(1/time_unit)\n",
    "                     )\n",
    "    \n",
    "    return s_charge_state"
   ]
  },
  {
   "cell_type": "code",
   "execution_count": null,
   "id": "overhead-longer",
   "metadata": {},
   "outputs": [
    {
     "data": {
      "text/plain": [
       "<AxesSubplot:xlabel='datetime'>"
      ]
     },
     "execution_count": null,
     "metadata": {},
     "output_type": "execute_result"
    },
    {
     "data": {
      "image/png": "[encoded data removed]",
      "text/plain": [
       "<Figure size 432x288 with 1 Axes>"
      ]
     },
     "metadata": {
      "needs_background": "light"
     },
     "output_type": "display_data"
    }
   ],
   "source": [
    "s_charge_state = construct_charge_state_s(s_charge_rate)\n",
    "\n",
    "s_charge_state.plot()"
   ]
  },
  {
   "cell_type": "markdown",
   "id": "conceptual-wonder",
   "metadata": {},
   "source": [
    "<br>\n",
    "\n",
    "### Checking Capacity Constraints\n",
    "\n",
    "$0 \\leq C \\leq C_{max}$\n",
    "\n",
    "We'll confirm that the bounds of the values in the charging time-series do not fall outside of the 0-6 MWh capacity of the battery"
   ]
  },
  {
   "cell_type": "code",
   "execution_count": null,
   "id": "electrical-class",
   "metadata": {},
   "outputs": [],
   "source": [
    "#exports\n",
    "doesnt_exceed_charge_state_min = lambda s_charge_state, min_charge=0: (s_charge_state.round(10)<min_charge).sum()==0\n",
    "doesnt_exceed_charge_state_max = lambda s_charge_state, max_charge=6: (s_charge_state.round(10)>max_charge).sum()==0\n",
    "\n",
    "def check_capacity_constraints(s_charge_state, min_charge=0, max_charge=6):\n",
    "    assert doesnt_exceed_charge_state_min(s_charge_state, min_charge), 'The state of charge falls below 0 MWh which is beyond the bounds of possibility'\n",
    "    assert doesnt_exceed_charge_state_max(s_charge_state, max_charge), 'The state of charge exceeds the 6 MWh capacity'\n",
    "    \n",
    "    return"
   ]
  },
  {
   "cell_type": "code",
   "execution_count": null,
   "id": "specific-reliance",
   "metadata": {},
   "outputs": [],
   "source": [
    "check_capacity_constraints(s_charge_state)"
   ]
  },
  {
   "cell_type": "markdown",
   "id": "infrared-option",
   "metadata": {},
   "source": [
    "<br>\n",
    "\n",
    "### Checking Full Utilisation\n",
    "\n",
    "We'll also check that the battery falls to 0 MWh and rises to 6 MWh each day"
   ]
  },
  {
   "cell_type": "code",
   "execution_count": null,
   "id": "starting-deployment",
   "metadata": {},
   "outputs": [],
   "source": [
    "#exports\n",
    "check_all_values_equal = lambda s, value=0: (s==0).mean()==1\n",
    "\n",
    "charge_state_always_drops_to_0MWh = lambda s_charge_state, min_charge=0: s_charge_state.groupby(s_charge_state.index.date).min().round(10).pipe(check_all_values_equal, min_charge)\n",
    "charge_state_always_gets_to_6MWh = lambda s_charge_state, max_charge=6: s_charge_state.groupby(s_charge_state.index.date).min().round(10).pipe(check_all_values_equal, max_charge)\n",
    "\n",
    "def check_full_utilisation(s_charge_state, min_charge=0, max_charge=6):\n",
    "    assert charge_state_always_drops_to_0MWh(s_charge_state, min_charge), 'The state of charge does not always drop to 0 MWh each day'\n",
    "    assert charge_state_always_gets_to_6MWh(s_charge_state, max_charge), 'The state of charge does not always rise to 6 MWh each day'\n",
    "    \n",
    "    return "
   ]
  },
  {
   "cell_type": "code",
   "execution_count": null,
   "id": "sweet-audio",
   "metadata": {},
   "outputs": [],
   "source": [
    "check_full_utilisation(s_charge_state)"
   ]
  },
  {
   "cell_type": "markdown",
   "id": "accessible-bride",
   "metadata": {},
   "source": [
    "<br>\n",
    "\n",
    "### Checking Charge Rates\n",
    "\n",
    "$B_{min} \\leq B \\leq B_{max}$ \n",
    "\n",
    "We'll then check that the minimum and maximum rates fall inside the -2.5 - 2.5 MW allowed by the battery"
   ]
  },
  {
   "cell_type": "code",
   "execution_count": null,
   "id": "expired-stranger",
   "metadata": {},
   "outputs": [],
   "source": [
    "#exports\n",
    "doesnt_exceed_charge_rate_min = lambda s_charge_rate, min_rate=-2.5: (s_charge_rate.round(10)<min_rate).sum()==0\n",
    "doesnt_exceed_charge_rate_max = lambda s_charge_rate, max_rate=2.5: (s_charge_rate.round(10)>max_rate).sum()==0\n",
    "\n",
    "def check_rate_constraints(s_charge_rate, min_rate=-2.5, max_rate=2.5):\n",
    "    assert doesnt_exceed_charge_rate_min(s_charge_rate, min_rate), 'The rate of charge falls below -2.5 MW limit'\n",
    "    assert doesnt_exceed_charge_rate_max(s_charge_rate, max_rate), 'The rate of charge exceeds the 2.5 MW limit'\n",
    "    \n",
    "    return"
   ]
  },
  {
   "cell_type": "code",
   "execution_count": null,
   "id": "statewide-riding",
   "metadata": {},
   "outputs": [],
   "source": [
    "check_rate_constraints(s_charge_rate)"
   ]
  },
  {
   "cell_type": "markdown",
   "id": "waiting-general",
   "metadata": {},
   "source": [
    "<br>\n",
    "\n",
    "### Checking Charge/Discharge/Inactive Periods\n",
    "\n",
    "We can only charge the battery between periods 1 (00:00) and 31 (15:00) inclusive, and discharge between periods 32 (15:30) and 42 (20:30) inclusive. For periods 43 to 48, there should be no activity, and the day must start with $C=0$. "
   ]
  },
  {
   "cell_type": "code",
   "execution_count": null,
   "id": "drawn-alabama",
   "metadata": {},
   "outputs": [],
   "source": [
    "#exports\n",
    "charge_is_0_at_midnight = lambda s_charge_state: (s_charge_state.between_time('23:30', '23:59').round(10)==0).mean()==1\n",
    "all_charge_periods_charge = lambda s_charge_rate, charge_times=('00:00', '15:00'): (s_charge_rate.between_time(charge_times[0], charge_times[1]).round(10) >= 0).mean() == 1\n",
    "all_discharge_periods_discharge = lambda s_charge_rate, discharge_times=('15:30', '20:30'): (s_charge_rate.between_time(discharge_times[0], discharge_times[1]).round(10) <= 0).mean() == 1\n",
    "all_inactive_periods_do_nothing = lambda s_charge_rate, inactive_times=('21:00', '23:30'): (s_charge_rate.between_time(inactive_times[0], inactive_times[1]).round(10) == 0).mean() == 1\n",
    "\n",
    "def check_charging_patterns(s_charge_rate, s_charge_state, charge_times=('00:00', '15:00'), discharge_times=('15:30', '20:30'), inactive_times=('21:00', '23:30')):\n",
    "    assert charge_is_0_at_midnight(s_charge_state), 'The battery is not always at 0 MWh at midnight'\n",
    "    assert all_charge_periods_charge(s_charge_rate, charge_times), 'Some of the periods which should only be charging are instead discharging'\n",
    "    assert all_discharge_periods_discharge(s_charge_rate, discharge_times), 'Some of the periods which should only be discharging are instead charging'\n",
    "    assert all_inactive_periods_do_nothing(s_charge_rate, inactive_times), 'Some of the periods which should be doing nothing are instead charging/discharging'\n",
    "    \n",
    "    return"
   ]
  },
  {
   "cell_type": "code",
   "execution_count": null,
   "id": "hearing-movement",
   "metadata": {},
   "outputs": [],
   "source": [
    "check_charging_patterns(s_charge_rate, s_charge_state)"
   ]
  },
  {
   "cell_type": "code",
   "execution_count": null,
   "id": "standing-crazy",
   "metadata": {},
   "outputs": [],
   "source": []
  },
  {
   "cell_type": "code",
   "execution_count": null,
   "id": "composed-packing",
   "metadata": {},
   "outputs": [],
   "source": [
    "#exports\n",
    "def schedule_is_legal(s_charge_rate, time_unit=0.5, \n",
    "                      min_rate=-2.5, max_rate=2.5, \n",
    "                      min_charge=0, max_charge=6, \n",
    "                      charge_times=('00:00', '15:00'), \n",
    "                      discharge_times=('15:30', '20:30'),\n",
    "                      inactive_times=('21:00', '23:30')):\n",
    "    \"\"\"\n",
    "    Determine if a battery schedule meets the specified constraints\n",
    "    \"\"\"\n",
    "    \n",
    "    check_for_nulls(s_charge_rate)\n",
    "    s_charge_state = construct_charge_state_s(s_charge_rate, time_unit)\n",
    "    \n",
    "    check_capacity_constraints(s_charge_state, min_charge, max_charge)\n",
    "    check_full_utilisation(s_charge_state, min_charge, max_charge)\n",
    "    check_rate_constraints(s_charge_rate, min_rate, max_rate)\n",
    "    check_charging_patterns(s_charge_rate, s_charge_state, charge_times, discharge_times, inactive_times)\n",
    "    \n",
    "    return True"
   ]
  },
  {
   "cell_type": "code",
   "execution_count": null,
   "id": "canadian-prospect",
   "metadata": {},
   "outputs": [
    {
     "data": {
      "text/plain": [
       "True"
      ]
     },
     "execution_count": null,
     "metadata": {},
     "output_type": "execute_result"
    }
   ],
   "source": [
    "schedule_is_legal(s_charge_rate)"
   ]
  },
  {
   "cell_type": "markdown",
   "id": "outstanding-soviet",
   "metadata": {},
   "source": [
    "<br>\n",
    "\n",
    "Finally we'll export the relevant code to our `batopt` module"
   ]
  },
  {
   "cell_type": "code",
   "execution_count": null,
   "id": "measured-lebanon",
   "metadata": {},
   "outputs": [
    {
     "name": "stdout",
     "output_type": "stream",
     "text": [
      "Converted 00-utilities.ipynb.\n",
      "Converted 01-cleaning.ipynb.\n",
      "Converted 02-discharging.ipynb.\n",
      "Converted 03-charging.ipynb.\n",
      "Converted 04-constraints.ipynb.\n",
      "Converted 05-pipeline.ipynb.\n"
     ]
    }
   ],
   "source": [
    "#hide\n",
    "from nbdev.export import notebook2script\n",
    "    \n",
    "notebook2script()"
   ]
  }
 ],
 "metadata": {
  "kernelspec": {
   "display_name": "batopt",
   "language": "python",
   "name": "batopt"
  }
 },
 "nbformat": 4,
 "nbformat_minor": 5
}
