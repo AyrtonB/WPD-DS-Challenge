{
 "cells": [
  {
   "cell_type": "code",
   "execution_count": 1,
   "id": "dramatic-seventh",
   "metadata": {},
   "outputs": [],
   "source": [
    "#default_exp christmas"
   ]
  },
  {
   "cell_type": "markdown",
   "id": "focal-cincinnati",
   "metadata": {},
   "source": [
    "# Christmas\n",
    "\n",
    "This notebook includes the EDA used in determining whether to switch to a similar days method for the Christmas submission instead of the previous supervised learning approach.\n",
    "\n",
    "*Spoiler*: The outputs were almost identical so we opted to keep the same approach used in other weeks for consistency.\n",
    "\n",
    "<br>\n",
    "\n",
    "### Imports"
   ]
  },
  {
   "cell_type": "code",
   "execution_count": 2,
   "id": "logical-sweden",
   "metadata": {},
   "outputs": [],
   "source": [
    "#exports\n",
    "import numpy as np\n",
    "import pandas as pd\n",
    "\n",
    "import os\n",
    "from sklearn.ensemble import RandomForestRegressor\n",
    "\n",
    "from batopt import clean, discharge, charge, constraints, pv"
   ]
  },
  {
   "cell_type": "code",
   "execution_count": 3,
   "id": "imperial-softball",
   "metadata": {},
   "outputs": [],
   "source": [
    "import FEAutils as hlp\n",
    "import matplotlib.pyplot as plt"
   ]
  },
  {
   "cell_type": "markdown",
   "id": "satellite-internship",
   "metadata": {},
   "source": [
    "<br>\n",
    "\n",
    "### User Inputs"
   ]
  },
  {
   "cell_type": "code",
   "execution_count": 4,
   "id": "specific-premises",
   "metadata": {},
   "outputs": [],
   "source": [
    "raw_data_dir = '../data/raw'\n",
    "intermediate_data_dir = '../data/intermediate'"
   ]
  },
  {
   "cell_type": "markdown",
   "id": "through-enlargement",
   "metadata": {},
   "source": [
    "<br>\n",
    "\n",
    "### Christmas Model EDA\n",
    "\n",
    "We'll start by loading in the combined training dataset"
   ]
  },
  {
   "cell_type": "code",
   "execution_count": 5,
   "id": "dietary-healing",
   "metadata": {},
   "outputs": [
    {
     "data": {
      "text/html": [
       "<div>\n",
       "<style scoped>\n",
       "    .dataframe tbody tr th:only-of-type {\n",
       "        vertical-align: middle;\n",
       "    }\n",
       "\n",
       "    .dataframe tbody tr th {\n",
       "        vertical-align: top;\n",
       "    }\n",
       "\n",
       "    .dataframe thead th {\n",
       "        text-align: right;\n",
       "    }\n",
       "</style>\n",
       "<table border=\"1\" class=\"dataframe\">\n",
       "  <thead>\n",
       "    <tr style=\"text-align: right;\">\n",
       "      <th></th>\n",
       "      <th>demand</th>\n",
       "      <th>pv</th>\n",
       "      <th>weather</th>\n",
       "      <th>demand_MW</th>\n",
       "      <th>irradiance_Wm-2</th>\n",
       "      <th>panel_temp_C</th>\n",
       "      <th>pv_power_mw</th>\n",
       "      <th>solar_location1</th>\n",
       "      <th>solar_location2</th>\n",
       "      <th>solar_location3</th>\n",
       "      <th>solar_location4</th>\n",
       "      <th>solar_location5</th>\n",
       "      <th>solar_location6</th>\n",
       "      <th>temp_location1</th>\n",
       "      <th>temp_location2</th>\n",
       "      <th>temp_location3</th>\n",
       "      <th>temp_location4</th>\n",
       "      <th>temp_location5</th>\n",
       "      <th>temp_location6</th>\n",
       "      <th>holidays</th>\n",
       "    </tr>\n",
       "  </thead>\n",
       "  <tbody>\n",
       "    <tr>\n",
       "      <th>2015-01-01 00:00:00+00:00</th>\n",
       "      <td>NaN</td>\n",
       "      <td>NaN</td>\n",
       "      <td>NaN</td>\n",
       "      <td>NaN</td>\n",
       "      <td>NaN</td>\n",
       "      <td>NaN</td>\n",
       "      <td>NaN</td>\n",
       "      <td>0.0</td>\n",
       "      <td>0.0</td>\n",
       "      <td>0.0</td>\n",
       "      <td>0.0</td>\n",
       "      <td>0.0</td>\n",
       "      <td>0.0</td>\n",
       "      <td>9.75</td>\n",
       "      <td>9.650</td>\n",
       "      <td>8.830</td>\n",
       "      <td>7.580</td>\n",
       "      <td>11.620</td>\n",
       "      <td>11.22</td>\n",
       "      <td>NaN</td>\n",
       "    </tr>\n",
       "    <tr>\n",
       "      <th>2015-01-01 00:30:00+00:00</th>\n",
       "      <td>NaN</td>\n",
       "      <td>NaN</td>\n",
       "      <td>NaN</td>\n",
       "      <td>NaN</td>\n",
       "      <td>NaN</td>\n",
       "      <td>NaN</td>\n",
       "      <td>NaN</td>\n",
       "      <td>0.0</td>\n",
       "      <td>0.0</td>\n",
       "      <td>0.0</td>\n",
       "      <td>0.0</td>\n",
       "      <td>0.0</td>\n",
       "      <td>0.0</td>\n",
       "      <td>9.83</td>\n",
       "      <td>9.705</td>\n",
       "      <td>8.865</td>\n",
       "      <td>7.600</td>\n",
       "      <td>11.635</td>\n",
       "      <td>11.27</td>\n",
       "      <td>NaN</td>\n",
       "    </tr>\n",
       "    <tr>\n",
       "      <th>2015-01-01 01:00:00+00:00</th>\n",
       "      <td>NaN</td>\n",
       "      <td>NaN</td>\n",
       "      <td>NaN</td>\n",
       "      <td>NaN</td>\n",
       "      <td>NaN</td>\n",
       "      <td>NaN</td>\n",
       "      <td>NaN</td>\n",
       "      <td>0.0</td>\n",
       "      <td>0.0</td>\n",
       "      <td>0.0</td>\n",
       "      <td>0.0</td>\n",
       "      <td>0.0</td>\n",
       "      <td>0.0</td>\n",
       "      <td>9.91</td>\n",
       "      <td>9.760</td>\n",
       "      <td>8.900</td>\n",
       "      <td>7.620</td>\n",
       "      <td>11.650</td>\n",
       "      <td>11.32</td>\n",
       "      <td>NaN</td>\n",
       "    </tr>\n",
       "    <tr>\n",
       "      <th>2015-01-01 01:30:00+00:00</th>\n",
       "      <td>NaN</td>\n",
       "      <td>NaN</td>\n",
       "      <td>NaN</td>\n",
       "      <td>NaN</td>\n",
       "      <td>NaN</td>\n",
       "      <td>NaN</td>\n",
       "      <td>NaN</td>\n",
       "      <td>0.0</td>\n",
       "      <td>0.0</td>\n",
       "      <td>0.0</td>\n",
       "      <td>0.0</td>\n",
       "      <td>0.0</td>\n",
       "      <td>0.0</td>\n",
       "      <td>9.95</td>\n",
       "      <td>9.780</td>\n",
       "      <td>9.000</td>\n",
       "      <td>7.615</td>\n",
       "      <td>11.650</td>\n",
       "      <td>11.31</td>\n",
       "      <td>NaN</td>\n",
       "    </tr>\n",
       "    <tr>\n",
       "      <th>2015-01-01 02:00:00+00:00</th>\n",
       "      <td>NaN</td>\n",
       "      <td>NaN</td>\n",
       "      <td>NaN</td>\n",
       "      <td>NaN</td>\n",
       "      <td>NaN</td>\n",
       "      <td>NaN</td>\n",
       "      <td>NaN</td>\n",
       "      <td>0.0</td>\n",
       "      <td>0.0</td>\n",
       "      <td>0.0</td>\n",
       "      <td>0.0</td>\n",
       "      <td>0.0</td>\n",
       "      <td>0.0</td>\n",
       "      <td>9.99</td>\n",
       "      <td>9.800</td>\n",
       "      <td>9.100</td>\n",
       "      <td>7.610</td>\n",
       "      <td>11.650</td>\n",
       "      <td>11.30</td>\n",
       "      <td>NaN</td>\n",
       "    </tr>\n",
       "  </tbody>\n",
       "</table>\n",
       "</div>"
      ],
      "text/plain": [
       "                          demand   pv weather  demand_MW  irradiance_Wm-2  \\\n",
       "2015-01-01 00:00:00+00:00    NaN  NaN     NaN        NaN              NaN   \n",
       "2015-01-01 00:30:00+00:00    NaN  NaN     NaN        NaN              NaN   \n",
       "2015-01-01 01:00:00+00:00    NaN  NaN     NaN        NaN              NaN   \n",
       "2015-01-01 01:30:00+00:00    NaN  NaN     NaN        NaN              NaN   \n",
       "2015-01-01 02:00:00+00:00    NaN  NaN     NaN        NaN              NaN   \n",
       "\n",
       "                           panel_temp_C  pv_power_mw  solar_location1  \\\n",
       "2015-01-01 00:00:00+00:00           NaN          NaN              0.0   \n",
       "2015-01-01 00:30:00+00:00           NaN          NaN              0.0   \n",
       "2015-01-01 01:00:00+00:00           NaN          NaN              0.0   \n",
       "2015-01-01 01:30:00+00:00           NaN          NaN              0.0   \n",
       "2015-01-01 02:00:00+00:00           NaN          NaN              0.0   \n",
       "\n",
       "                           solar_location2  solar_location3  solar_location4  \\\n",
       "2015-01-01 00:00:00+00:00              0.0              0.0              0.0   \n",
       "2015-01-01 00:30:00+00:00              0.0              0.0              0.0   \n",
       "2015-01-01 01:00:00+00:00              0.0              0.0              0.0   \n",
       "2015-01-01 01:30:00+00:00              0.0              0.0              0.0   \n",
       "2015-01-01 02:00:00+00:00              0.0              0.0              0.0   \n",
       "\n",
       "                           solar_location5  solar_location6  temp_location1  \\\n",
       "2015-01-01 00:00:00+00:00              0.0              0.0            9.75   \n",
       "2015-01-01 00:30:00+00:00              0.0              0.0            9.83   \n",
       "2015-01-01 01:00:00+00:00              0.0              0.0            9.91   \n",
       "2015-01-01 01:30:00+00:00              0.0              0.0            9.95   \n",
       "2015-01-01 02:00:00+00:00              0.0              0.0            9.99   \n",
       "\n",
       "                           temp_location2  temp_location3  temp_location4  \\\n",
       "2015-01-01 00:00:00+00:00           9.650           8.830           7.580   \n",
       "2015-01-01 00:30:00+00:00           9.705           8.865           7.600   \n",
       "2015-01-01 01:00:00+00:00           9.760           8.900           7.620   \n",
       "2015-01-01 01:30:00+00:00           9.780           9.000           7.615   \n",
       "2015-01-01 02:00:00+00:00           9.800           9.100           7.610   \n",
       "\n",
       "                           temp_location5  temp_location6  holidays  \n",
       "2015-01-01 00:00:00+00:00          11.620           11.22       NaN  \n",
       "2015-01-01 00:30:00+00:00          11.635           11.27       NaN  \n",
       "2015-01-01 01:00:00+00:00          11.650           11.32       NaN  \n",
       "2015-01-01 01:30:00+00:00          11.650           11.31       NaN  \n",
       "2015-01-01 02:00:00+00:00          11.650           11.30       NaN  "
      ]
     },
     "execution_count": 5,
     "metadata": {},
     "output_type": "execute_result"
    }
   ],
   "source": [
    "df = clean.combine_training_datasets(intermediate_data_dir).interpolate(limit=1)\n",
    "\n",
    "df.head()"
   ]
  },
  {
   "cell_type": "markdown",
   "id": "paperback-perception",
   "metadata": {},
   "source": [
    "<br>\n",
    "\n",
    "We'll now create our charge/discharge baseline for 2018"
   ]
  },
  {
   "cell_type": "code",
   "execution_count": 8,
   "id": "impossible-archives",
   "metadata": {},
   "outputs": [
    {
     "data": {
      "text/plain": [
       "<AxesSubplot:>"
      ]
     },
     "execution_count": 8,
     "metadata": {},
     "output_type": "execute_result"
    },
    {
     "data": {
      "image/png": "[encoded data removed]",
      "text/plain": [
       "<Figure size 432x288 with 1 Axes>"
      ]
     },
     "metadata": {
      "needs_background": "light"
     },
     "output_type": "display_data"
    }
   ],
   "source": [
    "test_start_date = '2018-12-18'\n",
    "test_end_date = '2018-12-24 23:59'\n",
    "\n",
    "discharge_opt_model_fp = '../models/discharge_opt.sav'\n",
    "pv_model_fp = '../models/pv_model.sav'\n",
    "\n",
    "model_params = {\n",
    "    'criterion': 'mse',\n",
    "    'bootstrap': True,\n",
    "    'max_depth': 32,\n",
    "    'max_features': 'auto',\n",
    "    'min_samples_leaf': 1,\n",
    "    'min_samples_split': 4,\n",
    "    'n_estimators': 74  \n",
    "}\n",
    "\n",
    "X, y = pv.prepare_training_input_data(intermediate_data_dir)\n",
    "\n",
    "if test_start_date is not None and test_end_date is not None:\n",
    "    pred_index = X[test_start_date:test_end_date].index\n",
    "    X = X.drop(pred_index)\n",
    "    y = y.drop(pred_index)\n",
    "\n",
    "pv.fit_and_save_pv_model(X, y, pv_model_fp, model_class=RandomForestRegressor, **model_params)\n",
    "\n",
    "s_charge_profile = pv.optimise_test_charge_profile(raw_data_dir, intermediate_data_dir, pv_model_fp, test_start_date=test_start_date, test_end_date=test_end_date)\n",
    "s_discharge_profile = discharge.optimise_test_discharge_profile(raw_data_dir, intermediate_data_dir, discharge_opt_model_fp, test_start_date=test_start_date, test_end_date=test_end_date)\n",
    "\n",
    "s_battery_profile = (s_charge_profile + s_discharge_profile).fillna(0)\n",
    "s_battery_profile.name = 'charge_MW'\n",
    "\n",
    "s_battery_profile.plot()"
   ]
  },
  {
   "cell_type": "markdown",
   "id": "forward-expense",
   "metadata": {},
   "source": [
    "<br>\n",
    "\n",
    "As well as the current year we're meant to be forecasting"
   ]
  },
  {
   "cell_type": "code",
   "execution_count": 9,
   "id": "double-discrimination",
   "metadata": {
    "collapsed": true,
    "jupyter": {
     "outputs_hidden": true
    },
    "tags": []
   },
   "outputs": [
    {
     "ename": "KeyError",
     "evalue": "\"None of [DatetimeIndex(['2020-07-03 00:00:00+00:00', '2020-07-03 00:30:00+00:00',\\n               '2020-07-03 01:00:00+00:00', '2020-07-03 01:30:00+00:00',\\n               '2020-07-03 02:00:00+00:00', '2020-07-03 02:30:00+00:00',\\n               '2020-07-03 03:00:00+00:00', '2020-07-03 03:30:00+00:00',\\n               '2020-07-03 04:00:00+00:00', '2020-07-03 04:30:00+00:00',\\n               ...\\n               '2020-07-09 19:00:00+00:00', '2020-07-09 19:30:00+00:00',\\n               '2020-07-09 20:00:00+00:00', '2020-07-09 20:30:00+00:00',\\n               '2020-07-09 21:00:00+00:00', '2020-07-09 21:30:00+00:00',\\n               '2020-07-09 22:00:00+00:00', '2020-07-09 22:30:00+00:00',\\n               '2020-07-09 23:00:00+00:00', '2020-07-09 23:30:00+00:00'],\\n              dtype='datetime64[ns, UTC]', name='datetime', length=336, freq=None)] are in the [index]\"",
     "output_type": "error",
     "traceback": [
      "\u001b[1;31m---------------------------------------------------------------------------\u001b[0m",
      "\u001b[1;31mKeyError\u001b[0m                                  Traceback (most recent call last)",
      "\u001b[1;32m<ipython-input-9-81823d82d537>\u001b[0m in \u001b[0;36m<module>\u001b[1;34m\u001b[0m\n\u001b[0;32m     24\u001b[0m \u001b[0mpv\u001b[0m\u001b[1;33m.\u001b[0m\u001b[0mfit_and_save_pv_model\u001b[0m\u001b[1;33m(\u001b[0m\u001b[0mX\u001b[0m\u001b[1;33m,\u001b[0m \u001b[0my\u001b[0m\u001b[1;33m,\u001b[0m \u001b[0mpv_model_fp\u001b[0m\u001b[1;33m,\u001b[0m \u001b[0mmodel_class\u001b[0m\u001b[1;33m=\u001b[0m\u001b[0mRandomForestRegressor\u001b[0m\u001b[1;33m,\u001b[0m \u001b[1;33m**\u001b[0m\u001b[0mmodel_params\u001b[0m\u001b[1;33m)\u001b[0m\u001b[1;33m\u001b[0m\u001b[1;33m\u001b[0m\u001b[0m\n\u001b[0;32m     25\u001b[0m \u001b[1;33m\u001b[0m\u001b[0m\n\u001b[1;32m---> 26\u001b[1;33m \u001b[0ms_charge_profile\u001b[0m \u001b[1;33m=\u001b[0m \u001b[0mpv\u001b[0m\u001b[1;33m.\u001b[0m\u001b[0moptimise_test_charge_profile\u001b[0m\u001b[1;33m(\u001b[0m\u001b[0mraw_data_dir\u001b[0m\u001b[1;33m,\u001b[0m \u001b[0mintermediate_data_dir\u001b[0m\u001b[1;33m,\u001b[0m \u001b[0mpv_model_fp\u001b[0m\u001b[1;33m,\u001b[0m \u001b[0mtest_start_date\u001b[0m\u001b[1;33m=\u001b[0m\u001b[0mtest_start_date\u001b[0m\u001b[1;33m,\u001b[0m \u001b[0mtest_end_date\u001b[0m\u001b[1;33m=\u001b[0m\u001b[0mtest_end_date\u001b[0m\u001b[1;33m)\u001b[0m\u001b[1;33m\u001b[0m\u001b[1;33m\u001b[0m\u001b[0m\n\u001b[0m\u001b[0;32m     27\u001b[0m \u001b[0ms_discharge_profile\u001b[0m \u001b[1;33m=\u001b[0m \u001b[0mdischarge\u001b[0m\u001b[1;33m.\u001b[0m\u001b[0moptimise_test_discharge_profile\u001b[0m\u001b[1;33m(\u001b[0m\u001b[0mraw_data_dir\u001b[0m\u001b[1;33m,\u001b[0m \u001b[0mintermediate_data_dir\u001b[0m\u001b[1;33m,\u001b[0m \u001b[0mdischarge_opt_model_fp\u001b[0m\u001b[1;33m,\u001b[0m \u001b[0mtest_start_date\u001b[0m\u001b[1;33m=\u001b[0m\u001b[0mtest_start_date\u001b[0m\u001b[1;33m,\u001b[0m \u001b[0mtest_end_date\u001b[0m\u001b[1;33m=\u001b[0m\u001b[0mtest_end_date\u001b[0m\u001b[1;33m)\u001b[0m\u001b[1;33m\u001b[0m\u001b[1;33m\u001b[0m\u001b[0m\n\u001b[0;32m     28\u001b[0m \u001b[1;33m\u001b[0m\u001b[0m\n",
      "\u001b[1;32mc:\\users\\ayrto\\desktop\\hackathons\\wpd-ds-challenge\\batopt\\pv.py\u001b[0m in \u001b[0;36moptimise_test_charge_profile\u001b[1;34m(raw_data_dir, intermediate_data_dir, pv_model_fp, test_start_date, test_end_date, start_time, end_time)\u001b[0m\n\u001b[0;32m    142\u001b[0m \u001b[1;31m# Cell\u001b[0m\u001b[1;33m\u001b[0m\u001b[1;33m\u001b[0m\u001b[1;33m\u001b[0m\u001b[0m\n\u001b[0;32m    143\u001b[0m \u001b[1;32mdef\u001b[0m \u001b[0moptimise_test_charge_profile\u001b[0m\u001b[1;33m(\u001b[0m\u001b[0mraw_data_dir\u001b[0m\u001b[1;33m,\u001b[0m \u001b[0mintermediate_data_dir\u001b[0m\u001b[1;33m,\u001b[0m \u001b[0mpv_model_fp\u001b[0m\u001b[1;33m,\u001b[0m \u001b[0mtest_start_date\u001b[0m\u001b[1;33m=\u001b[0m\u001b[1;32mNone\u001b[0m\u001b[1;33m,\u001b[0m \u001b[0mtest_end_date\u001b[0m\u001b[1;33m=\u001b[0m\u001b[1;32mNone\u001b[0m\u001b[1;33m,\u001b[0m \u001b[0mstart_time\u001b[0m\u001b[1;33m=\u001b[0m\u001b[1;34m'08:00'\u001b[0m\u001b[1;33m,\u001b[0m \u001b[0mend_time\u001b[0m\u001b[1;33m=\u001b[0m\u001b[1;34m'23:59'\u001b[0m\u001b[1;33m)\u001b[0m\u001b[1;33m:\u001b[0m\u001b[1;33m\u001b[0m\u001b[1;33m\u001b[0m\u001b[0m\n\u001b[1;32m--> 144\u001b[1;33m     \u001b[0mdf_features\u001b[0m \u001b[1;33m=\u001b[0m \u001b[0mcharge\u001b[0m\u001b[1;33m.\u001b[0m\u001b[0mprepare_test_feature_data\u001b[0m\u001b[1;33m(\u001b[0m\u001b[0mraw_data_dir\u001b[0m\u001b[1;33m,\u001b[0m \u001b[0mintermediate_data_dir\u001b[0m\u001b[1;33m,\u001b[0m \u001b[0mtest_start_date\u001b[0m\u001b[1;33m=\u001b[0m\u001b[0mtest_start_date\u001b[0m\u001b[1;33m,\u001b[0m \u001b[0mtest_end_date\u001b[0m\u001b[1;33m=\u001b[0m\u001b[0mtest_end_date\u001b[0m\u001b[1;33m,\u001b[0m \u001b[0mstart_time\u001b[0m\u001b[1;33m=\u001b[0m\u001b[0mstart_time\u001b[0m\u001b[1;33m,\u001b[0m \u001b[0mend_time\u001b[0m\u001b[1;33m=\u001b[0m\u001b[0mend_time\u001b[0m\u001b[1;33m)\u001b[0m\u001b[1;33m\u001b[0m\u001b[1;33m\u001b[0m\u001b[0m\n\u001b[0m\u001b[0;32m    145\u001b[0m     \u001b[0mcharging_datetimes\u001b[0m \u001b[1;33m=\u001b[0m \u001b[0mcharge\u001b[0m\u001b[1;33m.\u001b[0m\u001b[0mextract_charging_datetimes\u001b[0m\u001b[1;33m(\u001b[0m\u001b[0mdf_features\u001b[0m\u001b[1;33m)\u001b[0m\u001b[1;33m\u001b[0m\u001b[1;33m\u001b[0m\u001b[0m\n\u001b[0;32m    146\u001b[0m     \u001b[0mX_test\u001b[0m \u001b[1;33m=\u001b[0m \u001b[0mdf_features\u001b[0m\u001b[1;33m.\u001b[0m\u001b[0mloc\u001b[0m\u001b[1;33m[\u001b[0m\u001b[0mcharging_datetimes\u001b[0m\u001b[1;33m]\u001b[0m\u001b[1;33m\u001b[0m\u001b[1;33m\u001b[0m\u001b[0m\n",
      "\u001b[1;32mc:\\users\\ayrto\\desktop\\hackathons\\wpd-ds-challenge\\batopt\\charge.py\u001b[0m in \u001b[0;36mprepare_test_feature_data\u001b[1;34m(raw_data_dir, intermediate_data_dir, test_start_date, test_end_date, start_time, end_time)\u001b[0m\n\u001b[0;32m    280\u001b[0m \u001b[1;33m\u001b[0m\u001b[0m\n\u001b[0;32m    281\u001b[0m     \u001b[1;31m# Filtering feature data on submission datetimes\u001b[0m\u001b[1;33m\u001b[0m\u001b[1;33m\u001b[0m\u001b[1;33m\u001b[0m\u001b[0m\n\u001b[1;32m--> 282\u001b[1;33m     \u001b[0mdf_features\u001b[0m \u001b[1;33m=\u001b[0m \u001b[0mdf_features\u001b[0m\u001b[1;33m.\u001b[0m\u001b[0mloc\u001b[0m\u001b[1;33m[\u001b[0m\u001b[0mindex\u001b[0m\u001b[1;33m]\u001b[0m\u001b[1;33m.\u001b[0m\u001b[0mbetween_time\u001b[0m\u001b[1;33m(\u001b[0m\u001b[0mstart_time\u001b[0m\u001b[1;33m,\u001b[0m \u001b[0mend_time\u001b[0m\u001b[1;33m)\u001b[0m\u001b[1;33m\u001b[0m\u001b[1;33m\u001b[0m\u001b[0m\n\u001b[0m\u001b[0;32m    283\u001b[0m \u001b[1;33m\u001b[0m\u001b[0m\n\u001b[0;32m    284\u001b[0m     \u001b[1;32mreturn\u001b[0m \u001b[0mdf_features\u001b[0m\u001b[1;33m\u001b[0m\u001b[1;33m\u001b[0m\u001b[0m\n",
      "\u001b[1;32m~\\anaconda3\\envs\\batopt\\lib\\site-packages\\pandas\\core\\indexing.py\u001b[0m in \u001b[0;36m__getitem__\u001b[1;34m(self, key)\u001b[0m\n\u001b[0;32m    892\u001b[0m \u001b[1;33m\u001b[0m\u001b[0m\n\u001b[0;32m    893\u001b[0m             \u001b[0mmaybe_callable\u001b[0m \u001b[1;33m=\u001b[0m \u001b[0mcom\u001b[0m\u001b[1;33m.\u001b[0m\u001b[0mapply_if_callable\u001b[0m\u001b[1;33m(\u001b[0m\u001b[0mkey\u001b[0m\u001b[1;33m,\u001b[0m \u001b[0mself\u001b[0m\u001b[1;33m.\u001b[0m\u001b[0mobj\u001b[0m\u001b[1;33m)\u001b[0m\u001b[1;33m\u001b[0m\u001b[1;33m\u001b[0m\u001b[0m\n\u001b[1;32m--> 894\u001b[1;33m             \u001b[1;32mreturn\u001b[0m \u001b[0mself\u001b[0m\u001b[1;33m.\u001b[0m\u001b[0m_getitem_axis\u001b[0m\u001b[1;33m(\u001b[0m\u001b[0mmaybe_callable\u001b[0m\u001b[1;33m,\u001b[0m \u001b[0maxis\u001b[0m\u001b[1;33m=\u001b[0m\u001b[0maxis\u001b[0m\u001b[1;33m)\u001b[0m\u001b[1;33m\u001b[0m\u001b[1;33m\u001b[0m\u001b[0m\n\u001b[0m\u001b[0;32m    895\u001b[0m \u001b[1;33m\u001b[0m\u001b[0m\n\u001b[0;32m    896\u001b[0m     \u001b[1;32mdef\u001b[0m \u001b[0m_is_scalar_access\u001b[0m\u001b[1;33m(\u001b[0m\u001b[0mself\u001b[0m\u001b[1;33m,\u001b[0m \u001b[0mkey\u001b[0m\u001b[1;33m:\u001b[0m \u001b[0mTuple\u001b[0m\u001b[1;33m)\u001b[0m\u001b[1;33m:\u001b[0m\u001b[1;33m\u001b[0m\u001b[1;33m\u001b[0m\u001b[0m\n",
      "\u001b[1;32m~\\anaconda3\\envs\\batopt\\lib\\site-packages\\pandas\\core\\indexing.py\u001b[0m in \u001b[0;36m_getitem_axis\u001b[1;34m(self, key, axis)\u001b[0m\n\u001b[0;32m   1110\u001b[0m                     \u001b[1;32mraise\u001b[0m \u001b[0mValueError\u001b[0m\u001b[1;33m(\u001b[0m\u001b[1;34m\"Cannot index with multidimensional key\"\u001b[0m\u001b[1;33m)\u001b[0m\u001b[1;33m\u001b[0m\u001b[1;33m\u001b[0m\u001b[0m\n\u001b[0;32m   1111\u001b[0m \u001b[1;33m\u001b[0m\u001b[0m\n\u001b[1;32m-> 1112\u001b[1;33m                 \u001b[1;32mreturn\u001b[0m \u001b[0mself\u001b[0m\u001b[1;33m.\u001b[0m\u001b[0m_getitem_iterable\u001b[0m\u001b[1;33m(\u001b[0m\u001b[0mkey\u001b[0m\u001b[1;33m,\u001b[0m \u001b[0maxis\u001b[0m\u001b[1;33m=\u001b[0m\u001b[0maxis\u001b[0m\u001b[1;33m)\u001b[0m\u001b[1;33m\u001b[0m\u001b[1;33m\u001b[0m\u001b[0m\n\u001b[0m\u001b[0;32m   1113\u001b[0m \u001b[1;33m\u001b[0m\u001b[0m\n\u001b[0;32m   1114\u001b[0m             \u001b[1;31m# nested tuple slicing\u001b[0m\u001b[1;33m\u001b[0m\u001b[1;33m\u001b[0m\u001b[1;33m\u001b[0m\u001b[0m\n",
      "\u001b[1;32m~\\anaconda3\\envs\\batopt\\lib\\site-packages\\pandas\\core\\indexing.py\u001b[0m in \u001b[0;36m_getitem_iterable\u001b[1;34m(self, key, axis)\u001b[0m\n\u001b[0;32m   1050\u001b[0m \u001b[1;33m\u001b[0m\u001b[0m\n\u001b[0;32m   1051\u001b[0m         \u001b[1;31m# A collection of keys\u001b[0m\u001b[1;33m\u001b[0m\u001b[1;33m\u001b[0m\u001b[1;33m\u001b[0m\u001b[0m\n\u001b[1;32m-> 1052\u001b[1;33m         \u001b[0mkeyarr\u001b[0m\u001b[1;33m,\u001b[0m \u001b[0mindexer\u001b[0m \u001b[1;33m=\u001b[0m \u001b[0mself\u001b[0m\u001b[1;33m.\u001b[0m\u001b[0m_get_listlike_indexer\u001b[0m\u001b[1;33m(\u001b[0m\u001b[0mkey\u001b[0m\u001b[1;33m,\u001b[0m \u001b[0maxis\u001b[0m\u001b[1;33m,\u001b[0m \u001b[0mraise_missing\u001b[0m\u001b[1;33m=\u001b[0m\u001b[1;32mFalse\u001b[0m\u001b[1;33m)\u001b[0m\u001b[1;33m\u001b[0m\u001b[1;33m\u001b[0m\u001b[0m\n\u001b[0m\u001b[0;32m   1053\u001b[0m         return self.obj._reindex_with_indexers(\n\u001b[0;32m   1054\u001b[0m             \u001b[1;33m{\u001b[0m\u001b[0maxis\u001b[0m\u001b[1;33m:\u001b[0m \u001b[1;33m[\u001b[0m\u001b[0mkeyarr\u001b[0m\u001b[1;33m,\u001b[0m \u001b[0mindexer\u001b[0m\u001b[1;33m]\u001b[0m\u001b[1;33m}\u001b[0m\u001b[1;33m,\u001b[0m \u001b[0mcopy\u001b[0m\u001b[1;33m=\u001b[0m\u001b[1;32mTrue\u001b[0m\u001b[1;33m,\u001b[0m \u001b[0mallow_dups\u001b[0m\u001b[1;33m=\u001b[0m\u001b[1;32mTrue\u001b[0m\u001b[1;33m\u001b[0m\u001b[1;33m\u001b[0m\u001b[0m\n",
      "\u001b[1;32m~\\anaconda3\\envs\\batopt\\lib\\site-packages\\pandas\\core\\indexing.py\u001b[0m in \u001b[0;36m_get_listlike_indexer\u001b[1;34m(self, key, axis, raise_missing)\u001b[0m\n\u001b[0;32m   1263\u001b[0m             \u001b[0mkeyarr\u001b[0m\u001b[1;33m,\u001b[0m \u001b[0mindexer\u001b[0m\u001b[1;33m,\u001b[0m \u001b[0mnew_indexer\u001b[0m \u001b[1;33m=\u001b[0m \u001b[0max\u001b[0m\u001b[1;33m.\u001b[0m\u001b[0m_reindex_non_unique\u001b[0m\u001b[1;33m(\u001b[0m\u001b[0mkeyarr\u001b[0m\u001b[1;33m)\u001b[0m\u001b[1;33m\u001b[0m\u001b[1;33m\u001b[0m\u001b[0m\n\u001b[0;32m   1264\u001b[0m \u001b[1;33m\u001b[0m\u001b[0m\n\u001b[1;32m-> 1265\u001b[1;33m         \u001b[0mself\u001b[0m\u001b[1;33m.\u001b[0m\u001b[0m_validate_read_indexer\u001b[0m\u001b[1;33m(\u001b[0m\u001b[0mkeyarr\u001b[0m\u001b[1;33m,\u001b[0m \u001b[0mindexer\u001b[0m\u001b[1;33m,\u001b[0m \u001b[0maxis\u001b[0m\u001b[1;33m,\u001b[0m \u001b[0mraise_missing\u001b[0m\u001b[1;33m=\u001b[0m\u001b[0mraise_missing\u001b[0m\u001b[1;33m)\u001b[0m\u001b[1;33m\u001b[0m\u001b[1;33m\u001b[0m\u001b[0m\n\u001b[0m\u001b[0;32m   1266\u001b[0m         \u001b[1;32mreturn\u001b[0m \u001b[0mkeyarr\u001b[0m\u001b[1;33m,\u001b[0m \u001b[0mindexer\u001b[0m\u001b[1;33m\u001b[0m\u001b[1;33m\u001b[0m\u001b[0m\n\u001b[0;32m   1267\u001b[0m \u001b[1;33m\u001b[0m\u001b[0m\n",
      "\u001b[1;32m~\\anaconda3\\envs\\batopt\\lib\\site-packages\\pandas\\core\\indexing.py\u001b[0m in \u001b[0;36m_validate_read_indexer\u001b[1;34m(self, key, indexer, axis, raise_missing)\u001b[0m\n\u001b[0;32m   1305\u001b[0m             \u001b[1;32mif\u001b[0m \u001b[0mmissing\u001b[0m \u001b[1;33m==\u001b[0m \u001b[0mlen\u001b[0m\u001b[1;33m(\u001b[0m\u001b[0mindexer\u001b[0m\u001b[1;33m)\u001b[0m\u001b[1;33m:\u001b[0m\u001b[1;33m\u001b[0m\u001b[1;33m\u001b[0m\u001b[0m\n\u001b[0;32m   1306\u001b[0m                 \u001b[0maxis_name\u001b[0m \u001b[1;33m=\u001b[0m \u001b[0mself\u001b[0m\u001b[1;33m.\u001b[0m\u001b[0mobj\u001b[0m\u001b[1;33m.\u001b[0m\u001b[0m_get_axis_name\u001b[0m\u001b[1;33m(\u001b[0m\u001b[0maxis\u001b[0m\u001b[1;33m)\u001b[0m\u001b[1;33m\u001b[0m\u001b[1;33m\u001b[0m\u001b[0m\n\u001b[1;32m-> 1307\u001b[1;33m                 \u001b[1;32mraise\u001b[0m \u001b[0mKeyError\u001b[0m\u001b[1;33m(\u001b[0m\u001b[1;34mf\"None of [{key}] are in the [{axis_name}]\"\u001b[0m\u001b[1;33m)\u001b[0m\u001b[1;33m\u001b[0m\u001b[1;33m\u001b[0m\u001b[0m\n\u001b[0m\u001b[0;32m   1308\u001b[0m \u001b[1;33m\u001b[0m\u001b[0m\n\u001b[0;32m   1309\u001b[0m             \u001b[0max\u001b[0m \u001b[1;33m=\u001b[0m \u001b[0mself\u001b[0m\u001b[1;33m.\u001b[0m\u001b[0mobj\u001b[0m\u001b[1;33m.\u001b[0m\u001b[0m_get_axis\u001b[0m\u001b[1;33m(\u001b[0m\u001b[0maxis\u001b[0m\u001b[1;33m)\u001b[0m\u001b[1;33m\u001b[0m\u001b[1;33m\u001b[0m\u001b[0m\n",
      "\u001b[1;31mKeyError\u001b[0m: \"None of [DatetimeIndex(['2020-07-03 00:00:00+00:00', '2020-07-03 00:30:00+00:00',\\n               '2020-07-03 01:00:00+00:00', '2020-07-03 01:30:00+00:00',\\n               '2020-07-03 02:00:00+00:00', '2020-07-03 02:30:00+00:00',\\n               '2020-07-03 03:00:00+00:00', '2020-07-03 03:30:00+00:00',\\n               '2020-07-03 04:00:00+00:00', '2020-07-03 04:30:00+00:00',\\n               ...\\n               '2020-07-09 19:00:00+00:00', '2020-07-09 19:30:00+00:00',\\n               '2020-07-09 20:00:00+00:00', '2020-07-09 20:30:00+00:00',\\n               '2020-07-09 21:00:00+00:00', '2020-07-09 21:30:00+00:00',\\n               '2020-07-09 22:00:00+00:00', '2020-07-09 22:30:00+00:00',\\n               '2020-07-09 23:00:00+00:00', '2020-07-09 23:30:00+00:00'],\\n              dtype='datetime64[ns, UTC]', name='datetime', length=336, freq=None)] are in the [index]\""
     ]
    }
   ],
   "source": [
    "test_start_date = None\n",
    "test_end_date = None\n",
    "\n",
    "discharge_opt_model_fp = '../models/discharge_opt.sav'\n",
    "pv_model_fp = '../models/pv_model.sav'\n",
    "\n",
    "model_params = {\n",
    "    'criterion': 'mse',\n",
    "    'bootstrap': True,\n",
    "    'max_depth': 32,\n",
    "    'max_features': 'auto',\n",
    "    'min_samples_leaf': 1,\n",
    "    'min_samples_split': 4,\n",
    "    'n_estimators': 74  \n",
    "}\n",
    "\n",
    "X, y = pv.prepare_training_input_data(intermediate_data_dir)\n",
    "\n",
    "if test_start_date is not None and test_end_date is not None:\n",
    "    pred_index = X[test_start_date:test_end_date].index\n",
    "    X = X.drop(pred_index)\n",
    "    y = y.drop(pred_index)\n",
    "    \n",
    "pv.fit_and_save_pv_model(X, y, pv_model_fp, model_class=RandomForestRegressor, **model_params)\n",
    "\n",
    "s_charge_profile = pv.optimise_test_charge_profile(raw_data_dir, intermediate_data_dir, pv_model_fp, test_start_date=test_start_date, test_end_date=test_end_date)\n",
    "s_discharge_profile = discharge.optimise_test_discharge_profile(raw_data_dir, intermediate_data_dir, discharge_opt_model_fp, test_start_date=test_start_date, test_end_date=test_end_date)\n",
    "\n",
    "s_battery_profile = (s_charge_profile + s_discharge_profile).fillna(0)\n",
    "s_battery_profile.name = 'charge_MW'\n",
    "\n",
    "s_battery_profile.plot()"
   ]
  },
  {
   "cell_type": "code",
   "execution_count": null,
   "id": "israeli-track",
   "metadata": {},
   "outputs": [],
   "source": []
  },
  {
   "cell_type": "code",
   "execution_count": null,
   "id": "specified-demonstration",
   "metadata": {},
   "outputs": [],
   "source": [
    "fig, ax = plt.subplots(dpi=150)\n",
    "\n",
    "for year in [2017, 2018]:\n",
    "    start_date = f'{year}-12-18'\n",
    "    end_date = f'{year}-12-24 23:59'\n",
    "    \n",
    "    s_discharge = discharge.construct_discharge_s(df.loc[start_date:end_date, 'demand_MW'])\n",
    "    plt.plot(s_discharge.iloc[:48*7].values, label=f'{year}')\n",
    "    \n",
    "plt.plot(s_discharge_profile.iloc[:48*7].values, linestyle='--', label='2019 Prediction')\n",
    "\n",
    "plt.legend(frameon=False, bbox_to_anchor=(1, 1))\n",
    "hlp.hide_spines(ax)"
   ]
  },
  {
   "cell_type": "code",
   "execution_count": null,
   "id": "oriental-electron",
   "metadata": {},
   "outputs": [],
   "source": []
  },
  {
   "cell_type": "code",
   "execution_count": null,
   "id": "quiet-shame",
   "metadata": {},
   "outputs": [],
   "source": [
    "for year in [2017, 2018]:\n",
    "    start_date = f'{year}-12-18'\n",
    "    end_date = f'{year}-12-24 23:59'\n",
    "    \n",
    "    s_discharge = discharge.construct_discharge_s(df.loc[start_date:end_date, 'demand_MW'])\n",
    "    plt.plot(s_discharge.iloc[:48*7].values)"
   ]
  },
  {
   "cell_type": "code",
   "execution_count": null,
   "id": "spectacular-intention",
   "metadata": {},
   "outputs": [],
   "source": []
  },
  {
   "cell_type": "code",
   "execution_count": null,
   "id": "precious-compact",
   "metadata": {},
   "outputs": [],
   "source": []
  },
  {
   "cell_type": "code",
   "execution_count": null,
   "id": "unique-price",
   "metadata": {},
   "outputs": [],
   "source": []
  }
 ],
 "metadata": {
  "kernelspec": {
   "display_name": "batopt",
   "language": "python",
   "name": "batopt"
  },
  "language_info": {
   "codemirror_mode": {
    "name": "ipython",
    "version": 3
   },
   "file_extension": ".py",
   "mimetype": "text/x-python",
   "name": "python",
   "nbconvert_exporter": "python",
   "pygments_lexer": "ipython3",
   "version": "3.9.1"
  }
 },
 "nbformat": 4,
 "nbformat_minor": 5
}
