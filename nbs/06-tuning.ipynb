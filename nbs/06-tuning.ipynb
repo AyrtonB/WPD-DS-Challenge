{
 "cells": [
  {
   "cell_type": "code",
   "execution_count": 1,
   "id": "authorized-charm",
   "metadata": {},
   "outputs": [],
   "source": [
    "#default_exp tuning"
   ]
  },
  {
   "cell_type": "markdown",
   "id": "three-transsexual",
   "metadata": {},
   "source": [
    "# Tuning\n",
    "\n",
    "<br>\n",
    "\n",
    "### Imports"
   ]
  },
  {
   "cell_type": "code",
   "execution_count": 1,
   "id": "disciplinary-local",
   "metadata": {},
   "outputs": [],
   "source": [
    "#exports\n",
    "import json\n",
    "import numpy as np\n",
    "import pandas as pd\n",
    "\n",
    "from sklearn.ensemble import RandomForestRegressor\n",
    "from sklearn.pipeline import Pipeline\n",
    "from mlxtend.feature_selection import SequentialFeatureSelector as SFS\n",
    "from skopt.plots import plot_objective\n",
    "from skopt.space import Real, Categorical, Integer\n",
    "\n",
    "from batopt import clean, discharge, charge, pv, utils\n",
    "\n",
    "import os\n",
    "from ipypb import track"
   ]
  },
  {
   "cell_type": "code",
   "execution_count": 2,
   "id": "organized-winner",
   "metadata": {},
   "outputs": [],
   "source": [
    "import FEAutils as hlp\n",
    "import matplotlib.pyplot as plt\n",
    "\n",
    "from IPython.display import JSON"
   ]
  },
  {
   "cell_type": "markdown",
   "id": "accompanied-outline",
   "metadata": {},
   "source": [
    "<br>\n",
    "\n",
    "### User Inputs"
   ]
  },
  {
   "cell_type": "code",
   "execution_count": 3,
   "id": "departmental-buffer",
   "metadata": {},
   "outputs": [],
   "source": [
    "intermediate_data_dir = '../data/intermediate'\n",
    "raw_data_dir = '../data/raw'\n",
    "cache_data_dir = '../data/nb-cache'"
   ]
  },
  {
   "cell_type": "markdown",
   "id": "driven-summer",
   "metadata": {},
   "source": [
    "<br>\n",
    "\n",
    "### Preparing Data\n",
    "\n",
    "First we'll load in the target and feature data for both the charging and discharging models"
   ]
  },
  {
   "cell_type": "code",
   "execution_count": 5,
   "id": "enhanced-sudan",
   "metadata": {},
   "outputs": [
    {
     "name": "stdout",
     "output_type": "stream",
     "text": [
      "2017-11-10 00:00:00+00:00    0.0\n",
      "2017-11-10 00:30:00+00:00    0.0\n",
      "2017-11-10 01:00:00+00:00    0.0\n",
      "2017-11-10 01:30:00+00:00    0.0\n",
      "2017-11-10 02:00:00+00:00    0.0\n",
      "                            ... \n",
      "2020-07-02 21:30:00+00:00    0.0\n",
      "2020-07-02 22:00:00+00:00    0.0\n",
      "2020-07-02 22:30:00+00:00    0.0\n",
      "2020-07-02 23:00:00+00:00    0.0\n",
      "2020-07-02 23:30:00+00:00    0.0\n",
      "Freq: 30T, Name: pv_power_mw, Length: 46368, dtype: float64\n"
     ]
    },
    {
     "data": {
      "text/html": [
       "<div>\n",
       "<style scoped>\n",
       "    .dataframe tbody tr th:only-of-type {\n",
       "        vertical-align: middle;\n",
       "    }\n",
       "\n",
       "    .dataframe tbody tr th {\n",
       "        vertical-align: top;\n",
       "    }\n",
       "\n",
       "    .dataframe thead th {\n",
       "        text-align: right;\n",
       "    }\n",
       "</style>\n",
       "<table border=\"1\" class=\"dataframe\">\n",
       "  <thead>\n",
       "    <tr style=\"text-align: right;\">\n",
       "      <th></th>\n",
       "      <th>temp_location1</th>\n",
       "      <th>temp_location2</th>\n",
       "      <th>temp_location3</th>\n",
       "      <th>temp_location4</th>\n",
       "      <th>temp_location5</th>\n",
       "      <th>temp_location6</th>\n",
       "      <th>pv_7d_lag</th>\n",
       "      <th>solar_location2</th>\n",
       "      <th>solar_location3</th>\n",
       "      <th>solar_location5</th>\n",
       "      <th>...</th>\n",
       "      <th>solar_location2_rolling</th>\n",
       "      <th>solar_location3_rolling</th>\n",
       "      <th>solar_location5_rolling</th>\n",
       "      <th>solar_location6_rolling</th>\n",
       "      <th>temp_location1_rolling</th>\n",
       "      <th>temp_location2_rolling</th>\n",
       "      <th>temp_location3_rolling</th>\n",
       "      <th>temp_location4_rolling</th>\n",
       "      <th>temp_location5_rolling</th>\n",
       "      <th>temp_location6_rolling</th>\n",
       "    </tr>\n",
       "  </thead>\n",
       "  <tbody>\n",
       "    <tr>\n",
       "      <th>2017-11-10 04:00:00+00:00</th>\n",
       "      <td>11.930</td>\n",
       "      <td>11.71</td>\n",
       "      <td>11.730</td>\n",
       "      <td>11.300</td>\n",
       "      <td>13.15</td>\n",
       "      <td>13.220</td>\n",
       "      <td>0.0</td>\n",
       "      <td>0.0</td>\n",
       "      <td>0.0</td>\n",
       "      <td>0.0</td>\n",
       "      <td>...</td>\n",
       "      <td>0.0</td>\n",
       "      <td>0.0</td>\n",
       "      <td>1.894781e-13</td>\n",
       "      <td>3.315866e-13</td>\n",
       "      <td>11.805000</td>\n",
       "      <td>11.56</td>\n",
       "      <td>11.600000</td>\n",
       "      <td>10.650000</td>\n",
       "      <td>13.085000</td>\n",
       "      <td>13.215000</td>\n",
       "    </tr>\n",
       "    <tr>\n",
       "      <th>2017-11-10 04:30:00+00:00</th>\n",
       "      <td>12.060</td>\n",
       "      <td>11.89</td>\n",
       "      <td>11.805</td>\n",
       "      <td>11.295</td>\n",
       "      <td>13.26</td>\n",
       "      <td>13.325</td>\n",
       "      <td>0.0</td>\n",
       "      <td>0.0</td>\n",
       "      <td>0.0</td>\n",
       "      <td>0.0</td>\n",
       "      <td>...</td>\n",
       "      <td>0.0</td>\n",
       "      <td>0.0</td>\n",
       "      <td>1.894781e-13</td>\n",
       "      <td>3.315866e-13</td>\n",
       "      <td>11.931667</td>\n",
       "      <td>11.72</td>\n",
       "      <td>11.711667</td>\n",
       "      <td>11.081667</td>\n",
       "      <td>13.165000</td>\n",
       "      <td>13.253333</td>\n",
       "    </tr>\n",
       "    <tr>\n",
       "      <th>2017-11-10 05:00:00+00:00</th>\n",
       "      <td>12.190</td>\n",
       "      <td>12.07</td>\n",
       "      <td>11.880</td>\n",
       "      <td>11.290</td>\n",
       "      <td>13.37</td>\n",
       "      <td>13.430</td>\n",
       "      <td>0.0</td>\n",
       "      <td>0.0</td>\n",
       "      <td>0.0</td>\n",
       "      <td>0.0</td>\n",
       "      <td>...</td>\n",
       "      <td>0.0</td>\n",
       "      <td>0.0</td>\n",
       "      <td>1.894781e-13</td>\n",
       "      <td>3.315866e-13</td>\n",
       "      <td>12.060000</td>\n",
       "      <td>11.89</td>\n",
       "      <td>11.805000</td>\n",
       "      <td>11.295000</td>\n",
       "      <td>13.260000</td>\n",
       "      <td>13.325000</td>\n",
       "    </tr>\n",
       "    <tr>\n",
       "      <th>2017-11-10 05:30:00+00:00</th>\n",
       "      <td>12.145</td>\n",
       "      <td>12.13</td>\n",
       "      <td>11.745</td>\n",
       "      <td>11.200</td>\n",
       "      <td>13.44</td>\n",
       "      <td>13.520</td>\n",
       "      <td>0.0</td>\n",
       "      <td>0.0</td>\n",
       "      <td>0.0</td>\n",
       "      <td>0.0</td>\n",
       "      <td>...</td>\n",
       "      <td>0.0</td>\n",
       "      <td>0.0</td>\n",
       "      <td>1.894781e-13</td>\n",
       "      <td>3.315866e-13</td>\n",
       "      <td>12.131667</td>\n",
       "      <td>12.03</td>\n",
       "      <td>11.810000</td>\n",
       "      <td>11.261667</td>\n",
       "      <td>13.356667</td>\n",
       "      <td>13.425000</td>\n",
       "    </tr>\n",
       "    <tr>\n",
       "      <th>2017-11-10 06:00:00+00:00</th>\n",
       "      <td>12.100</td>\n",
       "      <td>12.19</td>\n",
       "      <td>11.610</td>\n",
       "      <td>11.110</td>\n",
       "      <td>13.51</td>\n",
       "      <td>13.610</td>\n",
       "      <td>0.0</td>\n",
       "      <td>0.0</td>\n",
       "      <td>0.0</td>\n",
       "      <td>0.0</td>\n",
       "      <td>...</td>\n",
       "      <td>0.0</td>\n",
       "      <td>0.0</td>\n",
       "      <td>1.894781e-13</td>\n",
       "      <td>3.315866e-13</td>\n",
       "      <td>12.145000</td>\n",
       "      <td>12.13</td>\n",
       "      <td>11.745000</td>\n",
       "      <td>11.200000</td>\n",
       "      <td>13.440000</td>\n",
       "      <td>13.520000</td>\n",
       "    </tr>\n",
       "  </tbody>\n",
       "</table>\n",
       "<p>5 rows × 25 columns</p>\n",
       "</div>"
      ],
      "text/plain": [
       "                           temp_location1  temp_location2  temp_location3  \\\n",
       "2017-11-10 04:00:00+00:00          11.930           11.71          11.730   \n",
       "2017-11-10 04:30:00+00:00          12.060           11.89          11.805   \n",
       "2017-11-10 05:00:00+00:00          12.190           12.07          11.880   \n",
       "2017-11-10 05:30:00+00:00          12.145           12.13          11.745   \n",
       "2017-11-10 06:00:00+00:00          12.100           12.19          11.610   \n",
       "\n",
       "                           temp_location4  temp_location5  temp_location6  \\\n",
       "2017-11-10 04:00:00+00:00          11.300           13.15          13.220   \n",
       "2017-11-10 04:30:00+00:00          11.295           13.26          13.325   \n",
       "2017-11-10 05:00:00+00:00          11.290           13.37          13.430   \n",
       "2017-11-10 05:30:00+00:00          11.200           13.44          13.520   \n",
       "2017-11-10 06:00:00+00:00          11.110           13.51          13.610   \n",
       "\n",
       "                           pv_7d_lag  solar_location2  solar_location3  \\\n",
       "2017-11-10 04:00:00+00:00        0.0              0.0              0.0   \n",
       "2017-11-10 04:30:00+00:00        0.0              0.0              0.0   \n",
       "2017-11-10 05:00:00+00:00        0.0              0.0              0.0   \n",
       "2017-11-10 05:30:00+00:00        0.0              0.0              0.0   \n",
       "2017-11-10 06:00:00+00:00        0.0              0.0              0.0   \n",
       "\n",
       "                           solar_location5  ...  solar_location2_rolling  \\\n",
       "2017-11-10 04:00:00+00:00              0.0  ...                      0.0   \n",
       "2017-11-10 04:30:00+00:00              0.0  ...                      0.0   \n",
       "2017-11-10 05:00:00+00:00              0.0  ...                      0.0   \n",
       "2017-11-10 05:30:00+00:00              0.0  ...                      0.0   \n",
       "2017-11-10 06:00:00+00:00              0.0  ...                      0.0   \n",
       "\n",
       "                           solar_location3_rolling  solar_location5_rolling  \\\n",
       "2017-11-10 04:00:00+00:00                      0.0             1.894781e-13   \n",
       "2017-11-10 04:30:00+00:00                      0.0             1.894781e-13   \n",
       "2017-11-10 05:00:00+00:00                      0.0             1.894781e-13   \n",
       "2017-11-10 05:30:00+00:00                      0.0             1.894781e-13   \n",
       "2017-11-10 06:00:00+00:00                      0.0             1.894781e-13   \n",
       "\n",
       "                           solar_location6_rolling  temp_location1_rolling  \\\n",
       "2017-11-10 04:00:00+00:00             3.315866e-13               11.805000   \n",
       "2017-11-10 04:30:00+00:00             3.315866e-13               11.931667   \n",
       "2017-11-10 05:00:00+00:00             3.315866e-13               12.060000   \n",
       "2017-11-10 05:30:00+00:00             3.315866e-13               12.131667   \n",
       "2017-11-10 06:00:00+00:00             3.315866e-13               12.145000   \n",
       "\n",
       "                           temp_location2_rolling  temp_location3_rolling  \\\n",
       "2017-11-10 04:00:00+00:00                   11.56               11.600000   \n",
       "2017-11-10 04:30:00+00:00                   11.72               11.711667   \n",
       "2017-11-10 05:00:00+00:00                   11.89               11.805000   \n",
       "2017-11-10 05:30:00+00:00                   12.03               11.810000   \n",
       "2017-11-10 06:00:00+00:00                   12.13               11.745000   \n",
       "\n",
       "                           temp_location4_rolling  temp_location5_rolling  \\\n",
       "2017-11-10 04:00:00+00:00               10.650000               13.085000   \n",
       "2017-11-10 04:30:00+00:00               11.081667               13.165000   \n",
       "2017-11-10 05:00:00+00:00               11.295000               13.260000   \n",
       "2017-11-10 05:30:00+00:00               11.261667               13.356667   \n",
       "2017-11-10 06:00:00+00:00               11.200000               13.440000   \n",
       "\n",
       "                           temp_location6_rolling  \n",
       "2017-11-10 04:00:00+00:00               13.215000  \n",
       "2017-11-10 04:30:00+00:00               13.253333  \n",
       "2017-11-10 05:00:00+00:00               13.325000  \n",
       "2017-11-10 05:30:00+00:00               13.425000  \n",
       "2017-11-10 06:00:00+00:00               13.520000  \n",
       "\n",
       "[5 rows x 25 columns]"
      ]
     },
     "execution_count": 5,
     "metadata": {},
     "output_type": "execute_result"
    }
   ],
   "source": [
    "charge_x, charge_y = charge.prepare_training_input_data(intermediate_data_dir)\n",
    "discharge_x, discharge_y = discharge.prepare_training_input_data(intermediate_data_dir)\n",
    "\n",
    "charge_x.head()"
   ]
  },
  {
   "cell_type": "code",
   "execution_count": null,
   "id": "located-madrid",
   "metadata": {},
   "outputs": [],
   "source": [
    "discharge_x.columns"
   ]
  },
  {
   "cell_type": "code",
   "execution_count": null,
   "id": "numerical-vacuum",
   "metadata": {},
   "outputs": [],
   "source": []
  },
  {
   "cell_type": "code",
   "execution_count": 6,
   "id": "internal-submission",
   "metadata": {},
   "outputs": [
    {
     "data": {
      "text/plain": [
       "datetime\n",
       "2017-11-03 00:00:00+00:00    2.19\n",
       "2017-11-03 00:30:00+00:00    2.14\n",
       "2017-11-03 01:00:00+00:00    2.01\n",
       "2017-11-03 01:30:00+00:00    1.87\n",
       "2017-11-03 02:00:00+00:00    1.86\n",
       "Freq: 30T, Name: demand_MW, dtype: float64"
      ]
     },
     "execution_count": 6,
     "metadata": {},
     "output_type": "execute_result"
    }
   ],
   "source": [
    "s_demand = clean.load_training_dataset(intermediate_data_dir, 'demand')['demand_MW']\n",
    "\n",
    "s_demand.head()"
   ]
  },
  {
   "cell_type": "code",
   "execution_count": null,
   "id": "executed-drinking",
   "metadata": {},
   "outputs": [],
   "source": []
  },
  {
   "cell_type": "code",
   "execution_count": 7,
   "id": "radio-doubt",
   "metadata": {},
   "outputs": [
    {
     "data": {
      "text/plain": [
       "datetime\n",
       "2017-11-03 00:00:00+00:00    0.0\n",
       "2017-11-03 00:30:00+00:00    0.0\n",
       "2017-11-03 01:00:00+00:00    0.0\n",
       "2017-11-03 01:30:00+00:00    0.0\n",
       "2017-11-03 02:00:00+00:00    0.0\n",
       "Freq: 30T, Name: pv_power_mw, dtype: float64"
      ]
     },
     "execution_count": 7,
     "metadata": {},
     "output_type": "execute_result"
    }
   ],
   "source": [
    "s_pv = clean.load_training_dataset(intermediate_data_dir, 'pv')['pv_power_mw']\n",
    "\n",
    "s_pv.head()"
   ]
  },
  {
   "cell_type": "code",
   "execution_count": null,
   "id": "stopped-blues",
   "metadata": {},
   "outputs": [],
   "source": [
    "#export\n",
    "def get_train_test(arr, start_of_test_period): \n",
    "    train_arr = arr[:pd.to_datetime(start_of_test_period, utc=True)]\n",
    "    test_arr = arr[pd.to_datetime(start_of_test_period, utc=True):]\n",
    "    \n",
    "    return train_arr, test_arr"
   ]
  },
  {
   "cell_type": "code",
   "execution_count": 7,
   "id": "loose-calgary",
   "metadata": {},
   "outputs": [],
   "source": [
    "start_of_test_period = '2020-06-22'\n",
    "\n",
    "charge_x_train, charge_x_test = get_train_test(charge_x, start_of_test_period)\n",
    "charge_y_train, charge_y_test = get_train_test(charge_y, start_of_test_period)\n",
    "discharge_x_train, discharge_x_test = get_train_test(discharge_x, start_of_test_period)\n",
    "discharge_y_train, discharge_y_test = get_train_test(discharge_y, start_of_test_period)"
   ]
  },
  {
   "cell_type": "markdown",
   "id": "accepted-warrior",
   "metadata": {},
   "source": [
    "<br>\n",
    "\n",
    "### Evaluation Metrics\n",
    "\n",
    "We want to evaluate each of our models based on their contribution to the final scoring value, to do this we'll first create some predictions for our discharge model."
   ]
  },
  {
   "cell_type": "code",
   "execution_count": 9,
   "id": "executive-still",
   "metadata": {},
   "outputs": [
    {
     "data": {
      "text/plain": [
       "<AxesSubplot:>"
      ]
     },
     "execution_count": 9,
     "metadata": {},
     "output_type": "execute_result"
    },
    {
     "data": {
      "image/png": "[encoded data removed]",
      "text/plain": [
       "<Figure size 432x288 with 1 Axes>"
      ]
     },
     "metadata": {
      "needs_background": "light"
     },
     "output_type": "display_data"
    }
   ],
   "source": [
    "discharge_rf = RandomForestRegressor()\n",
    "\n",
    "discharge_rf.fit(discharge_x_train, discharge_y_train)\n",
    "discharge_y_pred = pd.Series(discharge_rf.predict(discharge_x_test), index=discharge_x_test.index)\n",
    "\n",
    "discharge_y_pred.plot()"
   ]
  },
  {
   "cell_type": "markdown",
   "id": "metropolitan-question",
   "metadata": {},
   "source": [
    "<br>\n",
    "\n",
    "We'll then create a time-series of the percentage peak reduction for each day"
   ]
  },
  {
   "cell_type": "code",
   "execution_count": 10,
   "id": "indonesian-rhythm",
   "metadata": {},
   "outputs": [],
   "source": [
    "#exports\n",
    "def calculate_pct_peak_reduction_s(discharge_y_pred, s_demand):\n",
    "    s_demand_test = s_demand.loc[discharge_y_pred.index]\n",
    "\n",
    "    s_old_peaks = s_demand_test.groupby(s_demand_test.index.date).max()\n",
    "    s_new_peaks = (s_demand_test+discharge_y_pred).groupby(s_demand_test.index.date).max()\n",
    "\n",
    "    s_pct_peak_reduction = 100*(s_old_peaks - s_new_peaks)/s_new_peaks\n",
    "    s_pct_peak_reduction.index = pd.to_datetime(s_pct_peak_reduction.index)\n",
    "\n",
    "    return s_pct_peak_reduction"
   ]
  },
  {
   "cell_type": "code",
   "execution_count": 11,
   "id": "comparable-probability",
   "metadata": {},
   "outputs": [
    {
     "name": "stdout",
     "output_type": "stream",
     "text": [
      "The average peak reduction was 49.51%\n"
     ]
    },
    {
     "data": {
      "text/plain": [
       "<AxesSubplot:>"
      ]
     },
     "execution_count": 11,
     "metadata": {},
     "output_type": "execute_result"
    },
    {
     "data": {
      "image/png": "[encoded data removed]",
      "text/plain": [
       "<Figure size 432x288 with 1 Axes>"
      ]
     },
     "metadata": {
      "needs_background": "light"
     },
     "output_type": "display_data"
    }
   ],
   "source": [
    "s_pct_peak_reduction = calculate_pct_peak_reduction_s(discharge_y_pred, s_demand)\n",
    "\n",
    "print(f'The average peak reduction was {s_pct_peak_reduction.mean():.2f}%')\n",
    "\n",
    "s_pct_peak_reduction.plot()"
   ]
  },
  {
   "cell_type": "markdown",
   "id": "expanded-return",
   "metadata": {},
   "source": [
    "<br>\n",
    "\n",
    "We'll then repeat this with the charging model"
   ]
  },
  {
   "cell_type": "code",
   "execution_count": 12,
   "id": "accomplished-simpson",
   "metadata": {},
   "outputs": [
    {
     "data": {
      "text/plain": [
       "<AxesSubplot:>"
      ]
     },
     "execution_count": 12,
     "metadata": {},
     "output_type": "execute_result"
    },
    {
     "data": {
      "image/png": "[encoded data removed]",
      "text/plain": [
       "<Figure size 432x288 with 1 Axes>"
      ]
     },
     "metadata": {
      "needs_background": "light"
     },
     "output_type": "display_data"
    }
   ],
   "source": [
    "charge_rf = RandomForestRegressor()\n",
    "\n",
    "charge_rf.fit(charge_x_train, charge_y_train)\n",
    "charge_y_pred = pd.Series(charge_rf.predict(charge_x_test), index=charge_x_test.index)\n",
    "\n",
    "charge_y_pred.plot()"
   ]
  },
  {
   "cell_type": "markdown",
   "id": "chronic-truck",
   "metadata": {},
   "source": [
    "<br>\n",
    "\n",
    "For which we'll calculate the emissions factor series"
   ]
  },
  {
   "cell_type": "code",
   "execution_count": 13,
   "id": "stock-hughes",
   "metadata": {},
   "outputs": [],
   "source": [
    "#exports\n",
    "def calculate_emissions_factor_s(charge_y_pred, s_pv, solar_factor=3, grid_factor=1):\n",
    "    s_solar_charge_pct = (charge_y_pred - s_pv.loc[charge_y_pred.index]).clip(0).groupby(charge_y_pred.index.date).sum()/charge_y_pred.groupby(charge_y_pred.index.date).sum()\n",
    "    s_grid_charge_pct = 1 - s_solar_charge_pct\n",
    "\n",
    "    s_emissions_factor = solar_factor*s_solar_charge_pct + grid_factor*s_grid_charge_pct\n",
    "    s_emissions_factor.index = pd.to_datetime(s_emissions_factor.index)\n",
    "\n",
    "    return s_emissions_factor"
   ]
  },
  {
   "cell_type": "code",
   "execution_count": 14,
   "id": "suspended-hundred",
   "metadata": {},
   "outputs": [
    {
     "data": {
      "text/plain": [
       "<AxesSubplot:>"
      ]
     },
     "execution_count": 14,
     "metadata": {},
     "output_type": "execute_result"
    },
    {
     "data": {
      "image/png": "[encoded data removed]",
      "text/plain": [
       "<Figure size 432x288 with 1 Axes>"
      ]
     },
     "metadata": {
      "needs_background": "light"
     },
     "output_type": "display_data"
    }
   ],
   "source": [
    "s_emissions_factor = calculate_emissions_factor_s(charge_y_pred, s_pv)\n",
    "\n",
    "s_emissions_factor.plot()"
   ]
  },
  {
   "cell_type": "markdown",
   "id": "welsh-republican",
   "metadata": {},
   "source": [
    "<br>\n",
    "\n",
    "We can then combine these two steps to determine our final score for each day"
   ]
  },
  {
   "cell_type": "code",
   "execution_count": 15,
   "id": "recovered-airline",
   "metadata": {},
   "outputs": [],
   "source": [
    "#export\n",
    "def calculate_score_s(discharge_y_pred, charge_y_pred, s_demand, s_pv, solar_factor=3, grid_factor=1):\n",
    "    s_pct_peak_reduction = calculate_pct_peak_reduction_s(discharge_y_pred, s_demand)\n",
    "    s_emissions_factor = calculate_emissions_factor_s(charge_y_pred, s_pv, solar_factor=solar_factor, grid_factor=grid_factor)\n",
    "    \n",
    "    s_score = s_pct_peak_reduction*s_emissions_factor\n",
    "    \n",
    "    return s_score"
   ]
  },
  {
   "cell_type": "code",
   "execution_count": 16,
   "id": "rising-operator",
   "metadata": {},
   "outputs": [
    {
     "name": "stdout",
     "output_type": "stream",
     "text": [
      "The average score was: 67.24\n"
     ]
    },
    {
     "data": {
      "text/plain": [
       "<AxesSubplot:>"
      ]
     },
     "execution_count": 16,
     "metadata": {},
     "output_type": "execute_result"
    },
    {
     "data": {
      "image/png": "[encoded data removed]",
      "text/plain": [
       "<Figure size 432x288 with 1 Axes>"
      ]
     },
     "metadata": {
      "needs_background": "light"
     },
     "output_type": "display_data"
    }
   ],
   "source": [
    "s_score = calculate_score_s(discharge_y_pred, charge_y_pred, s_demand, s_pv)\n",
    "\n",
    "print(f'The average score was: {s_score.mean():.2f}')\n",
    "\n",
    "s_score.plot()"
   ]
  },
  {
   "cell_type": "markdown",
   "id": "whole-covering",
   "metadata": {},
   "source": [
    "<br>\n",
    "\n",
    "For the charging we can also look at how much was sourced from PV relative to the potential maximum (capped at 6 MWh per day)."
   ]
  },
  {
   "cell_type": "code",
   "execution_count": 17,
   "id": "incorrect-vanilla",
   "metadata": {},
   "outputs": [
    {
     "data": {
      "text/plain": [
       "<AxesSubplot:>"
      ]
     },
     "execution_count": 17,
     "metadata": {},
     "output_type": "execute_result"
    },
    {
     "data": {
      "image/png": "[encoded data removed]",
      "text/plain": [
       "<Figure size 432x288 with 1 Axes>"
      ]
     },
     "metadata": {
      "needs_background": "light"
     },
     "output_type": "display_data"
    }
   ],
   "source": [
    "solar_charge = np.minimum(charge_y_pred, s_pv.loc[charge_y_pred.index])\n",
    "day_solar_charge = solar_charge.groupby(solar_charge.index.date).sum().clip(0,12)\n",
    "day_solar_charge.index = pd.to_datetime(day_solar_charge.index)\n",
    "\n",
    "solar_potential = np.clip(s_pv.loc[charge_y_pred.index], 0, 2.5)\n",
    "day_solar_potential = solar_potential.groupby(solar_potential.index.date).sum().clip(0,12)\n",
    "day_solar_potential.index = pd.to_datetime(day_solar_potential.index)\n",
    "\n",
    "day_solar_charge.plot()\n",
    "day_solar_potential.plot()"
   ]
  },
  {
   "cell_type": "code",
   "execution_count": null,
   "id": "dried-palestine",
   "metadata": {},
   "outputs": [],
   "source": []
  },
  {
   "cell_type": "code",
   "execution_count": 18,
   "id": "sitting-lesson",
   "metadata": {},
   "outputs": [
    {
     "data": {
      "text/plain": [
       "Text(0, 0.5, '% exploited')"
      ]
     },
     "execution_count": 18,
     "metadata": {},
     "output_type": "execute_result"
    },
    {
     "data": {
      "image/png": "[encoded data removed]",
      "text/plain": [
       "<Figure size 432x288 with 1 Axes>"
      ]
     },
     "metadata": {
      "needs_background": "light"
     },
     "output_type": "display_data"
    }
   ],
   "source": [
    "pct_exploit = 100 * day_solar_charge/day_solar_potential\n",
    "pct_exploit.plot()\n",
    "plt.ylabel('% exploited')"
   ]
  },
  {
   "cell_type": "code",
   "execution_count": null,
   "id": "armed-hours",
   "metadata": {},
   "outputs": [],
   "source": []
  },
  {
   "cell_type": "code",
   "execution_count": 19,
   "id": "vocal-deployment",
   "metadata": {},
   "outputs": [],
   "source": [
    "#exports\n",
    "def score_charge(schedule, solar_profile, solar_factor=3, grid_factor=1):\n",
    "    # The actual pv charge is the minimum of the scheduled charge and the actual solar availability \n",
    "    actual_pv_charge = np.minimum(schedule.values, solar_profile.values)\n",
    "    actual_pv_charge = pd.Series(actual_pv_charge, index=schedule.index)\n",
    "        \n",
    "    pct_pv_charge = actual_pv_charge.groupby(actual_pv_charge.index.date).sum() / schedule.groupby(schedule.index.date).sum()\n",
    "    pct_grid_charge = 1 - pct_pv_charge\n",
    "    \n",
    "    score = (solar_factor * pct_pv_charge) + (grid_factor * pct_grid_charge)\n",
    "    \n",
    "    return score\n",
    "\n",
    "def score_discharge(schedule, demand):\n",
    "    \n",
    "    new_demand = schedule + demand\n",
    "    old_demand = demand\n",
    "        \n",
    "    new_peaks = new_demand.groupby(new_demand.index.date).max()\n",
    "    old_peaks = old_demand.groupby(old_demand.index.date).max()\n",
    "            \n",
    "    pct_reduction = 100*((old_peaks - new_peaks)/ old_peaks)\n",
    "    \n",
    "    return pct_reduction\n",
    "\n",
    "def max_charge_score(solar_profile, solar_factor=3, grid_factor=1, capacity=6, time_unit=0.5):\n",
    "    pv_potential = solar_profile.groupby(solar_profile.index.date).sum().clip(0, capacity/time_unit)\n",
    "    pct_pv_charge = pv_potential / (capacity/time_unit)\n",
    "    pct_grid_charge = 1 - pct_pv_charge\n",
    "    \n",
    "    score = (solar_factor * pct_pv_charge) + (grid_factor * pct_grid_charge)\n",
    "    \n",
    "    return score\n",
    "    \n",
    "       \n",
    "def calculate_score_s(discharge_y_pred, charge_y_pred, s_demand, s_pv, solar_factor=3, grid_factor=1):\n",
    "    \n",
    "    charge_score = score_charge(charge_y_pred, s_pv, solar_factor, grid_factor)\n",
    "    discharge_score = score_discharge(discharge_y_pred, s_demand)\n",
    "    \n",
    "    s_score = discharge_score*charge_score\n",
    "    \n",
    "    return s_score, charge_score, discharge_score\n",
    "\n",
    "def evaluate_submission(submission, intermediate_data_dir):\n",
    "    if isinstance(submission, str):\n",
    "        df_solution = pd.read_csv(submission)\n",
    "        df_solution = df_solution.set_index(pd.to_datetime(df_solution.datetime, utc=True))\n",
    "    else:\n",
    "        assert isinstance(submission, pd.DataFrame), '`submission` must either be a valid submission dataframe or a filepath to the submission'\n",
    "        df_solution = submission\n",
    "        \n",
    "    df_real = clean.combine_training_datasets(intermediate_data_dir)\n",
    "    df_real = df_real[df_real.index.isin(df_solution.index)]\n",
    "\n",
    "    df_solution_charge = df_solution.between_time('00:00', '15:00')\n",
    "    df_solution_discharge = df_solution.between_time('15:30', '20:30')\n",
    "\n",
    "    df_real_charge = df_real.between_time('00:00', '15:00')\n",
    "    df_real_discharge = df_real.between_time('15:30', '20:30')\n",
    "\n",
    "    total_score, charge_score, discharge_score = calculate_score_s(df_solution_discharge.charge_MW, df_solution_charge.charge_MW, df_real_discharge.demand_MW, df_real_charge.pv_power_mw)\n",
    "\n",
    "    df_results = pd.DataFrame({\n",
    "        'total_score': total_score,\n",
    "        'charge_score': charge_score,\n",
    "        'discharge_score': discharge_score, \n",
    "        'max_charge_score': max_charge_score(df_real_charge.pv_power_mw)\n",
    "    })\n",
    "    \n",
    "    return df_results"
   ]
  },
  {
   "cell_type": "code",
   "execution_count": 20,
   "id": "directed-retailer",
   "metadata": {},
   "outputs": [
    {
     "data": {
      "text/html": [
       "<div>\n",
       "<style scoped>\n",
       "    .dataframe tbody tr th:only-of-type {\n",
       "        vertical-align: middle;\n",
       "    }\n",
       "\n",
       "    .dataframe tbody tr th {\n",
       "        vertical-align: top;\n",
       "    }\n",
       "\n",
       "    .dataframe thead th {\n",
       "        text-align: right;\n",
       "    }\n",
       "</style>\n",
       "<table border=\"1\" class=\"dataframe\">\n",
       "  <thead>\n",
       "    <tr style=\"text-align: right;\">\n",
       "      <th></th>\n",
       "      <th>total_score</th>\n",
       "      <th>charge_score</th>\n",
       "      <th>discharge_score</th>\n",
       "      <th>max_charge_score</th>\n",
       "    </tr>\n",
       "  </thead>\n",
       "  <tbody>\n",
       "    <tr>\n",
       "      <th>2019-12-18</th>\n",
       "      <td>29.979107</td>\n",
       "      <td>1.175000</td>\n",
       "      <td>25.514134</td>\n",
       "      <td>1.175000</td>\n",
       "    </tr>\n",
       "    <tr>\n",
       "      <th>2019-12-19</th>\n",
       "      <td>29.365370</td>\n",
       "      <td>1.110000</td>\n",
       "      <td>26.455289</td>\n",
       "      <td>1.110000</td>\n",
       "    </tr>\n",
       "    <tr>\n",
       "      <th>2019-12-20</th>\n",
       "      <td>81.754416</td>\n",
       "      <td>2.560995</td>\n",
       "      <td>31.922911</td>\n",
       "      <td>2.845000</td>\n",
       "    </tr>\n",
       "    <tr>\n",
       "      <th>2019-12-21</th>\n",
       "      <td>40.112610</td>\n",
       "      <td>1.436667</td>\n",
       "      <td>27.920610</td>\n",
       "      <td>1.436667</td>\n",
       "    </tr>\n",
       "    <tr>\n",
       "      <th>2019-12-22</th>\n",
       "      <td>74.495993</td>\n",
       "      <td>2.495701</td>\n",
       "      <td>29.849722</td>\n",
       "      <td>2.565000</td>\n",
       "    </tr>\n",
       "    <tr>\n",
       "      <th>2019-12-23</th>\n",
       "      <td>65.274868</td>\n",
       "      <td>2.203333</td>\n",
       "      <td>29.625508</td>\n",
       "      <td>2.203333</td>\n",
       "    </tr>\n",
       "    <tr>\n",
       "      <th>2019-12-24</th>\n",
       "      <td>51.001396</td>\n",
       "      <td>1.853652</td>\n",
       "      <td>27.514005</td>\n",
       "      <td>1.880000</td>\n",
       "    </tr>\n",
       "  </tbody>\n",
       "</table>\n",
       "</div>"
      ],
      "text/plain": [
       "            total_score  charge_score  discharge_score  max_charge_score\n",
       "2019-12-18    29.979107      1.175000        25.514134          1.175000\n",
       "2019-12-19    29.365370      1.110000        26.455289          1.110000\n",
       "2019-12-20    81.754416      2.560995        31.922911          2.845000\n",
       "2019-12-21    40.112610      1.436667        27.920610          1.436667\n",
       "2019-12-22    74.495993      2.495701        29.849722          2.565000\n",
       "2019-12-23    65.274868      2.203333        29.625508          2.203333\n",
       "2019-12-24    51.001396      1.853652        27.514005          1.880000"
      ]
     },
     "execution_count": 20,
     "metadata": {},
     "output_type": "execute_result"
    }
   ],
   "source": [
    "submission_fp = '../data/output/ESAIL_set3.csv'\n",
    "\n",
    "df_results = evaluate_submission(submission_fp, intermediate_data_dir)\n",
    "\n",
    "df_results"
   ]
  },
  {
   "cell_type": "markdown",
   "id": "generic-living",
   "metadata": {},
   "source": [
    "<br>\n",
    "\n",
    "We can then calculate our average score over this period"
   ]
  },
  {
   "cell_type": "code",
   "execution_count": 21,
   "id": "american-going",
   "metadata": {},
   "outputs": [
    {
     "data": {
      "text/plain": [
       "53.14053724762648"
      ]
     },
     "execution_count": 21,
     "metadata": {},
     "output_type": "execute_result"
    }
   ],
   "source": [
    "df_results['total_score'].mean()"
   ]
  },
  {
   "cell_type": "markdown",
   "id": "turned-baghdad",
   "metadata": {},
   "source": [
    "<br>\n",
    "\n",
    "### Discharge Model Tuning\n",
    "\n",
    "We'll begin by carrying out some feature selection"
   ]
  },
  {
   "cell_type": "code",
   "execution_count": 22,
   "id": "metropolitan-charter",
   "metadata": {},
   "outputs": [],
   "source": [
    "#exports\n",
    "def feature_selection(x_train, y_train, groups=None, model=RandomForestRegressor(), min_num_features=1, max_num_features=None, **sfs_kwargs):\n",
    "    if max_num_features is None:\n",
    "        max_num_features = 1 + x_train.shape[1]\n",
    "        \n",
    "    result_features = dict()\n",
    "    result_scores = dict()\n",
    "\n",
    "    for num_features in track(range(min_num_features, max_num_features)):\n",
    "        sfs = SFS(\n",
    "            model,\n",
    "            k_features=num_features, \n",
    "            **sfs_kwargs\n",
    "        )\n",
    "\n",
    "        sfs.fit(x_train, y_train, groups=groups)\n",
    "\n",
    "        result_features[num_features] = sfs.k_feature_names_\n",
    "        result_scores[num_features] = sfs.k_score_\n",
    "        \n",
    "    return result_features, result_scores"
   ]
  },
  {
   "cell_type": "code",
   "execution_count": 23,
   "id": "excellent-patch",
   "metadata": {},
   "outputs": [],
   "source": [
    "peak_reduction_scorer = discharge.construct_peak_reduction_calculator(s_demand=s_demand.loc[discharge_x_train.index], scorer=True)\n",
    "week_groups = discharge_x_train.index.year + discharge_x_train.index.isocalendar().week/52\n",
    "\n",
    "rerun_feature_selection = False\n",
    "feature_selection_filename = f'feature_selection.json'\n",
    "\n",
    "if (rerun_feature_selection == True) or (feature_selection_filename not in os.listdir(cache_data_dir)):\n",
    "    result_features, result_scores = feature_selection(discharge_x_train, discharge_y_train, groups=week_groups, n_jobs=-1)\n",
    "    \n",
    "    with open(f'{cache_data_dir}/{feature_selection_filename}', 'w') as fp:\n",
    "        json.dump(dict(zip(['features', 'scores'], [result_features, result_scores])), fp)\n",
    "        \n",
    "else:\n",
    "    with open(f'{cache_data_dir}/{feature_selection_filename}', 'r') as fp:\n",
    "        results = json.load(fp)\n",
    "        \n",
    "    result_features, result_scores = results['features'], results['scores']"
   ]
  },
  {
   "cell_type": "markdown",
   "id": "plain-refund",
   "metadata": {},
   "source": [
    "<br>\n",
    "\n",
    "We can visualise how the model accuracy changes with the number of features included"
   ]
  },
  {
   "cell_type": "code",
   "execution_count": 24,
   "id": "dangerous-production",
   "metadata": {},
   "outputs": [
    {
     "data": {
      "text/plain": [
       "<AxesSubplot:>"
      ]
     },
     "execution_count": 24,
     "metadata": {},
     "output_type": "execute_result"
    },
    {
     "data": {
      "image/png": "[encoded data removed]",
      "text/plain": [
       "<Figure size 432x288 with 1 Axes>"
      ]
     },
     "metadata": {
      "needs_background": "light"
     },
     "output_type": "display_data"
    }
   ],
   "source": [
    "pd.Series(result_scores).plot()"
   ]
  },
  {
   "cell_type": "markdown",
   "id": "interpreted-briefing",
   "metadata": {},
   "source": [
    "<br>\n",
    "\n",
    "We'll also calculate the relative importance of each feature by counting how many times they were included in the optimal feature subset"
   ]
  },
  {
   "cell_type": "code",
   "execution_count": 25,
   "id": "another-chaos",
   "metadata": {},
   "outputs": [
    {
     "data": {
      "text/plain": [
       "hour                         1.000000\n",
       "doy                          0.933333\n",
       "temp_location4               0.866667\n",
       "weekend                      0.666667\n",
       "SP_demand_7d_lag             0.666667\n",
       "evening_demand_avg_7d_lag    0.600000\n",
       "evening_demand_max_7d_lag    0.600000\n",
       "temp_location3               0.533333\n",
       "temp_location2               0.466667\n",
       "daily_avg_temp               0.466667\n",
       "spatial_avg_temp             0.400000\n",
       "temp_location1               0.333333\n",
       "temp_location6               0.200000\n",
       "dow                          0.133333\n",
       "temp_location5               0.133333\n",
       "dtype: float64"
      ]
     },
     "execution_count": 25,
     "metadata": {},
     "output_type": "execute_result"
    }
   ],
   "source": [
    "flatten_iterables = lambda iterable: [item for sublist in list(iterable) for item in sublist]\n",
    "\n",
    "s_feature_importance = pd.Series(flatten_iterables(result_features.values())).value_counts().divide(len(result_features))\n",
    "\n",
    "s_feature_importance"
   ]
  },
  {
   "cell_type": "markdown",
   "id": "completed-editor",
   "metadata": {},
   "source": [
    "<br>\n",
    "\n",
    "We'll now do some hyper-parameter tuning using the `skopt` library"
   ]
  },
  {
   "cell_type": "code",
   "execution_count": 26,
   "id": "casual-branch",
   "metadata": {
    "tags": []
   },
   "outputs": [],
   "source": [
    "features = s_feature_importance.index[:11]\n",
    "evening_datetimes = discharge.extract_evening_datetimes(discharge_x_train)\n",
    "week_groups = discharge_x_train.index.year + discharge_x_train.index.isocalendar().week/52\n",
    "peak_reduction_scorer = discharge.construct_peak_reduction_calculator(s_demand=s_demand, scorer=True)\n",
    "\n",
    "pipeline = Pipeline([\n",
    "    # Add in oversampling of more recent/similar dates\n",
    "    ('pandas_RF', utils.PandasRandomForestRegressor())\n",
    "])\n",
    "\n",
    "search_spaces = {\n",
    "        'pandas_RF__min_samples_leaf': Integer(1, 20, 'uniform'),\n",
    "        'pandas_RF__criterion': Categorical(['mse', 'mae']),\n",
    "        'pandas_RF__n_estimators': Integer(50, 250, 'uniform'),\n",
    "        'pandas_RF__max_features': Categorical(['auto', 'sqrt']),\n",
    "        'pandas_RF__max_depth': Integer(10, 50, 'uniform'),\n",
    "        'pandas_RF__min_samples_split': Integer(2, 10, 'uniform'),\n",
    "        'pandas_RF__min_samples_leaf': Integer(1, 4, 'uniform'),\n",
    "        'pandas_RF__bootstrap': Categorical([True, False])\n",
    "}\n",
    "\n",
    "opt = utils.BayesSearchCV(\n",
    "    pipeline,\n",
    "    search_spaces,\n",
    "    n_iter=15,\n",
    "    verbose=1,\n",
    "    cv=8, # 8 works well for me as that's how many concurrent workers I can use\n",
    "    scoring=peak_reduction_scorer,\n",
    "    n_jobs=-1\n",
    ")\n",
    "\n",
    "fit_BayesSearchCV = False\n",
    "\n",
    "if fit_BayesSearchCV == True:\n",
    "    opt.fit(discharge_x_train[features], discharge_y_train, groups=evening_datetimes.date)\n",
    "\n",
    "    print(f'Cross-validation score: {opt.best_score_:.2f}')\n",
    "    print(f'Hold-out score: {opt.score(discharge_x_test[features], discharge_y_test):.2f}')\n",
    "    print(f'\\nBest params: \\n{opt.best_params_}')"
   ]
  },
  {
   "cell_type": "code",
   "execution_count": 27,
   "id": "useful-zambia",
   "metadata": {},
   "outputs": [],
   "source": [
    "# Cross-validation score: 91.20\n",
    "# Hold-out score: 80.95\n",
    "\n",
    "# Cross-validation score: 91.94\n",
    "# Hold-out score: 80.49\n",
    "\n",
    "# ['hour', 'doy', 'temp_location4', 'weekend', 'evening_demand_max_7d_lag', 'daily_avg_temp', 'SP_demand_7d_lag', 'evening_demand_avg_7d_lag', 'temp_location1']\n",
    "# 2 iters\n",
    "# Cross-validation score: 92.75 \n",
    "# Hold-out score: 81.64\n",
    "\n",
    "# \n",
    "# 15 iters\n",
    "# Cross-validation score:  \n",
    "# Hold-out score: "
   ]
  },
  {
   "cell_type": "code",
   "execution_count": null,
   "id": "boolean-destruction",
   "metadata": {},
   "outputs": [],
   "source": []
  },
  {
   "cell_type": "code",
   "execution_count": 28,
   "id": "dirty-income",
   "metadata": {},
   "outputs": [],
   "source": [
    "# want to be saving model runs\n",
    "# could include as part of a callback?"
   ]
  },
  {
   "cell_type": "markdown",
   "id": "found-product",
   "metadata": {},
   "source": [
    "<br>\n",
    "\n",
    "### Model Comparisons\n",
    "\n",
    "Here we'll compare our discharge v pv-forecast modelling approaches"
   ]
  },
  {
   "cell_type": "code",
   "execution_count": 29,
   "id": "exposed-arrest",
   "metadata": {},
   "outputs": [],
   "source": [
    "index = pd.date_range('2019-03-02', '2019-03-09 23:30', freq='30T', tz='UTC')"
   ]
  },
  {
   "cell_type": "code",
   "execution_count": null,
   "id": "bizarre-physics",
   "metadata": {},
   "outputs": [],
   "source": []
  },
  {
   "cell_type": "code",
   "execution_count": 30,
   "id": "sunrise-configuration",
   "metadata": {},
   "outputs": [
    {
     "ename": "TypeError",
     "evalue": "optimise_test_discharge_profile() got an unexpected keyword argument 'index'",
     "output_type": "error",
     "traceback": [
      "\u001b[0;31m---------------------------------------------------------------------------\u001b[0m",
      "\u001b[0;31mTypeError\u001b[0m                                 Traceback (most recent call last)",
      "\u001b[0;32m<timed exec>\u001b[0m in \u001b[0;36m<module>\u001b[0;34m\u001b[0m\n",
      "\u001b[0;31mTypeError\u001b[0m: optimise_test_discharge_profile() got an unexpected keyword argument 'index'"
     ]
    }
   ],
   "source": [
    "%%time\n",
    "\n",
    "discharge_opt_model_fp = '../models/discharge_opt.sav'\n",
    "\n",
    "X, y = discharge.prepare_training_input_data(intermediate_data_dir)\n",
    "idxs_to_keep = sorted(list(set(X.index) - set(index)))\n",
    "X, y = X.loc[idxs_to_keep], y.loc[idxs_to_keep]\n",
    "\n",
    "discharge.fit_and_save_model(X, y, discharge_opt_model_fp)\n",
    "s_discharge_profile = discharge.optimise_test_discharge_profile(raw_data_dir, intermediate_data_dir, discharge_opt_model_fp, index=index)\n",
    "\n",
    "s_discharge_profile.plot()"
   ]
  },
  {
   "cell_type": "code",
   "execution_count": null,
   "id": "literary-observer",
   "metadata": {},
   "outputs": [],
   "source": []
  },
  {
   "cell_type": "code",
   "execution_count": 31,
   "id": "parliamentary-bullet",
   "metadata": {},
   "outputs": [
    {
     "name": "stdout",
     "output_type": "stream",
     "text": [
      "2017-11-10 00:00:00+00:00    0.0\n",
      "2017-11-10 00:30:00+00:00    0.0\n",
      "2017-11-10 01:00:00+00:00    0.0\n",
      "2017-11-10 01:30:00+00:00    0.0\n",
      "2017-11-10 02:00:00+00:00    0.0\n",
      "                            ... \n",
      "2020-07-02 21:30:00+00:00    0.0\n",
      "2020-07-02 22:00:00+00:00    0.0\n",
      "2020-07-02 22:30:00+00:00    0.0\n",
      "2020-07-02 23:00:00+00:00    0.0\n",
      "2020-07-02 23:30:00+00:00    0.0\n",
      "Freq: 30T, Name: pv_power_mw, Length: 46368, dtype: float64\n"
     ]
    },
    {
     "ename": "TypeError",
     "evalue": "optimise_test_charge_profile() got an unexpected keyword argument 'index'",
     "output_type": "error",
     "traceback": [
      "\u001b[0;31m---------------------------------------------------------------------------\u001b[0m",
      "\u001b[0;31mTypeError\u001b[0m                                 Traceback (most recent call last)",
      "\u001b[0;32m<ipython-input-31-20756b2b7f69>\u001b[0m in \u001b[0;36m<module>\u001b[0;34m\u001b[0m\n\u001b[1;32m      6\u001b[0m \u001b[0;34m\u001b[0m\u001b[0m\n\u001b[1;32m      7\u001b[0m \u001b[0mcharge\u001b[0m\u001b[0;34m.\u001b[0m\u001b[0mfit_and_save_charging_model\u001b[0m\u001b[0;34m(\u001b[0m\u001b[0mX\u001b[0m\u001b[0;34m,\u001b[0m \u001b[0my\u001b[0m\u001b[0;34m,\u001b[0m \u001b[0mcharge_opt_model_fp\u001b[0m\u001b[0;34m)\u001b[0m\u001b[0;34m\u001b[0m\u001b[0;34m\u001b[0m\u001b[0m\n\u001b[0;32m----> 8\u001b[0;31m \u001b[0ms_charge_profile\u001b[0m \u001b[0;34m=\u001b[0m \u001b[0mcharge\u001b[0m\u001b[0;34m.\u001b[0m\u001b[0moptimise_test_charge_profile\u001b[0m\u001b[0;34m(\u001b[0m\u001b[0mraw_data_dir\u001b[0m\u001b[0;34m,\u001b[0m \u001b[0mintermediate_data_dir\u001b[0m\u001b[0;34m,\u001b[0m \u001b[0mcharge_opt_model_fp\u001b[0m\u001b[0;34m,\u001b[0m \u001b[0mindex\u001b[0m\u001b[0;34m=\u001b[0m\u001b[0mindex\u001b[0m\u001b[0;34m)\u001b[0m\u001b[0;34m\u001b[0m\u001b[0;34m\u001b[0m\u001b[0m\n\u001b[0m\u001b[1;32m      9\u001b[0m \u001b[0;34m\u001b[0m\u001b[0m\n\u001b[1;32m     10\u001b[0m \u001b[0ms_charge_profile\u001b[0m\u001b[0;34m.\u001b[0m\u001b[0mplot\u001b[0m\u001b[0;34m(\u001b[0m\u001b[0;34m)\u001b[0m\u001b[0;34m\u001b[0m\u001b[0;34m\u001b[0m\u001b[0m\n",
      "\u001b[0;31mTypeError\u001b[0m: optimise_test_charge_profile() got an unexpected keyword argument 'index'"
     ]
    }
   ],
   "source": [
    "charge_opt_model_fp = '../models/charge_opt.sav'\n",
    "\n",
    "X, y = charge.prepare_training_input_data(intermediate_data_dir, start_hour=5)\n",
    "idxs_to_keep = sorted(list(set(X.index) - set(index)))\n",
    "X, y = X.loc[idxs_to_keep], y.loc[idxs_to_keep]\n",
    "\n",
    "charge.fit_and_save_charging_model(X, y, charge_opt_model_fp)\n",
    "s_charge_profile = charge.optimise_test_charge_profile(raw_data_dir, intermediate_data_dir, charge_opt_model_fp, index=index)\n",
    "\n",
    "s_charge_profile.plot()"
   ]
  },
  {
   "cell_type": "code",
   "execution_count": null,
   "id": "endangered-aside",
   "metadata": {},
   "outputs": [],
   "source": []
  },
  {
   "cell_type": "code",
   "execution_count": null,
   "id": "adopted-state",
   "metadata": {},
   "outputs": [],
   "source": [
    "pv_model_fp = '../models/pv_model.sav'\n",
    "\n",
    "X, y = pv.prepare_training_input_data(intermediate_data_dir, start_hour=5)\n",
    "idxs_to_keep = sorted(list(set(X.index) - set(index)))\n",
    "X, y = X.loc[idxs_to_keep], y.loc[idxs_to_keep]\n",
    "\n",
    "pv.fit_and_save_pv_model(X, y, pv_model_fp)\n",
    "s_charge_profile = pv.optimise_test_charge_profile(raw_data_dir, intermediate_data_dir, pv_model_fp, index=index)\n",
    "\n",
    "s_charge_profile.plot()"
   ]
  },
  {
   "cell_type": "code",
   "execution_count": null,
   "id": "accompanied-compiler",
   "metadata": {
    "tags": []
   },
   "outputs": [],
   "source": []
  },
  {
   "cell_type": "code",
   "execution_count": null,
   "id": "continuing-detector",
   "metadata": {},
   "outputs": [],
   "source": [
    "pv_model_fp = '../models/pv_model.sav'\n",
    "\n",
    "X, y = pv.prepare_training_input_data(intermediate_data_dir, start_hour=5)\n",
    "idxs_to_keep = sorted(list(set(X.index) - set(index)))\n",
    "X, y = X.loc[idxs_to_keep], y.loc[idxs_to_keep]\n",
    "\n",
    "pv.fit_and_save_pv_model(X, y, pv_model_fp, model_class=RandomForestRegressor)\n",
    "s_charge_profile = pv.optimise_test_charge_profile(raw_data_dir, intermediate_data_dir, pv_model_fp, index=index)\n",
    "\n",
    "s_charge_profile.plot()"
   ]
  },
  {
   "cell_type": "code",
   "execution_count": null,
   "id": "comparative-vocabulary",
   "metadata": {},
   "outputs": [],
   "source": []
  },
  {
   "cell_type": "code",
   "execution_count": null,
   "id": "aggregate-guarantee",
   "metadata": {},
   "outputs": [],
   "source": [
    "submission = (s_discharge_profile+s_charge_profile).to_frame(name='charge_MW')\n",
    "\n",
    "df_results = evaluate_submission(submission, intermediate_data_dir)\n",
    "\n",
    "df_results"
   ]
  },
  {
   "cell_type": "code",
   "execution_count": null,
   "id": "comparative-contact",
   "metadata": {},
   "outputs": [],
   "source": []
  },
  {
   "cell_type": "code",
   "execution_count": null,
   "id": "excited-rebound",
   "metadata": {},
   "outputs": [],
   "source": [
    "df_results['total_score'].mean()"
   ]
  },
  {
   "cell_type": "code",
   "execution_count": null,
   "id": "waiting-alliance",
   "metadata": {},
   "outputs": [],
   "source": []
  },
  {
   "cell_type": "code",
   "execution_count": null,
   "id": "exempt-rocket",
   "metadata": {},
   "outputs": [],
   "source": [
    "submission = (s_discharge_profile+s_charge_profile).to_frame(name='charge_MW')\n",
    "\n",
    "df_results = evaluate_submission(submission, intermediate_data_dir)\n",
    "\n",
    "df_results['total_score'].mean()"
   ]
  },
  {
   "cell_type": "code",
   "execution_count": null,
   "id": "modern-psychiatry",
   "metadata": {},
   "outputs": [],
   "source": [
    "# compare performance of RF v linear\n",
    "# as well as PV v charging"
   ]
  },
  {
   "cell_type": "code",
   "execution_count": null,
   "id": "circular-application",
   "metadata": {},
   "outputs": [],
   "source": []
  },
  {
   "cell_type": "markdown",
   "id": "iraqi-negotiation",
   "metadata": {},
   "source": [
    "<br>\n",
    "\n",
    "Finally we'll export the relevant code to our `batopt` module"
   ]
  },
  {
   "cell_type": "code",
   "execution_count": 10,
   "id": "rubber-testimony",
   "metadata": {},
   "outputs": [
    {
     "name": "stdout",
     "output_type": "stream",
     "text": [
      "Converted 00-utilities.ipynb.\n",
      "Converted 01-retrieval.ipynb.\n",
      "Converted 02-cleaning.ipynb.\n",
      "Converted 03-charging.ipynb.\n",
      "Converted 04-discharging.ipynb.\n",
      "Converted 05-constraints.ipynb.\n",
      "Converted 06-tuning.ipynb.\n",
      "Converted 07-charging-nn.ipynb.\n",
      "Converted 08-pv-forecast.ipynb.\n",
      "Converted 09-christmas.ipynb.\n",
      "Converted 09-pipeline.ipynb.\n",
      "Converted 10-pipeline.ipynb.\n",
      "Converted 11-covid.ipynb.\n",
      "Converted Untitled.ipynb.\n"
     ]
    }
   ],
   "source": [
    "#hide\n",
    "from nbdev.export import notebook2script\n",
    "    \n",
    "notebook2script()"
   ]
  },
  {
   "cell_type": "code",
   "execution_count": null,
   "id": "intense-retrieval",
   "metadata": {},
   "outputs": [],
   "source": []
  }
 ],
 "metadata": {
  "kernelspec": {
   "display_name": "Python 3",
   "language": "python",
   "name": "python3"
  },
  "language_info": {
   "codemirror_mode": {
    "name": "ipython",
    "version": 3
   },
   "file_extension": ".py",
   "mimetype": "text/x-python",
   "name": "python",
   "nbconvert_exporter": "python",
   "pygments_lexer": "ipython3",
   "version": "3.9.1"
  }
 },
 "nbformat": 4,
 "nbformat_minor": 5
}
