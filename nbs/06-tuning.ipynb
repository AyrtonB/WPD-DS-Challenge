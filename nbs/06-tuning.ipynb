{
 "cells": [
  {
   "cell_type": "code",
   "execution_count": 10,
   "id": "regional-prospect",
   "metadata": {},
   "outputs": [],
   "source": [
    "#default_exp tuning"
   ]
  },
  {
   "cell_type": "markdown",
   "id": "enhanced-jefferson",
   "metadata": {},
   "source": [
    "# Tuning\n",
    "\n",
    "<br>\n",
    "\n",
    "### Imports"
   ]
  },
  {
   "cell_type": "code",
   "execution_count": 11,
   "id": "related-mayor",
   "metadata": {},
   "outputs": [],
   "source": [
    "#exports\n",
    "import json\n",
    "import numpy as np\n",
    "import pandas as pd\n",
    "\n",
    "from sklearn.ensemble import RandomForestRegressor\n",
    "from sklearn.pipeline import Pipeline\n",
    "from mlxtend.feature_selection import SequentialFeatureSelector as SFS\n",
    "from skopt.plots import plot_objective\n",
    "from skopt.space import Real, Categorical, Integer\n",
    "\n",
    "from batopt import clean, discharge, charge, utils\n",
    "\n",
    "import os\n",
    "from ipypb import track"
   ]
  },
  {
   "cell_type": "code",
   "execution_count": 12,
   "id": "outstanding-wedding",
   "metadata": {},
   "outputs": [],
   "source": [
    "import FEAutils as hlp\n",
    "import matplotlib.pyplot as plt\n",
    "\n",
    "from IPython.display import JSON"
   ]
  },
  {
   "cell_type": "markdown",
   "id": "portuguese-willow",
   "metadata": {},
   "source": [
    "<br>\n",
    "\n",
    "### User Inputs"
   ]
  },
  {
   "cell_type": "code",
   "execution_count": 13,
   "id": "manufactured-clear",
   "metadata": {},
   "outputs": [],
   "source": [
    "intermediate_data_dir = '../data/intermediate'\n",
    "cache_data_dir = '../data/nb-cache'"
   ]
  },
  {
   "cell_type": "markdown",
   "id": "determined-simple",
   "metadata": {},
   "source": [
    "<br>\n",
    "\n",
    "### Preparing Data\n",
    "\n",
    "First we'll load in the target and feature data for both the charging and discharging models"
   ]
  },
  {
   "cell_type": "code",
   "execution_count": 14,
   "id": "natural-block",
   "metadata": {},
   "outputs": [
    {
     "data": {
      "text/html": [
       "<div>\n",
       "<style scoped>\n",
       "    .dataframe tbody tr th:only-of-type {\n",
       "        vertical-align: middle;\n",
       "    }\n",
       "\n",
       "    .dataframe tbody tr th {\n",
       "        vertical-align: top;\n",
       "    }\n",
       "\n",
       "    .dataframe thead th {\n",
       "        text-align: right;\n",
       "    }\n",
       "</style>\n",
       "<table border=\"1\" class=\"dataframe\">\n",
       "  <thead>\n",
       "    <tr style=\"text-align: right;\">\n",
       "      <th></th>\n",
       "      <th>temp_location1</th>\n",
       "      <th>temp_location2</th>\n",
       "      <th>temp_location3</th>\n",
       "      <th>temp_location4</th>\n",
       "      <th>temp_location5</th>\n",
       "      <th>temp_location6</th>\n",
       "      <th>pv_7d_lag</th>\n",
       "      <th>solar_location2</th>\n",
       "      <th>solar_location3</th>\n",
       "      <th>solar_location5</th>\n",
       "      <th>solar_location6</th>\n",
       "      <th>sin_hour</th>\n",
       "      <th>cos_hour</th>\n",
       "      <th>sin_doy</th>\n",
       "      <th>cos_doy</th>\n",
       "    </tr>\n",
       "  </thead>\n",
       "  <tbody>\n",
       "    <tr>\n",
       "      <th>2017-11-10 05:00:00+00:00</th>\n",
       "      <td>12.190</td>\n",
       "      <td>12.07</td>\n",
       "      <td>11.880</td>\n",
       "      <td>11.29</td>\n",
       "      <td>13.37</td>\n",
       "      <td>13.43</td>\n",
       "      <td>0.00</td>\n",
       "      <td>0.00</td>\n",
       "      <td>0.00</td>\n",
       "      <td>0.000</td>\n",
       "      <td>0.00</td>\n",
       "      <td>0.965926</td>\n",
       "      <td>2.588190e-01</td>\n",
       "      <td>-0.769415</td>\n",
       "      <td>0.638749</td>\n",
       "    </tr>\n",
       "    <tr>\n",
       "      <th>2017-11-10 05:30:00+00:00</th>\n",
       "      <td>12.145</td>\n",
       "      <td>12.13</td>\n",
       "      <td>11.745</td>\n",
       "      <td>11.20</td>\n",
       "      <td>13.44</td>\n",
       "      <td>13.52</td>\n",
       "      <td>0.00</td>\n",
       "      <td>0.00</td>\n",
       "      <td>0.00</td>\n",
       "      <td>0.000</td>\n",
       "      <td>0.00</td>\n",
       "      <td>0.991445</td>\n",
       "      <td>1.305262e-01</td>\n",
       "      <td>-0.769415</td>\n",
       "      <td>0.638749</td>\n",
       "    </tr>\n",
       "    <tr>\n",
       "      <th>2017-11-10 06:00:00+00:00</th>\n",
       "      <td>12.100</td>\n",
       "      <td>12.19</td>\n",
       "      <td>11.610</td>\n",
       "      <td>11.11</td>\n",
       "      <td>13.51</td>\n",
       "      <td>13.61</td>\n",
       "      <td>0.00</td>\n",
       "      <td>0.00</td>\n",
       "      <td>0.00</td>\n",
       "      <td>0.000</td>\n",
       "      <td>0.00</td>\n",
       "      <td>1.000000</td>\n",
       "      <td>6.123234e-17</td>\n",
       "      <td>-0.769415</td>\n",
       "      <td>0.638749</td>\n",
       "    </tr>\n",
       "    <tr>\n",
       "      <th>2017-11-10 06:30:00+00:00</th>\n",
       "      <td>11.985</td>\n",
       "      <td>12.05</td>\n",
       "      <td>11.315</td>\n",
       "      <td>10.85</td>\n",
       "      <td>13.52</td>\n",
       "      <td>13.62</td>\n",
       "      <td>0.00</td>\n",
       "      <td>0.55</td>\n",
       "      <td>0.52</td>\n",
       "      <td>0.575</td>\n",
       "      <td>0.66</td>\n",
       "      <td>0.991445</td>\n",
       "      <td>-1.305262e-01</td>\n",
       "      <td>-0.769415</td>\n",
       "      <td>0.638749</td>\n",
       "    </tr>\n",
       "    <tr>\n",
       "      <th>2017-11-10 07:00:00+00:00</th>\n",
       "      <td>11.870</td>\n",
       "      <td>11.91</td>\n",
       "      <td>11.020</td>\n",
       "      <td>10.59</td>\n",
       "      <td>13.53</td>\n",
       "      <td>13.63</td>\n",
       "      <td>0.02</td>\n",
       "      <td>1.10</td>\n",
       "      <td>1.04</td>\n",
       "      <td>1.150</td>\n",
       "      <td>1.32</td>\n",
       "      <td>0.965926</td>\n",
       "      <td>-2.588190e-01</td>\n",
       "      <td>-0.769415</td>\n",
       "      <td>0.638749</td>\n",
       "    </tr>\n",
       "  </tbody>\n",
       "</table>\n",
       "</div>"
      ],
      "text/plain": [
       "                           temp_location1  temp_location2  temp_location3  \\\n",
       "2017-11-10 05:00:00+00:00          12.190           12.07          11.880   \n",
       "2017-11-10 05:30:00+00:00          12.145           12.13          11.745   \n",
       "2017-11-10 06:00:00+00:00          12.100           12.19          11.610   \n",
       "2017-11-10 06:30:00+00:00          11.985           12.05          11.315   \n",
       "2017-11-10 07:00:00+00:00          11.870           11.91          11.020   \n",
       "\n",
       "                           temp_location4  temp_location5  temp_location6  \\\n",
       "2017-11-10 05:00:00+00:00           11.29           13.37           13.43   \n",
       "2017-11-10 05:30:00+00:00           11.20           13.44           13.52   \n",
       "2017-11-10 06:00:00+00:00           11.11           13.51           13.61   \n",
       "2017-11-10 06:30:00+00:00           10.85           13.52           13.62   \n",
       "2017-11-10 07:00:00+00:00           10.59           13.53           13.63   \n",
       "\n",
       "                           pv_7d_lag  solar_location2  solar_location3  \\\n",
       "2017-11-10 05:00:00+00:00       0.00             0.00             0.00   \n",
       "2017-11-10 05:30:00+00:00       0.00             0.00             0.00   \n",
       "2017-11-10 06:00:00+00:00       0.00             0.00             0.00   \n",
       "2017-11-10 06:30:00+00:00       0.00             0.55             0.52   \n",
       "2017-11-10 07:00:00+00:00       0.02             1.10             1.04   \n",
       "\n",
       "                           solar_location5  solar_location6  sin_hour  \\\n",
       "2017-11-10 05:00:00+00:00            0.000             0.00  0.965926   \n",
       "2017-11-10 05:30:00+00:00            0.000             0.00  0.991445   \n",
       "2017-11-10 06:00:00+00:00            0.000             0.00  1.000000   \n",
       "2017-11-10 06:30:00+00:00            0.575             0.66  0.991445   \n",
       "2017-11-10 07:00:00+00:00            1.150             1.32  0.965926   \n",
       "\n",
       "                               cos_hour   sin_doy   cos_doy  \n",
       "2017-11-10 05:00:00+00:00  2.588190e-01 -0.769415  0.638749  \n",
       "2017-11-10 05:30:00+00:00  1.305262e-01 -0.769415  0.638749  \n",
       "2017-11-10 06:00:00+00:00  6.123234e-17 -0.769415  0.638749  \n",
       "2017-11-10 06:30:00+00:00 -1.305262e-01 -0.769415  0.638749  \n",
       "2017-11-10 07:00:00+00:00 -2.588190e-01 -0.769415  0.638749  "
      ]
     },
     "execution_count": 14,
     "metadata": {},
     "output_type": "execute_result"
    }
   ],
   "source": [
    "charge_x, charge_y = charge.prepare_training_input_data(intermediate_data_dir)\n",
    "discharge_x, discharge_y = discharge.prepare_training_input_data(intermediate_data_dir)\n",
    "\n",
    "charge_x.head()"
   ]
  },
  {
   "cell_type": "code",
   "execution_count": null,
   "id": "necessary-dispute",
   "metadata": {},
   "outputs": [],
   "source": []
  },
  {
   "cell_type": "code",
   "execution_count": 15,
   "id": "talented-mother",
   "metadata": {},
   "outputs": [
    {
     "data": {
      "text/plain": [
       "datetime\n",
       "2017-11-03 00:00:00+00:00    2.19\n",
       "2017-11-03 00:30:00+00:00    2.14\n",
       "2017-11-03 01:00:00+00:00    2.01\n",
       "2017-11-03 01:30:00+00:00    1.87\n",
       "2017-11-03 02:00:00+00:00    1.86\n",
       "Freq: 30T, Name: demand_MW, dtype: float64"
      ]
     },
     "execution_count": 15,
     "metadata": {},
     "output_type": "execute_result"
    }
   ],
   "source": [
    "s_demand = clean.load_training_dataset(intermediate_data_dir, 'demand')['demand_MW']\n",
    "\n",
    "s_demand.head()"
   ]
  },
  {
   "cell_type": "code",
   "execution_count": null,
   "id": "indirect-delivery",
   "metadata": {},
   "outputs": [],
   "source": []
  },
  {
   "cell_type": "code",
   "execution_count": 16,
   "id": "raising-universal",
   "metadata": {},
   "outputs": [
    {
     "data": {
      "text/plain": [
       "datetime\n",
       "2017-11-03 00:00:00+00:00    0.0\n",
       "2017-11-03 00:30:00+00:00    0.0\n",
       "2017-11-03 01:00:00+00:00    0.0\n",
       "2017-11-03 01:30:00+00:00    0.0\n",
       "2017-11-03 02:00:00+00:00    0.0\n",
       "Freq: 30T, Name: pv_power_mw, dtype: float64"
      ]
     },
     "execution_count": 16,
     "metadata": {},
     "output_type": "execute_result"
    }
   ],
   "source": [
    "s_pv = clean.load_training_dataset(intermediate_data_dir, 'pv')['pv_power_mw']\n",
    "\n",
    "s_pv.head()"
   ]
  },
  {
   "cell_type": "code",
   "execution_count": null,
   "id": "universal-george",
   "metadata": {},
   "outputs": [],
   "source": []
  },
  {
   "cell_type": "code",
   "execution_count": 17,
   "id": "subject-canvas",
   "metadata": {},
   "outputs": [],
   "source": [
    "def get_train_test(arr, start_of_test_period): \n",
    "    train_arr = arr[:pd.to_datetime(start_of_test_period, utc=True)]\n",
    "    test_arr = arr[pd.to_datetime(start_of_test_period, utc=True):]\n",
    "    \n",
    "    return train_arr, test_arr\n",
    "\n",
    "start_of_test_period = '2018-09-15'\n",
    "\n",
    "charge_x_train, charge_x_test = get_train_test(charge_x, start_of_test_period)\n",
    "charge_y_train, charge_y_test = get_train_test(charge_y, start_of_test_period)\n",
    "discharge_x_train, discharge_x_test = get_train_test(discharge_x, start_of_test_period)\n",
    "discharge_y_train, discharge_y_test = get_train_test(discharge_y, start_of_test_period)"
   ]
  },
  {
   "cell_type": "markdown",
   "id": "flying-thursday",
   "metadata": {},
   "source": [
    "<br>\n",
    "\n",
    "### Evaluation Metrics\n",
    "\n",
    "We want to evaluate each of our models based on their contribution to the final scoring value, to do this we'll first create some predictions for our discharge model."
   ]
  },
  {
   "cell_type": "code",
   "execution_count": 18,
   "id": "apart-indonesia",
   "metadata": {},
   "outputs": [
    {
     "data": {
      "text/plain": [
       "<AxesSubplot:>"
      ]
     },
     "execution_count": 18,
     "metadata": {},
     "output_type": "execute_result"
    },
    {
     "data": {
      "image/png": "[encoded data removed]",
      "text/plain": [
       "<Figure size 432x288 with 1 Axes>"
      ]
     },
     "metadata": {
      "needs_background": "light"
     },
     "output_type": "display_data"
    }
   ],
   "source": [
    "discharge_rf = RandomForestRegressor()\n",
    "\n",
    "discharge_rf.fit(discharge_x_train, discharge_y_train)\n",
    "discharge_y_pred = pd.Series(discharge_rf.predict(discharge_x_test), index=discharge_x_test.index)\n",
    "\n",
    "discharge_y_pred.plot()"
   ]
  },
  {
   "cell_type": "markdown",
   "id": "intelligent-passage",
   "metadata": {},
   "source": [
    "<br>\n",
    "\n",
    "We'll then create a time-series of the percentage peak reduction for each day"
   ]
  },
  {
   "cell_type": "code",
   "execution_count": 19,
   "id": "underlying-socket",
   "metadata": {},
   "outputs": [],
   "source": [
    "#exports\n",
    "def calculate_pct_peak_reduction_s(discharge_y_pred, s_demand):\n",
    "    s_demand_test = s_demand.loc[discharge_y_pred.index]\n",
    "\n",
    "    s_old_peaks = s_demand_test.groupby(s_demand_test.index.date).max()\n",
    "    s_new_peaks = (s_demand_test+discharge_y_pred).groupby(s_demand_test.index.date).max()\n",
    "\n",
    "    s_pct_peak_reduction = 100*(s_old_peaks - s_new_peaks)/s_new_peaks\n",
    "    s_pct_peak_reduction.index = pd.to_datetime(s_pct_peak_reduction.index)\n",
    "\n",
    "    return s_pct_peak_reduction"
   ]
  },
  {
   "cell_type": "code",
   "execution_count": 20,
   "id": "stylish-celtic",
   "metadata": {},
   "outputs": [
    {
     "name": "stdout",
     "output_type": "stream",
     "text": [
      "The average peak reduction was 45.26%\n"
     ]
    },
    {
     "data": {
      "text/plain": [
       "<AxesSubplot:>"
      ]
     },
     "execution_count": 20,
     "metadata": {},
     "output_type": "execute_result"
    },
    {
     "data": {
      "image/png": "[encoded data removed]",
      "text/plain": [
       "<Figure size 432x288 with 1 Axes>"
      ]
     },
     "metadata": {
      "needs_background": "light"
     },
     "output_type": "display_data"
    }
   ],
   "source": [
    "s_pct_peak_reduction = calculate_pct_peak_reduction_s(discharge_y_pred, s_demand)\n",
    "\n",
    "print(f'The average peak reduction was {s_pct_peak_reduction.mean():.2f}%')\n",
    "\n",
    "s_pct_peak_reduction.plot()"
   ]
  },
  {
   "cell_type": "markdown",
   "id": "following-location",
   "metadata": {},
   "source": [
    "<br>\n",
    "\n",
    "We'll then repeat this with the charging model"
   ]
  },
  {
   "cell_type": "code",
   "execution_count": 21,
   "id": "japanese-sword",
   "metadata": {},
   "outputs": [
    {
     "data": {
      "text/plain": [
       "<AxesSubplot:>"
      ]
     },
     "execution_count": 21,
     "metadata": {},
     "output_type": "execute_result"
    },
    {
     "data": {
      "image/png": "[encoded data removed]",
      "text/plain": [
       "<Figure size 432x288 with 1 Axes>"
      ]
     },
     "metadata": {
      "needs_background": "light"
     },
     "output_type": "display_data"
    }
   ],
   "source": [
    "charge_rf = RandomForestRegressor()\n",
    "\n",
    "charge_rf.fit(charge_x_train, charge_y_train)\n",
    "charge_y_pred = pd.Series(charge_rf.predict(charge_x_test), index=charge_x_test.index)\n",
    "\n",
    "charge_y_pred.plot()"
   ]
  },
  {
   "cell_type": "markdown",
   "id": "pediatric-edwards",
   "metadata": {},
   "source": [
    "<br>\n",
    "\n",
    "For which we'll calculate the emissions factor series"
   ]
  },
  {
   "cell_type": "code",
   "execution_count": 22,
   "id": "developing-candidate",
   "metadata": {},
   "outputs": [],
   "source": [
    "#exports\n",
    "def calculate_emissions_factor_s(charge_y_pred, s_pv, solar_factor=3, grid_factor=1):\n",
    "    s_solar_charge_pct = (charge_y_pred - s_pv.loc[charge_y_pred.index]).clip(0).groupby(charge_y_pred.index.date).sum()/charge_y_pred.groupby(charge_y_pred.index.date).sum()\n",
    "    s_grid_charge_pct = 1 - s_solar_charge_pct\n",
    "\n",
    "    s_emissions_factor = solar_factor*s_solar_charge_pct + grid_factor*s_grid_charge_pct\n",
    "    s_emissions_factor.index = pd.to_datetime(s_emissions_factor.index)\n",
    "\n",
    "    return s_emissions_factor"
   ]
  },
  {
   "cell_type": "code",
   "execution_count": 23,
   "id": "addressed-executive",
   "metadata": {},
   "outputs": [
    {
     "data": {
      "text/plain": [
       "<AxesSubplot:>"
      ]
     },
     "execution_count": 23,
     "metadata": {},
     "output_type": "execute_result"
    },
    {
     "data": {
      "image/png": "[encoded data removed]",
      "text/plain": [
       "<Figure size 432x288 with 1 Axes>"
      ]
     },
     "metadata": {
      "needs_background": "light"
     },
     "output_type": "display_data"
    }
   ],
   "source": [
    "s_emissions_factor = calculate_emissions_factor_s(charge_y_pred, s_pv)\n",
    "\n",
    "s_emissions_factor.plot()"
   ]
  },
  {
   "cell_type": "markdown",
   "id": "southwest-testimony",
   "metadata": {},
   "source": [
    "<br>\n",
    "\n",
    "We can then combine these two steps to determine our final score for each day"
   ]
  },
  {
   "cell_type": "code",
   "execution_count": 24,
   "id": "front-integration",
   "metadata": {},
   "outputs": [],
   "source": [
    "#export\n",
    "def calculate_score_s(discharge_y_pred, charge_y_pred, s_demand, s_pv, solar_factor=3, grid_factor=1):\n",
    "    s_pct_peak_reduction = calculate_pct_peak_reduction_s(discharge_y_pred, s_demand)\n",
    "    s_emissions_factor = calculate_emissions_factor_s(charge_y_pred, s_pv, solar_factor=solar_factor, grid_factor=grid_factor)\n",
    "    \n",
    "    s_score = s_pct_peak_reduction*s_emissions_factor\n",
    "    \n",
    "    return s_score"
   ]
  },
  {
   "cell_type": "code",
   "execution_count": 25,
   "id": "apparent-welding",
   "metadata": {},
   "outputs": [
    {
     "name": "stdout",
     "output_type": "stream",
     "text": [
      "The average score was: 59.70\n"
     ]
    },
    {
     "data": {
      "text/plain": [
       "<AxesSubplot:>"
      ]
     },
     "execution_count": 25,
     "metadata": {},
     "output_type": "execute_result"
    },
    {
     "data": {
      "image/png": "[encoded data removed]",
      "text/plain": [
       "<Figure size 432x288 with 1 Axes>"
      ]
     },
     "metadata": {
      "needs_background": "light"
     },
     "output_type": "display_data"
    }
   ],
   "source": [
    "s_score = calculate_score_s(discharge_y_pred, charge_y_pred, s_demand, s_pv)\n",
    "\n",
    "print(f'The average score was: {s_score.mean():.2f}')\n",
    "\n",
    "s_score.plot()"
   ]
  },
  {
   "cell_type": "markdown",
   "id": "useful-elder",
   "metadata": {},
   "source": [
    "<br>\n",
    "\n",
    "For the charging we can also look at how much was sourced from PV relative to the potential maximum (capped at 6 MWh per day)."
   ]
  },
  {
   "cell_type": "code",
   "execution_count": 26,
   "id": "artistic-harvey",
   "metadata": {},
   "outputs": [
    {
     "data": {
      "text/plain": [
       "<AxesSubplot:>"
      ]
     },
     "execution_count": 26,
     "metadata": {},
     "output_type": "execute_result"
    },
    {
     "data": {
      "image/png": "[encoded data removed]",
      "text/plain": [
       "<Figure size 432x288 with 1 Axes>"
      ]
     },
     "metadata": {
      "needs_background": "light"
     },
     "output_type": "display_data"
    }
   ],
   "source": [
    "solar_charge = np.minimum(charge_y_pred, s_pv.loc[charge_y_pred.index])\n",
    "day_solar_charge = solar_charge.groupby(solar_charge.index.date).sum().clip(0,12)\n",
    "day_solar_charge.index = pd.to_datetime(day_solar_charge.index)\n",
    "\n",
    "solar_potential = np.clip(s_pv.loc[charge_y_pred.index], 0, 2.5)\n",
    "day_solar_potential = solar_potential.groupby(solar_potential.index.date).sum().clip(0,12)\n",
    "day_solar_potential.index = pd.to_datetime(day_solar_potential.index)\n",
    "\n",
    "day_solar_charge.plot()\n",
    "day_solar_potential.plot()"
   ]
  },
  {
   "cell_type": "code",
   "execution_count": 27,
   "id": "ideal-inside",
   "metadata": {},
   "outputs": [
    {
     "data": {
      "text/plain": [
       "Text(0, 0.5, '% exploited')"
      ]
     },
     "execution_count": 27,
     "metadata": {},
     "output_type": "execute_result"
    },
    {
     "data": {
      "image/png": "[encoded data removed]",
      "text/plain": [
       "<Figure size 432x288 with 1 Axes>"
      ]
     },
     "metadata": {
      "needs_background": "light"
     },
     "output_type": "display_data"
    }
   ],
   "source": [
    "pct_exploit = 100 * day_solar_charge/day_solar_potential\n",
    "pct_exploit.plot()\n",
    "plt.ylabel('% exploited')"
   ]
  },
  {
   "cell_type": "markdown",
   "id": "rubber-latin",
   "metadata": {},
   "source": [
    "<br>\n",
    "\n",
    "### Discharge Model Tuning\n",
    "\n",
    "We'll begin by carrying out some feature selection"
   ]
  },
  {
   "cell_type": "code",
   "execution_count": 28,
   "id": "broken-theater",
   "metadata": {},
   "outputs": [],
   "source": [
    "#exports\n",
    "def feature_selection(x_train, y_train, groups=None, model=RandomForestRegressor(), min_num_features=1, max_num_features=None, **sfs_kwargs):\n",
    "    if max_num_features is None:\n",
    "        max_num_features = 1 + x_train.shape[1]\n",
    "        \n",
    "    result_features = dict()\n",
    "    result_scores = dict()\n",
    "\n",
    "    for num_features in track(range(min_num_features, max_num_features)):\n",
    "        sfs = SFS(\n",
    "            model,\n",
    "            k_features=num_features, \n",
    "            **sfs_kwargs\n",
    "        )\n",
    "\n",
    "        sfs.fit(x_train, y_train, groups=groups)\n",
    "\n",
    "        result_features[num_features] = sfs.k_feature_names_\n",
    "        result_scores[num_features] = sfs.k_score_\n",
    "        \n",
    "    return result_features, result_scores"
   ]
  },
  {
   "cell_type": "code",
   "execution_count": 29,
   "id": "czech-destiny",
   "metadata": {},
   "outputs": [],
   "source": [
    "peak_reduction_scorer = discharge.construct_peak_reduction_calculator(s_demand=s_demand.loc[discharge_x_train.index], scorer=True)\n",
    "week_groups = discharge_x_train.index.year + discharge_x_train.index.isocalendar().week/52\n",
    "\n",
    "rerun_feature_selection = False\n",
    "feature_selection_filename = f'feature_selection.json'\n",
    "\n",
    "if (rerun_feature_selection == True) or (feature_selection_filename not in os.listdir(cache_data_dir)):\n",
    "    result_features, result_scores = feature_selection(discharge_x_train, discharge_y_train, groups=week_groups, n_jobs=-1)\n",
    "    \n",
    "    with open(f'{cache_data_dir}/{feature_selection_filename}', 'w') as fp:\n",
    "        json.dump(dict(zip(['features', 'scores'], [result_features, result_scores])), fp)\n",
    "        \n",
    "else:\n",
    "    with open(f'{cache_data_dir}/{feature_selection_filename}', 'r') as fp:\n",
    "        results = json.load(fp)\n",
    "        \n",
    "    result_features, result_scores = results['features'], results['scores']"
   ]
  },
  {
   "cell_type": "markdown",
   "id": "separate-religion",
   "metadata": {},
   "source": [
    "<br>\n",
    "\n",
    "We can visualise how the model accuracy changes with the number of features included"
   ]
  },
  {
   "cell_type": "code",
   "execution_count": 30,
   "id": "considered-confidence",
   "metadata": {},
   "outputs": [
    {
     "data": {
      "text/plain": [
       "<AxesSubplot:>"
      ]
     },
     "execution_count": 30,
     "metadata": {},
     "output_type": "execute_result"
    },
    {
     "data": {
      "image/png": "[encoded data removed]",
      "text/plain": [
       "<Figure size 432x288 with 1 Axes>"
      ]
     },
     "metadata": {
      "needs_background": "light"
     },
     "output_type": "display_data"
    }
   ],
   "source": [
    "pd.Series(result_scores).plot()"
   ]
  },
  {
   "cell_type": "markdown",
   "id": "marked-heading",
   "metadata": {},
   "source": [
    "<br>\n",
    "\n",
    "We'll also calculate the relative importance of each feature by counting how many times they were included in the optimal feature subset"
   ]
  },
  {
   "cell_type": "code",
   "execution_count": 31,
   "id": "young-design",
   "metadata": {},
   "outputs": [
    {
     "data": {
      "text/plain": [
       "hour                         1.000000\n",
       "doy                          0.933333\n",
       "temp_location4               0.866667\n",
       "weekend                      0.666667\n",
       "SP_demand_7d_lag             0.666667\n",
       "evening_demand_max_7d_lag    0.600000\n",
       "evening_demand_avg_7d_lag    0.600000\n",
       "temp_location3               0.533333\n",
       "daily_avg_temp               0.466667\n",
       "temp_location2               0.466667\n",
       "spatial_avg_temp             0.400000\n",
       "temp_location1               0.333333\n",
       "temp_location6               0.200000\n",
       "dow                          0.133333\n",
       "temp_location5               0.133333\n",
       "dtype: float64"
      ]
     },
     "execution_count": 31,
     "metadata": {},
     "output_type": "execute_result"
    }
   ],
   "source": [
    "flatten_iterables = lambda iterable: [item for sublist in list(iterable) for item in sublist]\n",
    "\n",
    "s_feature_importance = pd.Series(flatten_iterables(result_features.values())).value_counts().divide(len(result_features))\n",
    "\n",
    "s_feature_importance"
   ]
  },
  {
   "cell_type": "code",
   "execution_count": 32,
   "id": "reserved-earthquake",
   "metadata": {},
   "outputs": [],
   "source": [
    "# hour                         1.000000\n",
    "# doy                          0.933333\n",
    "# temp_location4               0.866667\n",
    "# weekend                      0.733333\n",
    "# evening_demand_max_7d_lag    0.600000\n",
    "# daily_avg_temp               0.600000\n",
    "# SP_demand_7d_lag             0.600000\n",
    "# evening_demand_avg_7d_lag    0.533333\n",
    "# temp_location1               0.533333\n",
    "# temp_location3               0.466667\n",
    "# temp_location2               0.333333\n",
    "# spatial_avg_temp             0.333333\n",
    "# temp_location5               0.200000\n",
    "# dow                          0.133333\n",
    "# temp_location6               0.133333\n",
    "\n",
    "## Much slower backwards calculation\n",
    "# evening_demand_avg_7d_lag    1.000000\n",
    "# SP_demand_7d_lag             0.933333\n",
    "# temp_location4               0.866667\n",
    "# hour                         0.800000\n",
    "# evening_demand_max_7d_lag    0.733333\n",
    "# temp_location6               0.666667\n",
    "# weekend                      0.400000\n",
    "# daily_avg_temp               0.400000\n",
    "# temp_location5               0.400000\n",
    "# temp_location2               0.400000\n",
    "# temp_location3               0.400000\n",
    "# temp_location1               0.333333\n",
    "# spatial_avg_temp             0.333333\n",
    "# dow                          0.266667\n",
    "# doy                          0.066667"
   ]
  },
  {
   "cell_type": "code",
   "execution_count": null,
   "id": "contemporary-legislation",
   "metadata": {},
   "outputs": [],
   "source": []
  },
  {
   "cell_type": "markdown",
   "id": "confirmed-whole",
   "metadata": {},
   "source": [
    "<br>\n",
    "\n",
    "We'll now do some hyper-parameter tuning using the `skopt` library"
   ]
  },
  {
   "cell_type": "code",
   "execution_count": 33,
   "id": "smooth-winning",
   "metadata": {
    "tags": []
   },
   "outputs": [],
   "source": [
    "# Look at plotting callback - https://github.com/scikit-optimize/scikit-optimize/issues/576#issuecomment-507395129\n",
    "\n",
    "features = s_feature_importance.index[:11]\n",
    "evening_datetimes = discharge.extract_evening_datetimes(discharge_x_train)\n",
    "week_groups = discharge_x_train.index.year + discharge_x_train.index.isocalendar().week/52\n",
    "peak_reduction_scorer = discharge.construct_peak_reduction_calculator(s_demand=s_demand, scorer=True)\n",
    "\n",
    "pipeline = Pipeline([\n",
    "    # Add in oversampling of more recent/similar dates\n",
    "    ('pandas_RF', utils.PandasRandomForestRegressor())\n",
    "])\n",
    "\n",
    "search_spaces = {\n",
    "        'pandas_RF__min_samples_leaf': Integer(1, 20, 'uniform'),\n",
    "        'pandas_RF__criterion': Categorical(['mse', 'mae']),\n",
    "        'pandas_RF__n_estimators': Integer(50, 250, 'uniform'),\n",
    "        'pandas_RF__max_features': Categorical(['auto', 'sqrt']),\n",
    "        'pandas_RF__max_depth': Integer(10, 50, 'uniform'),\n",
    "        'pandas_RF__min_samples_split': Integer(2, 10, 'uniform'),\n",
    "        'pandas_RF__min_samples_leaf': Integer(1, 4, 'uniform'),\n",
    "        'pandas_RF__bootstrap': Categorical([True, False])\n",
    "}\n",
    "\n",
    "opt = utils.BayesSearchCV(\n",
    "    pipeline,\n",
    "    search_spaces,\n",
    "    n_iter=15,\n",
    "    verbose=1,\n",
    "    cv=8, # 8 works well for me as that's how many concurrent workers I can use\n",
    "    scoring=peak_reduction_scorer,\n",
    "    n_jobs=-1\n",
    ")\n",
    "\n",
    "fit_BayesSearchCV = False\n",
    "\n",
    "if fit_BayesSearchCV == True:\n",
    "    opt.fit(discharge_x_train[features], discharge_y_train, groups=evening_datetimes.date)\n",
    "\n",
    "    print(f'Cross-validation score: {opt.best_score_:.2f}')\n",
    "    print(f'Hold-out score: {opt.score(discharge_x_test[features], discharge_y_test):.2f}')\n",
    "    print(f'\\nBest params: \\n{opt.best_params_}')"
   ]
  },
  {
   "cell_type": "code",
   "execution_count": 34,
   "id": "figured-shoot",
   "metadata": {},
   "outputs": [],
   "source": [
    "# Cross-validation score: 91.20\n",
    "# Hold-out score: 80.95\n",
    "\n",
    "# Cross-validation score: 91.94\n",
    "# Hold-out score: 80.49\n",
    "\n",
    "# ['hour', 'doy', 'temp_location4', 'weekend', 'evening_demand_max_7d_lag', 'daily_avg_temp', 'SP_demand_7d_lag', 'evening_demand_avg_7d_lag', 'temp_location1']\n",
    "# 2 iters\n",
    "# Cross-validation score: 92.75 \n",
    "# Hold-out score: 81.64\n",
    "\n",
    "# \n",
    "# 15 iters\n",
    "# Cross-validation score:  \n",
    "# Hold-out score: "
   ]
  },
  {
   "cell_type": "code",
   "execution_count": null,
   "id": "undefined-investigation",
   "metadata": {},
   "outputs": [],
   "source": []
  },
  {
   "cell_type": "code",
   "execution_count": 35,
   "id": "accessible-stuff",
   "metadata": {},
   "outputs": [],
   "source": [
    "# want to be saving model runs\n",
    "# could include as part of a callback?"
   ]
  },
  {
   "cell_type": "code",
   "execution_count": null,
   "id": "undefined-husband",
   "metadata": {},
   "outputs": [],
   "source": []
  },
  {
   "cell_type": "markdown",
   "id": "extended-chamber",
   "metadata": {},
   "source": [
    "### Evaluating previous submissions\n",
    "\n",
    "Some simple code for seeing how we did in previous tasks. "
   ]
  },
  {
   "cell_type": "code",
   "execution_count": 40,
   "id": "national-receiver",
   "metadata": {},
   "outputs": [],
   "source": [
    "#export\n",
    "\n",
    "def score_charging(schedule, solar_profile, solar_factor=3, grid_factor=1):\n",
    "    # The actual pv charge is the minimum of the scheduled charge and the actual solar availability \n",
    "    actual_pv_charge = np.minimum(schedule.values, solar_profile.values)\n",
    "    actual_pv_charge = pd.Series(actual_pv_charge, index=schedule.index)\n",
    "        \n",
    "    pct_pv_charge = actual_pv_charge.groupby(actual_pv_charge.index.date).sum() / schedule.groupby(schedule.index.date).sum()\n",
    "    pct_grid_charge = 1 - pct_pv_charge\n",
    "    \n",
    "    score = (solar_factor * pct_pv_charge) + (grid_factor * pct_grid_charge)\n",
    "    \n",
    "    return score\n",
    "\n",
    "def score_discharge(schedule, demand):\n",
    "    \n",
    "    new_demand = schedule + demand\n",
    "    old_demand = demand\n",
    "    \n",
    "    new_peaks = new_demand.groupby(new_demand.index.date).max()\n",
    "    old_peaks = old_demand.groupby(old_demand.index.date).max()\n",
    "        \n",
    "    pct_reduction = 100*((old_peaks - new_peaks)/ old_peaks)\n",
    "    \n",
    "    return pct_reduction\n",
    "       \n",
    "def calculate_score_s(discharge_y_pred, charge_y_pred, s_demand, s_pv, solar_factor=3, grid_factor=1):\n",
    "    \n",
    "    charge_score = score_charging(charge_y_pred, s_pv, solar_factor, grid_factor)\n",
    "    discharge_score = score_discharge(discharge_y_pred, s_demand)\n",
    "    \n",
    "    s_score = discharge_score*charge_score\n",
    "    \n",
    "    return s_score, charge_score, discharge_score\n",
    "\n",
    "def evaluate_submission(submission_fn, raw_data_dir, intermediate_data_dir):\n",
    "\n",
    "    solution = pd.read_csv(submission_fn)\n",
    "    solution = solution.set_index(pd.to_datetime(solution.datetime, utc=True))\n",
    "\n",
    "    real = clean.combine_training_datasets(raw_data_dir)\n",
    "    real = real[real.index.isin(solution.index)]\n",
    "\n",
    "    solution_charge = solution.between_time('00:00', '15:00')\n",
    "    solution_discharge = solution.between_time('15:30', '21:00')\n",
    "\n",
    "    real_charge = real.between_time('00:00', '15:00')\n",
    "    real_discharge = real.between_time('15:30', '21:00')\n",
    "\n",
    "    total_score, charge_score, discharge_score = calculate_score_s(solution_discharge.charge_MW, solution_charge.charge_MW, real_discharge.demand_MW, real_charge.pv_power_mw)\n",
    "\n",
    "    df = pd.DataFrame({'total_score': total_score,\n",
    "              'charge_score': charge_score,\n",
    "              'discharge_score': discharge_score})\n",
    "    \n",
    "    return df"
   ]
  },
  {
   "cell_type": "code",
   "execution_count": 42,
   "id": "parliamentary-morning",
   "metadata": {},
   "outputs": [
    {
     "data": {
      "text/html": [
       "<div>\n",
       "<style scoped>\n",
       "    .dataframe tbody tr th:only-of-type {\n",
       "        vertical-align: middle;\n",
       "    }\n",
       "\n",
       "    .dataframe tbody tr th {\n",
       "        vertical-align: top;\n",
       "    }\n",
       "\n",
       "    .dataframe thead th {\n",
       "        text-align: right;\n",
       "    }\n",
       "</style>\n",
       "<table border=\"1\" class=\"dataframe\">\n",
       "  <thead>\n",
       "    <tr style=\"text-align: right;\">\n",
       "      <th></th>\n",
       "      <th>total_score</th>\n",
       "      <th>charge_score</th>\n",
       "      <th>discharge_score</th>\n",
       "    </tr>\n",
       "  </thead>\n",
       "  <tbody>\n",
       "    <tr>\n",
       "      <th>2018-10-16</th>\n",
       "      <td>73.607253</td>\n",
       "      <td>2.233147</td>\n",
       "      <td>32.961222</td>\n",
       "    </tr>\n",
       "    <tr>\n",
       "      <th>2018-10-17</th>\n",
       "      <td>72.253164</td>\n",
       "      <td>2.236906</td>\n",
       "      <td>32.300485</td>\n",
       "    </tr>\n",
       "    <tr>\n",
       "      <th>2018-10-18</th>\n",
       "      <td>96.790603</td>\n",
       "      <td>2.908664</td>\n",
       "      <td>33.276649</td>\n",
       "    </tr>\n",
       "    <tr>\n",
       "      <th>2018-10-19</th>\n",
       "      <td>85.974964</td>\n",
       "      <td>2.693434</td>\n",
       "      <td>31.920200</td>\n",
       "    </tr>\n",
       "    <tr>\n",
       "      <th>2018-10-20</th>\n",
       "      <td>96.725441</td>\n",
       "      <td>3.000000</td>\n",
       "      <td>32.241814</td>\n",
       "    </tr>\n",
       "    <tr>\n",
       "      <th>2018-10-21</th>\n",
       "      <td>103.235508</td>\n",
       "      <td>3.000000</td>\n",
       "      <td>34.411836</td>\n",
       "    </tr>\n",
       "    <tr>\n",
       "      <th>2018-10-22</th>\n",
       "      <td>99.611573</td>\n",
       "      <td>3.000000</td>\n",
       "      <td>33.203858</td>\n",
       "    </tr>\n",
       "  </tbody>\n",
       "</table>\n",
       "</div>"
      ],
      "text/plain": [
       "            total_score  charge_score  discharge_score\n",
       "2018-10-16    73.607253      2.233147        32.961222\n",
       "2018-10-17    72.253164      2.236906        32.300485\n",
       "2018-10-18    96.790603      2.908664        33.276649\n",
       "2018-10-19    85.974964      2.693434        31.920200\n",
       "2018-10-20    96.725441      3.000000        32.241814\n",
       "2018-10-21   103.235508      3.000000        34.411836\n",
       "2018-10-22    99.611573      3.000000        33.203858"
      ]
     },
     "execution_count": 42,
     "metadata": {},
     "output_type": "execute_result"
    }
   ],
   "source": [
    "evaluate_submission('../data/output/ESAIL_set1.csv', raw_data_dir, intermediate_data_dir)"
   ]
  },
  {
   "cell_type": "markdown",
   "id": "organized-ireland",
   "metadata": {},
   "source": [
    "<br>\n",
    "\n",
    "Finally we'll export the relevant code to our `batopt` module"
   ]
  },
  {
   "cell_type": "code",
   "execution_count": 38,
   "id": "needed-galaxy",
   "metadata": {},
   "outputs": [
    {
     "name": "stdout",
     "output_type": "stream",
     "text": [
      "Converted 00-utilities.ipynb.\n",
      "Converted 01-retrieval.ipynb.\n",
      "Converted 02-cleaning.ipynb.\n",
      "Converted 03-charging.ipynb.\n",
      "Converted 04-discharging.ipynb.\n",
      "Converted 05-constraints.ipynb.\n",
      "Converted 06-tuning.ipynb.\n",
      "Converted 07-charging-nn.ipynb.\n",
      "Converted 08-pv-forecast.ipynb.\n",
      "Converted 09-pipeline.ipynb.\n",
      "Converted Untitled.ipynb.\n"
     ]
    }
   ],
   "source": [
    "#hide\n",
    "from nbdev.export import notebook2script\n",
    "    \n",
    "notebook2script()"
   ]
  },
  {
   "cell_type": "code",
   "execution_count": null,
   "id": "direct-means",
   "metadata": {},
   "outputs": [],
   "source": []
  }
 ],
 "metadata": {
  "kernelspec": {
   "display_name": "Python 3",
   "language": "python",
   "name": "python3"
  },
  "language_info": {
   "codemirror_mode": {
    "name": "ipython",
    "version": 3
   },
   "file_extension": ".py",
   "mimetype": "text/x-python",
   "name": "python",
   "nbconvert_exporter": "python",
   "pygments_lexer": "ipython3",
   "version": "3.9.1"
  }
 },
 "nbformat": 4,
 "nbformat_minor": 5
}
