{
 "cells": [
  {
   "cell_type": "code",
   "execution_count": null,
   "id": "alert-reaction",
   "metadata": {},
   "outputs": [],
   "source": [
    "#default_exp clean"
   ]
  },
  {
   "cell_type": "markdown",
   "id": "ongoing-communication",
   "metadata": {},
   "source": [
    "# Data Cleaning\n",
    "\n",
    "<br>\n",
    "\n",
    "### Imports"
   ]
  },
  {
   "cell_type": "code",
   "execution_count": null,
   "id": "future-monitor",
   "metadata": {},
   "outputs": [],
   "source": [
    "#exports\n",
    "import numpy as np\n",
    "import pandas as pd\n",
    "\n",
    "import seaborn as sns\n",
    "import matplotlib.pyplot as plt\n",
    "\n",
    "from sklearn.model_selection import KFold\n",
    "from sklearn.metrics import mean_absolute_error, mean_squared_error\n",
    "from sklearn.linear_model import LinearRegression\n",
    "from sklearn.ensemble import RandomForestRegressor, GradientBoostingRegressor\n",
    "\n",
    "import os\n",
    "import glob\n",
    "from ipypb import track\n",
    "\n",
    "from batopt import utils"
   ]
  },
  {
   "cell_type": "code",
   "execution_count": null,
   "id": "immediate-census",
   "metadata": {},
   "outputs": [],
   "source": [
    "from IPython.display import JSON"
   ]
  },
  {
   "cell_type": "markdown",
   "id": "daily-celebrity",
   "metadata": {},
   "source": [
    "<br>\n",
    "\n",
    "### User Inputs"
   ]
  },
  {
   "cell_type": "code",
   "execution_count": null,
   "id": "continuing-forestry",
   "metadata": {},
   "outputs": [],
   "source": [
    "raw_data_dir = '../data/raw'\n",
    "cache_data_dir = '../data/nb-cache'"
   ]
  },
  {
   "cell_type": "markdown",
   "id": "metallic-conviction",
   "metadata": {},
   "source": [
    "<br>\n",
    "\n",
    "### Loading the Raw Data\n",
    "\n",
    "We'll start by loading in the demand data"
   ]
  },
  {
   "cell_type": "code",
   "execution_count": null,
   "id": "productive-switzerland",
   "metadata": {},
   "outputs": [],
   "source": [
    "#exports\n",
    "def reindex_df_dt_idx(df, freq='30T'):\n",
    "    full_dt_idx = pd.date_range(df.index.min(), df.index.max(), freq=freq)\n",
    "    df = df.reindex(full_dt_idx)\n",
    "    \n",
    "    return df\n",
    "\n",
    "def load_training_dataset(raw_data_dir: str, dataset_name: str='demand', parse_dt_idx: bool=True, dt_idx_freq: str='30T') -> pd.DataFrame:\n",
    "    allowed_datasets = ['demand', 'pv', 'weather']\n",
    "    assert dataset_name in allowed_datasets, f\"`dataset_name` must be one of: {', '.join(allowed_datasets)} - not {dataset_name}\"\n",
    "    \n",
    "    df = pd.concat([pd.read_csv(f) for f in glob.glob(f'{raw_data_dir}/{dataset_name}_*.csv')], ignore_index = True)\n",
    "    \n",
    "    if parse_dt_idx == True:\n",
    "        assert 'datetime' in df.columns, 'if `parse_dt_idx` is True then `datetime` must be a column in the dataset'\n",
    "        \n",
    "        df['datetime'] = pd.to_datetime(df['datetime'], utc=True)\n",
    "        df = df.set_index('datetime').pipe(reindex_df_dt_idx, freq=dt_idx_freq).sort_index(axis=1)\n",
    "        df.index.name = 'datetime'\n",
    "\n",
    "    return df"
   ]
  },
  {
   "cell_type": "code",
   "execution_count": null,
   "id": "interstate-valuation",
   "metadata": {},
   "outputs": [
    {
     "data": {
      "text/html": [
       "<div>\n",
       "<style scoped>\n",
       "    .dataframe tbody tr th:only-of-type {\n",
       "        vertical-align: middle;\n",
       "    }\n",
       "\n",
       "    .dataframe tbody tr th {\n",
       "        vertical-align: top;\n",
       "    }\n",
       "\n",
       "    .dataframe thead th {\n",
       "        text-align: right;\n",
       "    }\n",
       "</style>\n",
       "<table border=\"1\" class=\"dataframe\">\n",
       "  <thead>\n",
       "    <tr style=\"text-align: right;\">\n",
       "      <th></th>\n",
       "      <th>demand_MW</th>\n",
       "    </tr>\n",
       "    <tr>\n",
       "      <th>datetime</th>\n",
       "      <th></th>\n",
       "    </tr>\n",
       "  </thead>\n",
       "  <tbody>\n",
       "    <tr>\n",
       "      <th>2017-11-03 00:00:00+00:00</th>\n",
       "      <td>2.19</td>\n",
       "    </tr>\n",
       "    <tr>\n",
       "      <th>2017-11-03 00:30:00+00:00</th>\n",
       "      <td>2.14</td>\n",
       "    </tr>\n",
       "    <tr>\n",
       "      <th>2017-11-03 01:00:00+00:00</th>\n",
       "      <td>2.01</td>\n",
       "    </tr>\n",
       "    <tr>\n",
       "      <th>2017-11-03 01:30:00+00:00</th>\n",
       "      <td>1.87</td>\n",
       "    </tr>\n",
       "    <tr>\n",
       "      <th>2017-11-03 02:00:00+00:00</th>\n",
       "      <td>1.86</td>\n",
       "    </tr>\n",
       "  </tbody>\n",
       "</table>\n",
       "</div>"
      ],
      "text/plain": [
       "                           demand_MW\n",
       "datetime                            \n",
       "2017-11-03 00:00:00+00:00       2.19\n",
       "2017-11-03 00:30:00+00:00       2.14\n",
       "2017-11-03 01:00:00+00:00       2.01\n",
       "2017-11-03 01:30:00+00:00       1.87\n",
       "2017-11-03 02:00:00+00:00       1.86"
      ]
     },
     "execution_count": null,
     "metadata": {},
     "output_type": "execute_result"
    }
   ],
   "source": [
    "df_demand = load_training_dataset(raw_data_dir, 'demand')\n",
    "\n",
    "df_demand.head()"
   ]
  },
  {
   "cell_type": "markdown",
   "id": "associate-category",
   "metadata": {},
   "source": [
    "<br>\n",
    "\n",
    "Then the pv"
   ]
  },
  {
   "cell_type": "code",
   "execution_count": null,
   "id": "adolescent-palestinian",
   "metadata": {},
   "outputs": [
    {
     "data": {
      "text/html": [
       "<div>\n",
       "<style scoped>\n",
       "    .dataframe tbody tr th:only-of-type {\n",
       "        vertical-align: middle;\n",
       "    }\n",
       "\n",
       "    .dataframe tbody tr th {\n",
       "        vertical-align: top;\n",
       "    }\n",
       "\n",
       "    .dataframe thead th {\n",
       "        text-align: right;\n",
       "    }\n",
       "</style>\n",
       "<table border=\"1\" class=\"dataframe\">\n",
       "  <thead>\n",
       "    <tr style=\"text-align: right;\">\n",
       "      <th></th>\n",
       "      <th>irradiance_Wm-2</th>\n",
       "      <th>panel_temp_C</th>\n",
       "      <th>pv_power_mw</th>\n",
       "    </tr>\n",
       "    <tr>\n",
       "      <th>datetime</th>\n",
       "      <th></th>\n",
       "      <th></th>\n",
       "      <th></th>\n",
       "    </tr>\n",
       "  </thead>\n",
       "  <tbody>\n",
       "    <tr>\n",
       "      <th>2017-11-03 00:00:00+00:00</th>\n",
       "      <td>0.0</td>\n",
       "      <td>7.05</td>\n",
       "      <td>0.0</td>\n",
       "    </tr>\n",
       "    <tr>\n",
       "      <th>2017-11-03 00:30:00+00:00</th>\n",
       "      <td>0.0</td>\n",
       "      <td>7.38</td>\n",
       "      <td>0.0</td>\n",
       "    </tr>\n",
       "    <tr>\n",
       "      <th>2017-11-03 01:00:00+00:00</th>\n",
       "      <td>0.0</td>\n",
       "      <td>7.70</td>\n",
       "      <td>0.0</td>\n",
       "    </tr>\n",
       "    <tr>\n",
       "      <th>2017-11-03 01:30:00+00:00</th>\n",
       "      <td>0.0</td>\n",
       "      <td>7.48</td>\n",
       "      <td>0.0</td>\n",
       "    </tr>\n",
       "    <tr>\n",
       "      <th>2017-11-03 02:00:00+00:00</th>\n",
       "      <td>0.0</td>\n",
       "      <td>7.20</td>\n",
       "      <td>0.0</td>\n",
       "    </tr>\n",
       "  </tbody>\n",
       "</table>\n",
       "</div>"
      ],
      "text/plain": [
       "                           irradiance_Wm-2  panel_temp_C  pv_power_mw\n",
       "datetime                                                             \n",
       "2017-11-03 00:00:00+00:00              0.0          7.05          0.0\n",
       "2017-11-03 00:30:00+00:00              0.0          7.38          0.0\n",
       "2017-11-03 01:00:00+00:00              0.0          7.70          0.0\n",
       "2017-11-03 01:30:00+00:00              0.0          7.48          0.0\n",
       "2017-11-03 02:00:00+00:00              0.0          7.20          0.0"
      ]
     },
     "execution_count": null,
     "metadata": {},
     "output_type": "execute_result"
    }
   ],
   "source": [
    "df_pv = load_training_dataset(raw_data_dir, 'pv')\n",
    "\n",
    "df_pv.head()"
   ]
  },
  {
   "cell_type": "markdown",
   "id": "cheap-object",
   "metadata": {},
   "source": [
    "<br>\n",
    "\n",
    "And finally the weather"
   ]
  },
  {
   "cell_type": "code",
   "execution_count": null,
   "id": "affected-combining",
   "metadata": {},
   "outputs": [
    {
     "data": {
      "text/html": [
       "<div>\n",
       "<style scoped>\n",
       "    .dataframe tbody tr th:only-of-type {\n",
       "        vertical-align: middle;\n",
       "    }\n",
       "\n",
       "    .dataframe tbody tr th {\n",
       "        vertical-align: top;\n",
       "    }\n",
       "\n",
       "    .dataframe thead th {\n",
       "        text-align: right;\n",
       "    }\n",
       "</style>\n",
       "<table border=\"1\" class=\"dataframe\">\n",
       "  <thead>\n",
       "    <tr style=\"text-align: right;\">\n",
       "      <th></th>\n",
       "      <th>solar_location1</th>\n",
       "      <th>solar_location2</th>\n",
       "      <th>solar_location3</th>\n",
       "      <th>solar_location4</th>\n",
       "      <th>solar_location5</th>\n",
       "      <th>solar_location6</th>\n",
       "      <th>temp_location1</th>\n",
       "      <th>temp_location2</th>\n",
       "      <th>temp_location3</th>\n",
       "      <th>temp_location4</th>\n",
       "      <th>temp_location5</th>\n",
       "      <th>temp_location6</th>\n",
       "    </tr>\n",
       "    <tr>\n",
       "      <th>datetime</th>\n",
       "      <th></th>\n",
       "      <th></th>\n",
       "      <th></th>\n",
       "      <th></th>\n",
       "      <th></th>\n",
       "      <th></th>\n",
       "      <th></th>\n",
       "      <th></th>\n",
       "      <th></th>\n",
       "      <th></th>\n",
       "      <th></th>\n",
       "      <th></th>\n",
       "    </tr>\n",
       "  </thead>\n",
       "  <tbody>\n",
       "    <tr>\n",
       "      <th>2015-01-01 00:00:00+00:00</th>\n",
       "      <td>0.0</td>\n",
       "      <td>0.0</td>\n",
       "      <td>0.0</td>\n",
       "      <td>0.0</td>\n",
       "      <td>0.0</td>\n",
       "      <td>0.0</td>\n",
       "      <td>9.75</td>\n",
       "      <td>9.65</td>\n",
       "      <td>8.83</td>\n",
       "      <td>7.58</td>\n",
       "      <td>11.62</td>\n",
       "      <td>11.22</td>\n",
       "    </tr>\n",
       "    <tr>\n",
       "      <th>2015-01-01 01:00:00+00:00</th>\n",
       "      <td>0.0</td>\n",
       "      <td>0.0</td>\n",
       "      <td>0.0</td>\n",
       "      <td>0.0</td>\n",
       "      <td>0.0</td>\n",
       "      <td>0.0</td>\n",
       "      <td>9.91</td>\n",
       "      <td>9.76</td>\n",
       "      <td>8.90</td>\n",
       "      <td>7.62</td>\n",
       "      <td>11.65</td>\n",
       "      <td>11.32</td>\n",
       "    </tr>\n",
       "    <tr>\n",
       "      <th>2015-01-01 02:00:00+00:00</th>\n",
       "      <td>0.0</td>\n",
       "      <td>0.0</td>\n",
       "      <td>0.0</td>\n",
       "      <td>0.0</td>\n",
       "      <td>0.0</td>\n",
       "      <td>0.0</td>\n",
       "      <td>9.99</td>\n",
       "      <td>9.80</td>\n",
       "      <td>9.10</td>\n",
       "      <td>7.61</td>\n",
       "      <td>11.65</td>\n",
       "      <td>11.30</td>\n",
       "    </tr>\n",
       "  </tbody>\n",
       "</table>\n",
       "</div>"
      ],
      "text/plain": [
       "                           solar_location1  solar_location2  solar_location3  \\\n",
       "datetime                                                                       \n",
       "2015-01-01 00:00:00+00:00              0.0              0.0              0.0   \n",
       "2015-01-01 01:00:00+00:00              0.0              0.0              0.0   \n",
       "2015-01-01 02:00:00+00:00              0.0              0.0              0.0   \n",
       "\n",
       "                           solar_location4  solar_location5  solar_location6  \\\n",
       "datetime                                                                       \n",
       "2015-01-01 00:00:00+00:00              0.0              0.0              0.0   \n",
       "2015-01-01 01:00:00+00:00              0.0              0.0              0.0   \n",
       "2015-01-01 02:00:00+00:00              0.0              0.0              0.0   \n",
       "\n",
       "                           temp_location1  temp_location2  temp_location3  \\\n",
       "datetime                                                                    \n",
       "2015-01-01 00:00:00+00:00            9.75            9.65            8.83   \n",
       "2015-01-01 01:00:00+00:00            9.91            9.76            8.90   \n",
       "2015-01-01 02:00:00+00:00            9.99            9.80            9.10   \n",
       "\n",
       "                           temp_location4  temp_location5  temp_location6  \n",
       "datetime                                                                   \n",
       "2015-01-01 00:00:00+00:00            7.58           11.62           11.22  \n",
       "2015-01-01 01:00:00+00:00            7.62           11.65           11.32  \n",
       "2015-01-01 02:00:00+00:00            7.61           11.65           11.30  "
      ]
     },
     "execution_count": null,
     "metadata": {},
     "output_type": "execute_result"
    }
   ],
   "source": [
    "df_weather = load_training_dataset(raw_data_dir, 'weather', dt_idx_freq='H')\n",
    "\n",
    "df_weather.head(3)"
   ]
  },
  {
   "cell_type": "markdown",
   "id": "induced-september",
   "metadata": {},
   "source": [
    "single_datasets = dict()\n",
    "dataset_names = ['demand', 'pv', 'weather']\n",
    "\n",
    "for dataset_name in dataset_names:\n",
    "    single_datasets[dataset_name] = load_training_dataset(raw_data_dir, dataset_name)<br>\n",
    "\n",
    "We'll also create a function that reads all of the datasets in at once and then combines them"
   ]
  },
  {
   "cell_type": "code",
   "execution_count": null,
   "id": "selected-maintenance",
   "metadata": {},
   "outputs": [],
   "source": [
    "#exports\n",
    "def combine_training_datasets(raw_data_dir):\n",
    "    single_datasets = dict()\n",
    "    dataset_names = ['demand', 'pv', 'weather']\n",
    "\n",
    "    for dataset_name in dataset_names:\n",
    "        single_datasets[dataset_name] = load_training_dataset(raw_data_dir, dataset_name)\n",
    "    \n",
    "    min_dt = min([df.index.min() for df in single_datasets.values()])\n",
    "    max_dt = max([df.index.max() for df in single_datasets.values()]) + pd.Timedelta(minutes=30)\n",
    "\n",
    "    dt_rng = pd.date_range(min_dt, max_dt, freq='30T')\n",
    "    df_combined = pd.DataFrame(index=dt_rng, columns=dataset_names)\n",
    "    \n",
    "    for dataset_name in dataset_names:\n",
    "        df_single_dataset = single_datasets[dataset_name]\n",
    "        cols_to_be_overwritten = set(df_combined.columns) - (set(df_combined.columns) - set(df_single_dataset.columns))\n",
    "        assert len(cols_to_be_overwritten) == 0, f\"The following columns exist in multiple datasets meaning data would be overwritten: {', '.join(cols_to_be_overwritten)}\"\n",
    "\n",
    "        df_combined[df_single_dataset.columns] = df_single_dataset\n",
    "    \n",
    "    df_combined = df_combined.sort_index()\n",
    "    \n",
    "    return df_combined"
   ]
  },
  {
   "cell_type": "code",
   "execution_count": null,
   "id": "radio-memorabilia",
   "metadata": {},
   "outputs": [
    {
     "data": {
      "text/html": [
       "<div>\n",
       "<style scoped>\n",
       "    .dataframe tbody tr th:only-of-type {\n",
       "        vertical-align: middle;\n",
       "    }\n",
       "\n",
       "    .dataframe tbody tr th {\n",
       "        vertical-align: top;\n",
       "    }\n",
       "\n",
       "    .dataframe thead th {\n",
       "        text-align: right;\n",
       "    }\n",
       "</style>\n",
       "<table border=\"1\" class=\"dataframe\">\n",
       "  <thead>\n",
       "    <tr style=\"text-align: right;\">\n",
       "      <th></th>\n",
       "      <th>demand</th>\n",
       "      <th>pv</th>\n",
       "      <th>weather</th>\n",
       "      <th>demand_MW</th>\n",
       "      <th>irradiance_Wm-2</th>\n",
       "      <th>panel_temp_C</th>\n",
       "      <th>pv_power_mw</th>\n",
       "      <th>solar_location1</th>\n",
       "      <th>solar_location2</th>\n",
       "      <th>solar_location3</th>\n",
       "      <th>solar_location4</th>\n",
       "      <th>solar_location5</th>\n",
       "      <th>solar_location6</th>\n",
       "      <th>temp_location1</th>\n",
       "      <th>temp_location2</th>\n",
       "      <th>temp_location3</th>\n",
       "      <th>temp_location4</th>\n",
       "      <th>temp_location5</th>\n",
       "      <th>temp_location6</th>\n",
       "    </tr>\n",
       "  </thead>\n",
       "  <tbody>\n",
       "    <tr>\n",
       "      <th>2015-01-01 00:00:00+00:00</th>\n",
       "      <td>NaN</td>\n",
       "      <td>NaN</td>\n",
       "      <td>NaN</td>\n",
       "      <td>NaN</td>\n",
       "      <td>NaN</td>\n",
       "      <td>NaN</td>\n",
       "      <td>NaN</td>\n",
       "      <td>0.0</td>\n",
       "      <td>0.0</td>\n",
       "      <td>0.0</td>\n",
       "      <td>0.0</td>\n",
       "      <td>0.0</td>\n",
       "      <td>0.0</td>\n",
       "      <td>9.75</td>\n",
       "      <td>9.65</td>\n",
       "      <td>8.83</td>\n",
       "      <td>7.58</td>\n",
       "      <td>11.62</td>\n",
       "      <td>11.22</td>\n",
       "    </tr>\n",
       "    <tr>\n",
       "      <th>2015-01-01 00:30:00+00:00</th>\n",
       "      <td>NaN</td>\n",
       "      <td>NaN</td>\n",
       "      <td>NaN</td>\n",
       "      <td>NaN</td>\n",
       "      <td>NaN</td>\n",
       "      <td>NaN</td>\n",
       "      <td>NaN</td>\n",
       "      <td>NaN</td>\n",
       "      <td>NaN</td>\n",
       "      <td>NaN</td>\n",
       "      <td>NaN</td>\n",
       "      <td>NaN</td>\n",
       "      <td>NaN</td>\n",
       "      <td>NaN</td>\n",
       "      <td>NaN</td>\n",
       "      <td>NaN</td>\n",
       "      <td>NaN</td>\n",
       "      <td>NaN</td>\n",
       "      <td>NaN</td>\n",
       "    </tr>\n",
       "    <tr>\n",
       "      <th>2015-01-01 01:00:00+00:00</th>\n",
       "      <td>NaN</td>\n",
       "      <td>NaN</td>\n",
       "      <td>NaN</td>\n",
       "      <td>NaN</td>\n",
       "      <td>NaN</td>\n",
       "      <td>NaN</td>\n",
       "      <td>NaN</td>\n",
       "      <td>0.0</td>\n",
       "      <td>0.0</td>\n",
       "      <td>0.0</td>\n",
       "      <td>0.0</td>\n",
       "      <td>0.0</td>\n",
       "      <td>0.0</td>\n",
       "      <td>9.91</td>\n",
       "      <td>9.76</td>\n",
       "      <td>8.90</td>\n",
       "      <td>7.62</td>\n",
       "      <td>11.65</td>\n",
       "      <td>11.32</td>\n",
       "    </tr>\n",
       "  </tbody>\n",
       "</table>\n",
       "</div>"
      ],
      "text/plain": [
       "                          demand   pv weather  demand_MW  irradiance_Wm-2  \\\n",
       "2015-01-01 00:00:00+00:00    NaN  NaN     NaN        NaN              NaN   \n",
       "2015-01-01 00:30:00+00:00    NaN  NaN     NaN        NaN              NaN   \n",
       "2015-01-01 01:00:00+00:00    NaN  NaN     NaN        NaN              NaN   \n",
       "\n",
       "                           panel_temp_C  pv_power_mw  solar_location1  \\\n",
       "2015-01-01 00:00:00+00:00           NaN          NaN              0.0   \n",
       "2015-01-01 00:30:00+00:00           NaN          NaN              NaN   \n",
       "2015-01-01 01:00:00+00:00           NaN          NaN              0.0   \n",
       "\n",
       "                           solar_location2  solar_location3  solar_location4  \\\n",
       "2015-01-01 00:00:00+00:00              0.0              0.0              0.0   \n",
       "2015-01-01 00:30:00+00:00              NaN              NaN              NaN   \n",
       "2015-01-01 01:00:00+00:00              0.0              0.0              0.0   \n",
       "\n",
       "                           solar_location5  solar_location6  temp_location1  \\\n",
       "2015-01-01 00:00:00+00:00              0.0              0.0            9.75   \n",
       "2015-01-01 00:30:00+00:00              NaN              NaN             NaN   \n",
       "2015-01-01 01:00:00+00:00              0.0              0.0            9.91   \n",
       "\n",
       "                           temp_location2  temp_location3  temp_location4  \\\n",
       "2015-01-01 00:00:00+00:00            9.65            8.83            7.58   \n",
       "2015-01-01 00:30:00+00:00             NaN             NaN             NaN   \n",
       "2015-01-01 01:00:00+00:00            9.76            8.90            7.62   \n",
       "\n",
       "                           temp_location5  temp_location6  \n",
       "2015-01-01 00:00:00+00:00           11.62           11.22  \n",
       "2015-01-01 00:30:00+00:00             NaN             NaN  \n",
       "2015-01-01 01:00:00+00:00           11.65           11.32  "
      ]
     },
     "execution_count": null,
     "metadata": {},
     "output_type": "execute_result"
    }
   ],
   "source": [
    "df_combined = combine_training_datasets(raw_data_dir)\n",
    "\n",
    "df_combined.head(3)"
   ]
  },
  {
   "cell_type": "markdown",
   "id": "enabling-peter",
   "metadata": {},
   "source": [
    "\n",
    "<br>\n",
    "\n",
    "### Identifying Missing Values\n",
    "\n",
    "We'll quickly inspect the datasets and check their coverage over the full date range when aggregated by dataset"
   ]
  },
  {
   "cell_type": "code",
   "execution_count": null,
   "id": "necessary-announcement",
   "metadata": {},
   "outputs": [],
   "source": [
    "#exports\n",
    "def identify_df_dt_entries(df_demand, df_pv, df_weather):\n",
    "    min_dt = min(df_demand.index.min(), df_pv.index.min(), df_weather.index.min())\n",
    "    max_dt = max(df_demand.index.max(), df_pv.index.max(), df_weather.index.max())\n",
    "    \n",
    "    dt_rng = pd.date_range(min_dt, max_dt, freq='30T')\n",
    "    df_nulls = pd.DataFrame(index=dt_rng)\n",
    "    \n",
    "    df_nulls['demand'] = df_demand.reindex(dt_rng).isnull().mean(axis=1).astype(int)\n",
    "    df_nulls['pv'] = df_pv.reindex(dt_rng).isnull().mean(axis=1).astype(int)\n",
    "    df_nulls['weather'] = df_weather.reindex(dt_rng).ffill(limit=1).isnull().mean(axis=1).astype(int)\n",
    "    \n",
    "    df_entries = 1 - df_nulls\n",
    "    \n",
    "    return df_entries"
   ]
  },
  {
   "cell_type": "code",
   "execution_count": null,
   "id": "broadband-fairy",
   "metadata": {},
   "outputs": [
    {
     "data": {
      "text/plain": [
       "<AxesSubplot:>"
      ]
     },
     "execution_count": null,
     "metadata": {},
     "output_type": "execute_result"
    },
    {
     "data": {
      "image/png": "[encoded data removed]",
      "text/plain": [
       "<Figure size 900x600 with 2 Axes>"
      ]
     },
     "metadata": {
      "needs_background": "light"
     },
     "output_type": "display_data"
    }
   ],
   "source": [
    "df_entries = identify_df_dt_entries(df_demand, df_pv, df_weather)\n",
    "\n",
    "# Plotting\n",
    "fig, ax = plt.subplots(dpi=150)\n",
    "\n",
    "sns.heatmap(df_entries.T, ax=ax, cmap=plt.cm.binary)\n",
    "\n",
    "utils.set_date_ticks(ax, '2015-01-01', '2018-07-31', axis='x', freq='Qs', date_format='%b %y')"
   ]
  },
  {
   "cell_type": "markdown",
   "id": "lucky-coalition",
   "metadata": {},
   "source": [
    "<br>\n",
    "\n",
    "We'll also determine the null percentage in each individual column"
   ]
  },
  {
   "cell_type": "code",
   "execution_count": null,
   "id": "laden-plastic",
   "metadata": {},
   "outputs": [
    {
     "data": {
      "text/plain": [
       "demand_MW    0.0\n",
       "dtype: float64"
      ]
     },
     "execution_count": null,
     "metadata": {},
     "output_type": "execute_result"
    }
   ],
   "source": [
    "df_demand.isnull().mean()"
   ]
  },
  {
   "cell_type": "markdown",
   "id": "creative-correlation",
   "metadata": {},
   "source": [
    "<br>\n",
    "\n",
    "We can see that all of the PV data columns are missing some data"
   ]
  },
  {
   "cell_type": "code",
   "execution_count": null,
   "id": "genetic-highlight",
   "metadata": {},
   "outputs": [
    {
     "data": {
      "text/plain": [
       "irradiance_Wm-2    0.001590\n",
       "panel_temp_C       0.005725\n",
       "pv_power_mw        0.001590\n",
       "dtype: float64"
      ]
     },
     "execution_count": null,
     "metadata": {},
     "output_type": "execute_result"
    }
   ],
   "source": [
    "df_pv.isnull().mean()"
   ]
  },
  {
   "cell_type": "markdown",
   "id": "alive-cache",
   "metadata": {},
   "source": [
    "<br>\n",
    "\n",
    "Location 2 is also missing some solar data"
   ]
  },
  {
   "cell_type": "code",
   "execution_count": null,
   "id": "relevant-bangkok",
   "metadata": {},
   "outputs": [
    {
     "data": {
      "text/plain": [
       "solar_location1    0.000000\n",
       "solar_location2    0.000766\n",
       "solar_location3    0.000000\n",
       "solar_location4    0.000000\n",
       "solar_location5    0.000000\n",
       "solar_location6    0.000000\n",
       "temp_location1     0.000000\n",
       "temp_location2     0.000000\n",
       "temp_location3     0.000000\n",
       "temp_location4     0.000000\n",
       "temp_location5     0.000000\n",
       "temp_location6     0.000000\n",
       "dtype: float64"
      ]
     },
     "execution_count": null,
     "metadata": {},
     "output_type": "execute_result"
    }
   ],
   "source": [
    "df_weather.isnull().mean()"
   ]
  },
  {
   "cell_type": "code",
   "execution_count": null,
   "id": "treated-nature",
   "metadata": {},
   "outputs": [],
   "source": [
    "# !!! We also need to handle the two days where demand is constantly 0 !!!\n",
    "# Separately it looks like there's also some anomalous 0 readings for the PV output"
   ]
  },
  {
   "cell_type": "code",
   "execution_count": null,
   "id": "pacific-winning",
   "metadata": {},
   "outputs": [
    {
     "data": {
      "text/plain": [
       "demand_MW    58\n",
       "dtype: int64"
      ]
     },
     "execution_count": null,
     "metadata": {},
     "output_type": "execute_result"
    }
   ],
   "source": [
    "(df_demand==0).sum()"
   ]
  },
  {
   "cell_type": "code",
   "execution_count": null,
   "id": "fossil-consciousness",
   "metadata": {},
   "outputs": [
    {
     "data": {
      "text/html": [
       "<div>\n",
       "<style scoped>\n",
       "    .dataframe tbody tr th:only-of-type {\n",
       "        vertical-align: middle;\n",
       "    }\n",
       "\n",
       "    .dataframe tbody tr th {\n",
       "        vertical-align: top;\n",
       "    }\n",
       "\n",
       "    .dataframe thead th {\n",
       "        text-align: right;\n",
       "    }\n",
       "</style>\n",
       "<table border=\"1\" class=\"dataframe\">\n",
       "  <thead>\n",
       "    <tr style=\"text-align: right;\">\n",
       "      <th></th>\n",
       "      <th>demand_MW</th>\n",
       "    </tr>\n",
       "    <tr>\n",
       "      <th>datetime</th>\n",
       "      <th></th>\n",
       "    </tr>\n",
       "  </thead>\n",
       "  <tbody>\n",
       "    <tr>\n",
       "      <th>2018-05-08 08:00:00+00:00</th>\n",
       "      <td>0.0</td>\n",
       "    </tr>\n",
       "    <tr>\n",
       "      <th>2018-05-08 08:30:00+00:00</th>\n",
       "      <td>0.0</td>\n",
       "    </tr>\n",
       "    <tr>\n",
       "      <th>2018-05-08 09:00:00+00:00</th>\n",
       "      <td>0.0</td>\n",
       "    </tr>\n",
       "    <tr>\n",
       "      <th>2018-05-08 09:30:00+00:00</th>\n",
       "      <td>0.0</td>\n",
       "    </tr>\n",
       "    <tr>\n",
       "      <th>2018-05-08 10:00:00+00:00</th>\n",
       "      <td>0.0</td>\n",
       "    </tr>\n",
       "  </tbody>\n",
       "</table>\n",
       "</div>"
      ],
      "text/plain": [
       "                           demand_MW\n",
       "datetime                            \n",
       "2018-05-08 08:00:00+00:00        0.0\n",
       "2018-05-08 08:30:00+00:00        0.0\n",
       "2018-05-08 09:00:00+00:00        0.0\n",
       "2018-05-08 09:30:00+00:00        0.0\n",
       "2018-05-08 10:00:00+00:00        0.0"
      ]
     },
     "execution_count": null,
     "metadata": {},
     "output_type": "execute_result"
    }
   ],
   "source": [
    "df_demand.query('demand_MW==0').head()"
   ]
  },
  {
   "cell_type": "code",
   "execution_count": null,
   "id": "elegant-decline",
   "metadata": {},
   "outputs": [],
   "source": []
  },
  {
   "cell_type": "markdown",
   "id": "defined-realtor",
   "metadata": {},
   "source": [
    "<br>\n",
    "\n",
    "### Handling Missing Values\n",
    "\n",
    "We'll start by interpolating the missing PV data, first checking the number of variables that have null values for each time period"
   ]
  },
  {
   "cell_type": "code",
   "execution_count": null,
   "id": "exceptional-exploration",
   "metadata": {},
   "outputs": [
    {
     "data": {
      "text/plain": [
       "1    52\n",
       "3    20\n",
       "dtype: int64"
      ]
     },
     "execution_count": null,
     "metadata": {},
     "output_type": "execute_result"
    }
   ],
   "source": [
    "s_pv_num_null_vals = df_pv.isnull().sum(axis=1).replace(0, np.nan).dropna().astype(int)\n",
    "\n",
    "s_pv_num_null_vals.value_counts()"
   ]
  },
  {
   "cell_type": "markdown",
   "id": "scenic-fifteen",
   "metadata": {},
   "source": [
    "<br>\n",
    "\n",
    "`pv_power_mw` and `irradiance_Wm-2` have the same average number of null values, there are also no time-periods where only 2 variables have null values - it's therefore likely that power and irradiance always have null periods at the same time which makes it harder to interpolate their values. We'll quickly check this hypothesis:"
   ]
  },
  {
   "cell_type": "code",
   "execution_count": null,
   "id": "aggressive-speech",
   "metadata": {},
   "outputs": [
    {
     "data": {
      "text/plain": [
       "True"
      ]
     },
     "execution_count": null,
     "metadata": {},
     "output_type": "execute_result"
    }
   ],
   "source": [
    "(df_pv['pv_power_mw'].isnull() == df_pv['irradiance_Wm-2'].isnull()).mean() == 1"
   ]
  },
  {
   "cell_type": "markdown",
   "id": "lovely-murray",
   "metadata": {},
   "source": [
    "<br>\n",
    "\n",
    "It appears as though the `pv_power_mw` and `irradiance_Wm-2` missing values are a single time-block that coincides with a larger set of missing values within `panel_temp_C`."
   ]
  },
  {
   "cell_type": "code",
   "execution_count": null,
   "id": "advisory-alliance",
   "metadata": {},
   "outputs": [
    {
     "data": {
      "text/html": [
       "<div>\n",
       "<style scoped>\n",
       "    .dataframe tbody tr th:only-of-type {\n",
       "        vertical-align: middle;\n",
       "    }\n",
       "\n",
       "    .dataframe tbody tr th {\n",
       "        vertical-align: top;\n",
       "    }\n",
       "\n",
       "    .dataframe thead th {\n",
       "        text-align: right;\n",
       "    }\n",
       "</style>\n",
       "<table border=\"1\" class=\"dataframe\">\n",
       "  <thead>\n",
       "    <tr style=\"text-align: right;\">\n",
       "      <th></th>\n",
       "      <th>irradiance_Wm-2</th>\n",
       "      <th>panel_temp_C</th>\n",
       "      <th>pv_power_mw</th>\n",
       "    </tr>\n",
       "    <tr>\n",
       "      <th>datetime</th>\n",
       "      <th></th>\n",
       "      <th></th>\n",
       "      <th></th>\n",
       "    </tr>\n",
       "  </thead>\n",
       "  <tbody>\n",
       "    <tr>\n",
       "      <th>2018-03-04 07:00:00+00:00</th>\n",
       "      <td>NaN</td>\n",
       "      <td>NaN</td>\n",
       "      <td>NaN</td>\n",
       "    </tr>\n",
       "    <tr>\n",
       "      <th>2018-03-04 07:30:00+00:00</th>\n",
       "      <td>NaN</td>\n",
       "      <td>NaN</td>\n",
       "      <td>NaN</td>\n",
       "    </tr>\n",
       "    <tr>\n",
       "      <th>2018-03-04 08:00:00+00:00</th>\n",
       "      <td>NaN</td>\n",
       "      <td>NaN</td>\n",
       "      <td>NaN</td>\n",
       "    </tr>\n",
       "    <tr>\n",
       "      <th>2018-03-04 08:30:00+00:00</th>\n",
       "      <td>NaN</td>\n",
       "      <td>NaN</td>\n",
       "      <td>NaN</td>\n",
       "    </tr>\n",
       "    <tr>\n",
       "      <th>2018-03-04 09:00:00+00:00</th>\n",
       "      <td>NaN</td>\n",
       "      <td>NaN</td>\n",
       "      <td>NaN</td>\n",
       "    </tr>\n",
       "    <tr>\n",
       "      <th>2018-03-04 09:30:00+00:00</th>\n",
       "      <td>NaN</td>\n",
       "      <td>NaN</td>\n",
       "      <td>NaN</td>\n",
       "    </tr>\n",
       "    <tr>\n",
       "      <th>2018-03-04 10:00:00+00:00</th>\n",
       "      <td>NaN</td>\n",
       "      <td>NaN</td>\n",
       "      <td>NaN</td>\n",
       "    </tr>\n",
       "    <tr>\n",
       "      <th>2018-03-04 10:30:00+00:00</th>\n",
       "      <td>NaN</td>\n",
       "      <td>NaN</td>\n",
       "      <td>NaN</td>\n",
       "    </tr>\n",
       "    <tr>\n",
       "      <th>2018-03-04 11:00:00+00:00</th>\n",
       "      <td>NaN</td>\n",
       "      <td>NaN</td>\n",
       "      <td>NaN</td>\n",
       "    </tr>\n",
       "    <tr>\n",
       "      <th>2018-03-04 11:30:00+00:00</th>\n",
       "      <td>NaN</td>\n",
       "      <td>NaN</td>\n",
       "      <td>NaN</td>\n",
       "    </tr>\n",
       "    <tr>\n",
       "      <th>2018-03-04 12:00:00+00:00</th>\n",
       "      <td>NaN</td>\n",
       "      <td>NaN</td>\n",
       "      <td>NaN</td>\n",
       "    </tr>\n",
       "    <tr>\n",
       "      <th>2018-03-04 12:30:00+00:00</th>\n",
       "      <td>NaN</td>\n",
       "      <td>NaN</td>\n",
       "      <td>NaN</td>\n",
       "    </tr>\n",
       "    <tr>\n",
       "      <th>2018-03-04 13:00:00+00:00</th>\n",
       "      <td>NaN</td>\n",
       "      <td>NaN</td>\n",
       "      <td>NaN</td>\n",
       "    </tr>\n",
       "    <tr>\n",
       "      <th>2018-03-04 13:30:00+00:00</th>\n",
       "      <td>NaN</td>\n",
       "      <td>NaN</td>\n",
       "      <td>NaN</td>\n",
       "    </tr>\n",
       "    <tr>\n",
       "      <th>2018-03-04 14:00:00+00:00</th>\n",
       "      <td>NaN</td>\n",
       "      <td>NaN</td>\n",
       "      <td>NaN</td>\n",
       "    </tr>\n",
       "    <tr>\n",
       "      <th>2018-03-04 15:00:00+00:00</th>\n",
       "      <td>NaN</td>\n",
       "      <td>NaN</td>\n",
       "      <td>NaN</td>\n",
       "    </tr>\n",
       "    <tr>\n",
       "      <th>2018-03-04 15:30:00+00:00</th>\n",
       "      <td>NaN</td>\n",
       "      <td>NaN</td>\n",
       "      <td>NaN</td>\n",
       "    </tr>\n",
       "    <tr>\n",
       "      <th>2018-03-04 16:00:00+00:00</th>\n",
       "      <td>NaN</td>\n",
       "      <td>NaN</td>\n",
       "      <td>NaN</td>\n",
       "    </tr>\n",
       "    <tr>\n",
       "      <th>2018-03-04 16:30:00+00:00</th>\n",
       "      <td>NaN</td>\n",
       "      <td>NaN</td>\n",
       "      <td>NaN</td>\n",
       "    </tr>\n",
       "    <tr>\n",
       "      <th>2018-03-04 17:00:00+00:00</th>\n",
       "      <td>NaN</td>\n",
       "      <td>NaN</td>\n",
       "      <td>NaN</td>\n",
       "    </tr>\n",
       "  </tbody>\n",
       "</table>\n",
       "</div>"
      ],
      "text/plain": [
       "                           irradiance_Wm-2  panel_temp_C  pv_power_mw\n",
       "datetime                                                             \n",
       "2018-03-04 07:00:00+00:00              NaN           NaN          NaN\n",
       "2018-03-04 07:30:00+00:00              NaN           NaN          NaN\n",
       "2018-03-04 08:00:00+00:00              NaN           NaN          NaN\n",
       "2018-03-04 08:30:00+00:00              NaN           NaN          NaN\n",
       "2018-03-04 09:00:00+00:00              NaN           NaN          NaN\n",
       "2018-03-04 09:30:00+00:00              NaN           NaN          NaN\n",
       "2018-03-04 10:00:00+00:00              NaN           NaN          NaN\n",
       "2018-03-04 10:30:00+00:00              NaN           NaN          NaN\n",
       "2018-03-04 11:00:00+00:00              NaN           NaN          NaN\n",
       "2018-03-04 11:30:00+00:00              NaN           NaN          NaN\n",
       "2018-03-04 12:00:00+00:00              NaN           NaN          NaN\n",
       "2018-03-04 12:30:00+00:00              NaN           NaN          NaN\n",
       "2018-03-04 13:00:00+00:00              NaN           NaN          NaN\n",
       "2018-03-04 13:30:00+00:00              NaN           NaN          NaN\n",
       "2018-03-04 14:00:00+00:00              NaN           NaN          NaN\n",
       "2018-03-04 15:00:00+00:00              NaN           NaN          NaN\n",
       "2018-03-04 15:30:00+00:00              NaN           NaN          NaN\n",
       "2018-03-04 16:00:00+00:00              NaN           NaN          NaN\n",
       "2018-03-04 16:30:00+00:00              NaN           NaN          NaN\n",
       "2018-03-04 17:00:00+00:00              NaN           NaN          NaN"
      ]
     },
     "execution_count": null,
     "metadata": {},
     "output_type": "execute_result"
    }
   ],
   "source": [
    "df_pv[df_pv['pv_power_mw'].isnull()]"
   ]
  },
  {
   "cell_type": "markdown",
   "id": "warming-sydney",
   "metadata": {},
   "source": [
    "<br>\n",
    "\n",
    "Looking at the `panel_temp_C` data we can see there are 3 time-blocks where obervations are missing "
   ]
  },
  {
   "cell_type": "code",
   "execution_count": null,
   "id": "reported-meditation",
   "metadata": {},
   "outputs": [
    {
     "data": {
      "text/plain": [
       "<AxesSubplot:xlabel='datetime'>"
      ]
     },
     "execution_count": null,
     "metadata": {},
     "output_type": "execute_result"
    },
    {
     "data": {
      "image/png": "[encoded data removed]",
      "text/plain": [
       "<Figure size 432x288 with 1 Axes>"
      ]
     },
     "metadata": {
      "needs_background": "light"
     },
     "output_type": "display_data"
    }
   ],
   "source": [
    "df_pv['panel_temp_C'].isnull().astype(int).plot()"
   ]
  },
  {
   "cell_type": "markdown",
   "id": "vanilla-brush",
   "metadata": {},
   "source": [
    "<br>\n",
    "\n",
    "One option might to be replace the missing temperature values with the temperatures observed at the surrounding weather grid locations, we'll start by constructing a dataframe that includes all of the temperature data as well as the average rolling temperature for each weather data location."
   ]
  },
  {
   "cell_type": "code",
   "execution_count": null,
   "id": "comparable-personal",
   "metadata": {},
   "outputs": [],
   "source": [
    "#exports\n",
    "def construct_df_temp_features(df_weather, df_pv):\n",
    "    df_weather = df_weather.reindex(pd.date_range(df_weather.index.min(), df_weather.index.max(), freq='30T')).ffill(limit=1)\n",
    "    temp_loc_cols = df_weather.columns[df_weather.columns.str.contains('temp')]\n",
    "    \n",
    "    df_temp_features = (df_weather\n",
    "                        .copy()\n",
    "                        [temp_loc_cols]\n",
    "                        .assign(site_temp=df_pv['panel_temp_C'])\n",
    "                       )\n",
    "\n",
    "    df_temp_features[[col+'_rolling' for col in temp_loc_cols]] = df_temp_features.rolling(3).mean()[temp_loc_cols]\n",
    "\n",
    "    df_temp_features = df_temp_features.sort_index(axis=1)\n",
    "\n",
    "    return df_temp_features"
   ]
  },
  {
   "cell_type": "code",
   "execution_count": null,
   "id": "premier-plastic",
   "metadata": {},
   "outputs": [
    {
     "data": {
      "text/html": [
       "<div>\n",
       "<style scoped>\n",
       "    .dataframe tbody tr th:only-of-type {\n",
       "        vertical-align: middle;\n",
       "    }\n",
       "\n",
       "    .dataframe tbody tr th {\n",
       "        vertical-align: top;\n",
       "    }\n",
       "\n",
       "    .dataframe thead th {\n",
       "        text-align: right;\n",
       "    }\n",
       "</style>\n",
       "<table border=\"1\" class=\"dataframe\">\n",
       "  <thead>\n",
       "    <tr style=\"text-align: right;\">\n",
       "      <th></th>\n",
       "      <th>site_temp</th>\n",
       "      <th>temp_location1</th>\n",
       "      <th>temp_location1_rolling</th>\n",
       "      <th>temp_location2</th>\n",
       "      <th>temp_location2_rolling</th>\n",
       "      <th>temp_location3</th>\n",
       "      <th>temp_location3_rolling</th>\n",
       "      <th>temp_location4</th>\n",
       "      <th>temp_location4_rolling</th>\n",
       "      <th>temp_location5</th>\n",
       "      <th>temp_location5_rolling</th>\n",
       "      <th>temp_location6</th>\n",
       "      <th>temp_location6_rolling</th>\n",
       "    </tr>\n",
       "  </thead>\n",
       "  <tbody>\n",
       "    <tr>\n",
       "      <th>2017-11-03 00:00:00+00:00</th>\n",
       "      <td>7.05</td>\n",
       "      <td>8.56</td>\n",
       "      <td>8.626667</td>\n",
       "      <td>9.64</td>\n",
       "      <td>9.660000</td>\n",
       "      <td>7.46</td>\n",
       "      <td>7.786667</td>\n",
       "      <td>6.68</td>\n",
       "      <td>6.933333</td>\n",
       "      <td>13.09</td>\n",
       "      <td>13.023333</td>\n",
       "      <td>13.20</td>\n",
       "      <td>13.113333</td>\n",
       "    </tr>\n",
       "    <tr>\n",
       "      <th>2017-11-03 00:30:00+00:00</th>\n",
       "      <td>7.38</td>\n",
       "      <td>8.56</td>\n",
       "      <td>8.593333</td>\n",
       "      <td>9.64</td>\n",
       "      <td>9.650000</td>\n",
       "      <td>7.46</td>\n",
       "      <td>7.623333</td>\n",
       "      <td>6.68</td>\n",
       "      <td>6.806667</td>\n",
       "      <td>13.09</td>\n",
       "      <td>13.056667</td>\n",
       "      <td>13.20</td>\n",
       "      <td>13.156667</td>\n",
       "    </tr>\n",
       "    <tr>\n",
       "      <th>2017-11-03 01:00:00+00:00</th>\n",
       "      <td>7.70</td>\n",
       "      <td>8.69</td>\n",
       "      <td>8.603333</td>\n",
       "      <td>9.71</td>\n",
       "      <td>9.663333</td>\n",
       "      <td>7.14</td>\n",
       "      <td>7.353333</td>\n",
       "      <td>6.27</td>\n",
       "      <td>6.543333</td>\n",
       "      <td>13.21</td>\n",
       "      <td>13.130000</td>\n",
       "      <td>13.32</td>\n",
       "      <td>13.240000</td>\n",
       "    </tr>\n",
       "    <tr>\n",
       "      <th>2017-11-03 01:30:00+00:00</th>\n",
       "      <td>7.48</td>\n",
       "      <td>8.69</td>\n",
       "      <td>8.646667</td>\n",
       "      <td>9.71</td>\n",
       "      <td>9.686667</td>\n",
       "      <td>7.14</td>\n",
       "      <td>7.246667</td>\n",
       "      <td>6.27</td>\n",
       "      <td>6.406667</td>\n",
       "      <td>13.21</td>\n",
       "      <td>13.170000</td>\n",
       "      <td>13.32</td>\n",
       "      <td>13.280000</td>\n",
       "    </tr>\n",
       "    <tr>\n",
       "      <th>2017-11-03 02:00:00+00:00</th>\n",
       "      <td>7.20</td>\n",
       "      <td>8.74</td>\n",
       "      <td>8.706667</td>\n",
       "      <td>9.73</td>\n",
       "      <td>9.716667</td>\n",
       "      <td>6.86</td>\n",
       "      <td>7.046667</td>\n",
       "      <td>5.91</td>\n",
       "      <td>6.150000</td>\n",
       "      <td>13.30</td>\n",
       "      <td>13.240000</td>\n",
       "      <td>13.36</td>\n",
       "      <td>13.333333</td>\n",
       "    </tr>\n",
       "  </tbody>\n",
       "</table>\n",
       "</div>"
      ],
      "text/plain": [
       "                           site_temp  temp_location1  temp_location1_rolling  \\\n",
       "2017-11-03 00:00:00+00:00       7.05            8.56                8.626667   \n",
       "2017-11-03 00:30:00+00:00       7.38            8.56                8.593333   \n",
       "2017-11-03 01:00:00+00:00       7.70            8.69                8.603333   \n",
       "2017-11-03 01:30:00+00:00       7.48            8.69                8.646667   \n",
       "2017-11-03 02:00:00+00:00       7.20            8.74                8.706667   \n",
       "\n",
       "                           temp_location2  temp_location2_rolling  \\\n",
       "2017-11-03 00:00:00+00:00            9.64                9.660000   \n",
       "2017-11-03 00:30:00+00:00            9.64                9.650000   \n",
       "2017-11-03 01:00:00+00:00            9.71                9.663333   \n",
       "2017-11-03 01:30:00+00:00            9.71                9.686667   \n",
       "2017-11-03 02:00:00+00:00            9.73                9.716667   \n",
       "\n",
       "                           temp_location3  temp_location3_rolling  \\\n",
       "2017-11-03 00:00:00+00:00            7.46                7.786667   \n",
       "2017-11-03 00:30:00+00:00            7.46                7.623333   \n",
       "2017-11-03 01:00:00+00:00            7.14                7.353333   \n",
       "2017-11-03 01:30:00+00:00            7.14                7.246667   \n",
       "2017-11-03 02:00:00+00:00            6.86                7.046667   \n",
       "\n",
       "                           temp_location4  temp_location4_rolling  \\\n",
       "2017-11-03 00:00:00+00:00            6.68                6.933333   \n",
       "2017-11-03 00:30:00+00:00            6.68                6.806667   \n",
       "2017-11-03 01:00:00+00:00            6.27                6.543333   \n",
       "2017-11-03 01:30:00+00:00            6.27                6.406667   \n",
       "2017-11-03 02:00:00+00:00            5.91                6.150000   \n",
       "\n",
       "                           temp_location5  temp_location5_rolling  \\\n",
       "2017-11-03 00:00:00+00:00           13.09               13.023333   \n",
       "2017-11-03 00:30:00+00:00           13.09               13.056667   \n",
       "2017-11-03 01:00:00+00:00           13.21               13.130000   \n",
       "2017-11-03 01:30:00+00:00           13.21               13.170000   \n",
       "2017-11-03 02:00:00+00:00           13.30               13.240000   \n",
       "\n",
       "                           temp_location6  temp_location6_rolling  \n",
       "2017-11-03 00:00:00+00:00           13.20               13.113333  \n",
       "2017-11-03 00:30:00+00:00           13.20               13.156667  \n",
       "2017-11-03 01:00:00+00:00           13.32               13.240000  \n",
       "2017-11-03 01:30:00+00:00           13.32               13.280000  \n",
       "2017-11-03 02:00:00+00:00           13.36               13.333333  "
      ]
     },
     "execution_count": null,
     "metadata": {},
     "output_type": "execute_result"
    }
   ],
   "source": [
    "df_temp_features = construct_df_temp_features(df_weather, df_pv).dropna()\n",
    "\n",
    "df_temp_features.head()"
   ]
  },
  {
   "cell_type": "markdown",
   "id": "residential-preservation",
   "metadata": {},
   "source": [
    "<br>\n",
    "\n",
    "We'll now check the correlation"
   ]
  },
  {
   "cell_type": "code",
   "execution_count": null,
   "id": "suitable-dodge",
   "metadata": {},
   "outputs": [
    {
     "data": {
      "text/plain": [
       "<AxesSubplot:>"
      ]
     },
     "execution_count": null,
     "metadata": {},
     "output_type": "execute_result"
    },
    {
     "data": {
      "image/png": "[encoded data removed]",
      "text/plain": [
       "<Figure size 432x288 with 2 Axes>"
      ]
     },
     "metadata": {
      "needs_background": "light"
     },
     "output_type": "display_data"
    }
   ],
   "source": [
    "sns.heatmap(df_temp_features.corr())"
   ]
  },
  {
   "cell_type": "markdown",
   "id": "honest-plenty",
   "metadata": {},
   "source": [
    "<br>\n",
    "\n",
    "The correlation drops off quickly when it gets to the site temperature, looking at the full distributions we can see that the site measurements get far higher. This is because the panel is absorbing heat that raises its temperature above that of the surrounding area, again making it more difficult to simply fill in with the nearby temperature measurements."
   ]
  },
  {
   "cell_type": "code",
   "execution_count": null,
   "id": "civil-hartford",
   "metadata": {},
   "outputs": [
    {
     "name": "stderr",
     "output_type": "stream",
     "text": [
      "/opt/anaconda3/envs/batopt/lib/python3.9/site-packages/seaborn/distributions.py:2557: FutureWarning: `distplot` is a deprecated function and will be removed in a future version. Please adapt your code to use either `displot` (a figure-level function with similar flexibility) or `histplot` (an axes-level function for histograms).\n",
      "  warnings.warn(msg, FutureWarning)\n",
      "/opt/anaconda3/envs/batopt/lib/python3.9/site-packages/seaborn/distributions.py:2557: FutureWarning: `distplot` is a deprecated function and will be removed in a future version. Please adapt your code to use either `displot` (a figure-level function with similar flexibility) or `histplot` (an axes-level function for histograms).\n",
      "  warnings.warn(msg, FutureWarning)\n",
      "/opt/anaconda3/envs/batopt/lib/python3.9/site-packages/seaborn/distributions.py:2557: FutureWarning: `distplot` is a deprecated function and will be removed in a future version. Please adapt your code to use either `displot` (a figure-level function with similar flexibility) or `histplot` (an axes-level function for histograms).\n",
      "  warnings.warn(msg, FutureWarning)\n"
     ]
    },
    {
     "data": {
      "text/plain": [
       "<matplotlib.legend.Legend at 0x15ac99bb0>"
      ]
     },
     "execution_count": null,
     "metadata": {},
     "output_type": "execute_result"
    },
    {
     "data": {
      "image/png": "[encoded data removed]",
      "text/plain": [
       "<Figure size 432x288 with 1 Axes>"
      ]
     },
     "metadata": {
      "needs_background": "light"
     },
     "output_type": "display_data"
    }
   ],
   "source": [
    "sns.distplot(df_temp_features['site_temp'], color='C0', label='Panel')\n",
    "sns.distplot(df_temp_features.drop('site_temp', axis=1).min(axis=1), color='C1', label='MERRA Min')\n",
    "sns.distplot(df_temp_features.drop('site_temp', axis=1).max(axis=1), color='C2', label='MERRA Max')\n",
    "\n",
    "plt.legend(frameon=False)"
   ]
  },
  {
   "cell_type": "code",
   "execution_count": null,
   "id": "instructional-cyprus",
   "metadata": {},
   "outputs": [],
   "source": []
  },
  {
   "cell_type": "code",
   "execution_count": null,
   "id": "specific-expression",
   "metadata": {},
   "outputs": [],
   "source": [
    "# Could use an RF to estimate the panel temp based on the weather grid temps?\n",
    "# Potential features: current average surrounding temp, average surrounding temp over the last 3 hours"
   ]
  },
  {
   "cell_type": "code",
   "execution_count": null,
   "id": "muslim-congo",
   "metadata": {},
   "outputs": [],
   "source": [
    "#exports\n",
    "def split_X_y_data(df, target_col='site_temp'):\n",
    "    df = df.dropna()\n",
    "    X_cols = df.drop(target_col, axis=1).columns\n",
    "\n",
    "    X = df[X_cols].values\n",
    "    y = df[target_col].values\n",
    "    \n",
    "    return X, y\n",
    "\n",
    "def split_X_y_data_with_index(df, target_col='site_temp'):\n",
    "    df = df.dropna()\n",
    "    X_cols = df.drop(target_col, axis=1).columns\n",
    "\n",
    "    X = df[X_cols].values\n",
    "    y = df[target_col].values\n",
    "    index = df.index\n",
    "    \n",
    "    return X, y, index"
   ]
  },
  {
   "cell_type": "code",
   "execution_count": null,
   "id": "adult-corner",
   "metadata": {},
   "outputs": [
    {
     "data": {
      "text/plain": [
       "((12504, 12), (12504,))"
      ]
     },
     "execution_count": null,
     "metadata": {},
     "output_type": "execute_result"
    }
   ],
   "source": [
    "X, y = split_X_y_data(df_temp_features)\n",
    "\n",
    "X.shape, y.shape"
   ]
  },
  {
   "cell_type": "code",
   "execution_count": null,
   "id": "verbal-poker",
   "metadata": {},
   "outputs": [],
   "source": []
  },
  {
   "cell_type": "code",
   "execution_count": null,
   "id": "desperate-namibia",
   "metadata": {},
   "outputs": [],
   "source": [
    "#exports\n",
    "def generate_kfold_preds(\n",
    "    X, \n",
    "    y, \n",
    "    model=LinearRegression(), \n",
    "    kfold_kwargs={'n_splits': 5, 'shuffle': True},\n",
    "    index=None\n",
    "):\n",
    "\n",
    "    kfold = KFold(**kfold_kwargs)\n",
    "    df_pred = pd.DataFrame(columns=['pred', 'true'], index=np.arange(X.shape[0]))\n",
    "\n",
    "    for train_idxs, test_idxs in kfold.split(X):\n",
    "        X_train, y_train = X[train_idxs], y[train_idxs]\n",
    "        X_test, y_test = X[test_idxs], y[test_idxs]\n",
    "    \n",
    "        model.fit(X_train, y_train)\n",
    "        \n",
    "        df_pred.loc[test_idxs, 'true'] = y_test\n",
    "        df_pred.loc[test_idxs, 'pred'] = model.predict(X_test)\n",
    "        \n",
    "    df_pred = df_pred.sort_index()\n",
    "    \n",
    "    if index is not None:\n",
    "        assert len(index) == df_pred.shape[0], 'The passed index must be the same length as X and y'\n",
    "        df_pred.index = index\n",
    "        \n",
    "    return df_pred"
   ]
  },
  {
   "cell_type": "code",
   "execution_count": null,
   "id": "extraordinary-combine",
   "metadata": {},
   "outputs": [
    {
     "data": {
      "text/html": [
       "<div>\n",
       "<style scoped>\n",
       "    .dataframe tbody tr th:only-of-type {\n",
       "        vertical-align: middle;\n",
       "    }\n",
       "\n",
       "    .dataframe tbody tr th {\n",
       "        vertical-align: top;\n",
       "    }\n",
       "\n",
       "    .dataframe thead th {\n",
       "        text-align: right;\n",
       "    }\n",
       "</style>\n",
       "<table border=\"1\" class=\"dataframe\">\n",
       "  <thead>\n",
       "    <tr style=\"text-align: right;\">\n",
       "      <th></th>\n",
       "      <th>pred</th>\n",
       "      <th>true</th>\n",
       "    </tr>\n",
       "  </thead>\n",
       "  <tbody>\n",
       "    <tr>\n",
       "      <th>0</th>\n",
       "      <td>5.046183</td>\n",
       "      <td>7.05</td>\n",
       "    </tr>\n",
       "    <tr>\n",
       "      <th>1</th>\n",
       "      <td>5.501771</td>\n",
       "      <td>7.38</td>\n",
       "    </tr>\n",
       "    <tr>\n",
       "      <th>2</th>\n",
       "      <td>5.936770</td>\n",
       "      <td>7.70</td>\n",
       "    </tr>\n",
       "    <tr>\n",
       "      <th>3</th>\n",
       "      <td>6.008016</td>\n",
       "      <td>7.48</td>\n",
       "    </tr>\n",
       "    <tr>\n",
       "      <th>4</th>\n",
       "      <td>5.822311</td>\n",
       "      <td>7.20</td>\n",
       "    </tr>\n",
       "  </tbody>\n",
       "</table>\n",
       "</div>"
      ],
      "text/plain": [
       "       pred  true\n",
       "0  5.046183  7.05\n",
       "1  5.501771  7.38\n",
       "2  5.936770  7.70\n",
       "3  6.008016  7.48\n",
       "4  5.822311  7.20"
      ]
     },
     "execution_count": null,
     "metadata": {},
     "output_type": "execute_result"
    }
   ],
   "source": [
    "df_pred = generate_kfold_preds(X, y)\n",
    "\n",
    "df_pred.head()"
   ]
  },
  {
   "cell_type": "code",
   "execution_count": null,
   "id": "respiratory-delta",
   "metadata": {},
   "outputs": [],
   "source": []
  },
  {
   "cell_type": "code",
   "execution_count": null,
   "id": "junior-citation",
   "metadata": {},
   "outputs": [],
   "source": [
    "#exports\n",
    "def evaluate_models(X, y, models, post_pred_proc_func=None, index=None):\n",
    "    model_scores = dict()\n",
    "\n",
    "    for model_name, model in track(models.items()):\n",
    "        df_pred = generate_kfold_preds(X, y, model, index=index)\n",
    "        \n",
    "        if post_pred_proc_func is not None:\n",
    "            df_pred['pred'] = post_pred_proc_func(df_pred['pred'])\n",
    "\n",
    "        model_scores[model_name] = {\n",
    "            'mae': mean_absolute_error(df_pred['true'], df_pred['pred']),\n",
    "            'rmse': np.sqrt(mean_squared_error(df_pred['true'], df_pred['pred']))\n",
    "        }\n",
    "\n",
    "    df_model_scores = pd.DataFrame(model_scores)\n",
    "    \n",
    "    df_model_scores.index.name = 'metric'\n",
    "    df_model_scores.columns.name = 'model'\n",
    "\n",
    "    return df_model_scores"
   ]
  },
  {
   "cell_type": "code",
   "execution_count": null,
   "id": "loved-recall",
   "metadata": {},
   "outputs": [
    {
     "data": {
      "text/html": [
       "<div>\n",
       "<style scoped>\n",
       "    .dataframe tbody tr th:only-of-type {\n",
       "        vertical-align: middle;\n",
       "    }\n",
       "\n",
       "    .dataframe tbody tr th {\n",
       "        vertical-align: top;\n",
       "    }\n",
       "\n",
       "    .dataframe thead th {\n",
       "        text-align: right;\n",
       "    }\n",
       "</style>\n",
       "<table border=\"1\" class=\"dataframe\">\n",
       "  <thead>\n",
       "    <tr style=\"text-align: right;\">\n",
       "      <th></th>\n",
       "      <th>std_linear</th>\n",
       "      <th>random_forest</th>\n",
       "      <th>boosted</th>\n",
       "    </tr>\n",
       "    <tr>\n",
       "      <th>metric</th>\n",
       "      <th></th>\n",
       "      <th></th>\n",
       "      <th></th>\n",
       "    </tr>\n",
       "  </thead>\n",
       "  <tbody>\n",
       "    <tr>\n",
       "      <th>mae</th>\n",
       "      <td>2.819220</td>\n",
       "      <td>1.684513</td>\n",
       "      <td>2.581428</td>\n",
       "    </tr>\n",
       "    <tr>\n",
       "      <th>rmse</th>\n",
       "      <td>3.786736</td>\n",
       "      <td>2.693341</td>\n",
       "      <td>3.734153</td>\n",
       "    </tr>\n",
       "  </tbody>\n",
       "</table>\n",
       "</div>"
      ],
      "text/plain": [
       "        std_linear  random_forest   boosted\n",
       "metric                                     \n",
       "mae       2.819220       1.684513  2.581428\n",
       "rmse      3.786736       2.693341  3.734153"
      ]
     },
     "execution_count": null,
     "metadata": {},
     "output_type": "execute_result"
    }
   ],
   "source": [
    "models = {\n",
    "    'std_linear': LinearRegression(),\n",
    "    'random_forest': RandomForestRegressor(),\n",
    "    'boosted': GradientBoostingRegressor()\n",
    "}\n",
    "\n",
    "rerun_panel_temp_model = False\n",
    "model_scores_filename = 'panel_temp_interp_model_results.csv'\n",
    "\n",
    "if (rerun_panel_temp_model == True) or (model_scores_filename not in os.listdir(cache_data_dir)):\n",
    "    df_model_scores = evaluate_models(X, y, models)\n",
    "    df_model_scores.to_csv(f'{cache_data_dir}/{model_scores_filename}')\n",
    "else:\n",
    "    df_model_scores = pd.read_csv(f'{cache_data_dir}/{model_scores_filename}', index_col='metric')\n",
    "\n",
    "df_model_scores"
   ]
  },
  {
   "cell_type": "code",
   "execution_count": null,
   "id": "central-beatles",
   "metadata": {},
   "outputs": [],
   "source": []
  },
  {
   "cell_type": "code",
   "execution_count": null,
   "id": "involved-position",
   "metadata": {},
   "outputs": [
    {
     "data": {
      "text/html": [
       "<div>\n",
       "<style scoped>\n",
       "    .dataframe tbody tr th:only-of-type {\n",
       "        vertical-align: middle;\n",
       "    }\n",
       "\n",
       "    .dataframe tbody tr th {\n",
       "        vertical-align: top;\n",
       "    }\n",
       "\n",
       "    .dataframe thead th {\n",
       "        text-align: right;\n",
       "    }\n",
       "</style>\n",
       "<table border=\"1\" class=\"dataframe\">\n",
       "  <thead>\n",
       "    <tr style=\"text-align: right;\">\n",
       "      <th></th>\n",
       "      <th>pred</th>\n",
       "      <th>true</th>\n",
       "    </tr>\n",
       "  </thead>\n",
       "  <tbody>\n",
       "    <tr>\n",
       "      <th>0</th>\n",
       "      <td>7.2655</td>\n",
       "      <td>7.05</td>\n",
       "    </tr>\n",
       "    <tr>\n",
       "      <th>1</th>\n",
       "      <td>7.4066</td>\n",
       "      <td>7.38</td>\n",
       "    </tr>\n",
       "    <tr>\n",
       "      <th>2</th>\n",
       "      <td>7.4254</td>\n",
       "      <td>7.70</td>\n",
       "    </tr>\n",
       "    <tr>\n",
       "      <th>3</th>\n",
       "      <td>7.4614</td>\n",
       "      <td>7.48</td>\n",
       "    </tr>\n",
       "    <tr>\n",
       "      <th>4</th>\n",
       "      <td>7.5121</td>\n",
       "      <td>7.20</td>\n",
       "    </tr>\n",
       "  </tbody>\n",
       "</table>\n",
       "</div>"
      ],
      "text/plain": [
       "     pred  true\n",
       "0  7.2655  7.05\n",
       "1  7.4066  7.38\n",
       "2  7.4254  7.70\n",
       "3  7.4614  7.48\n",
       "4  7.5121  7.20"
      ]
     },
     "execution_count": null,
     "metadata": {},
     "output_type": "execute_result"
    }
   ],
   "source": [
    "top_model = df_model_scores.T['rmse'].idxmin()\n",
    "df_pred = generate_kfold_preds(X, y, models[top_model])\n",
    "\n",
    "df_pred.head()"
   ]
  },
  {
   "cell_type": "code",
   "execution_count": null,
   "id": "piano-korea",
   "metadata": {},
   "outputs": [],
   "source": []
  },
  {
   "cell_type": "code",
   "execution_count": null,
   "id": "nasty-action",
   "metadata": {},
   "outputs": [
    {
     "data": {
      "text/plain": [
       "<AxesSubplot:>"
      ]
     },
     "execution_count": null,
     "metadata": {},
     "output_type": "execute_result"
    },
    {
     "data": {
      "image/png": "[encoded data removed]",
      "text/plain": [
       "<Figure size 432x288 with 1 Axes>"
      ]
     },
     "metadata": {
      "needs_background": "light"
     },
     "output_type": "display_data"
    }
   ],
   "source": [
    "s_residuals = df_pred.diff(1, axis=1).dropna(axis=1).iloc[:, 0]\n",
    "\n",
    "s_residuals.plot(linewidth=0.3)"
   ]
  },
  {
   "cell_type": "code",
   "execution_count": null,
   "id": "functioning-bulgarian",
   "metadata": {},
   "outputs": [],
   "source": []
  },
  {
   "cell_type": "code",
   "execution_count": null,
   "id": "chemical-lesbian",
   "metadata": {},
   "outputs": [
    {
     "data": {
      "text/plain": [
       "Text(0, 0.5, 'Prediction')"
      ]
     },
     "execution_count": null,
     "metadata": {},
     "output_type": "execute_result"
    },
    {
     "data": {
      "image/png": "[encoded data removed]",
      "text/plain": [
       "<Figure size 432x288 with 1 Axes>"
      ]
     },
     "metadata": {
      "needs_background": "light"
     },
     "output_type": "display_data"
    }
   ],
   "source": [
    "plt.scatter(df_pred['true'], df_pred['pred'], s=1)\n",
    "\n",
    "plt.xlabel('Obervation')\n",
    "plt.ylabel('Prediction')"
   ]
  },
  {
   "cell_type": "code",
   "execution_count": null,
   "id": "public-queen",
   "metadata": {},
   "outputs": [],
   "source": []
  },
  {
   "cell_type": "code",
   "execution_count": null,
   "id": "rocky-injury",
   "metadata": {},
   "outputs": [],
   "source": [
    "#exports\n",
    "def interpolate_missing_panel_temps(df_pv, df_weather, model=RandomForestRegressor()):\n",
    "    missing_panel_temp_dts = df_pv.index[df_pv['panel_temp_C'].isnull()]\n",
    "    \n",
    "    if len(missing_panel_temp_dts) == 0: # i.e. no missing values\n",
    "        return df_pv\n",
    "\n",
    "    df_temp_features = construct_df_temp_features(df_weather, df_pv)\n",
    "    missing_dt_X = df_temp_features.loc[missing_panel_temp_dts].drop('site_temp', axis=1).values\n",
    "    X, y = split_X_y_data(df_temp_features, 'site_temp')\n",
    "    \n",
    "    model.fit(X, y)\n",
    "    df_pv.loc[missing_panel_temp_dts, 'panel_temp_C'] = model.predict(missing_dt_X)\n",
    "    \n",
    "    assert df_pv['panel_temp_C'].isnull().sum() == 0, 'There are still null values for the PV panel temperature'\n",
    "    \n",
    "    return df_pv"
   ]
  },
  {
   "cell_type": "code",
   "execution_count": null,
   "id": "closing-boring",
   "metadata": {},
   "outputs": [
    {
     "data": {
      "text/plain": [
       "irradiance_Wm-2    0.00159\n",
       "panel_temp_C       0.00000\n",
       "pv_power_mw        0.00159\n",
       "dtype: float64"
      ]
     },
     "execution_count": null,
     "metadata": {},
     "output_type": "execute_result"
    }
   ],
   "source": [
    "df_pv = interpolate_missing_panel_temps(df_pv, df_weather)\n",
    "\n",
    "df_pv.isnull().mean()"
   ]
  },
  {
   "cell_type": "code",
   "execution_count": null,
   "id": "organizational-tiffany",
   "metadata": {},
   "outputs": [],
   "source": []
  },
  {
   "cell_type": "code",
   "execution_count": null,
   "id": "bronze-survey",
   "metadata": {},
   "outputs": [],
   "source": [
    "#exports\n",
    "def construct_df_irradiance_features(df_weather, df_pv):\n",
    "    df_weather = df_weather.reindex(pd.date_range(df_weather.index.min(), df_weather.index.max(), freq='30T')).ffill(limit=1)\n",
    "    temp_loc_cols = df_weather.columns[df_weather.columns.str.contains('solar')]\n",
    "    \n",
    "    df_irradiance_features = (df_weather\n",
    "                              .copy()\n",
    "                              [temp_loc_cols]\n",
    "                              .assign(site_solar=df_pv['irradiance_Wm-2'])\n",
    "                              .pipe(lambda df: df.assign(hour=df.index.hour + df.index.minute/60))\n",
    "                             )\n",
    "\n",
    "    df_irradiance_features = df_irradiance_features.sort_index(axis=1)\n",
    "\n",
    "    return df_irradiance_features"
   ]
  },
  {
   "cell_type": "code",
   "execution_count": null,
   "id": "behavioral-mistress",
   "metadata": {},
   "outputs": [
    {
     "data": {
      "text/html": [
       "<div>\n",
       "<style scoped>\n",
       "    .dataframe tbody tr th:only-of-type {\n",
       "        vertical-align: middle;\n",
       "    }\n",
       "\n",
       "    .dataframe tbody tr th {\n",
       "        vertical-align: top;\n",
       "    }\n",
       "\n",
       "    .dataframe thead th {\n",
       "        text-align: right;\n",
       "    }\n",
       "</style>\n",
       "<table border=\"1\" class=\"dataframe\">\n",
       "  <thead>\n",
       "    <tr style=\"text-align: right;\">\n",
       "      <th></th>\n",
       "      <th>hour</th>\n",
       "      <th>site_solar</th>\n",
       "      <th>solar_location1</th>\n",
       "      <th>solar_location2</th>\n",
       "      <th>solar_location3</th>\n",
       "      <th>solar_location4</th>\n",
       "      <th>solar_location5</th>\n",
       "      <th>solar_location6</th>\n",
       "    </tr>\n",
       "  </thead>\n",
       "  <tbody>\n",
       "    <tr>\n",
       "      <th>2015-01-01 00:00:00+00:00</th>\n",
       "      <td>0.0</td>\n",
       "      <td>NaN</td>\n",
       "      <td>0.0</td>\n",
       "      <td>0.0</td>\n",
       "      <td>0.0</td>\n",
       "      <td>0.0</td>\n",
       "      <td>0.0</td>\n",
       "      <td>0.0</td>\n",
       "    </tr>\n",
       "    <tr>\n",
       "      <th>2015-01-01 00:30:00+00:00</th>\n",
       "      <td>0.5</td>\n",
       "      <td>NaN</td>\n",
       "      <td>0.0</td>\n",
       "      <td>0.0</td>\n",
       "      <td>0.0</td>\n",
       "      <td>0.0</td>\n",
       "      <td>0.0</td>\n",
       "      <td>0.0</td>\n",
       "    </tr>\n",
       "    <tr>\n",
       "      <th>2015-01-01 01:00:00+00:00</th>\n",
       "      <td>1.0</td>\n",
       "      <td>NaN</td>\n",
       "      <td>0.0</td>\n",
       "      <td>0.0</td>\n",
       "      <td>0.0</td>\n",
       "      <td>0.0</td>\n",
       "      <td>0.0</td>\n",
       "      <td>0.0</td>\n",
       "    </tr>\n",
       "    <tr>\n",
       "      <th>2015-01-01 01:30:00+00:00</th>\n",
       "      <td>1.5</td>\n",
       "      <td>NaN</td>\n",
       "      <td>0.0</td>\n",
       "      <td>0.0</td>\n",
       "      <td>0.0</td>\n",
       "      <td>0.0</td>\n",
       "      <td>0.0</td>\n",
       "      <td>0.0</td>\n",
       "    </tr>\n",
       "    <tr>\n",
       "      <th>2015-01-01 02:00:00+00:00</th>\n",
       "      <td>2.0</td>\n",
       "      <td>NaN</td>\n",
       "      <td>0.0</td>\n",
       "      <td>0.0</td>\n",
       "      <td>0.0</td>\n",
       "      <td>0.0</td>\n",
       "      <td>0.0</td>\n",
       "      <td>0.0</td>\n",
       "    </tr>\n",
       "  </tbody>\n",
       "</table>\n",
       "</div>"
      ],
      "text/plain": [
       "                           hour  site_solar  solar_location1  solar_location2  \\\n",
       "2015-01-01 00:00:00+00:00   0.0         NaN              0.0              0.0   \n",
       "2015-01-01 00:30:00+00:00   0.5         NaN              0.0              0.0   \n",
       "2015-01-01 01:00:00+00:00   1.0         NaN              0.0              0.0   \n",
       "2015-01-01 01:30:00+00:00   1.5         NaN              0.0              0.0   \n",
       "2015-01-01 02:00:00+00:00   2.0         NaN              0.0              0.0   \n",
       "\n",
       "                           solar_location3  solar_location4  solar_location5  \\\n",
       "2015-01-01 00:00:00+00:00              0.0              0.0              0.0   \n",
       "2015-01-01 00:30:00+00:00              0.0              0.0              0.0   \n",
       "2015-01-01 01:00:00+00:00              0.0              0.0              0.0   \n",
       "2015-01-01 01:30:00+00:00              0.0              0.0              0.0   \n",
       "2015-01-01 02:00:00+00:00              0.0              0.0              0.0   \n",
       "\n",
       "                           solar_location6  \n",
       "2015-01-01 00:00:00+00:00              0.0  \n",
       "2015-01-01 00:30:00+00:00              0.0  \n",
       "2015-01-01 01:00:00+00:00              0.0  \n",
       "2015-01-01 01:30:00+00:00              0.0  \n",
       "2015-01-01 02:00:00+00:00              0.0  "
      ]
     },
     "execution_count": null,
     "metadata": {},
     "output_type": "execute_result"
    }
   ],
   "source": [
    "df_irradiance_features = construct_df_irradiance_features(df_weather, df_pv)\n",
    "\n",
    "df_irradiance_features.head()"
   ]
  },
  {
   "cell_type": "code",
   "execution_count": null,
   "id": "unlikely-saturday",
   "metadata": {},
   "outputs": [],
   "source": []
  },
  {
   "cell_type": "code",
   "execution_count": null,
   "id": "annual-noise",
   "metadata": {},
   "outputs": [
    {
     "data": {
      "text/html": [
       "<div>\n",
       "<style scoped>\n",
       "    .dataframe tbody tr th:only-of-type {\n",
       "        vertical-align: middle;\n",
       "    }\n",
       "\n",
       "    .dataframe tbody tr th {\n",
       "        vertical-align: top;\n",
       "    }\n",
       "\n",
       "    .dataframe thead th {\n",
       "        text-align: right;\n",
       "    }\n",
       "</style>\n",
       "<table border=\"1\" class=\"dataframe\">\n",
       "  <thead>\n",
       "    <tr style=\"text-align: right;\">\n",
       "      <th></th>\n",
       "      <th>std_linear</th>\n",
       "      <th>random_forest</th>\n",
       "      <th>boosted</th>\n",
       "    </tr>\n",
       "    <tr>\n",
       "      <th>metric</th>\n",
       "      <th></th>\n",
       "      <th></th>\n",
       "      <th></th>\n",
       "    </tr>\n",
       "  </thead>\n",
       "  <tbody>\n",
       "    <tr>\n",
       "      <th>mae</th>\n",
       "      <td>57.497688</td>\n",
       "      <td>37.508653</td>\n",
       "      <td>49.695589</td>\n",
       "    </tr>\n",
       "    <tr>\n",
       "      <th>rmse</th>\n",
       "      <td>110.546061</td>\n",
       "      <td>78.852450</td>\n",
       "      <td>99.196357</td>\n",
       "    </tr>\n",
       "  </tbody>\n",
       "</table>\n",
       "</div>"
      ],
      "text/plain": [
       "        std_linear  random_forest    boosted\n",
       "metric                                      \n",
       "mae      57.497688      37.508653  49.695589\n",
       "rmse    110.546061      78.852450  99.196357"
      ]
     },
     "execution_count": null,
     "metadata": {},
     "output_type": "execute_result"
    }
   ],
   "source": [
    "models = {\n",
    "    'std_linear': LinearRegression(),\n",
    "    'random_forest': RandomForestRegressor(),\n",
    "    'boosted': GradientBoostingRegressor()\n",
    "}\n",
    "\n",
    "rerun_site_irradiance_model = False\n",
    "model_scores_filename = 'site_irradiance_interp_model_results.csv'\n",
    "\n",
    "X, y = split_X_y_data(df_irradiance_features, 'site_solar')\n",
    "\n",
    "if (rerun_site_irradiance_model == True) or (model_scores_filename not in os.listdir(cache_data_dir)):\n",
    "    df_model_scores = evaluate_models(X, y, models)\n",
    "    df_model_scores.to_csv(f'{cache_data_dir}/{model_scores_filename}')\n",
    "else:\n",
    "    df_model_scores = pd.read_csv(f'{cache_data_dir}/{model_scores_filename}', index_col='metric')\n",
    "\n",
    "df_model_scores"
   ]
  },
  {
   "cell_type": "code",
   "execution_count": null,
   "id": "alternate-charlotte",
   "metadata": {},
   "outputs": [],
   "source": []
  },
  {
   "cell_type": "code",
   "execution_count": null,
   "id": "separated-philip",
   "metadata": {},
   "outputs": [
    {
     "data": {
      "text/html": [
       "<div>\n",
       "<style scoped>\n",
       "    .dataframe tbody tr th:only-of-type {\n",
       "        vertical-align: middle;\n",
       "    }\n",
       "\n",
       "    .dataframe tbody tr th {\n",
       "        vertical-align: top;\n",
       "    }\n",
       "\n",
       "    .dataframe thead th {\n",
       "        text-align: right;\n",
       "    }\n",
       "</style>\n",
       "<table border=\"1\" class=\"dataframe\">\n",
       "  <thead>\n",
       "    <tr style=\"text-align: right;\">\n",
       "      <th></th>\n",
       "      <th>pred</th>\n",
       "      <th>true</th>\n",
       "    </tr>\n",
       "  </thead>\n",
       "  <tbody>\n",
       "    <tr>\n",
       "      <th>0</th>\n",
       "      <td>0.000000</td>\n",
       "      <td>0.0</td>\n",
       "    </tr>\n",
       "    <tr>\n",
       "      <th>1</th>\n",
       "      <td>0.000000</td>\n",
       "      <td>0.0</td>\n",
       "    </tr>\n",
       "    <tr>\n",
       "      <th>2</th>\n",
       "      <td>0.000000</td>\n",
       "      <td>0.0</td>\n",
       "    </tr>\n",
       "    <tr>\n",
       "      <th>3</th>\n",
       "      <td>0.000205</td>\n",
       "      <td>0.0</td>\n",
       "    </tr>\n",
       "    <tr>\n",
       "      <th>4</th>\n",
       "      <td>0.000000</td>\n",
       "      <td>0.0</td>\n",
       "    </tr>\n",
       "  </tbody>\n",
       "</table>\n",
       "</div>"
      ],
      "text/plain": [
       "       pred true\n",
       "0  0.000000  0.0\n",
       "1  0.000000  0.0\n",
       "2  0.000000  0.0\n",
       "3  0.000205  0.0\n",
       "4  0.000000  0.0"
      ]
     },
     "execution_count": null,
     "metadata": {},
     "output_type": "execute_result"
    }
   ],
   "source": [
    "top_model = df_model_scores.T['rmse'].idxmin()\n",
    "df_pred = generate_kfold_preds(X, y, models[top_model])\n",
    "\n",
    "df_pred.head()"
   ]
  },
  {
   "cell_type": "code",
   "execution_count": null,
   "id": "natural-destiny",
   "metadata": {},
   "outputs": [],
   "source": []
  },
  {
   "cell_type": "code",
   "execution_count": null,
   "id": "bound-tablet",
   "metadata": {},
   "outputs": [
    {
     "data": {
      "text/plain": [
       "Text(0, 0.5, 'Prediction')"
      ]
     },
     "execution_count": null,
     "metadata": {},
     "output_type": "execute_result"
    },
    {
     "data": {
      "image/png": "[encoded data removed]",
      "text/plain": [
       "<Figure size 432x288 with 1 Axes>"
      ]
     },
     "metadata": {
      "needs_background": "light"
     },
     "output_type": "display_data"
    }
   ],
   "source": [
    "plt.scatter(df_pred['true'], df_pred['pred'], s=1)\n",
    "\n",
    "plt.xlabel('Obervation')\n",
    "plt.ylabel('Prediction')"
   ]
  },
  {
   "cell_type": "code",
   "execution_count": null,
   "id": "descending-samoa",
   "metadata": {},
   "outputs": [],
   "source": []
  },
  {
   "cell_type": "code",
   "execution_count": null,
   "id": "revised-airfare",
   "metadata": {},
   "outputs": [],
   "source": [
    "#exports\n",
    "def interpolate_missing_site_irradiance(df_pv, df_weather, model=RandomForestRegressor()):\n",
    "    missing_site_irradiance_dts = df_pv.index[df_pv['irradiance_Wm-2'].isnull()]\n",
    "    \n",
    "    if len(missing_site_irradiance_dts) == 0: # i.e. no missing values\n",
    "        return df_pv\n",
    "\n",
    "    df_irradiance_features = construct_df_irradiance_features(df_weather, df_pv)\n",
    "    missing_dt_X = df_irradiance_features.loc[missing_site_irradiance_dts].drop('site_solar', axis=1).values\n",
    "    X, y = split_X_y_data(df_irradiance_features, 'site_solar')\n",
    " \n",
    "    model.fit(X, y)\n",
    "    df_pv.loc[missing_site_irradiance_dts, 'irradiance_Wm-2'] = model.predict(missing_dt_X)\n",
    "    \n",
    "    assert df_pv['irradiance_Wm-2'].isnull().sum() == 0, 'There are still null values for the solar site irradiance'\n",
    "    \n",
    "    return df_pv"
   ]
  },
  {
   "cell_type": "code",
   "execution_count": null,
   "id": "light-heart",
   "metadata": {},
   "outputs": [
    {
     "data": {
      "text/plain": [
       "irradiance_Wm-2    0.00000\n",
       "panel_temp_C       0.00000\n",
       "pv_power_mw        0.00159\n",
       "dtype: float64"
      ]
     },
     "execution_count": null,
     "metadata": {},
     "output_type": "execute_result"
    }
   ],
   "source": [
    "df_pv = interpolate_missing_site_irradiance(df_pv, df_weather)\n",
    "\n",
    "df_pv.isnull().mean()"
   ]
  },
  {
   "cell_type": "markdown",
   "id": "adjacent-acquisition",
   "metadata": {},
   "source": [
    "<br>\n",
    "\n",
    "Now that we have the irradiance and temperature we're ready to start filling in the missing values for power output, again using the same regression interpolation method"
   ]
  },
  {
   "cell_type": "code",
   "execution_count": null,
   "id": "dressed-textbook",
   "metadata": {},
   "outputs": [],
   "source": [
    "#exports\n",
    "def construct_df_power_features(df_pv):\n",
    "    df_power_features = (df_pv\n",
    "                         .pipe(lambda df: df.assign(hour=df.index.hour + df.index.minute/60))\n",
    "                         .sort_index(axis=1)\n",
    "                        )\n",
    "\n",
    "    return df_power_features"
   ]
  },
  {
   "cell_type": "code",
   "execution_count": null,
   "id": "conservative-warner",
   "metadata": {},
   "outputs": [
    {
     "data": {
      "text/html": [
       "<div>\n",
       "<style scoped>\n",
       "    .dataframe tbody tr th:only-of-type {\n",
       "        vertical-align: middle;\n",
       "    }\n",
       "\n",
       "    .dataframe tbody tr th {\n",
       "        vertical-align: top;\n",
       "    }\n",
       "\n",
       "    .dataframe thead th {\n",
       "        text-align: right;\n",
       "    }\n",
       "</style>\n",
       "<table border=\"1\" class=\"dataframe\">\n",
       "  <thead>\n",
       "    <tr style=\"text-align: right;\">\n",
       "      <th></th>\n",
       "      <th>hour</th>\n",
       "      <th>irradiance_Wm-2</th>\n",
       "      <th>panel_temp_C</th>\n",
       "      <th>pv_power_mw</th>\n",
       "    </tr>\n",
       "    <tr>\n",
       "      <th>datetime</th>\n",
       "      <th></th>\n",
       "      <th></th>\n",
       "      <th></th>\n",
       "      <th></th>\n",
       "    </tr>\n",
       "  </thead>\n",
       "  <tbody>\n",
       "    <tr>\n",
       "      <th>2017-11-03 00:00:00+00:00</th>\n",
       "      <td>0.0</td>\n",
       "      <td>0.0</td>\n",
       "      <td>7.05</td>\n",
       "      <td>0.0</td>\n",
       "    </tr>\n",
       "    <tr>\n",
       "      <th>2017-11-03 00:30:00+00:00</th>\n",
       "      <td>0.5</td>\n",
       "      <td>0.0</td>\n",
       "      <td>7.38</td>\n",
       "      <td>0.0</td>\n",
       "    </tr>\n",
       "    <tr>\n",
       "      <th>2017-11-03 01:00:00+00:00</th>\n",
       "      <td>1.0</td>\n",
       "      <td>0.0</td>\n",
       "      <td>7.70</td>\n",
       "      <td>0.0</td>\n",
       "    </tr>\n",
       "    <tr>\n",
       "      <th>2017-11-03 01:30:00+00:00</th>\n",
       "      <td>1.5</td>\n",
       "      <td>0.0</td>\n",
       "      <td>7.48</td>\n",
       "      <td>0.0</td>\n",
       "    </tr>\n",
       "    <tr>\n",
       "      <th>2017-11-03 02:00:00+00:00</th>\n",
       "      <td>2.0</td>\n",
       "      <td>0.0</td>\n",
       "      <td>7.20</td>\n",
       "      <td>0.0</td>\n",
       "    </tr>\n",
       "  </tbody>\n",
       "</table>\n",
       "</div>"
      ],
      "text/plain": [
       "                           hour  irradiance_Wm-2  panel_temp_C  pv_power_mw\n",
       "datetime                                                                   \n",
       "2017-11-03 00:00:00+00:00   0.0              0.0          7.05          0.0\n",
       "2017-11-03 00:30:00+00:00   0.5              0.0          7.38          0.0\n",
       "2017-11-03 01:00:00+00:00   1.0              0.0          7.70          0.0\n",
       "2017-11-03 01:30:00+00:00   1.5              0.0          7.48          0.0\n",
       "2017-11-03 02:00:00+00:00   2.0              0.0          7.20          0.0"
      ]
     },
     "execution_count": null,
     "metadata": {},
     "output_type": "execute_result"
    }
   ],
   "source": [
    "df_power_features = construct_df_power_features(df_pv)\n",
    "\n",
    "df_power_features.head()"
   ]
  },
  {
   "cell_type": "code",
   "execution_count": null,
   "id": "immediate-harvey",
   "metadata": {},
   "outputs": [
    {
     "data": {
      "text/html": [
       "<div>\n",
       "<style scoped>\n",
       "    .dataframe tbody tr th:only-of-type {\n",
       "        vertical-align: middle;\n",
       "    }\n",
       "\n",
       "    .dataframe tbody tr th {\n",
       "        vertical-align: top;\n",
       "    }\n",
       "\n",
       "    .dataframe thead th {\n",
       "        text-align: right;\n",
       "    }\n",
       "</style>\n",
       "<table border=\"1\" class=\"dataframe\">\n",
       "  <thead>\n",
       "    <tr style=\"text-align: right;\">\n",
       "      <th></th>\n",
       "      <th>std_linear</th>\n",
       "      <th>random_forest</th>\n",
       "      <th>boosted</th>\n",
       "    </tr>\n",
       "    <tr>\n",
       "      <th>metric</th>\n",
       "      <th></th>\n",
       "      <th></th>\n",
       "      <th></th>\n",
       "    </tr>\n",
       "  </thead>\n",
       "  <tbody>\n",
       "    <tr>\n",
       "      <th>mae</th>\n",
       "      <td>0.061519</td>\n",
       "      <td>0.041122</td>\n",
       "      <td>0.043927</td>\n",
       "    </tr>\n",
       "    <tr>\n",
       "      <th>rmse</th>\n",
       "      <td>0.145980</td>\n",
       "      <td>0.135822</td>\n",
       "      <td>0.133212</td>\n",
       "    </tr>\n",
       "  </tbody>\n",
       "</table>\n",
       "</div>"
      ],
      "text/plain": [
       "        std_linear  random_forest   boosted\n",
       "metric                                     \n",
       "mae       0.061519       0.041122  0.043927\n",
       "rmse      0.145980       0.135822  0.133212"
      ]
     },
     "execution_count": null,
     "metadata": {},
     "output_type": "execute_result"
    }
   ],
   "source": [
    "models = {\n",
    "    'std_linear': LinearRegression(),\n",
    "    'random_forest': RandomForestRegressor(),\n",
    "    'boosted': GradientBoostingRegressor()\n",
    "}\n",
    "\n",
    "rerun_site_power_model = False\n",
    "model_scores_filename = 'site_power_interp_model_results.csv'\n",
    "\n",
    "X, y, dates = split_X_y_data_with_index(df_power_features, 'pv_power_mw')\n",
    "\n",
    "if (rerun_site_power_model == True) or (model_scores_filename not in os.listdir(cache_data_dir)):\n",
    "    df_model_scores = evaluate_models(X, y, models)\n",
    "    df_model_scores.to_csv(f'{cache_data_dir}/{model_scores_filename}')\n",
    "else:\n",
    "    df_model_scores = pd.read_csv(f'{cache_data_dir}/{model_scores_filename}', index_col='metric')\n",
    "\n",
    "df_model_scores"
   ]
  },
  {
   "cell_type": "code",
   "execution_count": null,
   "id": "decent-collective",
   "metadata": {},
   "outputs": [
    {
     "data": {
      "text/html": [
       "<div>\n",
       "<style scoped>\n",
       "    .dataframe tbody tr th:only-of-type {\n",
       "        vertical-align: middle;\n",
       "    }\n",
       "\n",
       "    .dataframe tbody tr th {\n",
       "        vertical-align: top;\n",
       "    }\n",
       "\n",
       "    .dataframe thead th {\n",
       "        text-align: right;\n",
       "    }\n",
       "</style>\n",
       "<table border=\"1\" class=\"dataframe\">\n",
       "  <thead>\n",
       "    <tr style=\"text-align: right;\">\n",
       "      <th></th>\n",
       "      <th>pred</th>\n",
       "      <th>true</th>\n",
       "    </tr>\n",
       "  </thead>\n",
       "  <tbody>\n",
       "    <tr>\n",
       "      <th>0</th>\n",
       "      <td>-0.001865</td>\n",
       "      <td>0.0</td>\n",
       "    </tr>\n",
       "    <tr>\n",
       "      <th>1</th>\n",
       "      <td>0.000917</td>\n",
       "      <td>0.0</td>\n",
       "    </tr>\n",
       "    <tr>\n",
       "      <th>2</th>\n",
       "      <td>-0.001086</td>\n",
       "      <td>0.0</td>\n",
       "    </tr>\n",
       "    <tr>\n",
       "      <th>3</th>\n",
       "      <td>0.000917</td>\n",
       "      <td>0.0</td>\n",
       "    </tr>\n",
       "    <tr>\n",
       "      <th>4</th>\n",
       "      <td>-0.000478</td>\n",
       "      <td>0.0</td>\n",
       "    </tr>\n",
       "  </tbody>\n",
       "</table>\n",
       "</div>"
      ],
      "text/plain": [
       "       pred true\n",
       "0 -0.001865  0.0\n",
       "1  0.000917  0.0\n",
       "2 -0.001086  0.0\n",
       "3  0.000917  0.0\n",
       "4 -0.000478  0.0"
      ]
     },
     "execution_count": null,
     "metadata": {},
     "output_type": "execute_result"
    }
   ],
   "source": [
    "top_model = df_model_scores.T['rmse'].idxmin()\n",
    "df_pred = generate_kfold_preds(X, y, models[top_model])\n",
    "\n",
    "df_pred.head()"
   ]
  },
  {
   "cell_type": "code",
   "execution_count": null,
   "id": "convertible-flood",
   "metadata": {},
   "outputs": [
    {
     "data": {
      "text/plain": [
       "Text(0, 0.5, 'Prediction')"
      ]
     },
     "execution_count": null,
     "metadata": {},
     "output_type": "execute_result"
    },
    {
     "data": {
      "image/png": "[encoded data removed]",
      "text/plain": [
       "<Figure size 432x288 with 1 Axes>"
      ]
     },
     "metadata": {
      "needs_background": "light"
     },
     "output_type": "display_data"
    }
   ],
   "source": [
    "plt.scatter(df_pred['true'], df_pred['pred'], s=1)\n",
    "\n",
    "plt.xlabel('Obervation')\n",
    "plt.ylabel('Prediction')"
   ]
  },
  {
   "cell_type": "markdown",
   "id": "loaded-validity",
   "metadata": {},
   "source": [
    "##### Anomalous data points in PV data\n",
    "\n",
    "The PV data shows a number of points where the observed value is 0 but the prediction is much higher. \n",
    "\n",
    "First let's try and identify them (setting the tolerance to be lower will capture more values as anomalous). "
   ]
  },
  {
   "cell_type": "code",
   "execution_count": null,
   "id": "operational-witness",
   "metadata": {},
   "outputs": [
    {
     "data": {
      "text/plain": [
       "(array([ 3.,  4., 10.,  9., 15., 10., 13.,  5.,  5.,  3.]),\n",
       " array([ 6.  ,  7.25,  8.5 ,  9.75, 11.  , 12.25, 13.5 , 14.75, 16.  ,\n",
       "        17.25, 18.5 ]),\n",
       " <BarContainer object of 10 artists>)"
      ]
     },
     "execution_count": null,
     "metadata": {},
     "output_type": "execute_result"
    },
    {
     "data": {
      "image/png": "[encoded data removed]",
      "text/plain": [
       "<Figure size 432x288 with 1 Axes>"
      ]
     },
     "metadata": {
      "needs_background": "light"
     },
     "output_type": "display_data"
    }
   ],
   "source": [
    "def identify_anomalies_pv(df_pred, tolerance=0.1):\n",
    "    foo = df_pred.copy()\n",
    "    foo['difference'] = foo.pred - foo.true\n",
    "    foo = foo[(foo.difference > tolerance) & (foo.true == 0)]\n",
    "    return foo.index\n",
    "\n",
    "anomalous_dates = dates[identify_anomalies_pv(df_pred)]\n",
    "anomalous_df = df_power_features[df_power_features.index.isin(anomalous_dates)]\n",
    "plt.hist(anomalous_df.hour) # Check this histogram to eyeball if any unreasonable anomalous values are caught by the tolerance (e.g. late at night)"
   ]
  },
  {
   "cell_type": "markdown",
   "id": "mighty-morris",
   "metadata": {},
   "source": [
    "Replace these values in `df_power_features`. "
   ]
  },
  {
   "cell_type": "code",
   "execution_count": null,
   "id": "widespread-mission",
   "metadata": {},
   "outputs": [],
   "source": [
    "df_power_features_clean = df_power_features.copy()\n",
    "df_power_features_clean.loc[df_power_features_clean.index.isin(anomalous_dates), 'pv_power_mw'] = np.nan"
   ]
  },
  {
   "cell_type": "markdown",
   "id": "acute-trust",
   "metadata": {},
   "source": [
    "Rerun the previous model fitting and check the pred vs. actual graph. "
   ]
  },
  {
   "cell_type": "code",
   "execution_count": null,
   "id": "reserved-champion",
   "metadata": {},
   "outputs": [
    {
     "data": {
      "text/plain": [
       "Text(0, 0.5, 'Prediction')"
      ]
     },
     "execution_count": null,
     "metadata": {},
     "output_type": "execute_result"
    },
    {
     "data": {
      "image/png": "[encoded data removed]",
      "text/plain": [
       "<Figure size 432x288 with 1 Axes>"
      ]
     },
     "metadata": {
      "needs_background": "light"
     },
     "output_type": "display_data"
    }
   ],
   "source": [
    "models = {\n",
    "    'std_linear': LinearRegression(),\n",
    "    'random_forest': RandomForestRegressor(),\n",
    "    'boosted': GradientBoostingRegressor()\n",
    "}\n",
    "\n",
    "rerun_site_power_model = False\n",
    "model_scores_filename = 'site_power_interp_clean_model_results.csv'\n",
    "\n",
    "X, y, dates = split_X_y_data_with_index(df_power_features_clean, 'pv_power_mw')\n",
    "\n",
    "if (rerun_site_power_model == True) or (model_scores_filename not in os.listdir(cache_data_dir)):\n",
    "    df_model_scores = evaluate_models(X, y, models)\n",
    "    df_model_scores.to_csv(f'{cache_data_dir}/{model_scores_filename}')\n",
    "else:\n",
    "    df_model_scores = pd.read_csv(f'{cache_data_dir}/{model_scores_filename}', index_col='metric')\n",
    "\n",
    "top_model = df_model_scores.T['rmse'].idxmin()\n",
    "df_pred = generate_kfold_preds(X, y, models[top_model])\n",
    "\n",
    "plt.scatter(df_pred['true'], df_pred['pred'], s=1)\n",
    "\n",
    "plt.xlabel('Obervation')\n",
    "plt.ylabel('Prediction')"
   ]
  },
  {
   "cell_type": "markdown",
   "id": "floating-detail",
   "metadata": {},
   "source": [
    "The above graph looks to be a cleaner with tolerance at 0.1. It looks like there might still be some which aren't though. Consider lowering the tolerance."
   ]
  },
  {
   "cell_type": "code",
   "execution_count": null,
   "id": "weekly-jaguar",
   "metadata": {},
   "outputs": [],
   "source": [
    "#exports\n",
    "def pv_anomalies_to_nan(df_pv, model=GradientBoostingRegressor(), tolerance=0.1):\n",
    "    \"\"\"\n",
    "    Run this function to identify places where predicted values for pv_power_mw are much larger\n",
    "    than true values and where the true value is 0 (we expect these are anomalies) and make these values nan.\n",
    "\n",
    "    \"\"\"\n",
    "    df_power_features = construct_df_power_features(df_pv)\n",
    "    \n",
    "    X, y, dates = split_X_y_data_with_index(df_power_features, 'pv_power_mw')\n",
    "    df_pred = generate_kfold_preds(X, y, model)\n",
    "    df_pred['difference'] = df_pred.pred - df_pred.true\n",
    "    df_pred['datetime'] = dates\n",
    "    df_pred = df_pred.set_index('datetime')\n",
    "    \n",
    "    anomalous_idx = df_pred[(df_pred.difference > tolerance) & (df_pred.true == 0)].index    \n",
    "    \n",
    "    df_pv.loc[df_pv.index.isin(anomalous_idx), 'pv_power_mw'] = np.nan\n",
    "        \n",
    "    return df_pv"
   ]
  },
  {
   "cell_type": "code",
   "execution_count": null,
   "id": "charming-vaccine",
   "metadata": {},
   "outputs": [],
   "source": [
    "df_pv = pv_anomalies_to_nan(df_pv)"
   ]
  },
  {
   "cell_type": "code",
   "execution_count": null,
   "id": "accepted-basement",
   "metadata": {},
   "outputs": [],
   "source": []
  },
  {
   "cell_type": "code",
   "execution_count": null,
   "id": "incident-tackle",
   "metadata": {},
   "outputs": [
    {
     "data": {
      "text/plain": [
       "Text(0, 0.5, 'Prediction')"
      ]
     },
     "execution_count": null,
     "metadata": {},
     "output_type": "execute_result"
    },
    {
     "data": {
      "image/png": "[encoded data removed]",
      "text/plain": [
       "<Figure size 432x288 with 1 Axes>"
      ]
     },
     "metadata": {
      "needs_background": "light"
     },
     "output_type": "display_data"
    }
   ],
   "source": [
    "df_pv = pv_anomalies_to_nan(df_pv).pipe(interpolate_missing_site_power)\n",
    "X, y, dates = split_X_y_data_with_index(df_pv, 'pv_power_mw')\n",
    "df_pred = generate_kfold_preds(X, y, GradientBoostingRegressor())\n",
    "plt.scatter(df_pred['true'], df_pred['pred'], s=1)\n",
    "plt.xlabel('Observation')\n",
    "plt.ylabel('Prediction')"
   ]
  },
  {
   "cell_type": "code",
   "execution_count": null,
   "id": "threatened-filter",
   "metadata": {},
   "outputs": [],
   "source": [
    "#exports\n",
    "def interpolate_missing_site_power(df_pv, model=RandomForestRegressor()):\n",
    "    missing_site_power_dts = df_pv.index[df_pv['pv_power_mw'].isnull()]\n",
    "    \n",
    "    if len(missing_site_power_dts) == 0: # i.e. no missing values\n",
    "        return df_pv\n",
    "\n",
    "    df_power_features = construct_df_power_features(df_pv)\n",
    "    missing_dt_X = df_power_features.loc[missing_site_power_dts].drop('pv_power_mw', axis=1).values\n",
    "    X, y = split_X_y_data(df_power_features, 'pv_power_mw')\n",
    " \n",
    "    model.fit(X, y)\n",
    "    df_pv.loc[missing_site_power_dts, 'pv_power_mw'] = model.predict(missing_dt_X)\n",
    "    \n",
    "    assert df_pv['pv_power_mw'].isnull().sum() == 0, 'There are still null values for the solar site power'\n",
    "    \n",
    "    return df_pv"
   ]
  },
  {
   "cell_type": "code",
   "execution_count": null,
   "id": "latin-labor",
   "metadata": {},
   "outputs": [
    {
     "data": {
      "text/plain": [
       "irradiance_Wm-2    0.0\n",
       "panel_temp_C       0.0\n",
       "pv_power_mw        0.0\n",
       "dtype: float64"
      ]
     },
     "execution_count": null,
     "metadata": {},
     "output_type": "execute_result"
    }
   ],
   "source": [
    "df_pv = interpolate_missing_site_power(df_pv)\n",
    "\n",
    "df_pv.isnull().mean()"
   ]
  },
  {
   "cell_type": "code",
   "execution_count": null,
   "id": "potential-owner",
   "metadata": {},
   "outputs": [],
   "source": []
  },
  {
   "cell_type": "code",
   "execution_count": null,
   "id": "heated-aquarium",
   "metadata": {},
   "outputs": [],
   "source": [
    "#exports\n",
    "def interpolate_missing_weather_solar(df_pv, df_weather, weather_col='solar_location2', model=RandomForestRegressor()):\n",
    "    missing_weather_solar_dts = df_weather.index[df_weather[weather_col].isnull()]\n",
    "    \n",
    "    if len(missing_weather_solar_dts) == 0: # i.e. no missing values\n",
    "        return df_pv\n",
    "\n",
    "    df_irradiance_features = construct_df_irradiance_features(df_weather, df_pv).drop('site_solar', axis=1)\n",
    "    missing_dt_X = df_irradiance_features.loc[missing_weather_solar_dts].drop(weather_col, axis=1).values\n",
    "    X, y = split_X_y_data(df_irradiance_features, weather_col)\n",
    " \n",
    "    model.fit(X, y)\n",
    "    df_weather.loc[missing_weather_solar_dts, weather_col] = model.predict(missing_dt_X)\n",
    "    \n",
    "    assert df_weather[weather_col].isnull().sum() == 0, 'There are still null values for the weather dataset solar observations'\n",
    "    \n",
    "    return df_weather"
   ]
  },
  {
   "cell_type": "code",
   "execution_count": null,
   "id": "accepted-planner",
   "metadata": {},
   "outputs": [
    {
     "data": {
      "text/plain": [
       "solar_location1    0.0\n",
       "solar_location2    0.0\n",
       "solar_location3    0.0\n",
       "solar_location4    0.0\n",
       "solar_location5    0.0\n",
       "solar_location6    0.0\n",
       "temp_location1     0.0\n",
       "temp_location2     0.0\n",
       "temp_location3     0.0\n",
       "temp_location4     0.0\n",
       "temp_location5     0.0\n",
       "temp_location6     0.0\n",
       "dtype: float64"
      ]
     },
     "execution_count": null,
     "metadata": {},
     "output_type": "execute_result"
    }
   ],
   "source": [
    "df_weather = interpolate_missing_weather_solar(df_pv, df_weather)\n",
    "\n",
    "df_weather.isnull().mean()"
   ]
  },
  {
   "cell_type": "code",
   "execution_count": null,
   "id": "designed-yesterday",
   "metadata": {},
   "outputs": [],
   "source": []
  },
  {
   "cell_type": "markdown",
   "id": "consecutive-magic",
   "metadata": {},
   "source": [
    "<br>\n",
    "\n",
    "Finally we'll export the relevant code to our `batopt` module"
   ]
  },
  {
   "cell_type": "code",
   "execution_count": null,
   "id": "plastic-guard",
   "metadata": {},
   "outputs": [
    {
     "name": "stdout",
     "output_type": "stream",
     "text": [
      "Converted 00-utilities.ipynb.\n",
      "Converted 01-data-cleaning.ipynb.\n",
      "Converted 02-battery-discharge.ipynb.\n",
      "Converted 03-battery-charge.ipynb.\n",
      "Converted 04-battery-constraints.ipynb.\n",
      "Converted 05-evaluation.ipynb.\n",
      "Converted 06-pipeline.ipynb.\n"
     ]
    }
   ],
   "source": [
    "#hide\n",
    "from nbdev.export import notebook2script\n",
    "    \n",
    "notebook2script()"
   ]
  }
 ],
 "metadata": {
  "kernelspec": {
   "display_name": "batopt",
   "language": "python",
   "name": "batopt"
  }
 },
 "nbformat": 4,
 "nbformat_minor": 5
}
