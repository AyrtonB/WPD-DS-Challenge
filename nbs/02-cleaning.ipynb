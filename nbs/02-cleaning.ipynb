{
 "cells": [
  {
   "cell_type": "code",
   "execution_count": 1,
   "id": "stunning-handling",
   "metadata": {},
   "outputs": [],
   "source": [
    "#default_exp clean"
   ]
  },
  {
   "cell_type": "markdown",
   "id": "completed-tobago",
   "metadata": {},
   "source": [
    "# Data Cleaning\n",
    "\n",
    "<br>\n",
    "\n",
    "### Imports"
   ]
  },
  {
   "cell_type": "code",
   "execution_count": 2,
   "id": "federal-consent",
   "metadata": {},
   "outputs": [],
   "source": [
    "#exports\n",
    "import numpy as np\n",
    "import pandas as pd\n",
    "\n",
    "import seaborn as sns\n",
    "import matplotlib.pyplot as plt\n",
    "\n",
    "from sklearn.model_selection import KFold\n",
    "from sklearn.metrics import mean_absolute_error, mean_squared_error\n",
    "from sklearn.linear_model import LinearRegression\n",
    "from sklearn.ensemble import RandomForestRegressor, GradientBoostingRegressor\n",
    "\n",
    "import os\n",
    "import glob\n",
    "from ipypb import track\n",
    "\n",
    "from batopt import utils, retrieval"
   ]
  },
  {
   "cell_type": "code",
   "execution_count": 3,
   "id": "russian-boulder",
   "metadata": {},
   "outputs": [],
   "source": [
    "from IPython.display import JSON"
   ]
  },
  {
   "cell_type": "markdown",
   "id": "organic-chemical",
   "metadata": {},
   "source": [
    "<br>\n",
    "\n",
    "### User Inputs"
   ]
  },
  {
   "cell_type": "code",
   "execution_count": 4,
   "id": "cross-wrist",
   "metadata": {},
   "outputs": [],
   "source": [
    "raw_data_dir = '../data/raw'\n",
    "cache_data_dir = '../data/nb-cache'"
   ]
  },
  {
   "cell_type": "markdown",
   "id": "public-moisture",
   "metadata": {},
   "source": [
    "<br>\n",
    "\n",
    "### Loading the Raw Data\n",
    "\n",
    "We'll start by loading in the demand data, first we have to determine the latest training set that is available for us to work with"
   ]
  },
  {
   "cell_type": "code",
   "execution_count": 5,
   "id": "minimal-underwear",
   "metadata": {},
   "outputs": [],
   "source": [
    "#exports\n",
    "def identify_latest_set_num(data_dir):\n",
    "    set_num = max([\n",
    "        int(f.split('_set')[1].replace('.csv', '')) \n",
    "        for f in os.listdir(data_dir) \n",
    "        if 'set' in f\n",
    "    ])\n",
    "    \n",
    "    return set_num"
   ]
  },
  {
   "cell_type": "code",
   "execution_count": 6,
   "id": "proved-serum",
   "metadata": {},
   "outputs": [
    {
     "data": {
      "text/plain": [
       "4"
      ]
     },
     "execution_count": 6,
     "metadata": {},
     "output_type": "execute_result"
    }
   ],
   "source": [
    "set_num = identify_latest_set_num(raw_data_dir)\n",
    "\n",
    "set_num"
   ]
  },
  {
   "cell_type": "markdown",
   "id": "fifteen-assumption",
   "metadata": {},
   "source": [
    "<br>\n",
    "\n",
    "We'll then load in and clean the datetime index of the dataset"
   ]
  },
  {
   "cell_type": "code",
   "execution_count": 7,
   "id": "finished-storage",
   "metadata": {},
   "outputs": [],
   "source": [
    "#exports\n",
    "def reindex_df_dt_idx(df, freq='30T'):\n",
    "    full_dt_idx = pd.date_range(df.index.min(), df.index.max(), freq=freq)\n",
    "    df = df.reindex(full_dt_idx)\n",
    "    \n",
    "    return df\n",
    "\n",
    "def load_training_dataset(raw_data_dir: str, dataset_name: str='demand', set_num=None, parse_dt_idx: bool=True, dt_idx_freq: str='30T') -> pd.DataFrame:\n",
    "    if set_num is None:\n",
    "        set_num = identify_latest_set_num(raw_data_dir)\n",
    "        \n",
    "    allowed_datasets = ['demand', 'pv', 'weather']\n",
    "    assert dataset_name in allowed_datasets, f\"`dataset_name` must be one of: {', '.join(allowed_datasets)} - not {dataset_name}\"\n",
    "    \n",
    "    df = pd.read_csv(glob.glob(f'{raw_data_dir}/{dataset_name}*set{set_num}.csv')[0].replace('\\\\', '/'))\n",
    "    \n",
    "    if parse_dt_idx == True:\n",
    "        assert 'datetime' in df.columns, 'if `parse_dt_idx` is True then `datetime` must be a column in the dataset'\n",
    "        \n",
    "        df['datetime'] = pd.to_datetime(df['datetime'], utc=True)\n",
    "        df = df.set_index('datetime').pipe(reindex_df_dt_idx, freq=dt_idx_freq).sort_index(axis=1)\n",
    "        df.index.name = 'datetime'\n",
    "\n",
    "    return df"
   ]
  },
  {
   "cell_type": "code",
   "execution_count": 8,
   "id": "expired-possibility",
   "metadata": {},
   "outputs": [
    {
     "data": {
      "text/html": [
       "<div>\n",
       "<style scoped>\n",
       "    .dataframe tbody tr th:only-of-type {\n",
       "        vertical-align: middle;\n",
       "    }\n",
       "\n",
       "    .dataframe tbody tr th {\n",
       "        vertical-align: top;\n",
       "    }\n",
       "\n",
       "    .dataframe thead th {\n",
       "        text-align: right;\n",
       "    }\n",
       "</style>\n",
       "<table border=\"1\" class=\"dataframe\">\n",
       "  <thead>\n",
       "    <tr style=\"text-align: right;\">\n",
       "      <th></th>\n",
       "      <th>demand_MW</th>\n",
       "    </tr>\n",
       "    <tr>\n",
       "      <th>datetime</th>\n",
       "      <th></th>\n",
       "    </tr>\n",
       "  </thead>\n",
       "  <tbody>\n",
       "    <tr>\n",
       "      <th>2017-11-03 00:00:00+00:00</th>\n",
       "      <td>2.19</td>\n",
       "    </tr>\n",
       "    <tr>\n",
       "      <th>2017-11-03 00:30:00+00:00</th>\n",
       "      <td>2.14</td>\n",
       "    </tr>\n",
       "    <tr>\n",
       "      <th>2017-11-03 01:00:00+00:00</th>\n",
       "      <td>2.01</td>\n",
       "    </tr>\n",
       "    <tr>\n",
       "      <th>2017-11-03 01:30:00+00:00</th>\n",
       "      <td>1.87</td>\n",
       "    </tr>\n",
       "    <tr>\n",
       "      <th>2017-11-03 02:00:00+00:00</th>\n",
       "      <td>1.86</td>\n",
       "    </tr>\n",
       "  </tbody>\n",
       "</table>\n",
       "</div>"
      ],
      "text/plain": [
       "                           demand_MW\n",
       "datetime                            \n",
       "2017-11-03 00:00:00+00:00       2.19\n",
       "2017-11-03 00:30:00+00:00       2.14\n",
       "2017-11-03 01:00:00+00:00       2.01\n",
       "2017-11-03 01:30:00+00:00       1.87\n",
       "2017-11-03 02:00:00+00:00       1.86"
      ]
     },
     "execution_count": 8,
     "metadata": {},
     "output_type": "execute_result"
    }
   ],
   "source": [
    "df_demand = load_training_dataset(raw_data_dir, 'demand')\n",
    "\n",
    "df_demand.head()"
   ]
  },
  {
   "cell_type": "markdown",
   "id": "regulated-skirt",
   "metadata": {},
   "source": [
    "<br>\n",
    "\n",
    "Then the pv"
   ]
  },
  {
   "cell_type": "code",
   "execution_count": 9,
   "id": "beginning-employment",
   "metadata": {},
   "outputs": [
    {
     "data": {
      "text/html": [
       "<div>\n",
       "<style scoped>\n",
       "    .dataframe tbody tr th:only-of-type {\n",
       "        vertical-align: middle;\n",
       "    }\n",
       "\n",
       "    .dataframe tbody tr th {\n",
       "        vertical-align: top;\n",
       "    }\n",
       "\n",
       "    .dataframe thead th {\n",
       "        text-align: right;\n",
       "    }\n",
       "</style>\n",
       "<table border=\"1\" class=\"dataframe\">\n",
       "  <thead>\n",
       "    <tr style=\"text-align: right;\">\n",
       "      <th></th>\n",
       "      <th>irradiance_Wm-2</th>\n",
       "      <th>panel_temp_C</th>\n",
       "      <th>pv_power_mw</th>\n",
       "    </tr>\n",
       "    <tr>\n",
       "      <th>datetime</th>\n",
       "      <th></th>\n",
       "      <th></th>\n",
       "      <th></th>\n",
       "    </tr>\n",
       "  </thead>\n",
       "  <tbody>\n",
       "    <tr>\n",
       "      <th>2017-11-03 00:00:00+00:00</th>\n",
       "      <td>0.0</td>\n",
       "      <td>7.05</td>\n",
       "      <td>0.0</td>\n",
       "    </tr>\n",
       "    <tr>\n",
       "      <th>2017-11-03 00:30:00+00:00</th>\n",
       "      <td>0.0</td>\n",
       "      <td>7.38</td>\n",
       "      <td>0.0</td>\n",
       "    </tr>\n",
       "    <tr>\n",
       "      <th>2017-11-03 01:00:00+00:00</th>\n",
       "      <td>0.0</td>\n",
       "      <td>7.70</td>\n",
       "      <td>0.0</td>\n",
       "    </tr>\n",
       "    <tr>\n",
       "      <th>2017-11-03 01:30:00+00:00</th>\n",
       "      <td>0.0</td>\n",
       "      <td>7.48</td>\n",
       "      <td>0.0</td>\n",
       "    </tr>\n",
       "    <tr>\n",
       "      <th>2017-11-03 02:00:00+00:00</th>\n",
       "      <td>0.0</td>\n",
       "      <td>7.20</td>\n",
       "      <td>0.0</td>\n",
       "    </tr>\n",
       "  </tbody>\n",
       "</table>\n",
       "</div>"
      ],
      "text/plain": [
       "                           irradiance_Wm-2  panel_temp_C  pv_power_mw\n",
       "datetime                                                             \n",
       "2017-11-03 00:00:00+00:00              0.0          7.05          0.0\n",
       "2017-11-03 00:30:00+00:00              0.0          7.38          0.0\n",
       "2017-11-03 01:00:00+00:00              0.0          7.70          0.0\n",
       "2017-11-03 01:30:00+00:00              0.0          7.48          0.0\n",
       "2017-11-03 02:00:00+00:00              0.0          7.20          0.0"
      ]
     },
     "execution_count": 9,
     "metadata": {},
     "output_type": "execute_result"
    }
   ],
   "source": [
    "df_pv = load_training_dataset(raw_data_dir, 'pv')\n",
    "\n",
    "df_pv.head()"
   ]
  },
  {
   "cell_type": "markdown",
   "id": "three-slovakia",
   "metadata": {},
   "source": [
    "<br>\n",
    "\n",
    "And finally the weather"
   ]
  },
  {
   "cell_type": "code",
   "execution_count": 10,
   "id": "declared-activation",
   "metadata": {},
   "outputs": [
    {
     "data": {
      "text/html": [
       "<div>\n",
       "<style scoped>\n",
       "    .dataframe tbody tr th:only-of-type {\n",
       "        vertical-align: middle;\n",
       "    }\n",
       "\n",
       "    .dataframe tbody tr th {\n",
       "        vertical-align: top;\n",
       "    }\n",
       "\n",
       "    .dataframe thead th {\n",
       "        text-align: right;\n",
       "    }\n",
       "</style>\n",
       "<table border=\"1\" class=\"dataframe\">\n",
       "  <thead>\n",
       "    <tr style=\"text-align: right;\">\n",
       "      <th></th>\n",
       "      <th>solar_location1</th>\n",
       "      <th>solar_location2</th>\n",
       "      <th>solar_location3</th>\n",
       "      <th>solar_location4</th>\n",
       "      <th>solar_location5</th>\n",
       "      <th>solar_location6</th>\n",
       "      <th>temp_location1</th>\n",
       "      <th>temp_location2</th>\n",
       "      <th>temp_location3</th>\n",
       "      <th>temp_location4</th>\n",
       "      <th>temp_location5</th>\n",
       "      <th>temp_location6</th>\n",
       "    </tr>\n",
       "    <tr>\n",
       "      <th>datetime</th>\n",
       "      <th></th>\n",
       "      <th></th>\n",
       "      <th></th>\n",
       "      <th></th>\n",
       "      <th></th>\n",
       "      <th></th>\n",
       "      <th></th>\n",
       "      <th></th>\n",
       "      <th></th>\n",
       "      <th></th>\n",
       "      <th></th>\n",
       "      <th></th>\n",
       "    </tr>\n",
       "  </thead>\n",
       "  <tbody>\n",
       "    <tr>\n",
       "      <th>2015-01-01 00:00:00+00:00</th>\n",
       "      <td>0.0</td>\n",
       "      <td>0.0</td>\n",
       "      <td>0.0</td>\n",
       "      <td>0.0</td>\n",
       "      <td>0.0</td>\n",
       "      <td>0.0</td>\n",
       "      <td>9.75</td>\n",
       "      <td>9.65</td>\n",
       "      <td>8.83</td>\n",
       "      <td>7.58</td>\n",
       "      <td>11.62</td>\n",
       "      <td>11.22</td>\n",
       "    </tr>\n",
       "    <tr>\n",
       "      <th>2015-01-01 01:00:00+00:00</th>\n",
       "      <td>0.0</td>\n",
       "      <td>0.0</td>\n",
       "      <td>0.0</td>\n",
       "      <td>0.0</td>\n",
       "      <td>0.0</td>\n",
       "      <td>0.0</td>\n",
       "      <td>9.91</td>\n",
       "      <td>9.76</td>\n",
       "      <td>8.90</td>\n",
       "      <td>7.62</td>\n",
       "      <td>11.65</td>\n",
       "      <td>11.32</td>\n",
       "    </tr>\n",
       "    <tr>\n",
       "      <th>2015-01-01 02:00:00+00:00</th>\n",
       "      <td>0.0</td>\n",
       "      <td>0.0</td>\n",
       "      <td>0.0</td>\n",
       "      <td>0.0</td>\n",
       "      <td>0.0</td>\n",
       "      <td>0.0</td>\n",
       "      <td>9.99</td>\n",
       "      <td>9.80</td>\n",
       "      <td>9.10</td>\n",
       "      <td>7.61</td>\n",
       "      <td>11.65</td>\n",
       "      <td>11.30</td>\n",
       "    </tr>\n",
       "  </tbody>\n",
       "</table>\n",
       "</div>"
      ],
      "text/plain": [
       "                           solar_location1  solar_location2  solar_location3  \\\n",
       "datetime                                                                       \n",
       "2015-01-01 00:00:00+00:00              0.0              0.0              0.0   \n",
       "2015-01-01 01:00:00+00:00              0.0              0.0              0.0   \n",
       "2015-01-01 02:00:00+00:00              0.0              0.0              0.0   \n",
       "\n",
       "                           solar_location4  solar_location5  solar_location6  \\\n",
       "datetime                                                                       \n",
       "2015-01-01 00:00:00+00:00              0.0              0.0              0.0   \n",
       "2015-01-01 01:00:00+00:00              0.0              0.0              0.0   \n",
       "2015-01-01 02:00:00+00:00              0.0              0.0              0.0   \n",
       "\n",
       "                           temp_location1  temp_location2  temp_location3  \\\n",
       "datetime                                                                    \n",
       "2015-01-01 00:00:00+00:00            9.75            9.65            8.83   \n",
       "2015-01-01 01:00:00+00:00            9.91            9.76            8.90   \n",
       "2015-01-01 02:00:00+00:00            9.99            9.80            9.10   \n",
       "\n",
       "                           temp_location4  temp_location5  temp_location6  \n",
       "datetime                                                                   \n",
       "2015-01-01 00:00:00+00:00            7.58           11.62           11.22  \n",
       "2015-01-01 01:00:00+00:00            7.62           11.65           11.32  \n",
       "2015-01-01 02:00:00+00:00            7.61           11.65           11.30  "
      ]
     },
     "execution_count": 10,
     "metadata": {},
     "output_type": "execute_result"
    }
   ],
   "source": [
    "df_weather = load_training_dataset(raw_data_dir, 'weather', dt_idx_freq='H')\n",
    "\n",
    "df_weather.head(3)"
   ]
  },
  {
   "cell_type": "markdown",
   "id": "serious-inclusion",
   "metadata": {},
   "source": [
    "<br>\n",
    "\n",
    "We'll also create a function that reads all of the datasets in at once and then combines them"
   ]
  },
  {
   "cell_type": "code",
   "execution_count": 11,
   "id": "compliant-brighton",
   "metadata": {},
   "outputs": [],
   "source": [
    "#exports\n",
    "def combine_training_datasets(raw_data_dir, set_num=None):\n",
    "    # Loading provided training datasets\n",
    "    single_datasets = dict()\n",
    "    dataset_names = ['demand', 'pv', 'weather']\n",
    "\n",
    "    for dataset_name in dataset_names:\n",
    "        single_datasets[dataset_name] = load_training_dataset(raw_data_dir, dataset_name, set_num=set_num)\n",
    "    \n",
    "    # Constructing date range\n",
    "    min_dt = min([df.index.min() for df in single_datasets.values()])\n",
    "    max_dt = max([df.index.max() for df in single_datasets.values()]) + pd.Timedelta(minutes=30)\n",
    "\n",
    "    dt_rng = pd.date_range(min_dt, max_dt, freq='30T')\n",
    "    \n",
    "    # Constructing combined dataframe\n",
    "    df_combined = pd.DataFrame(index=dt_rng, columns=dataset_names)\n",
    "    \n",
    "    for dataset_name in dataset_names:\n",
    "        df_single_dataset = single_datasets[dataset_name]\n",
    "        cols_to_be_overwritten = set(df_combined.columns) - (set(df_combined.columns) - set(df_single_dataset.columns))\n",
    "        assert len(cols_to_be_overwritten) == 0, f\"The following columns exist in multiple datasets meaning data would be overwritten: {', '.join(cols_to_be_overwritten)}\"\n",
    "\n",
    "        df_combined[df_single_dataset.columns] = df_single_dataset\n",
    "    \n",
    "    df_combined = df_combined.sort_index()\n",
    "    \n",
    "    # Adding holiday dates\n",
    "    s_holidays = retrieval.load_holidays_s(raw_data_dir)\n",
    "    \n",
    "    s_cropped_holidays = s_holidays[max(df_combined.index.min(), s_holidays.index.min()):\n",
    "                                    min(df_combined.index.max(), s_holidays.index.max())]\n",
    "    \n",
    "    df_combined.loc[s_cropped_holidays.index, 'holidays'] = s_cropped_holidays\n",
    "    \n",
    "    return df_combined"
   ]
  },
  {
   "cell_type": "code",
   "execution_count": 12,
   "id": "hairy-advancement",
   "metadata": {},
   "outputs": [
    {
     "data": {
      "text/html": [
       "<div>\n",
       "<style scoped>\n",
       "    .dataframe tbody tr th:only-of-type {\n",
       "        vertical-align: middle;\n",
       "    }\n",
       "\n",
       "    .dataframe tbody tr th {\n",
       "        vertical-align: top;\n",
       "    }\n",
       "\n",
       "    .dataframe thead th {\n",
       "        text-align: right;\n",
       "    }\n",
       "</style>\n",
       "<table border=\"1\" class=\"dataframe\">\n",
       "  <thead>\n",
       "    <tr style=\"text-align: right;\">\n",
       "      <th></th>\n",
       "      <th>demand</th>\n",
       "      <th>pv</th>\n",
       "      <th>weather</th>\n",
       "      <th>demand_MW</th>\n",
       "      <th>irradiance_Wm-2</th>\n",
       "      <th>panel_temp_C</th>\n",
       "      <th>pv_power_mw</th>\n",
       "      <th>solar_location1</th>\n",
       "      <th>solar_location2</th>\n",
       "      <th>solar_location3</th>\n",
       "      <th>solar_location4</th>\n",
       "      <th>solar_location5</th>\n",
       "      <th>solar_location6</th>\n",
       "      <th>temp_location1</th>\n",
       "      <th>temp_location2</th>\n",
       "      <th>temp_location3</th>\n",
       "      <th>temp_location4</th>\n",
       "      <th>temp_location5</th>\n",
       "      <th>temp_location6</th>\n",
       "      <th>holidays</th>\n",
       "    </tr>\n",
       "  </thead>\n",
       "  <tbody>\n",
       "    <tr>\n",
       "      <th>2015-01-01 00:00:00+00:00</th>\n",
       "      <td>NaN</td>\n",
       "      <td>NaN</td>\n",
       "      <td>NaN</td>\n",
       "      <td>NaN</td>\n",
       "      <td>NaN</td>\n",
       "      <td>NaN</td>\n",
       "      <td>NaN</td>\n",
       "      <td>0.0</td>\n",
       "      <td>0.0</td>\n",
       "      <td>0.0</td>\n",
       "      <td>0.0</td>\n",
       "      <td>0.0</td>\n",
       "      <td>0.0</td>\n",
       "      <td>9.75</td>\n",
       "      <td>9.65</td>\n",
       "      <td>8.83</td>\n",
       "      <td>7.58</td>\n",
       "      <td>11.62</td>\n",
       "      <td>11.22</td>\n",
       "      <td>NaN</td>\n",
       "    </tr>\n",
       "    <tr>\n",
       "      <th>2015-01-01 00:30:00+00:00</th>\n",
       "      <td>NaN</td>\n",
       "      <td>NaN</td>\n",
       "      <td>NaN</td>\n",
       "      <td>NaN</td>\n",
       "      <td>NaN</td>\n",
       "      <td>NaN</td>\n",
       "      <td>NaN</td>\n",
       "      <td>NaN</td>\n",
       "      <td>NaN</td>\n",
       "      <td>NaN</td>\n",
       "      <td>NaN</td>\n",
       "      <td>NaN</td>\n",
       "      <td>NaN</td>\n",
       "      <td>NaN</td>\n",
       "      <td>NaN</td>\n",
       "      <td>NaN</td>\n",
       "      <td>NaN</td>\n",
       "      <td>NaN</td>\n",
       "      <td>NaN</td>\n",
       "      <td>NaN</td>\n",
       "    </tr>\n",
       "    <tr>\n",
       "      <th>2015-01-01 01:00:00+00:00</th>\n",
       "      <td>NaN</td>\n",
       "      <td>NaN</td>\n",
       "      <td>NaN</td>\n",
       "      <td>NaN</td>\n",
       "      <td>NaN</td>\n",
       "      <td>NaN</td>\n",
       "      <td>NaN</td>\n",
       "      <td>0.0</td>\n",
       "      <td>0.0</td>\n",
       "      <td>0.0</td>\n",
       "      <td>0.0</td>\n",
       "      <td>0.0</td>\n",
       "      <td>0.0</td>\n",
       "      <td>9.91</td>\n",
       "      <td>9.76</td>\n",
       "      <td>8.90</td>\n",
       "      <td>7.62</td>\n",
       "      <td>11.65</td>\n",
       "      <td>11.32</td>\n",
       "      <td>NaN</td>\n",
       "    </tr>\n",
       "  </tbody>\n",
       "</table>\n",
       "</div>"
      ],
      "text/plain": [
       "                          demand   pv weather  demand_MW  irradiance_Wm-2  \\\n",
       "2015-01-01 00:00:00+00:00    NaN  NaN     NaN        NaN              NaN   \n",
       "2015-01-01 00:30:00+00:00    NaN  NaN     NaN        NaN              NaN   \n",
       "2015-01-01 01:00:00+00:00    NaN  NaN     NaN        NaN              NaN   \n",
       "\n",
       "                           panel_temp_C  pv_power_mw  solar_location1  \\\n",
       "2015-01-01 00:00:00+00:00           NaN          NaN              0.0   \n",
       "2015-01-01 00:30:00+00:00           NaN          NaN              NaN   \n",
       "2015-01-01 01:00:00+00:00           NaN          NaN              0.0   \n",
       "\n",
       "                           solar_location2  solar_location3  solar_location4  \\\n",
       "2015-01-01 00:00:00+00:00              0.0              0.0              0.0   \n",
       "2015-01-01 00:30:00+00:00              NaN              NaN              NaN   \n",
       "2015-01-01 01:00:00+00:00              0.0              0.0              0.0   \n",
       "\n",
       "                           solar_location5  solar_location6  temp_location1  \\\n",
       "2015-01-01 00:00:00+00:00              0.0              0.0            9.75   \n",
       "2015-01-01 00:30:00+00:00              NaN              NaN             NaN   \n",
       "2015-01-01 01:00:00+00:00              0.0              0.0            9.91   \n",
       "\n",
       "                           temp_location2  temp_location3  temp_location4  \\\n",
       "2015-01-01 00:00:00+00:00            9.65            8.83            7.58   \n",
       "2015-01-01 00:30:00+00:00             NaN             NaN             NaN   \n",
       "2015-01-01 01:00:00+00:00            9.76            8.90            7.62   \n",
       "\n",
       "                           temp_location5  temp_location6  holidays  \n",
       "2015-01-01 00:00:00+00:00           11.62           11.22       NaN  \n",
       "2015-01-01 00:30:00+00:00             NaN             NaN       NaN  \n",
       "2015-01-01 01:00:00+00:00           11.65           11.32       NaN  "
      ]
     },
     "execution_count": 12,
     "metadata": {},
     "output_type": "execute_result"
    }
   ],
   "source": [
    "df_combined = combine_training_datasets(raw_data_dir)\n",
    "\n",
    "df_combined.head(3)"
   ]
  },
  {
   "cell_type": "markdown",
   "id": "above-individual",
   "metadata": {},
   "source": [
    "\n",
    "<br>\n",
    "\n",
    "### Identifying Missing Values\n",
    "\n",
    "We'll quickly inspect the datasets and check their coverage over the full date range when aggregated by dataset"
   ]
  },
  {
   "cell_type": "code",
   "execution_count": 13,
   "id": "checked-opening",
   "metadata": {},
   "outputs": [],
   "source": [
    "#exports\n",
    "def identify_df_dt_entries(df_demand, df_pv, df_weather):\n",
    "    min_dt = min(df_demand.index.min(), df_pv.index.min(), df_weather.index.min())\n",
    "    max_dt = max(df_demand.index.max(), df_pv.index.max(), df_weather.index.max())\n",
    "    \n",
    "    dt_rng = pd.date_range(min_dt, max_dt, freq='30T')\n",
    "    df_nulls = pd.DataFrame(index=dt_rng)\n",
    "    \n",
    "    df_nulls['demand'] = df_demand.reindex(dt_rng).isnull().mean(axis=1).astype(int)\n",
    "    df_nulls['pv'] = df_pv.reindex(dt_rng).isnull().mean(axis=1).astype(int)\n",
    "    df_nulls['weather'] = df_weather.reindex(dt_rng).ffill(limit=1).isnull().mean(axis=1).astype(int)\n",
    "    \n",
    "    df_entries = 1 - df_nulls\n",
    "    \n",
    "    return df_entries"
   ]
  },
  {
   "cell_type": "code",
   "execution_count": 18,
   "id": "faced-shopper",
   "metadata": {},
   "outputs": [
    {
     "data": {
      "text/plain": [
       "<AxesSubplot:>"
      ]
     },
     "execution_count": 18,
     "metadata": {},
     "output_type": "execute_result"
    },
    {
     "data": {
      "image/png": "[encoded data removed]",
      "text/plain": [
       "<Figure size 900x600 with 2 Axes>"
      ]
     },
     "metadata": {
      "needs_background": "light"
     },
     "output_type": "display_data"
    }
   ],
   "source": [
    "df_entries = identify_df_dt_entries(df_demand, df_pv, df_weather)\n",
    "\n",
    "# Plotting\n",
    "fig, ax = plt.subplots(dpi=150)\n",
    "\n",
    "sns.heatmap(df_entries.T, ax=ax, cmap=plt.cm.binary)\n",
    "\n",
    "utils.set_date_ticks(ax, df_entries.index.min().strftime('%Y-%m-%d'), df_entries.index.max().strftime('%Y-%m-%d'), axis='x', freq='Qs', date_format='%b %y')"
   ]
  },
  {
   "cell_type": "markdown",
   "id": "happy-knife",
   "metadata": {},
   "source": [
    "<br>\n",
    "\n",
    "We'll also determine the null percentage in each individual column"
   ]
  },
  {
   "cell_type": "code",
   "execution_count": 19,
   "id": "dangerous-diploma",
   "metadata": {},
   "outputs": [
    {
     "data": {
      "text/plain": [
       "demand_MW    0.0\n",
       "dtype: float64"
      ]
     },
     "execution_count": 19,
     "metadata": {},
     "output_type": "execute_result"
    }
   ],
   "source": [
    "df_demand.isnull().mean()"
   ]
  },
  {
   "cell_type": "markdown",
   "id": "known-referral",
   "metadata": {},
   "source": [
    "<br>\n",
    "\n",
    "We can see that all of the PV data columns are missing some data"
   ]
  },
  {
   "cell_type": "code",
   "execution_count": 20,
   "id": "accessible-serve",
   "metadata": {},
   "outputs": [
    {
     "data": {
      "text/plain": [
       "irradiance_Wm-2    0.001863\n",
       "panel_temp_C       0.001991\n",
       "pv_power_mw        0.000771\n",
       "dtype: float64"
      ]
     },
     "execution_count": 20,
     "metadata": {},
     "output_type": "execute_result"
    }
   ],
   "source": [
    "df_pv.isnull().mean()"
   ]
  },
  {
   "cell_type": "markdown",
   "id": "present-diving",
   "metadata": {},
   "source": [
    "<br>\n",
    "\n",
    "Locations 1 and 2 are also missing some solar data, with 4 missing temperature data"
   ]
  },
  {
   "cell_type": "code",
   "execution_count": 21,
   "id": "municipal-lesson",
   "metadata": {},
   "outputs": [
    {
     "data": {
      "text/plain": [
       "solar_location1    0.001487\n",
       "solar_location2    0.000992\n",
       "solar_location3    0.000000\n",
       "solar_location4    0.000000\n",
       "solar_location5    0.000000\n",
       "solar_location6    0.000000\n",
       "temp_location1     0.000000\n",
       "temp_location2     0.000000\n",
       "temp_location3     0.000000\n",
       "temp_location4     0.000992\n",
       "temp_location5     0.000000\n",
       "temp_location6     0.000000\n",
       "dtype: float64"
      ]
     },
     "execution_count": 21,
     "metadata": {},
     "output_type": "execute_result"
    }
   ],
   "source": [
    "df_weather.isnull().mean()"
   ]
  },
  {
   "cell_type": "markdown",
   "id": "tired-tuition",
   "metadata": {},
   "source": [
    "<br>\n",
    "\n",
    "### Handling Missing Values\n",
    "\n",
    "We'll start by interpolating the missing PV data, first checking the number of variables that have null values for each time period"
   ]
  },
  {
   "cell_type": "code",
   "execution_count": 21,
   "id": "imposed-sunrise",
   "metadata": {},
   "outputs": [
    {
     "data": {
      "text/plain": [
       "1    103\n",
       "3     24\n",
       "dtype: int64"
      ]
     },
     "execution_count": 21,
     "metadata": {},
     "output_type": "execute_result"
    }
   ],
   "source": [
    "s_pv_num_null_vals = df_pv.isnull().sum(axis=1).replace(0, np.nan).dropna().astype(int)\n",
    "\n",
    "s_pv_num_null_vals.value_counts()"
   ]
  },
  {
   "cell_type": "markdown",
   "id": "independent-nutrition",
   "metadata": {},
   "source": [
    "<br>\n",
    "\n",
    "`pv_power_mw` and `irradiance_Wm-2` have the same average number of null values, there are also no time-periods where only 2 variables have null values - it's therefore likely that power and irradiance always have null periods at the same time which makes it harder to interpolate their values. We'll quickly check this hypothesis:"
   ]
  },
  {
   "cell_type": "code",
   "execution_count": 22,
   "id": "hispanic-jerusalem",
   "metadata": {},
   "outputs": [
    {
     "data": {
      "text/plain": [
       "False"
      ]
     },
     "execution_count": 22,
     "metadata": {},
     "output_type": "execute_result"
    }
   ],
   "source": [
    "(df_pv['pv_power_mw'].isnull() == df_pv['irradiance_Wm-2'].isnull()).mean() == 1"
   ]
  },
  {
   "cell_type": "markdown",
   "id": "subsequent-progressive",
   "metadata": {},
   "source": [
    "<br>\n",
    "\n",
    "It appears as though the `pv_power_mw` and `irradiance_Wm-2` missing values are a single time-block that coincides with a larger set of missing values within `panel_temp_C`."
   ]
  },
  {
   "cell_type": "code",
   "execution_count": 23,
   "id": "monthly-candle",
   "metadata": {},
   "outputs": [
    {
     "data": {
      "text/html": [
       "<div>\n",
       "<style scoped>\n",
       "    .dataframe tbody tr th:only-of-type {\n",
       "        vertical-align: middle;\n",
       "    }\n",
       "\n",
       "    .dataframe tbody tr th {\n",
       "        vertical-align: top;\n",
       "    }\n",
       "\n",
       "    .dataframe thead th {\n",
       "        text-align: right;\n",
       "    }\n",
       "</style>\n",
       "<table border=\"1\" class=\"dataframe\">\n",
       "  <thead>\n",
       "    <tr style=\"text-align: right;\">\n",
       "      <th></th>\n",
       "      <th>irradiance_Wm-2</th>\n",
       "      <th>panel_temp_C</th>\n",
       "      <th>pv_power_mw</th>\n",
       "    </tr>\n",
       "    <tr>\n",
       "      <th>datetime</th>\n",
       "      <th></th>\n",
       "      <th></th>\n",
       "      <th></th>\n",
       "    </tr>\n",
       "  </thead>\n",
       "  <tbody>\n",
       "    <tr>\n",
       "      <th>2018-03-04 07:00:00+00:00</th>\n",
       "      <td>NaN</td>\n",
       "      <td>NaN</td>\n",
       "      <td>NaN</td>\n",
       "    </tr>\n",
       "    <tr>\n",
       "      <th>2018-03-04 07:30:00+00:00</th>\n",
       "      <td>NaN</td>\n",
       "      <td>NaN</td>\n",
       "      <td>NaN</td>\n",
       "    </tr>\n",
       "    <tr>\n",
       "      <th>2018-03-04 08:00:00+00:00</th>\n",
       "      <td>NaN</td>\n",
       "      <td>NaN</td>\n",
       "      <td>NaN</td>\n",
       "    </tr>\n",
       "    <tr>\n",
       "      <th>2018-03-04 08:30:00+00:00</th>\n",
       "      <td>NaN</td>\n",
       "      <td>NaN</td>\n",
       "      <td>NaN</td>\n",
       "    </tr>\n",
       "    <tr>\n",
       "      <th>2018-03-04 09:00:00+00:00</th>\n",
       "      <td>NaN</td>\n",
       "      <td>NaN</td>\n",
       "      <td>NaN</td>\n",
       "    </tr>\n",
       "    <tr>\n",
       "      <th>2018-03-04 09:30:00+00:00</th>\n",
       "      <td>NaN</td>\n",
       "      <td>NaN</td>\n",
       "      <td>NaN</td>\n",
       "    </tr>\n",
       "    <tr>\n",
       "      <th>2018-03-04 10:00:00+00:00</th>\n",
       "      <td>NaN</td>\n",
       "      <td>NaN</td>\n",
       "      <td>NaN</td>\n",
       "    </tr>\n",
       "    <tr>\n",
       "      <th>2018-03-04 10:30:00+00:00</th>\n",
       "      <td>NaN</td>\n",
       "      <td>NaN</td>\n",
       "      <td>NaN</td>\n",
       "    </tr>\n",
       "    <tr>\n",
       "      <th>2018-03-04 11:00:00+00:00</th>\n",
       "      <td>NaN</td>\n",
       "      <td>NaN</td>\n",
       "      <td>NaN</td>\n",
       "    </tr>\n",
       "    <tr>\n",
       "      <th>2018-03-04 11:30:00+00:00</th>\n",
       "      <td>NaN</td>\n",
       "      <td>NaN</td>\n",
       "      <td>NaN</td>\n",
       "    </tr>\n",
       "    <tr>\n",
       "      <th>2018-03-04 12:00:00+00:00</th>\n",
       "      <td>NaN</td>\n",
       "      <td>NaN</td>\n",
       "      <td>NaN</td>\n",
       "    </tr>\n",
       "    <tr>\n",
       "      <th>2018-03-04 12:30:00+00:00</th>\n",
       "      <td>NaN</td>\n",
       "      <td>NaN</td>\n",
       "      <td>NaN</td>\n",
       "    </tr>\n",
       "    <tr>\n",
       "      <th>2018-03-04 13:00:00+00:00</th>\n",
       "      <td>NaN</td>\n",
       "      <td>NaN</td>\n",
       "      <td>NaN</td>\n",
       "    </tr>\n",
       "    <tr>\n",
       "      <th>2018-03-04 13:30:00+00:00</th>\n",
       "      <td>NaN</td>\n",
       "      <td>NaN</td>\n",
       "      <td>NaN</td>\n",
       "    </tr>\n",
       "    <tr>\n",
       "      <th>2018-03-04 14:00:00+00:00</th>\n",
       "      <td>NaN</td>\n",
       "      <td>NaN</td>\n",
       "      <td>NaN</td>\n",
       "    </tr>\n",
       "    <tr>\n",
       "      <th>2018-03-04 15:00:00+00:00</th>\n",
       "      <td>NaN</td>\n",
       "      <td>NaN</td>\n",
       "      <td>NaN</td>\n",
       "    </tr>\n",
       "    <tr>\n",
       "      <th>2018-03-04 15:30:00+00:00</th>\n",
       "      <td>NaN</td>\n",
       "      <td>NaN</td>\n",
       "      <td>NaN</td>\n",
       "    </tr>\n",
       "    <tr>\n",
       "      <th>2018-03-04 16:00:00+00:00</th>\n",
       "      <td>NaN</td>\n",
       "      <td>NaN</td>\n",
       "      <td>NaN</td>\n",
       "    </tr>\n",
       "    <tr>\n",
       "      <th>2018-03-04 16:30:00+00:00</th>\n",
       "      <td>NaN</td>\n",
       "      <td>NaN</td>\n",
       "      <td>NaN</td>\n",
       "    </tr>\n",
       "    <tr>\n",
       "      <th>2018-03-04 17:00:00+00:00</th>\n",
       "      <td>NaN</td>\n",
       "      <td>NaN</td>\n",
       "      <td>NaN</td>\n",
       "    </tr>\n",
       "    <tr>\n",
       "      <th>2019-07-19 14:00:00+00:00</th>\n",
       "      <td>NaN</td>\n",
       "      <td>NaN</td>\n",
       "      <td>NaN</td>\n",
       "    </tr>\n",
       "    <tr>\n",
       "      <th>2019-07-19 14:30:00+00:00</th>\n",
       "      <td>NaN</td>\n",
       "      <td>NaN</td>\n",
       "      <td>NaN</td>\n",
       "    </tr>\n",
       "    <tr>\n",
       "      <th>2019-07-19 15:00:00+00:00</th>\n",
       "      <td>NaN</td>\n",
       "      <td>NaN</td>\n",
       "      <td>NaN</td>\n",
       "    </tr>\n",
       "    <tr>\n",
       "      <th>2019-07-19 15:30:00+00:00</th>\n",
       "      <td>NaN</td>\n",
       "      <td>NaN</td>\n",
       "      <td>NaN</td>\n",
       "    </tr>\n",
       "  </tbody>\n",
       "</table>\n",
       "</div>"
      ],
      "text/plain": [
       "                           irradiance_Wm-2  panel_temp_C  pv_power_mw\n",
       "datetime                                                             \n",
       "2018-03-04 07:00:00+00:00              NaN           NaN          NaN\n",
       "2018-03-04 07:30:00+00:00              NaN           NaN          NaN\n",
       "2018-03-04 08:00:00+00:00              NaN           NaN          NaN\n",
       "2018-03-04 08:30:00+00:00              NaN           NaN          NaN\n",
       "2018-03-04 09:00:00+00:00              NaN           NaN          NaN\n",
       "2018-03-04 09:30:00+00:00              NaN           NaN          NaN\n",
       "2018-03-04 10:00:00+00:00              NaN           NaN          NaN\n",
       "2018-03-04 10:30:00+00:00              NaN           NaN          NaN\n",
       "2018-03-04 11:00:00+00:00              NaN           NaN          NaN\n",
       "2018-03-04 11:30:00+00:00              NaN           NaN          NaN\n",
       "2018-03-04 12:00:00+00:00              NaN           NaN          NaN\n",
       "2018-03-04 12:30:00+00:00              NaN           NaN          NaN\n",
       "2018-03-04 13:00:00+00:00              NaN           NaN          NaN\n",
       "2018-03-04 13:30:00+00:00              NaN           NaN          NaN\n",
       "2018-03-04 14:00:00+00:00              NaN           NaN          NaN\n",
       "2018-03-04 15:00:00+00:00              NaN           NaN          NaN\n",
       "2018-03-04 15:30:00+00:00              NaN           NaN          NaN\n",
       "2018-03-04 16:00:00+00:00              NaN           NaN          NaN\n",
       "2018-03-04 16:30:00+00:00              NaN           NaN          NaN\n",
       "2018-03-04 17:00:00+00:00              NaN           NaN          NaN\n",
       "2019-07-19 14:00:00+00:00              NaN           NaN          NaN\n",
       "2019-07-19 14:30:00+00:00              NaN           NaN          NaN\n",
       "2019-07-19 15:00:00+00:00              NaN           NaN          NaN\n",
       "2019-07-19 15:30:00+00:00              NaN           NaN          NaN"
      ]
     },
     "execution_count": 23,
     "metadata": {},
     "output_type": "execute_result"
    }
   ],
   "source": [
    "df_pv[df_pv['pv_power_mw'].isnull()]"
   ]
  },
  {
   "cell_type": "markdown",
   "id": "tracked-trouble",
   "metadata": {},
   "source": [
    "<br>\n",
    "\n",
    "Looking at the `panel_temp_C` data we can see there are 3 time-blocks where obervations are missing "
   ]
  },
  {
   "cell_type": "code",
   "execution_count": 24,
   "id": "sonic-requirement",
   "metadata": {},
   "outputs": [
    {
     "data": {
      "text/plain": [
       "<AxesSubplot:xlabel='datetime'>"
      ]
     },
     "execution_count": 24,
     "metadata": {},
     "output_type": "execute_result"
    },
    {
     "data": {
      "image/png": "[encoded data removed]",
      "text/plain": [
       "<Figure size 432x288 with 1 Axes>"
      ]
     },
     "metadata": {
      "needs_background": "light"
     },
     "output_type": "display_data"
    }
   ],
   "source": [
    "df_pv['panel_temp_C'].isnull().astype(int).plot()"
   ]
  },
  {
   "cell_type": "markdown",
   "id": "organizational-discharge",
   "metadata": {},
   "source": [
    "<br>\n",
    "\n",
    "One option might to be replace the missing temperature values with the temperatures observed at the surrounding weather grid locations, we'll start by constructing a dataframe that includes all of the temperature data as well as the average rolling temperature for each weather data location."
   ]
  },
  {
   "cell_type": "code",
   "execution_count": 25,
   "id": "prostate-tucson",
   "metadata": {},
   "outputs": [],
   "source": [
    "#exports\n",
    "def construct_df_temp_features(df_weather, df_pv):\n",
    "    df_weather = df_weather.reindex(pd.date_range(df_weather.index.min(), df_weather.index.max(), freq='30T')).ffill(limit=1)\n",
    "    temp_loc_cols = df_weather.columns[df_weather.columns.str.contains('temp')]\n",
    "    \n",
    "    df_temp_features = (df_weather\n",
    "                        .copy()\n",
    "                        [temp_loc_cols]\n",
    "                        .assign(site_temp=df_pv['panel_temp_C'])\n",
    "                       )\n",
    "\n",
    "    df_temp_features[[col+'_rolling' for col in temp_loc_cols]] = df_temp_features.rolling(3).mean()[temp_loc_cols]\n",
    "\n",
    "    df_temp_features = df_temp_features.sort_index(axis=1)\n",
    "\n",
    "    return df_temp_features"
   ]
  },
  {
   "cell_type": "code",
   "execution_count": 26,
   "id": "environmental-handbook",
   "metadata": {},
   "outputs": [
    {
     "data": {
      "text/html": [
       "<div>\n",
       "<style scoped>\n",
       "    .dataframe tbody tr th:only-of-type {\n",
       "        vertical-align: middle;\n",
       "    }\n",
       "\n",
       "    .dataframe tbody tr th {\n",
       "        vertical-align: top;\n",
       "    }\n",
       "\n",
       "    .dataframe thead th {\n",
       "        text-align: right;\n",
       "    }\n",
       "</style>\n",
       "<table border=\"1\" class=\"dataframe\">\n",
       "  <thead>\n",
       "    <tr style=\"text-align: right;\">\n",
       "      <th></th>\n",
       "      <th>site_temp</th>\n",
       "      <th>temp_location1</th>\n",
       "      <th>temp_location1_rolling</th>\n",
       "      <th>temp_location2</th>\n",
       "      <th>temp_location2_rolling</th>\n",
       "      <th>temp_location3</th>\n",
       "      <th>temp_location3_rolling</th>\n",
       "      <th>temp_location4</th>\n",
       "      <th>temp_location4_rolling</th>\n",
       "      <th>temp_location5</th>\n",
       "      <th>temp_location5_rolling</th>\n",
       "      <th>temp_location6</th>\n",
       "      <th>temp_location6_rolling</th>\n",
       "    </tr>\n",
       "  </thead>\n",
       "  <tbody>\n",
       "    <tr>\n",
       "      <th>2017-11-03 00:00:00+00:00</th>\n",
       "      <td>7.05</td>\n",
       "      <td>8.56</td>\n",
       "      <td>8.626667</td>\n",
       "      <td>9.64</td>\n",
       "      <td>9.660000</td>\n",
       "      <td>7.46</td>\n",
       "      <td>7.786667</td>\n",
       "      <td>6.68</td>\n",
       "      <td>6.933333</td>\n",
       "      <td>13.09</td>\n",
       "      <td>13.023333</td>\n",
       "      <td>13.20</td>\n",
       "      <td>13.113333</td>\n",
       "    </tr>\n",
       "    <tr>\n",
       "      <th>2017-11-03 00:30:00+00:00</th>\n",
       "      <td>7.38</td>\n",
       "      <td>8.56</td>\n",
       "      <td>8.593333</td>\n",
       "      <td>9.64</td>\n",
       "      <td>9.650000</td>\n",
       "      <td>7.46</td>\n",
       "      <td>7.623333</td>\n",
       "      <td>6.68</td>\n",
       "      <td>6.806667</td>\n",
       "      <td>13.09</td>\n",
       "      <td>13.056667</td>\n",
       "      <td>13.20</td>\n",
       "      <td>13.156667</td>\n",
       "    </tr>\n",
       "    <tr>\n",
       "      <th>2017-11-03 01:00:00+00:00</th>\n",
       "      <td>7.70</td>\n",
       "      <td>8.69</td>\n",
       "      <td>8.603333</td>\n",
       "      <td>9.71</td>\n",
       "      <td>9.663333</td>\n",
       "      <td>7.14</td>\n",
       "      <td>7.353333</td>\n",
       "      <td>6.27</td>\n",
       "      <td>6.543333</td>\n",
       "      <td>13.21</td>\n",
       "      <td>13.130000</td>\n",
       "      <td>13.32</td>\n",
       "      <td>13.240000</td>\n",
       "    </tr>\n",
       "    <tr>\n",
       "      <th>2017-11-03 01:30:00+00:00</th>\n",
       "      <td>7.48</td>\n",
       "      <td>8.69</td>\n",
       "      <td>8.646667</td>\n",
       "      <td>9.71</td>\n",
       "      <td>9.686667</td>\n",
       "      <td>7.14</td>\n",
       "      <td>7.246667</td>\n",
       "      <td>6.27</td>\n",
       "      <td>6.406667</td>\n",
       "      <td>13.21</td>\n",
       "      <td>13.170000</td>\n",
       "      <td>13.32</td>\n",
       "      <td>13.280000</td>\n",
       "    </tr>\n",
       "    <tr>\n",
       "      <th>2017-11-03 02:00:00+00:00</th>\n",
       "      <td>7.20</td>\n",
       "      <td>8.74</td>\n",
       "      <td>8.706667</td>\n",
       "      <td>9.73</td>\n",
       "      <td>9.716667</td>\n",
       "      <td>6.86</td>\n",
       "      <td>7.046667</td>\n",
       "      <td>5.91</td>\n",
       "      <td>6.150000</td>\n",
       "      <td>13.30</td>\n",
       "      <td>13.240000</td>\n",
       "      <td>13.36</td>\n",
       "      <td>13.333333</td>\n",
       "    </tr>\n",
       "  </tbody>\n",
       "</table>\n",
       "</div>"
      ],
      "text/plain": [
       "                           site_temp  temp_location1  temp_location1_rolling  \\\n",
       "2017-11-03 00:00:00+00:00       7.05            8.56                8.626667   \n",
       "2017-11-03 00:30:00+00:00       7.38            8.56                8.593333   \n",
       "2017-11-03 01:00:00+00:00       7.70            8.69                8.603333   \n",
       "2017-11-03 01:30:00+00:00       7.48            8.69                8.646667   \n",
       "2017-11-03 02:00:00+00:00       7.20            8.74                8.706667   \n",
       "\n",
       "                           temp_location2  temp_location2_rolling  \\\n",
       "2017-11-03 00:00:00+00:00            9.64                9.660000   \n",
       "2017-11-03 00:30:00+00:00            9.64                9.650000   \n",
       "2017-11-03 01:00:00+00:00            9.71                9.663333   \n",
       "2017-11-03 01:30:00+00:00            9.71                9.686667   \n",
       "2017-11-03 02:00:00+00:00            9.73                9.716667   \n",
       "\n",
       "                           temp_location3  temp_location3_rolling  \\\n",
       "2017-11-03 00:00:00+00:00            7.46                7.786667   \n",
       "2017-11-03 00:30:00+00:00            7.46                7.623333   \n",
       "2017-11-03 01:00:00+00:00            7.14                7.353333   \n",
       "2017-11-03 01:30:00+00:00            7.14                7.246667   \n",
       "2017-11-03 02:00:00+00:00            6.86                7.046667   \n",
       "\n",
       "                           temp_location4  temp_location4_rolling  \\\n",
       "2017-11-03 00:00:00+00:00            6.68                6.933333   \n",
       "2017-11-03 00:30:00+00:00            6.68                6.806667   \n",
       "2017-11-03 01:00:00+00:00            6.27                6.543333   \n",
       "2017-11-03 01:30:00+00:00            6.27                6.406667   \n",
       "2017-11-03 02:00:00+00:00            5.91                6.150000   \n",
       "\n",
       "                           temp_location5  temp_location5_rolling  \\\n",
       "2017-11-03 00:00:00+00:00           13.09               13.023333   \n",
       "2017-11-03 00:30:00+00:00           13.09               13.056667   \n",
       "2017-11-03 01:00:00+00:00           13.21               13.130000   \n",
       "2017-11-03 01:30:00+00:00           13.21               13.170000   \n",
       "2017-11-03 02:00:00+00:00           13.30               13.240000   \n",
       "\n",
       "                           temp_location6  temp_location6_rolling  \n",
       "2017-11-03 00:00:00+00:00           13.20               13.113333  \n",
       "2017-11-03 00:30:00+00:00           13.20               13.156667  \n",
       "2017-11-03 01:00:00+00:00           13.32               13.240000  \n",
       "2017-11-03 01:30:00+00:00           13.32               13.280000  \n",
       "2017-11-03 02:00:00+00:00           13.36               13.333333  "
      ]
     },
     "execution_count": 26,
     "metadata": {},
     "output_type": "execute_result"
    }
   ],
   "source": [
    "df_temp_features = construct_df_temp_features(df_weather, df_pv).dropna()\n",
    "\n",
    "df_temp_features.head()"
   ]
  },
  {
   "cell_type": "markdown",
   "id": "ordered-palestine",
   "metadata": {},
   "source": [
    "<br>\n",
    "\n",
    "We'll now check the correlation"
   ]
  },
  {
   "cell_type": "code",
   "execution_count": 27,
   "id": "departmental-optimization",
   "metadata": {},
   "outputs": [
    {
     "data": {
      "text/plain": [
       "<AxesSubplot:>"
      ]
     },
     "execution_count": 27,
     "metadata": {},
     "output_type": "execute_result"
    },
    {
     "data": {
      "image/png": "[encoded data removed]",
      "text/plain": [
       "<Figure size 432x288 with 2 Axes>"
      ]
     },
     "metadata": {
      "needs_background": "light"
     },
     "output_type": "display_data"
    }
   ],
   "source": [
    "sns.heatmap(df_temp_features.corr())"
   ]
  },
  {
   "cell_type": "markdown",
   "id": "invalid-arizona",
   "metadata": {},
   "source": [
    "<br>\n",
    "\n",
    "The correlation drops off quickly when it gets to the site temperature, looking at the full distributions we can see that the site measurements get far higher. This is because the panel is absorbing heat that raises its temperature above that of the surrounding area, again making it more difficult to simply fill in with the nearby temperature measurements."
   ]
  },
  {
   "cell_type": "code",
   "execution_count": 28,
   "id": "banner-barbados",
   "metadata": {},
   "outputs": [
    {
     "name": "stderr",
     "output_type": "stream",
     "text": [
      "C:\\Users\\Ayrto\\anaconda3\\envs\\batopt\\lib\\site-packages\\seaborn\\distributions.py:2557: FutureWarning: `distplot` is a deprecated function and will be removed in a future version. Please adapt your code to use either `displot` (a figure-level function with similar flexibility) or `histplot` (an axes-level function for histograms).\n",
      "  warnings.warn(msg, FutureWarning)\n",
      "C:\\Users\\Ayrto\\anaconda3\\envs\\batopt\\lib\\site-packages\\seaborn\\distributions.py:2557: FutureWarning: `distplot` is a deprecated function and will be removed in a future version. Please adapt your code to use either `displot` (a figure-level function with similar flexibility) or `histplot` (an axes-level function for histograms).\n",
      "  warnings.warn(msg, FutureWarning)\n",
      "C:\\Users\\Ayrto\\anaconda3\\envs\\batopt\\lib\\site-packages\\seaborn\\distributions.py:2557: FutureWarning: `distplot` is a deprecated function and will be removed in a future version. Please adapt your code to use either `displot` (a figure-level function with similar flexibility) or `histplot` (an axes-level function for histograms).\n",
      "  warnings.warn(msg, FutureWarning)\n"
     ]
    },
    {
     "data": {
      "text/plain": [
       "<matplotlib.legend.Legend at 0x1fa8d979310>"
      ]
     },
     "execution_count": 28,
     "metadata": {},
     "output_type": "execute_result"
    },
    {
     "data": {
      "image/png": "[encoded data removed]",
      "text/plain": [
       "<Figure size 432x288 with 1 Axes>"
      ]
     },
     "metadata": {
      "needs_background": "light"
     },
     "output_type": "display_data"
    }
   ],
   "source": [
    "sns.histplot(df_temp_features['site_temp'], color='C0', label='Panel')\n",
    "sns.histplot(df_temp_features.drop('site_temp', axis=1).min(axis=1), color='C1', label='MERRA Min')\n",
    "sns.histplot(df_temp_features.drop('site_temp', axis=1).max(axis=1), color='C2', label='MERRA Max')\n",
    "\n",
    "plt.legend(frameon=False)"
   ]
  },
  {
   "cell_type": "code",
   "execution_count": null,
   "id": "breathing-budapest",
   "metadata": {},
   "outputs": [],
   "source": []
  },
  {
   "cell_type": "code",
   "execution_count": 29,
   "id": "advisory-ground",
   "metadata": {},
   "outputs": [],
   "source": [
    "# Could use an RF to estimate the panel temp based on the weather grid temps?\n",
    "# Potential features: current average surrounding temp, average surrounding temp over the last 3 hours"
   ]
  },
  {
   "cell_type": "code",
   "execution_count": 30,
   "id": "boolean-mount",
   "metadata": {},
   "outputs": [],
   "source": [
    "#exports\n",
    "def split_X_y_data(df, target_col='site_temp'):\n",
    "    df = df.dropna()\n",
    "    X_cols = df.drop(target_col, axis=1).columns\n",
    "\n",
    "    X = df[X_cols].values\n",
    "    y = df[target_col].values\n",
    "    \n",
    "    return X, y\n",
    "\n",
    "def split_X_y_data_with_index(df, target_col='site_temp'):\n",
    "    df = df.dropna()\n",
    "    X_cols = df.drop(target_col, axis=1).columns\n",
    "\n",
    "    X = df[X_cols].values\n",
    "    y = df[target_col].values\n",
    "    index = df.index\n",
    "    \n",
    "    return X, y, index"
   ]
  },
  {
   "cell_type": "code",
   "execution_count": 31,
   "id": "loving-excellence",
   "metadata": {},
   "outputs": [
    {
     "data": {
      "text/plain": [
       "((37024, 12), (37024,))"
      ]
     },
     "execution_count": 31,
     "metadata": {},
     "output_type": "execute_result"
    }
   ],
   "source": [
    "X, y = split_X_y_data(df_temp_features)\n",
    "\n",
    "X.shape, y.shape"
   ]
  },
  {
   "cell_type": "code",
   "execution_count": null,
   "id": "reliable-spanish",
   "metadata": {},
   "outputs": [],
   "source": []
  },
  {
   "cell_type": "code",
   "execution_count": 32,
   "id": "regular-civilian",
   "metadata": {},
   "outputs": [],
   "source": [
    "#exports\n",
    "def generate_kfold_preds(\n",
    "    X, \n",
    "    y, \n",
    "    model=LinearRegression(), \n",
    "    kfold_kwargs={'n_splits': 5, 'shuffle': True},\n",
    "    index=None\n",
    "):\n",
    "\n",
    "    kfold = KFold(**kfold_kwargs)\n",
    "    df_pred = pd.DataFrame(columns=['pred', 'true'], index=np.arange(X.shape[0]))\n",
    "\n",
    "    for train_idxs, test_idxs in kfold.split(X):\n",
    "        X_train, y_train = X[train_idxs], y[train_idxs]\n",
    "        X_test, y_test = X[test_idxs], y[test_idxs]\n",
    "    \n",
    "        model.fit(X_train, y_train)\n",
    "        \n",
    "        df_pred.loc[test_idxs, 'true'] = y_test\n",
    "        df_pred.loc[test_idxs, 'pred'] = model.predict(X_test)\n",
    "        \n",
    "    df_pred = df_pred.sort_index()\n",
    "    \n",
    "    if index is not None:\n",
    "        assert len(index) == df_pred.shape[0], 'The passed index must be the same length as X and y'\n",
    "        df_pred.index = index\n",
    "        \n",
    "    return df_pred"
   ]
  },
  {
   "cell_type": "code",
   "execution_count": 33,
   "id": "spare-shooting",
   "metadata": {},
   "outputs": [
    {
     "data": {
      "text/html": [
       "<div>\n",
       "<style scoped>\n",
       "    .dataframe tbody tr th:only-of-type {\n",
       "        vertical-align: middle;\n",
       "    }\n",
       "\n",
       "    .dataframe tbody tr th {\n",
       "        vertical-align: top;\n",
       "    }\n",
       "\n",
       "    .dataframe thead th {\n",
       "        text-align: right;\n",
       "    }\n",
       "</style>\n",
       "<table border=\"1\" class=\"dataframe\">\n",
       "  <thead>\n",
       "    <tr style=\"text-align: right;\">\n",
       "      <th></th>\n",
       "      <th>pred</th>\n",
       "      <th>true</th>\n",
       "    </tr>\n",
       "  </thead>\n",
       "  <tbody>\n",
       "    <tr>\n",
       "      <th>0</th>\n",
       "      <td>4.759863</td>\n",
       "      <td>7.05</td>\n",
       "    </tr>\n",
       "    <tr>\n",
       "      <th>1</th>\n",
       "      <td>5.006060</td>\n",
       "      <td>7.38</td>\n",
       "    </tr>\n",
       "    <tr>\n",
       "      <th>2</th>\n",
       "      <td>5.408294</td>\n",
       "      <td>7.70</td>\n",
       "    </tr>\n",
       "    <tr>\n",
       "      <th>3</th>\n",
       "      <td>5.494386</td>\n",
       "      <td>7.48</td>\n",
       "    </tr>\n",
       "    <tr>\n",
       "      <th>4</th>\n",
       "      <td>5.271081</td>\n",
       "      <td>7.20</td>\n",
       "    </tr>\n",
       "  </tbody>\n",
       "</table>\n",
       "</div>"
      ],
      "text/plain": [
       "       pred  true\n",
       "0  4.759863  7.05\n",
       "1  5.006060  7.38\n",
       "2  5.408294  7.70\n",
       "3  5.494386  7.48\n",
       "4  5.271081  7.20"
      ]
     },
     "execution_count": 33,
     "metadata": {},
     "output_type": "execute_result"
    }
   ],
   "source": [
    "df_pred = generate_kfold_preds(X, y)\n",
    "\n",
    "df_pred.head()"
   ]
  },
  {
   "cell_type": "code",
   "execution_count": null,
   "id": "statutory-helping",
   "metadata": {},
   "outputs": [],
   "source": []
  },
  {
   "cell_type": "code",
   "execution_count": 34,
   "id": "entertaining-liability",
   "metadata": {},
   "outputs": [],
   "source": [
    "#exports\n",
    "def evaluate_models(X, y, models, post_pred_proc_func=None, index=None):\n",
    "    model_scores = dict()\n",
    "\n",
    "    for model_name, model in track(models.items()):\n",
    "        df_pred = generate_kfold_preds(X, y, model, index=index)\n",
    "        \n",
    "        if post_pred_proc_func is not None:\n",
    "            df_pred['pred'] = post_pred_proc_func(df_pred['pred'])\n",
    "\n",
    "        model_scores[model_name] = {\n",
    "            'mae': mean_absolute_error(df_pred['true'], df_pred['pred']),\n",
    "            'rmse': np.sqrt(mean_squared_error(df_pred['true'], df_pred['pred']))\n",
    "        }\n",
    "\n",
    "    df_model_scores = pd.DataFrame(model_scores)\n",
    "    \n",
    "    df_model_scores.index.name = 'metric'\n",
    "    df_model_scores.columns.name = 'model'\n",
    "\n",
    "    return df_model_scores"
   ]
  },
  {
   "cell_type": "code",
   "execution_count": 35,
   "id": "north-attraction",
   "metadata": {},
   "outputs": [
    {
     "data": {
      "text/html": [
       "<div>\n",
       "<style scoped>\n",
       "    .dataframe tbody tr th:only-of-type {\n",
       "        vertical-align: middle;\n",
       "    }\n",
       "\n",
       "    .dataframe tbody tr th {\n",
       "        vertical-align: top;\n",
       "    }\n",
       "\n",
       "    .dataframe thead th {\n",
       "        text-align: right;\n",
       "    }\n",
       "</style>\n",
       "<table border=\"1\" class=\"dataframe\">\n",
       "  <thead>\n",
       "    <tr style=\"text-align: right;\">\n",
       "      <th></th>\n",
       "      <th>std_linear</th>\n",
       "      <th>random_forest</th>\n",
       "      <th>boosted</th>\n",
       "    </tr>\n",
       "    <tr>\n",
       "      <th>metric</th>\n",
       "      <th></th>\n",
       "      <th></th>\n",
       "      <th></th>\n",
       "    </tr>\n",
       "  </thead>\n",
       "  <tbody>\n",
       "    <tr>\n",
       "      <th>mae</th>\n",
       "      <td>2.819220</td>\n",
       "      <td>1.684513</td>\n",
       "      <td>2.581428</td>\n",
       "    </tr>\n",
       "    <tr>\n",
       "      <th>rmse</th>\n",
       "      <td>3.786736</td>\n",
       "      <td>2.693341</td>\n",
       "      <td>3.734153</td>\n",
       "    </tr>\n",
       "  </tbody>\n",
       "</table>\n",
       "</div>"
      ],
      "text/plain": [
       "        std_linear  random_forest   boosted\n",
       "metric                                     \n",
       "mae       2.819220       1.684513  2.581428\n",
       "rmse      3.786736       2.693341  3.734153"
      ]
     },
     "execution_count": 35,
     "metadata": {},
     "output_type": "execute_result"
    }
   ],
   "source": [
    "models = {\n",
    "    'std_linear': LinearRegression(),\n",
    "    'random_forest': RandomForestRegressor(),\n",
    "    'boosted': GradientBoostingRegressor()\n",
    "}\n",
    "\n",
    "rerun_panel_temp_model = False\n",
    "model_scores_filename = 'panel_temp_interp_model_results.csv'\n",
    "\n",
    "if (rerun_panel_temp_model == True) or (model_scores_filename not in os.listdir(cache_data_dir)):\n",
    "    df_model_scores = evaluate_models(X, y, models)\n",
    "    df_model_scores.to_csv(f'{cache_data_dir}/{model_scores_filename}')\n",
    "else:\n",
    "    df_model_scores = pd.read_csv(f'{cache_data_dir}/{model_scores_filename}', index_col='metric')\n",
    "\n",
    "df_model_scores"
   ]
  },
  {
   "cell_type": "code",
   "execution_count": null,
   "id": "divided-basics",
   "metadata": {},
   "outputs": [],
   "source": []
  },
  {
   "cell_type": "code",
   "execution_count": 36,
   "id": "residential-volleyball",
   "metadata": {},
   "outputs": [
    {
     "data": {
      "text/html": [
       "<div>\n",
       "<style scoped>\n",
       "    .dataframe tbody tr th:only-of-type {\n",
       "        vertical-align: middle;\n",
       "    }\n",
       "\n",
       "    .dataframe tbody tr th {\n",
       "        vertical-align: top;\n",
       "    }\n",
       "\n",
       "    .dataframe thead th {\n",
       "        text-align: right;\n",
       "    }\n",
       "</style>\n",
       "<table border=\"1\" class=\"dataframe\">\n",
       "  <thead>\n",
       "    <tr style=\"text-align: right;\">\n",
       "      <th></th>\n",
       "      <th>pred</th>\n",
       "      <th>true</th>\n",
       "    </tr>\n",
       "  </thead>\n",
       "  <tbody>\n",
       "    <tr>\n",
       "      <th>0</th>\n",
       "      <td>6.0645</td>\n",
       "      <td>7.05</td>\n",
       "    </tr>\n",
       "    <tr>\n",
       "      <th>1</th>\n",
       "      <td>6.1691</td>\n",
       "      <td>7.38</td>\n",
       "    </tr>\n",
       "    <tr>\n",
       "      <th>2</th>\n",
       "      <td>7.5151</td>\n",
       "      <td>7.70</td>\n",
       "    </tr>\n",
       "    <tr>\n",
       "      <th>3</th>\n",
       "      <td>7.7232</td>\n",
       "      <td>7.48</td>\n",
       "    </tr>\n",
       "    <tr>\n",
       "      <th>4</th>\n",
       "      <td>7.1748</td>\n",
       "      <td>7.20</td>\n",
       "    </tr>\n",
       "  </tbody>\n",
       "</table>\n",
       "</div>"
      ],
      "text/plain": [
       "     pred  true\n",
       "0  6.0645  7.05\n",
       "1  6.1691  7.38\n",
       "2  7.5151  7.70\n",
       "3  7.7232  7.48\n",
       "4  7.1748  7.20"
      ]
     },
     "execution_count": 36,
     "metadata": {},
     "output_type": "execute_result"
    }
   ],
   "source": [
    "top_model = df_model_scores.T['rmse'].idxmin()\n",
    "df_pred = generate_kfold_preds(X, y, models[top_model])\n",
    "\n",
    "df_pred.head()"
   ]
  },
  {
   "cell_type": "code",
   "execution_count": null,
   "id": "frequent-count",
   "metadata": {},
   "outputs": [],
   "source": []
  },
  {
   "cell_type": "code",
   "execution_count": 37,
   "id": "asian-watch",
   "metadata": {},
   "outputs": [
    {
     "data": {
      "text/plain": [
       "<AxesSubplot:>"
      ]
     },
     "execution_count": 37,
     "metadata": {},
     "output_type": "execute_result"
    },
    {
     "data": {
      "image/png": "[encoded data removed]",
      "text/plain": [
       "<Figure size 432x288 with 1 Axes>"
      ]
     },
     "metadata": {
      "needs_background": "light"
     },
     "output_type": "display_data"
    }
   ],
   "source": [
    "s_residuals = df_pred.diff(1, axis=1).dropna(axis=1).iloc[:, 0]\n",
    "\n",
    "s_residuals.plot(linewidth=0.3)"
   ]
  },
  {
   "cell_type": "code",
   "execution_count": null,
   "id": "engaged-saudi",
   "metadata": {},
   "outputs": [],
   "source": []
  },
  {
   "cell_type": "code",
   "execution_count": 38,
   "id": "ambient-amsterdam",
   "metadata": {},
   "outputs": [
    {
     "data": {
      "text/plain": [
       "Text(0, 0.5, 'Prediction')"
      ]
     },
     "execution_count": 38,
     "metadata": {},
     "output_type": "execute_result"
    },
    {
     "data": {
      "image/png": "[encoded data removed]",
      "text/plain": [
       "<Figure size 432x288 with 1 Axes>"
      ]
     },
     "metadata": {
      "needs_background": "light"
     },
     "output_type": "display_data"
    }
   ],
   "source": [
    "plt.scatter(df_pred['true'], df_pred['pred'], s=1)\n",
    "\n",
    "plt.xlabel('Obervation')\n",
    "plt.ylabel('Prediction')"
   ]
  },
  {
   "cell_type": "code",
   "execution_count": null,
   "id": "mental-florida",
   "metadata": {},
   "outputs": [],
   "source": []
  },
  {
   "cell_type": "code",
   "execution_count": 39,
   "id": "monthly-cyprus",
   "metadata": {},
   "outputs": [],
   "source": [
    "#exports\n",
    "def interpolate_missing_panel_temps(df_pv, df_weather, model=RandomForestRegressor()):\n",
    "    missing_panel_temp_dts = df_pv.index[df_pv['panel_temp_C'].isnull()]\n",
    "    \n",
    "    if len(missing_panel_temp_dts) == 0: # i.e. no missing values\n",
    "        return df_pv\n",
    "\n",
    "    df_temp_features = construct_df_temp_features(df_weather, df_pv)\n",
    "    missing_dt_X = df_temp_features.loc[missing_panel_temp_dts].drop('site_temp', axis=1).values\n",
    "    X, y = split_X_y_data(df_temp_features, 'site_temp')\n",
    "    \n",
    "    model.fit(X, y)\n",
    "    df_pv.loc[missing_panel_temp_dts, 'panel_temp_C'] = model.predict(missing_dt_X)\n",
    "    \n",
    "    assert df_pv['panel_temp_C'].isnull().sum() == 0, 'There are still null values for the PV panel temperature'\n",
    "    \n",
    "    return df_pv"
   ]
  },
  {
   "cell_type": "code",
   "execution_count": 40,
   "id": "fitting-adams",
   "metadata": {},
   "outputs": [
    {
     "data": {
      "text/plain": [
       "irradiance_Wm-2    0.002016\n",
       "panel_temp_C       0.000000\n",
       "pv_power_mw        0.000645\n",
       "dtype: float64"
      ]
     },
     "execution_count": 40,
     "metadata": {},
     "output_type": "execute_result"
    }
   ],
   "source": [
    "df_pv = interpolate_missing_panel_temps(df_pv, df_weather)\n",
    "\n",
    "df_pv.isnull().mean()"
   ]
  },
  {
   "cell_type": "code",
   "execution_count": null,
   "id": "sunrise-insured",
   "metadata": {},
   "outputs": [],
   "source": []
  },
  {
   "cell_type": "code",
   "execution_count": 41,
   "id": "brazilian-czech",
   "metadata": {},
   "outputs": [],
   "source": [
    "#exports\n",
    "def construct_df_irradiance_features(df_weather, df_pv):\n",
    "    df_weather = df_weather.reindex(pd.date_range(df_weather.index.min(), df_weather.index.max(), freq='30T')).ffill(limit=1)\n",
    "    temp_loc_cols = df_weather.columns[df_weather.columns.str.contains('solar')]\n",
    "    \n",
    "    df_irradiance_features = (df_weather\n",
    "                              .copy()\n",
    "                              [temp_loc_cols]\n",
    "                              .assign(site_solar=df_pv['irradiance_Wm-2'])\n",
    "                              .pipe(lambda df: df.assign(hour=df.index.hour + df.index.minute/60))\n",
    "                             )\n",
    "\n",
    "    df_irradiance_features = df_irradiance_features.sort_index(axis=1)\n",
    "\n",
    "    return df_irradiance_features"
   ]
  },
  {
   "cell_type": "code",
   "execution_count": 42,
   "id": "dated-curve",
   "metadata": {},
   "outputs": [
    {
     "data": {
      "text/html": [
       "<div>\n",
       "<style scoped>\n",
       "    .dataframe tbody tr th:only-of-type {\n",
       "        vertical-align: middle;\n",
       "    }\n",
       "\n",
       "    .dataframe tbody tr th {\n",
       "        vertical-align: top;\n",
       "    }\n",
       "\n",
       "    .dataframe thead th {\n",
       "        text-align: right;\n",
       "    }\n",
       "</style>\n",
       "<table border=\"1\" class=\"dataframe\">\n",
       "  <thead>\n",
       "    <tr style=\"text-align: right;\">\n",
       "      <th></th>\n",
       "      <th>hour</th>\n",
       "      <th>site_solar</th>\n",
       "      <th>solar_location1</th>\n",
       "      <th>solar_location2</th>\n",
       "      <th>solar_location3</th>\n",
       "      <th>solar_location4</th>\n",
       "      <th>solar_location5</th>\n",
       "      <th>solar_location6</th>\n",
       "    </tr>\n",
       "  </thead>\n",
       "  <tbody>\n",
       "    <tr>\n",
       "      <th>2015-01-01 00:00:00+00:00</th>\n",
       "      <td>0.0</td>\n",
       "      <td>NaN</td>\n",
       "      <td>0.0</td>\n",
       "      <td>0.0</td>\n",
       "      <td>0.0</td>\n",
       "      <td>0.0</td>\n",
       "      <td>0.0</td>\n",
       "      <td>0.0</td>\n",
       "    </tr>\n",
       "    <tr>\n",
       "      <th>2015-01-01 00:30:00+00:00</th>\n",
       "      <td>0.5</td>\n",
       "      <td>NaN</td>\n",
       "      <td>0.0</td>\n",
       "      <td>0.0</td>\n",
       "      <td>0.0</td>\n",
       "      <td>0.0</td>\n",
       "      <td>0.0</td>\n",
       "      <td>0.0</td>\n",
       "    </tr>\n",
       "    <tr>\n",
       "      <th>2015-01-01 01:00:00+00:00</th>\n",
       "      <td>1.0</td>\n",
       "      <td>NaN</td>\n",
       "      <td>0.0</td>\n",
       "      <td>0.0</td>\n",
       "      <td>0.0</td>\n",
       "      <td>0.0</td>\n",
       "      <td>0.0</td>\n",
       "      <td>0.0</td>\n",
       "    </tr>\n",
       "    <tr>\n",
       "      <th>2015-01-01 01:30:00+00:00</th>\n",
       "      <td>1.5</td>\n",
       "      <td>NaN</td>\n",
       "      <td>0.0</td>\n",
       "      <td>0.0</td>\n",
       "      <td>0.0</td>\n",
       "      <td>0.0</td>\n",
       "      <td>0.0</td>\n",
       "      <td>0.0</td>\n",
       "    </tr>\n",
       "    <tr>\n",
       "      <th>2015-01-01 02:00:00+00:00</th>\n",
       "      <td>2.0</td>\n",
       "      <td>NaN</td>\n",
       "      <td>0.0</td>\n",
       "      <td>0.0</td>\n",
       "      <td>0.0</td>\n",
       "      <td>0.0</td>\n",
       "      <td>0.0</td>\n",
       "      <td>0.0</td>\n",
       "    </tr>\n",
       "  </tbody>\n",
       "</table>\n",
       "</div>"
      ],
      "text/plain": [
       "                           hour  site_solar  solar_location1  solar_location2  \\\n",
       "2015-01-01 00:00:00+00:00   0.0         NaN              0.0              0.0   \n",
       "2015-01-01 00:30:00+00:00   0.5         NaN              0.0              0.0   \n",
       "2015-01-01 01:00:00+00:00   1.0         NaN              0.0              0.0   \n",
       "2015-01-01 01:30:00+00:00   1.5         NaN              0.0              0.0   \n",
       "2015-01-01 02:00:00+00:00   2.0         NaN              0.0              0.0   \n",
       "\n",
       "                           solar_location3  solar_location4  solar_location5  \\\n",
       "2015-01-01 00:00:00+00:00              0.0              0.0              0.0   \n",
       "2015-01-01 00:30:00+00:00              0.0              0.0              0.0   \n",
       "2015-01-01 01:00:00+00:00              0.0              0.0              0.0   \n",
       "2015-01-01 01:30:00+00:00              0.0              0.0              0.0   \n",
       "2015-01-01 02:00:00+00:00              0.0              0.0              0.0   \n",
       "\n",
       "                           solar_location6  \n",
       "2015-01-01 00:00:00+00:00              0.0  \n",
       "2015-01-01 00:30:00+00:00              0.0  \n",
       "2015-01-01 01:00:00+00:00              0.0  \n",
       "2015-01-01 01:30:00+00:00              0.0  \n",
       "2015-01-01 02:00:00+00:00              0.0  "
      ]
     },
     "execution_count": 42,
     "metadata": {},
     "output_type": "execute_result"
    }
   ],
   "source": [
    "df_irradiance_features = construct_df_irradiance_features(df_weather, df_pv)\n",
    "\n",
    "df_irradiance_features.head()"
   ]
  },
  {
   "cell_type": "code",
   "execution_count": null,
   "id": "surprised-weapon",
   "metadata": {},
   "outputs": [],
   "source": []
  },
  {
   "cell_type": "code",
   "execution_count": 43,
   "id": "painful-lewis",
   "metadata": {},
   "outputs": [
    {
     "data": {
      "text/html": [
       "<div>\n",
       "<style scoped>\n",
       "    .dataframe tbody tr th:only-of-type {\n",
       "        vertical-align: middle;\n",
       "    }\n",
       "\n",
       "    .dataframe tbody tr th {\n",
       "        vertical-align: top;\n",
       "    }\n",
       "\n",
       "    .dataframe thead th {\n",
       "        text-align: right;\n",
       "    }\n",
       "</style>\n",
       "<table border=\"1\" class=\"dataframe\">\n",
       "  <thead>\n",
       "    <tr style=\"text-align: right;\">\n",
       "      <th></th>\n",
       "      <th>std_linear</th>\n",
       "      <th>random_forest</th>\n",
       "      <th>boosted</th>\n",
       "    </tr>\n",
       "    <tr>\n",
       "      <th>metric</th>\n",
       "      <th></th>\n",
       "      <th></th>\n",
       "      <th></th>\n",
       "    </tr>\n",
       "  </thead>\n",
       "  <tbody>\n",
       "    <tr>\n",
       "      <th>mae</th>\n",
       "      <td>57.497688</td>\n",
       "      <td>37.508653</td>\n",
       "      <td>49.695589</td>\n",
       "    </tr>\n",
       "    <tr>\n",
       "      <th>rmse</th>\n",
       "      <td>110.546061</td>\n",
       "      <td>78.852450</td>\n",
       "      <td>99.196357</td>\n",
       "    </tr>\n",
       "  </tbody>\n",
       "</table>\n",
       "</div>"
      ],
      "text/plain": [
       "        std_linear  random_forest    boosted\n",
       "metric                                      \n",
       "mae      57.497688      37.508653  49.695589\n",
       "rmse    110.546061      78.852450  99.196357"
      ]
     },
     "execution_count": 43,
     "metadata": {},
     "output_type": "execute_result"
    }
   ],
   "source": [
    "models = {\n",
    "    'std_linear': LinearRegression(),\n",
    "    'random_forest': RandomForestRegressor(),\n",
    "    'boosted': GradientBoostingRegressor()\n",
    "}\n",
    "\n",
    "rerun_site_irradiance_model = False\n",
    "model_scores_filename = 'site_irradiance_interp_model_results.csv'\n",
    "\n",
    "X, y = split_X_y_data(df_irradiance_features, 'site_solar')\n",
    "\n",
    "if (rerun_site_irradiance_model == True) or (model_scores_filename not in os.listdir(cache_data_dir)):\n",
    "    df_model_scores = evaluate_models(X, y, models)\n",
    "    df_model_scores.to_csv(f'{cache_data_dir}/{model_scores_filename}')\n",
    "else:\n",
    "    df_model_scores = pd.read_csv(f'{cache_data_dir}/{model_scores_filename}', index_col='metric')\n",
    "\n",
    "df_model_scores"
   ]
  },
  {
   "cell_type": "code",
   "execution_count": null,
   "id": "willing-vehicle",
   "metadata": {},
   "outputs": [],
   "source": []
  },
  {
   "cell_type": "code",
   "execution_count": 44,
   "id": "effective-wrestling",
   "metadata": {},
   "outputs": [
    {
     "data": {
      "text/html": [
       "<div>\n",
       "<style scoped>\n",
       "    .dataframe tbody tr th:only-of-type {\n",
       "        vertical-align: middle;\n",
       "    }\n",
       "\n",
       "    .dataframe tbody tr th {\n",
       "        vertical-align: top;\n",
       "    }\n",
       "\n",
       "    .dataframe thead th {\n",
       "        text-align: right;\n",
       "    }\n",
       "</style>\n",
       "<table border=\"1\" class=\"dataframe\">\n",
       "  <thead>\n",
       "    <tr style=\"text-align: right;\">\n",
       "      <th></th>\n",
       "      <th>pred</th>\n",
       "      <th>true</th>\n",
       "    </tr>\n",
       "  </thead>\n",
       "  <tbody>\n",
       "    <tr>\n",
       "      <th>0</th>\n",
       "      <td>0.000657</td>\n",
       "      <td>0.0</td>\n",
       "    </tr>\n",
       "    <tr>\n",
       "      <th>1</th>\n",
       "      <td>0.000440</td>\n",
       "      <td>0.0</td>\n",
       "    </tr>\n",
       "    <tr>\n",
       "      <th>2</th>\n",
       "      <td>0.000239</td>\n",
       "      <td>0.0</td>\n",
       "    </tr>\n",
       "    <tr>\n",
       "      <th>3</th>\n",
       "      <td>0.001181</td>\n",
       "      <td>0.0</td>\n",
       "    </tr>\n",
       "    <tr>\n",
       "      <th>4</th>\n",
       "      <td>0.001369</td>\n",
       "      <td>0.0</td>\n",
       "    </tr>\n",
       "  </tbody>\n",
       "</table>\n",
       "</div>"
      ],
      "text/plain": [
       "       pred true\n",
       "0  0.000657  0.0\n",
       "1  0.000440  0.0\n",
       "2  0.000239  0.0\n",
       "3  0.001181  0.0\n",
       "4  0.001369  0.0"
      ]
     },
     "execution_count": 44,
     "metadata": {},
     "output_type": "execute_result"
    }
   ],
   "source": [
    "top_model = df_model_scores.T['rmse'].idxmin()\n",
    "df_pred = generate_kfold_preds(X, y, models[top_model])\n",
    "\n",
    "df_pred.head()"
   ]
  },
  {
   "cell_type": "code",
   "execution_count": null,
   "id": "unknown-amazon",
   "metadata": {},
   "outputs": [],
   "source": []
  },
  {
   "cell_type": "code",
   "execution_count": 45,
   "id": "emerging-interference",
   "metadata": {},
   "outputs": [
    {
     "data": {
      "text/plain": [
       "Text(0, 0.5, 'Prediction')"
      ]
     },
     "execution_count": 45,
     "metadata": {},
     "output_type": "execute_result"
    },
    {
     "data": {
      "image/png": "[encoded data removed]",
      "text/plain": [
       "<Figure size 432x288 with 1 Axes>"
      ]
     },
     "metadata": {
      "needs_background": "light"
     },
     "output_type": "display_data"
    }
   ],
   "source": [
    "plt.scatter(df_pred['true'], df_pred['pred'], s=1)\n",
    "\n",
    "plt.xlabel('Obervation')\n",
    "plt.ylabel('Prediction')"
   ]
  },
  {
   "cell_type": "code",
   "execution_count": null,
   "id": "bulgarian-assault",
   "metadata": {},
   "outputs": [],
   "source": []
  },
  {
   "cell_type": "code",
   "execution_count": 46,
   "id": "hourly-dublin",
   "metadata": {},
   "outputs": [],
   "source": [
    "#exports\n",
    "def interpolate_missing_site_irradiance(df_pv, df_weather, model=RandomForestRegressor()):\n",
    "    missing_site_irradiance_dts = df_pv.index[df_pv['irradiance_Wm-2'].isnull()]\n",
    "    \n",
    "    if len(missing_site_irradiance_dts) == 0: # i.e. no missing values\n",
    "        return df_pv\n",
    "\n",
    "    df_irradiance_features = construct_df_irradiance_features(df_weather, df_pv)\n",
    "    missing_dt_X = df_irradiance_features.loc[missing_site_irradiance_dts].drop('site_solar', axis=1).values\n",
    "    X, y = split_X_y_data(df_irradiance_features, 'site_solar')\n",
    " \n",
    "    model.fit(X, y)\n",
    "    df_pv.loc[missing_site_irradiance_dts, 'irradiance_Wm-2'] = model.predict(missing_dt_X)\n",
    "    \n",
    "    assert df_pv['irradiance_Wm-2'].isnull().sum() == 0, 'There are still null values for the solar site irradiance'\n",
    "    \n",
    "    return df_pv"
   ]
  },
  {
   "cell_type": "code",
   "execution_count": 47,
   "id": "quiet-omaha",
   "metadata": {},
   "outputs": [
    {
     "data": {
      "text/plain": [
       "irradiance_Wm-2    0.000000\n",
       "panel_temp_C       0.000000\n",
       "pv_power_mw        0.000645\n",
       "dtype: float64"
      ]
     },
     "execution_count": 47,
     "metadata": {},
     "output_type": "execute_result"
    }
   ],
   "source": [
    "df_pv = interpolate_missing_site_irradiance(df_pv, df_weather)\n",
    "\n",
    "df_pv.isnull().mean()"
   ]
  },
  {
   "cell_type": "markdown",
   "id": "advanced-titanium",
   "metadata": {},
   "source": [
    "<br>\n",
    "\n",
    "Now that we have the irradiance and temperature we're ready to start filling in the missing values for power output, again using the same regression interpolation method"
   ]
  },
  {
   "cell_type": "code",
   "execution_count": 48,
   "id": "directed-nicholas",
   "metadata": {},
   "outputs": [],
   "source": [
    "#exports\n",
    "def construct_df_power_features(df_pv):\n",
    "    df_power_features = (df_pv\n",
    "                         .pipe(lambda df: df.assign(hour=df.index.hour + df.index.minute/60))\n",
    "                         .sort_index(axis=1)\n",
    "                        )\n",
    "\n",
    "    return df_power_features"
   ]
  },
  {
   "cell_type": "code",
   "execution_count": 49,
   "id": "political-accused",
   "metadata": {},
   "outputs": [
    {
     "data": {
      "text/html": [
       "<div>\n",
       "<style scoped>\n",
       "    .dataframe tbody tr th:only-of-type {\n",
       "        vertical-align: middle;\n",
       "    }\n",
       "\n",
       "    .dataframe tbody tr th {\n",
       "        vertical-align: top;\n",
       "    }\n",
       "\n",
       "    .dataframe thead th {\n",
       "        text-align: right;\n",
       "    }\n",
       "</style>\n",
       "<table border=\"1\" class=\"dataframe\">\n",
       "  <thead>\n",
       "    <tr style=\"text-align: right;\">\n",
       "      <th></th>\n",
       "      <th>hour</th>\n",
       "      <th>irradiance_Wm-2</th>\n",
       "      <th>panel_temp_C</th>\n",
       "      <th>pv_power_mw</th>\n",
       "    </tr>\n",
       "    <tr>\n",
       "      <th>datetime</th>\n",
       "      <th></th>\n",
       "      <th></th>\n",
       "      <th></th>\n",
       "      <th></th>\n",
       "    </tr>\n",
       "  </thead>\n",
       "  <tbody>\n",
       "    <tr>\n",
       "      <th>2017-11-03 00:00:00+00:00</th>\n",
       "      <td>0.0</td>\n",
       "      <td>0.0</td>\n",
       "      <td>7.05</td>\n",
       "      <td>0.0</td>\n",
       "    </tr>\n",
       "    <tr>\n",
       "      <th>2017-11-03 00:30:00+00:00</th>\n",
       "      <td>0.5</td>\n",
       "      <td>0.0</td>\n",
       "      <td>7.38</td>\n",
       "      <td>0.0</td>\n",
       "    </tr>\n",
       "    <tr>\n",
       "      <th>2017-11-03 01:00:00+00:00</th>\n",
       "      <td>1.0</td>\n",
       "      <td>0.0</td>\n",
       "      <td>7.70</td>\n",
       "      <td>0.0</td>\n",
       "    </tr>\n",
       "    <tr>\n",
       "      <th>2017-11-03 01:30:00+00:00</th>\n",
       "      <td>1.5</td>\n",
       "      <td>0.0</td>\n",
       "      <td>7.48</td>\n",
       "      <td>0.0</td>\n",
       "    </tr>\n",
       "    <tr>\n",
       "      <th>2017-11-03 02:00:00+00:00</th>\n",
       "      <td>2.0</td>\n",
       "      <td>0.0</td>\n",
       "      <td>7.20</td>\n",
       "      <td>0.0</td>\n",
       "    </tr>\n",
       "  </tbody>\n",
       "</table>\n",
       "</div>"
      ],
      "text/plain": [
       "                           hour  irradiance_Wm-2  panel_temp_C  pv_power_mw\n",
       "datetime                                                                   \n",
       "2017-11-03 00:00:00+00:00   0.0              0.0          7.05          0.0\n",
       "2017-11-03 00:30:00+00:00   0.5              0.0          7.38          0.0\n",
       "2017-11-03 01:00:00+00:00   1.0              0.0          7.70          0.0\n",
       "2017-11-03 01:30:00+00:00   1.5              0.0          7.48          0.0\n",
       "2017-11-03 02:00:00+00:00   2.0              0.0          7.20          0.0"
      ]
     },
     "execution_count": 49,
     "metadata": {},
     "output_type": "execute_result"
    }
   ],
   "source": [
    "df_power_features = construct_df_power_features(df_pv)\n",
    "\n",
    "df_power_features.head()"
   ]
  },
  {
   "cell_type": "code",
   "execution_count": 50,
   "id": "southwest-familiar",
   "metadata": {},
   "outputs": [
    {
     "data": {
      "text/html": [
       "<div>\n",
       "<style scoped>\n",
       "    .dataframe tbody tr th:only-of-type {\n",
       "        vertical-align: middle;\n",
       "    }\n",
       "\n",
       "    .dataframe tbody tr th {\n",
       "        vertical-align: top;\n",
       "    }\n",
       "\n",
       "    .dataframe thead th {\n",
       "        text-align: right;\n",
       "    }\n",
       "</style>\n",
       "<table border=\"1\" class=\"dataframe\">\n",
       "  <thead>\n",
       "    <tr style=\"text-align: right;\">\n",
       "      <th></th>\n",
       "      <th>std_linear</th>\n",
       "      <th>random_forest</th>\n",
       "      <th>boosted</th>\n",
       "    </tr>\n",
       "    <tr>\n",
       "      <th>metric</th>\n",
       "      <th></th>\n",
       "      <th></th>\n",
       "      <th></th>\n",
       "    </tr>\n",
       "  </thead>\n",
       "  <tbody>\n",
       "    <tr>\n",
       "      <th>mae</th>\n",
       "      <td>0.061519</td>\n",
       "      <td>0.041122</td>\n",
       "      <td>0.043927</td>\n",
       "    </tr>\n",
       "    <tr>\n",
       "      <th>rmse</th>\n",
       "      <td>0.145980</td>\n",
       "      <td>0.135822</td>\n",
       "      <td>0.133212</td>\n",
       "    </tr>\n",
       "  </tbody>\n",
       "</table>\n",
       "</div>"
      ],
      "text/plain": [
       "        std_linear  random_forest   boosted\n",
       "metric                                     \n",
       "mae       0.061519       0.041122  0.043927\n",
       "rmse      0.145980       0.135822  0.133212"
      ]
     },
     "execution_count": 50,
     "metadata": {},
     "output_type": "execute_result"
    }
   ],
   "source": [
    "models = {\n",
    "    'std_linear': LinearRegression(),\n",
    "    'random_forest': RandomForestRegressor(),\n",
    "    'boosted': GradientBoostingRegressor()\n",
    "}\n",
    "\n",
    "rerun_site_power_model = False\n",
    "model_scores_filename = 'site_power_interp_model_results.csv'\n",
    "\n",
    "X, y, dates = split_X_y_data_with_index(df_power_features, 'pv_power_mw')\n",
    "\n",
    "if (rerun_site_power_model == True) or (model_scores_filename not in os.listdir(cache_data_dir)):\n",
    "    df_model_scores = evaluate_models(X, y, models)\n",
    "    df_model_scores.to_csv(f'{cache_data_dir}/{model_scores_filename}')\n",
    "else:\n",
    "    df_model_scores = pd.read_csv(f'{cache_data_dir}/{model_scores_filename}', index_col='metric')\n",
    "\n",
    "df_model_scores"
   ]
  },
  {
   "cell_type": "code",
   "execution_count": 51,
   "id": "hundred-trust",
   "metadata": {},
   "outputs": [
    {
     "data": {
      "text/html": [
       "<div>\n",
       "<style scoped>\n",
       "    .dataframe tbody tr th:only-of-type {\n",
       "        vertical-align: middle;\n",
       "    }\n",
       "\n",
       "    .dataframe tbody tr th {\n",
       "        vertical-align: top;\n",
       "    }\n",
       "\n",
       "    .dataframe thead th {\n",
       "        text-align: right;\n",
       "    }\n",
       "</style>\n",
       "<table border=\"1\" class=\"dataframe\">\n",
       "  <thead>\n",
       "    <tr style=\"text-align: right;\">\n",
       "      <th></th>\n",
       "      <th>pred</th>\n",
       "      <th>true</th>\n",
       "    </tr>\n",
       "  </thead>\n",
       "  <tbody>\n",
       "    <tr>\n",
       "      <th>0</th>\n",
       "      <td>-0.000829</td>\n",
       "      <td>0.0</td>\n",
       "    </tr>\n",
       "    <tr>\n",
       "      <th>1</th>\n",
       "      <td>-0.000634</td>\n",
       "      <td>0.0</td>\n",
       "    </tr>\n",
       "    <tr>\n",
       "      <th>2</th>\n",
       "      <td>-0.000178</td>\n",
       "      <td>0.0</td>\n",
       "    </tr>\n",
       "    <tr>\n",
       "      <th>3</th>\n",
       "      <td>0.000163</td>\n",
       "      <td>0.0</td>\n",
       "    </tr>\n",
       "    <tr>\n",
       "      <th>4</th>\n",
       "      <td>-0.001097</td>\n",
       "      <td>0.0</td>\n",
       "    </tr>\n",
       "  </tbody>\n",
       "</table>\n",
       "</div>"
      ],
      "text/plain": [
       "       pred true\n",
       "0 -0.000829  0.0\n",
       "1 -0.000634  0.0\n",
       "2 -0.000178  0.0\n",
       "3  0.000163  0.0\n",
       "4 -0.001097  0.0"
      ]
     },
     "execution_count": 51,
     "metadata": {},
     "output_type": "execute_result"
    }
   ],
   "source": [
    "top_model = df_model_scores.T['rmse'].idxmin()\n",
    "df_pred = generate_kfold_preds(X, y, models[top_model])\n",
    "\n",
    "df_pred.head()"
   ]
  },
  {
   "cell_type": "code",
   "execution_count": 52,
   "id": "separated-canadian",
   "metadata": {},
   "outputs": [
    {
     "data": {
      "text/plain": [
       "Text(0, 0.5, 'Prediction')"
      ]
     },
     "execution_count": 52,
     "metadata": {},
     "output_type": "execute_result"
    },
    {
     "data": {
      "image/png": "[encoded data removed]",
      "text/plain": [
       "<Figure size 432x288 with 1 Axes>"
      ]
     },
     "metadata": {
      "needs_background": "light"
     },
     "output_type": "display_data"
    }
   ],
   "source": [
    "plt.scatter(df_pred['true'], df_pred['pred'], s=1)\n",
    "\n",
    "plt.xlabel('Obervation')\n",
    "plt.ylabel('Prediction')"
   ]
  },
  {
   "cell_type": "markdown",
   "id": "forward-april",
   "metadata": {},
   "source": [
    "##### Anomalous data points in PV data\n",
    "\n",
    "The PV data shows a number of points where the observed value is 0 but the prediction is much higher. \n",
    "\n",
    "First let's try and identify them (setting the tolerance to be lower will capture more values as anomalous). "
   ]
  },
  {
   "cell_type": "code",
   "execution_count": 53,
   "id": "lyric-school",
   "metadata": {},
   "outputs": [
    {
     "data": {
      "text/plain": [
       "(array([ 3.,  9., 24., 22., 34., 22., 30., 12.,  9.,  3.]),\n",
       " array([ 6.  ,  7.25,  8.5 ,  9.75, 11.  , 12.25, 13.5 , 14.75, 16.  ,\n",
       "        17.25, 18.5 ]),\n",
       " <BarContainer object of 10 artists>)"
      ]
     },
     "execution_count": 53,
     "metadata": {},
     "output_type": "execute_result"
    },
    {
     "data": {
      "image/png": "[encoded data removed]",
      "text/plain": [
       "<Figure size 432x288 with 1 Axes>"
      ]
     },
     "metadata": {
      "needs_background": "light"
     },
     "output_type": "display_data"
    }
   ],
   "source": [
    "def identify_anomalies_pv(df_pred, tolerance=0.1):\n",
    "    foo = df_pred.copy()\n",
    "    foo['difference'] = foo.pred - foo.true\n",
    "    foo = foo[(foo.difference > tolerance) & (foo.true == 0)]\n",
    "    return foo.index\n",
    "\n",
    "anomalous_dates = dates[identify_anomalies_pv(df_pred)]\n",
    "anomalous_df = df_power_features[df_power_features.index.isin(anomalous_dates)]\n",
    "plt.hist(anomalous_df.hour) # Check this histogram to eyeball if any unreasonable anomalous values are caught by the tolerance (e.g. late at night)"
   ]
  },
  {
   "cell_type": "markdown",
   "id": "heavy-newspaper",
   "metadata": {},
   "source": [
    "Replace these values in `df_power_features`. "
   ]
  },
  {
   "cell_type": "code",
   "execution_count": 54,
   "id": "otherwise-nickname",
   "metadata": {},
   "outputs": [],
   "source": [
    "df_power_features_clean = df_power_features.copy()\n",
    "df_power_features_clean.loc[df_power_features_clean.index.isin(anomalous_dates), 'pv_power_mw'] = np.nan"
   ]
  },
  {
   "cell_type": "markdown",
   "id": "correct-latin",
   "metadata": {},
   "source": [
    "Rerun the previous model fitting and check the pred vs. actual graph. "
   ]
  },
  {
   "cell_type": "code",
   "execution_count": 55,
   "id": "patient-belgium",
   "metadata": {},
   "outputs": [
    {
     "data": {
      "text/plain": [
       "Text(0, 0.5, 'Prediction')"
      ]
     },
     "execution_count": 55,
     "metadata": {},
     "output_type": "execute_result"
    },
    {
     "data": {
      "image/png": "[encoded data removed]",
      "text/plain": [
       "<Figure size 432x288 with 1 Axes>"
      ]
     },
     "metadata": {
      "needs_background": "light"
     },
     "output_type": "display_data"
    }
   ],
   "source": [
    "models = {\n",
    "    'std_linear': LinearRegression(),\n",
    "    'random_forest': RandomForestRegressor(),\n",
    "    'boosted': GradientBoostingRegressor()\n",
    "}\n",
    "\n",
    "rerun_site_power_model = False\n",
    "model_scores_filename = 'site_power_interp_clean_model_results.csv'\n",
    "\n",
    "X, y, dates = split_X_y_data_with_index(df_power_features_clean, 'pv_power_mw')\n",
    "\n",
    "if (rerun_site_power_model == True) or (model_scores_filename not in os.listdir(cache_data_dir)):\n",
    "    df_model_scores = evaluate_models(X, y, models)\n",
    "    df_model_scores.to_csv(f'{cache_data_dir}/{model_scores_filename}')\n",
    "else:\n",
    "    df_model_scores = pd.read_csv(f'{cache_data_dir}/{model_scores_filename}', index_col='metric')\n",
    "\n",
    "top_model = df_model_scores.T['rmse'].idxmin()\n",
    "df_pred = generate_kfold_preds(X, y, models[top_model])\n",
    "\n",
    "plt.scatter(df_pred['true'], df_pred['pred'], s=1)\n",
    "\n",
    "plt.xlabel('Obervation')\n",
    "plt.ylabel('Prediction')"
   ]
  },
  {
   "cell_type": "markdown",
   "id": "superb-speaker",
   "metadata": {},
   "source": [
    "The above graph looks to be a cleaner with tolerance at 0.1. It looks like there might still be some which aren't though. Consider lowering the tolerance."
   ]
  },
  {
   "cell_type": "code",
   "execution_count": 56,
   "id": "unauthorized-offer",
   "metadata": {},
   "outputs": [],
   "source": [
    "#exports\n",
    "def pv_anomalies_to_nan(df_pv, model=GradientBoostingRegressor(), tolerance=0.1):\n",
    "    \"\"\"\n",
    "    Run this function to identify places where predicted values for pv_power_mw are much larger\n",
    "    than true values and where the true value is 0 (we expect these are anomalies) and make these values nan.\n",
    "\n",
    "    \"\"\"\n",
    "    df_power_features = construct_df_power_features(df_pv)\n",
    "    \n",
    "    X, y, dates = split_X_y_data_with_index(df_power_features, 'pv_power_mw')\n",
    "    df_pred = generate_kfold_preds(X, y, model)\n",
    "    df_pred['difference'] = df_pred.pred - df_pred.true\n",
    "    df_pred['datetime'] = dates\n",
    "    df_pred = df_pred.set_index('datetime')\n",
    "    \n",
    "    anomalous_idx = df_pred[(df_pred.difference > tolerance) & (df_pred.true == 0)].index    \n",
    "    \n",
    "    df_pv.loc[df_pv.index.isin(anomalous_idx), 'pv_power_mw'] = np.nan\n",
    "        \n",
    "    return df_pv"
   ]
  },
  {
   "cell_type": "code",
   "execution_count": 57,
   "id": "headed-bible",
   "metadata": {},
   "outputs": [],
   "source": [
    "df_pv = pv_anomalies_to_nan(df_pv)"
   ]
  },
  {
   "cell_type": "code",
   "execution_count": null,
   "id": "forbidden-bottom",
   "metadata": {},
   "outputs": [],
   "source": []
  },
  {
   "cell_type": "code",
   "execution_count": 58,
   "id": "color-petite",
   "metadata": {},
   "outputs": [],
   "source": [
    "#exports\n",
    "def interpolate_missing_site_power(df_pv, model=RandomForestRegressor()):\n",
    "    missing_site_power_dts = df_pv.index[df_pv['pv_power_mw'].isnull()]\n",
    "    \n",
    "    if len(missing_site_power_dts) == 0: # i.e. no missing values\n",
    "        return df_pv\n",
    "\n",
    "    df_power_features = construct_df_power_features(df_pv)\n",
    "    missing_dt_X = df_power_features.loc[missing_site_power_dts].drop('pv_power_mw', axis=1).values\n",
    "    X, y = split_X_y_data(df_power_features, 'pv_power_mw')\n",
    " \n",
    "    model.fit(X, y)\n",
    "    df_pv.loc[missing_site_power_dts, 'pv_power_mw'] = model.predict(missing_dt_X)\n",
    "    \n",
    "    assert df_pv['pv_power_mw'].isnull().sum() == 0, 'There are still null values for the solar site power'\n",
    "    \n",
    "    return df_pv"
   ]
  },
  {
   "cell_type": "code",
   "execution_count": 59,
   "id": "amber-probability",
   "metadata": {},
   "outputs": [
    {
     "data": {
      "text/plain": [
       "irradiance_Wm-2    0.0\n",
       "panel_temp_C       0.0\n",
       "pv_power_mw        0.0\n",
       "dtype: float64"
      ]
     },
     "execution_count": 59,
     "metadata": {},
     "output_type": "execute_result"
    }
   ],
   "source": [
    "df_pv = interpolate_missing_site_power(df_pv)\n",
    "\n",
    "df_pv.isnull().mean()"
   ]
  },
  {
   "cell_type": "code",
   "execution_count": null,
   "id": "european-scholarship",
   "metadata": {},
   "outputs": [],
   "source": []
  },
  {
   "cell_type": "code",
   "execution_count": 60,
   "id": "convertible-enzyme",
   "metadata": {},
   "outputs": [],
   "source": [
    "#exports\n",
    "def interpolate_missing_weather_solar(df_pv, df_weather, weather_col='solar_location2', model=RandomForestRegressor()):\n",
    "    missing_weather_solar_dts = df_weather.index[df_weather[weather_col].isnull()]\n",
    "    \n",
    "    if len(missing_weather_solar_dts) == 0: # i.e. no missing values\n",
    "        return df_pv\n",
    "\n",
    "    df_irradiance_features = construct_df_irradiance_features(df_weather, df_pv).drop('site_solar', axis=1)\n",
    "    missing_dt_X = df_irradiance_features.loc[missing_weather_solar_dts].drop(weather_col, axis=1).values\n",
    "    X, y = split_X_y_data(df_irradiance_features, weather_col)\n",
    " \n",
    "    model.fit(X, y)\n",
    "    df_weather.loc[missing_weather_solar_dts, weather_col] = model.predict(missing_dt_X)\n",
    "    \n",
    "    assert df_weather[weather_col].isnull().sum() == 0, 'There are still null values for the weather dataset solar observations'\n",
    "    \n",
    "    return df_weather"
   ]
  },
  {
   "cell_type": "code",
   "execution_count": 61,
   "id": "cleared-brake",
   "metadata": {},
   "outputs": [
    {
     "data": {
      "text/plain": [
       "solar_location1    0.0000\n",
       "solar_location2    0.0000\n",
       "solar_location3    0.0000\n",
       "solar_location4    0.0000\n",
       "solar_location5    0.0000\n",
       "solar_location6    0.0000\n",
       "temp_location1     0.0000\n",
       "temp_location2     0.0000\n",
       "temp_location3     0.0000\n",
       "temp_location4     0.0011\n",
       "temp_location5     0.0000\n",
       "temp_location6     0.0000\n",
       "dtype: float64"
      ]
     },
     "execution_count": 61,
     "metadata": {},
     "output_type": "execute_result"
    }
   ],
   "source": [
    "df_weather = interpolate_missing_weather_solar(df_pv, df_weather, model=LinearRegression())\n",
    "\n",
    "df_weather.isnull().mean()"
   ]
  },
  {
   "cell_type": "markdown",
   "id": "adequate-mobility",
   "metadata": {},
   "source": [
    "<br>\n",
    "\n",
    "### Interpolate Missing Temp Data\n",
    "\n"
   ]
  },
  {
   "cell_type": "code",
   "execution_count": 62,
   "id": "surface-dominant",
   "metadata": {},
   "outputs": [],
   "source": [
    "#export\n",
    "def interpolate_missing_temps(df_weather, temp_variable, model=RandomForestRegressor()):\n",
    "    \"\"\"\n",
    "    Use the other temperature locations to predict missing values of `temp_variable`. \n",
    "    \n",
    "    For test_2: a full day is missing for temp_location4 on 2018-11-18\n",
    "    \"\"\"    \n",
    "    missing_temp_dts = df_weather.index[df_weather[temp_variable].isnull()]\n",
    "        \n",
    "    if len(missing_temp_dts) == 0: # i.e. no missing values\n",
    "        return df_weather\n",
    "    \n",
    "    temp_loc_cols = df_weather.columns[df_weather.columns.str.contains('temp')]\n",
    "\n",
    "    df_temp_features = df_weather.filter(temp_loc_cols)\n",
    "    missing_dt_X = df_temp_features.loc[missing_temp_dts].drop(temp_variable, axis=1).values\n",
    "        \n",
    "    X, y = split_X_y_data(df_temp_features, temp_variable)\n",
    "        \n",
    "    model.fit(X, y)\n",
    "    \n",
    "    df_weather.loc[missing_temp_dts, temp_variable] = model.predict(missing_dt_X)\n",
    "    df_weather = df_weather.ffill(limit=1)\n",
    "            \n",
    "    assert df_weather[temp_variable].isnull().sum() == 0, 'There are still null values for the PV panel temperature'\n",
    "    \n",
    "    return df_weather"
   ]
  },
  {
   "cell_type": "code",
   "execution_count": 63,
   "id": "hydraulic-visit",
   "metadata": {},
   "outputs": [
    {
     "data": {
      "text/plain": [
       "solar_location1    0.0\n",
       "solar_location2    0.0\n",
       "solar_location3    0.0\n",
       "solar_location4    0.0\n",
       "solar_location5    0.0\n",
       "solar_location6    0.0\n",
       "temp_location1     0.0\n",
       "temp_location2     0.0\n",
       "temp_location3     0.0\n",
       "temp_location4     0.0\n",
       "temp_location5     0.0\n",
       "temp_location6     0.0\n",
       "dtype: float64"
      ]
     },
     "execution_count": 63,
     "metadata": {},
     "output_type": "execute_result"
    }
   ],
   "source": [
    "foo = interpolate_missing_temps(df_weather, 'temp_location4', model=LinearRegression())\n",
    "foo.isnull().mean()"
   ]
  },
  {
   "cell_type": "markdown",
   "id": "accompanied-premises",
   "metadata": {},
   "source": [
    "<br>\n",
    "\n",
    "Finally we'll export the relevant code to our `batopt` module"
   ]
  },
  {
   "cell_type": "code",
   "execution_count": 64,
   "id": "cognitive-carnival",
   "metadata": {},
   "outputs": [
    {
     "name": "stdout",
     "output_type": "stream",
     "text": [
      "Converted 00-utilities.ipynb.\n",
      "Converted 01-retrieval.ipynb.\n",
      "Converted 02-cleaning.ipynb.\n",
      "Converted 03-charging.ipynb.\n",
      "Converted 04-discharging.ipynb.\n",
      "Converted 05-constraints.ipynb.\n",
      "Converted 06-tuning.ipynb.\n",
      "Converted 07-charging-nn.ipynb.\n",
      "Converted 08-pv-forecast.ipynb.\n",
      "Converted 09-christmas.ipynb.\n",
      "Converted 09-pipeline.ipynb.\n",
      "Converted 10-pipeline.ipynb.\n"
     ]
    }
   ],
   "source": [
    "#hide\n",
    "from nbdev.export import notebook2script\n",
    "    \n",
    "notebook2script()"
   ]
  },
  {
   "cell_type": "code",
   "execution_count": null,
   "id": "early-excitement",
   "metadata": {},
   "outputs": [],
   "source": []
  }
 ],
 "metadata": {
  "kernelspec": {
   "display_name": "batopt",
   "language": "python",
   "name": "batopt"
  },
  "language_info": {
   "codemirror_mode": {
    "name": "ipython",
    "version": 3
   },
   "file_extension": ".py",
   "mimetype": "text/x-python",
   "name": "python",
   "nbconvert_exporter": "python",
   "pygments_lexer": "ipython3",
   "version": "3.9.1"
  }
 },
 "nbformat": 4,
 "nbformat_minor": 5
}
