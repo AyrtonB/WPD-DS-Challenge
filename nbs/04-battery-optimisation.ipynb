{
 "cells": [
  {
   "cell_type": "code",
   "execution_count": null,
   "id": "remarkable-lucas",
   "metadata": {},
   "outputs": [],
   "source": [
    "#default_exp battery"
   ]
  },
  {
   "cell_type": "markdown",
   "id": "outer-accreditation",
   "metadata": {},
   "source": [
    "# Battery Optimisation\n",
    "\n",
    "<br>\n",
    "\n",
    "### Imports"
   ]
  },
  {
   "cell_type": "code",
   "execution_count": null,
   "id": "apart-guard",
   "metadata": {},
   "outputs": [],
   "source": [
    "#exports\n",
    "import numpy as np\n",
    "import pandas as pd"
   ]
  },
  {
   "cell_type": "markdown",
   "id": "atomic-titanium",
   "metadata": {},
   "source": [
    "### Converting a charging schedule to capacity\n",
    "\n",
    "The solution is given in terms of the battery charge/discharge schedule, but it is also necessary to satisfy constraints on the capacity of the battery (see below). \n",
    "\n",
    "The charge is determined by $C_{t+1} = C_{t} + 0.5B_{t}$\n",
    "\n",
    "Note that we generally the initial value for capacity is 0 (the battery starts off empty). Change `init_value` if not."
   ]
  },
  {
   "cell_type": "code",
   "execution_count": null,
   "id": "local-cuisine",
   "metadata": {},
   "outputs": [],
   "source": [
    "def charge_to_capacity(charge_schedule, init_value=0):\n",
    "    capacity = np.append(np.array([init_value]), np.cumsum(charge_schedule[:-1]/2))\n",
    "    return capacity"
   ]
  },
  {
   "cell_type": "markdown",
   "id": "employed-richards",
   "metadata": {},
   "source": [
    "A simple example: "
   ]
  },
  {
   "cell_type": "code",
   "execution_count": null,
   "id": "administrative-disney",
   "metadata": {},
   "outputs": [
    {
     "data": {
      "text/plain": [
       "array([0.  , 1.25, 1.5 , 1.5 , 1.  ])"
      ]
     },
     "execution_count": null,
     "metadata": {},
     "output_type": "execute_result"
    }
   ],
   "source": [
    "b = np.array([2.5, 0.5, 0, -1, 0])\n",
    "charge_to_capacity(b)"
   ]
  },
  {
   "cell_type": "markdown",
   "id": "identified-parent",
   "metadata": {},
   "source": [
    "### Determine whether a solution meets constraints\n",
    "\n",
    "The battery schedule must meet constraints such that all at timesteps the charging rate $B$ and capacity $C$ satisfy:\n",
    "\n",
    "* $B_{min} \\leq B \\leq B_{max}$ \n",
    "* $0 \\leq C \\leq C_{max}$\n",
    " \n",
    "In addition, we can only charge the battery between periods 1 (00:00) and 31 (15:00) inclusive, and discharge between periods 32 (15:30) and 42 (20:30) inclusive. For periods 43 to 48, there should be no activity, and the day must start with $C=0$. \n"
   ]
  },
  {
   "cell_type": "code",
   "execution_count": null,
   "id": "general-amber",
   "metadata": {},
   "outputs": [],
   "source": [
    "B_min = -2.5 # Min rate of discharging\n",
    "B_max = 2.5 # Max rate of charging\n",
    "C_min = 0. # Min capacity\n",
    "C_max = 6. # Max capacity \n",
    "charge_times = ('00:00', '15:00')\n",
    "discharge_times = ('15:30', '20:30')\n",
    "no_activity_times = ('21:00', '23:30')\n",
    "\n",
    "def schedule_is_legal(schedule, B_min=B_min, B_max=B_max, C_min=C_min, C_max=C_max, \n",
    "                      charge_times=charge_times, discharge_times=discharge_times,\n",
    "                      no_acivity_times=no_activity_times):\n",
    "    \"\"\"\n",
    "    Determine if a battery schedule meets constraints\n",
    "    \"\"\"\n",
    "    \n",
    "    charge = schedule.charge_MW.values\n",
    "    capacity = charge_to_capacity(schedule.charge_MW.values)\n",
    "    schedule['capacity'] = capacity\n",
    "    schedule = schedule.set_index(pd.to_datetime(schedule.datetime))\n",
    "    \n",
    "    if not np.all((charge >= B_min) & (charge <= B_max)): # charge constraints\n",
    "        return False\n",
    "    elif not np.all((capacity >= C_min) & (capacity <= C_max)): # capacity constraints\n",
    "        return False\n",
    "    elif np.any(schedule.between_time(discharge_times[0], discharge_times[1]).charge_MW.values > 0): # Discharge between discharge_times\n",
    "        return False\n",
    "    elif np.any(schedule.between_time(charge_times[0], charge_times[1]).charge_MW.values < 0): # Charge between charge_times \n",
    "        return False\n",
    "    elif np.any(schedule.between_time(no_activity_times[0], no_activity_times[1]).charge_MW.values != 0): # No activity between no_activity_times \n",
    "        return False\n",
    "    elif np.any(schedule.between_time('00:00', '00:00').capacity.values != 0): # Must be empty at 00:00\n",
    "        return False\n",
    "    else:\n",
    "        return True\n",
    "    "
   ]
  },
  {
   "cell_type": "markdown",
   "id": "ordered-durham",
   "metadata": {},
   "source": [
    "Testing out on a random schedule "
   ]
  },
  {
   "cell_type": "code",
   "execution_count": null,
   "id": "judicial-substance",
   "metadata": {},
   "outputs": [
    {
     "name": "stdout",
     "output_type": "stream",
     "text": [
      "Is schedule legal? True\n"
     ]
    }
   ],
   "source": [
    "example_schedule = pd.read_csv('../data/raw/example_valid_schedule.csv')\n",
    "\n",
    "print(f\"Is schedule legal? {schedule_is_legal(example_schedule)}\")"
   ]
  },
  {
   "cell_type": "markdown",
   "id": "animal-spyware",
   "metadata": {},
   "source": [
    "<br>\n",
    "\n",
    "Finally we'll export the relevant code to our `batopt` module"
   ]
  },
  {
   "cell_type": "code",
   "execution_count": null,
   "id": "adjusted-story",
   "metadata": {},
   "outputs": [
    {
     "name": "stdout",
     "output_type": "stream",
     "text": [
      "Converted 00-utilities.ipynb.\n",
      "Converted 01-data-loading.ipynb.\n"
     ]
    }
   ],
   "source": [
    "#hide\n",
    "from nbdev.export import notebook2script\n",
    "    \n",
    "notebook2script()"
   ]
  }
 ],
 "metadata": {
  "kernelspec": {
   "display_name": "Python 3",
   "language": "python",
   "name": "python3"
  }
 },
 "nbformat": 4,
 "nbformat_minor": 5
}
