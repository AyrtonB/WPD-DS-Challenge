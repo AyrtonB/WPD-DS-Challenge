{
 "cells": [
  {
   "cell_type": "code",
   "execution_count": 1,
   "id": "public-station",
   "metadata": {},
   "outputs": [],
   "source": [
    "#default_exp pipeline"
   ]
  },
  {
   "cell_type": "markdown",
   "id": "strong-project",
   "metadata": {},
   "source": [
    "# Pipeline\n",
    "\n",
    "<br>\n",
    "\n",
    "### Imports"
   ]
  },
  {
   "cell_type": "code",
   "execution_count": null,
   "id": "interim-causing",
   "metadata": {},
   "outputs": [],
   "source": [
    "#exports\n",
    "import numpy as np\n",
    "import pandas as pd\n",
    "\n",
    "import os\n",
    "\n",
    "from dagster import execute_pipeline, pipeline, solid, Field\n",
    "from batopt import clean, discharge, charge, constraints"
   ]
  },
  {
   "cell_type": "code",
   "execution_count": null,
   "id": "nutritional-abraham",
   "metadata": {},
   "outputs": [],
   "source": [
    "import FEAutils as hlp\n",
    "import matplotlib.pyplot as plt"
   ]
  },
  {
   "cell_type": "markdown",
   "id": "handy-graham",
   "metadata": {},
   "source": [
    "<br>\n",
    "\n",
    "### End-to-End\n",
    "\n",
    "We're now going to combine these steps into a pipeline using dagster, first we'll create the individual components."
   ]
  },
  {
   "cell_type": "code",
   "execution_count": null,
   "id": "educated-sound",
   "metadata": {},
   "outputs": [],
   "source": [
    "@solid()\n",
    "def load_data(_, raw_data_dir: str):\n",
    "    loaded_data = dict()\n",
    "    \n",
    "    loaded_data['pv'] = clean.load_training_dataset(raw_data_dir, 'pv')\n",
    "    loaded_data['demand'] = clean.load_training_dataset(raw_data_dir, 'demand')\n",
    "    loaded_data['weather'] = clean.load_training_dataset(raw_data_dir, 'weather', dt_idx_freq='H')\n",
    "    \n",
    "    return loaded_data\n",
    "\n",
    "@solid()\n",
    "def clean_data(_, loaded_data, intermediate_data_dir: str):\n",
    "    # Cleaning\n",
    "    cleaned_data = dict()\n",
    "\n",
    "    cleaned_data['pv'] = (loaded_data['pv']\n",
    "                          .pipe(clean.pv_anomalies_to_nan)\n",
    "                          .pipe(clean.interpolate_missing_panel_temps, loaded_data['weather'])\n",
    "                          .pipe(clean.interpolate_missing_site_irradiance, loaded_data['weather'])\n",
    "                          .pipe(clean.interpolate_missing_site_power)\n",
    "                         )\n",
    "    cleaned_data['weather'] = clean.interpolate_missing_weather_solar(loaded_data['pv'], loaded_data['weather'])\n",
    "    cleaned_data['demand'] = loaded_data['demand']\n",
    "    \n",
    "    # Saving\n",
    "    if os.path.exists(intermediate_data_dir) == False:\n",
    "        os.mkdir(intermediate_data_dir)\n",
    "        \n",
    "    cleaned_data['pv'].to_csv(f'{intermediate_data_dir}/pv_cleaned.csv')\n",
    "    cleaned_data['demand'].to_csv(f'{intermediate_data_dir}/demand_cleaned.csv')\n",
    "    cleaned_data['weather'].to_csv(f'{intermediate_data_dir}/weather_cleaned.csv')\n",
    "            \n",
    "    return intermediate_data_dir\n",
    "\n",
    "@solid()\n",
    "def fit_and_save_charge_model(_, intermediate_data_dir: str, charge_opt_model_fp: str, model_params: dict):\n",
    "    X, y = charge.prepare_training_input_data(intermediate_data_dir)\n",
    "    charge.fit_and_save_charging_model(X, y, charge_opt_model_fp, **model_params)\n",
    "    \n",
    "    return True\n",
    "\n",
    "@solid()\n",
    "def fit_and_save_discharge_model(_, intermediate_data_dir: str, discharge_opt_model_fp: str, model_params: dict):\n",
    "    X, y = discharge.prepare_training_input_data(intermediate_data_dir)\n",
    "    discharge.fit_and_save_model(X, y, discharge_opt_model_fp, **model_params)\n",
    "    \n",
    "    return True\n",
    "\n",
    "@solid()\n",
    "def construct_battery_profile(_, charge_model_success: bool, discharge_model_success: bool, intermediate_data_dir: str, raw_data_dir: str, output_data_dir: str, discharge_opt_model_fp: str, charge_opt_model_fp: str):\n",
    "    assert charge_model_success and discharge_model_success, 'Model training was unsuccessful'\n",
    "    \n",
    "    s_discharge_profile = discharge.optimise_latest_test_discharge_profile(raw_data_dir, intermediate_data_dir, discharge_opt_model_fp)\n",
    "    s_charge_profile = charge.optimise_latest_test_charge_profile(raw_data_dir, intermediate_data_dir, charge_opt_model_fp)\n",
    "    \n",
    "    from warnings import warn\n",
    "    warn(str(s_discharge_profile.isnull().mean()))\n",
    "    warn(str(s_charge_profile.isnull().mean()))\n",
    "    \n",
    "    s_battery_profile = s_charge_profile + s_discharge_profile\n",
    "    s_battery_profile.name = 'charge_MW'\n",
    "    \n",
    "    # Check that solution meets battery constraints\n",
    "    assert constraints.schedule_is_legal(s_battery_profile), \"Solution violates constraints\"\n",
    "    \n",
    "    # Saving\n",
    "    if os.path.exists(output_data_dir) == False:\n",
    "        os.mkdir(output_data_dir)\n",
    "        \n",
    "    s_battery_profile.to_csv(f'{output_data_dir}/latest_submission.csv')\n",
    "    \n",
    "    return s_battery_profile"
   ]
  },
  {
   "cell_type": "markdown",
   "id": "nonprofit-retail",
   "metadata": {},
   "source": [
    "<br>\n",
    "\n",
    "Then we'll combine them in a pipeline"
   ]
  },
  {
   "cell_type": "code",
   "execution_count": null,
   "id": "together-plaza",
   "metadata": {},
   "outputs": [],
   "source": [
    "@pipeline\n",
    "def end_to_end_pipeline(): \n",
    "    loaded_data = load_data()\n",
    "    intermediate_data_dir = clean_data(loaded_data)\n",
    "    \n",
    "    charge_model_success = fit_and_save_charge_model(intermediate_data_dir)\n",
    "    discharge_model_success = fit_and_save_discharge_model(intermediate_data_dir)\n",
    "    \n",
    "    s_battery_profile = construct_battery_profile(charge_model_success, discharge_model_success, intermediate_data_dir)\n",
    "        \n",
    "    # Should use `great expectations` to check that the battery profile doesnt break the constraints"
   ]
  },
  {
   "cell_type": "markdown",
   "id": "mature-reward",
   "metadata": {},
   "source": [
    "<br>\n",
    "\n",
    "Which we'll now run a test"
   ]
  },
  {
   "cell_type": "code",
   "execution_count": null,
   "id": "broken-whole",
   "metadata": {},
   "outputs": [],
   "source": [
    "run_config = {\n",
    "    'solids': {\n",
    "        'load_data': {\n",
    "            'inputs': {\n",
    "                'raw_data_dir': '../data/raw',\n",
    "            },\n",
    "        },\n",
    "        'clean_data': {\n",
    "            'inputs': {\n",
    "                'intermediate_data_dir': '../data/intermediate',\n",
    "            },\n",
    "        },\n",
    "        'fit_and_save_discharge_model': {\n",
    "            'inputs': {\n",
    "                'discharge_opt_model_fp': '../models/discharge_opt.sav',\n",
    "                'model_params': {\n",
    "                    'criterion': 'mse',\n",
    "                    'max_depth': 10,\n",
    "                    'min_samples_leaf': 4,\n",
    "                    'min_samples_split': 2,\n",
    "                    'n_estimators': 100                    \n",
    "                }\n",
    "            },\n",
    "        },\n",
    "        'fit_and_save_charge_model': {\n",
    "            'inputs': {\n",
    "                'charge_opt_model_fp': '../models/charge_opt.sav',\n",
    "                'model_params': {               \n",
    "                }\n",
    "            },\n",
    "        },\n",
    "        'construct_battery_profile': {\n",
    "            'inputs': {\n",
    "                'raw_data_dir': '../data/raw',\n",
    "                'output_data_dir': '../data/output',\n",
    "                'discharge_opt_model_fp': '../models/discharge_opt.sav',\n",
    "                'charge_opt_model_fp': '../models/charge_opt.sav',\n",
    "            },\n",
    "        },\n",
    "    }\n",
    "}\n",
    "\n",
    "execute_pipeline(end_to_end_pipeline, run_config=run_config)"
   ]
  },
  {
   "cell_type": "code",
   "execution_count": null,
   "id": "reasonable-spell",
   "metadata": {},
   "outputs": [],
   "source": []
  },
  {
   "cell_type": "code",
   "execution_count": null,
   "id": "cheap-brooks",
   "metadata": {},
   "outputs": [],
   "source": [
    "df_latest_submission = pd.read_csv('../data/output/latest_submission.csv')\n",
    "\n",
    "s_latest_submission = df_latest_submission.set_index('datetime')['charge_MW']\n",
    "s_latest_submission.index = pd.to_datetime(s_latest_submission.index)\n",
    "\n",
    "# Plotting\n",
    "fig, ax = plt.subplots(dpi=250)\n",
    "\n",
    "s_latest_submission.plot(ax=ax)\n",
    "\n",
    "ax.set_xlabel('')\n",
    "ax.set_ylabel('Charge (MW)')\n",
    "hlp.hide_spines(ax)\n",
    "fig.tight_layout()\n",
    "fig.savefig('../img/latest_submission.png', dpi=250)"
   ]
  },
  {
   "cell_type": "code",
   "execution_count": null,
   "id": "dominant-afghanistan",
   "metadata": {},
   "outputs": [],
   "source": []
  },
  {
   "cell_type": "markdown",
   "id": "protective-lighting",
   "metadata": {},
   "source": [
    "<br>\n",
    "\n",
    "Finally we'll export the relevant code to our `batopt` module"
   ]
  },
  {
   "cell_type": "code",
   "execution_count": null,
   "id": "meaningful-south",
   "metadata": {},
   "outputs": [],
   "source": [
    "#hide\n",
    "from nbdev.export import notebook2script\n",
    "    \n",
    "notebook2script()"
   ]
  }
 ],
 "metadata": {
  "kernelspec": {
   "display_name": "batopt",
   "language": "python",
   "name": "batopt"
  },
  "language_info": {
   "codemirror_mode": {
    "name": "ipython",
    "version": 3
   },
   "file_extension": ".py",
   "mimetype": "text/x-python",
   "name": "python",
   "nbconvert_exporter": "python",
   "pygments_lexer": "ipython3",
   "version": "3.9.1"
  }
 },
 "nbformat": 4,
 "nbformat_minor": 5
}
