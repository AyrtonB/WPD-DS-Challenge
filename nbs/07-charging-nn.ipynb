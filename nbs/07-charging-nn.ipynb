{
 "cells": [
  {
   "cell_type": "markdown",
   "id": "demanding-invitation",
   "metadata": {},
   "source": [
    "### Neural Network Development\n",
    "\n",
    "Rather than learn to predict the optimal charging schedule produced by a heuristic method for a given profile, we could try using a custom loss function that directly reflects the (negative) scoring metric. The score is based on the proportion of solar PV that is used to charge the battery. For a given scheduled charge $y_i$ and solar PV output $\\hat{y}_i$, the amount of solar PV exploited is $min(y_i, \\hat{y}_i)$. The proportion of maximum solar PV for a given day is:\n",
    "\n",
    "$$\\frac{\\min(\\mathbf{y}, \\hat{\\mathbf{y}})}{\\min(C, \\sum \\hat{\\mathbf{y}})}$$\n",
    "\n",
    "However we also have two constraints on the capacity of the battery (which we also want to fill completely) and the max charge rate. First, the sum of our predicted values must equal the battery capacity $C$. We will penalise not meeting this constraint in the loss function:\n",
    "\n",
    "$$\\phi = \\alpha (C - \\sum{\\mathbf{y}})^2 $$\n",
    "\n",
    "We will apply a similar idea for penalising exceeding the max charge rate: \n",
    "\n",
    "$$\\gamma = \\beta \\sum_{i} \\max (y_i - B, 0)) $$\n",
    "\n",
    "\n",
    "\n",
    "We will consider the target value $y$ to be the solar profile and use the following loss function: \n",
    "\n",
    "$$L = \\frac{\\min(\\mathbf{y}, \\hat{\\mathbf{y}})}{\\min(C, \\sum \\hat{\\mathbf{y}})} + \\phi (\\mathbf{y}) + \\gamma (\\mathbf{y}) $$\n",
    "\n",
    "\n",
    "#### Data dimensionality\n",
    "\n",
    "One thing to note here is that we are trying to map to a whole day of charging schedule in one go, whereas previously we have been going point by point. As a result, each observation $(\\mathbf{X}, \\mathbf{y})$ is a whole day, so we have much less data to work with (doubly bad if we want to use a neural net, which is data hungry). In addition, it leaves us with the problem of how to represent the whole day in the input vector: the state dimensionality quickly becomes very large. "
   ]
  },
  {
   "cell_type": "markdown",
   "id": "strategic-queensland",
   "metadata": {},
   "source": [
    "First we will define the neural network:"
   ]
  },
  {
   "cell_type": "code",
   "execution_count": 353,
   "id": "attempted-compilation",
   "metadata": {},
   "outputs": [],
   "source": [
    "import torch\n",
    "import torch.nn as nn\n",
    "import torch.nn.functional as F\n",
    "import torch.optim as optim\n",
    "\n",
    "class Net(nn.Module):\n",
    "\n",
    "    def __init__(self, n_in, n_out, n_layers, n_nodes):\n",
    "        super(Net, self).__init__()\n",
    "        self.n_in = n_in\n",
    "        self.n_out = n_out\n",
    "        self.n_layers = n_layers\n",
    "        self.n_nodes = n_nodes\n",
    "        self.in_layer = nn.Linear(self.n_in, self.n_nodes)\n",
    "        self.layers = nn.ModuleList([nn.Linear(self.n_nodes, self.n_nodes) for i in range(self.n_layers)])\n",
    "        self.out_layer = nn.Linear(self.n_nodes, self.n_out)\n",
    "        self.activation = F.relu\n",
    "        \n",
    "    def forward(self, x):\n",
    "        x = self.in_layer(x)\n",
    "        x = self.activation(x)\n",
    "        for l in self.layers:\n",
    "            x = l(x)\n",
    "            x = self.activation(x)\n",
    "        x = self.out_layer(x)\n",
    "        x = F.relu(x) # can apply relu here as outputs must be above 0 anyway\n",
    "        \n",
    "        return x\n",
    "    \n",
    "def charging_loss_function(y, y_pred, alpha=1e-3, beta=1e-1, capacity=6, time_unit=0.5, max_charge_rate=2.5):\n",
    "    \n",
    "    C = torch.tensor(capacity/time_unit)\n",
    "    B = torch.tensor(max_charge_rate)\n",
    "        \n",
    "    phi = alpha * torch.mean(torch.square(C - y_pred.sum(axis=1)))\n",
    "    gamma = beta * torch.mean(torch.maximum(y_pred - B, torch.tensor(0)))\n",
    "            \n",
    "    L = -(torch.minimum(y, y_pred) / torch.minimum(C, torch.sum(y_pred))) + phi + gamma\n",
    "    L = torch.mean(L)\n",
    "        \n",
    "    return L, phi, gamma"
   ]
  },
  {
   "cell_type": "markdown",
   "id": "peaceful-graduate",
   "metadata": {},
   "source": [
    "Now we will process the data, taking using the mean of each variable each day. \n",
    "\n",
    "**Note: taking the mean for each variable is a terrible idea, but it is convenient for this prototype!**"
   ]
  },
  {
   "cell_type": "code",
   "execution_count": 477,
   "id": "conventional-disclosure",
   "metadata": {},
   "outputs": [],
   "source": [
    "def construct_NN_training_df(start_time='04:00', end_time='15:00', time_unit=0.5):\n",
    "\n",
    "    df = clean.combine_training_datasets(intermediate_data_dir).interpolate(limit=1)\n",
    "    df_features = construct_df_charge_features(df)\n",
    "    n_periods = int(1 + (pd.Timestamp('15:00') - pd.Timestamp('04:00')).components.hours / time_unit)\n",
    "\n",
    "    df_features = df_features.between_time(start_time, end_time)\n",
    "\n",
    "    dt_idx = pd.date_range(df_features.index.min(), df['pv_power_mw'].dropna().index.max()-pd.Timedelta(minutes=30), freq='30T')\n",
    "    s_pv = df['pv_power_mw'].loc[dt_idx]\n",
    "\n",
    "    # Filter only complete days\n",
    "    day_counts = s_pv.groupby(s_pv.index.date).count()\n",
    "    complete_days = pd.DatetimeIndex(day_counts[day_counts==48].index)\n",
    "    s_pv = s_pv[pd.to_datetime(s_pv.index.date).isin(complete_days)].between_time(start_time, end_time)\n",
    "    df_features = df_features[pd.to_datetime(df_features.index.date).isin(complete_days)]\n",
    "\n",
    "    # Take the mean of each variable: NOTE: this is a huge compromise!! \n",
    "    df_features_mean = df_features.groupby(df_features.index.date).mean()\n",
    "\n",
    "    # Standardise\n",
    "    df_features_norm = df_features_mean.apply(lambda x: (x - np.mean(x))/np.std(x))\n",
    "\n",
    "    # Arrays of inputs and targes\n",
    "    inputs = torch.tensor(df_features_norm.values).float()\n",
    "    targets = torch.tensor(s_pv.values.reshape(len(complete_days), n_periods)).float()\n",
    "    \n",
    "    return inputs, targets\n",
    "\n",
    "def train_test_split(X, Y, split_prop=0.8):\n",
    "    random_perm = torch.randperm(X.shape[0])\n",
    "    split_idx = int(X.shape[0] * split_prop)\n",
    "    train_idx = random_perm[:split_idx]\n",
    "    test_idx = random_perm[split_idx:]\n",
    "    \n",
    "    train_X, train_Y = X[train_idx], Y[train_idx]\n",
    "    test_X, test_Y = X[test_idx], Y[test_idx]\n",
    "    \n",
    "    return train_X, train_Y, test_X, test_Y\n",
    "\n",
    "def get_batch(train_X, train_Y, size):\n",
    "    batch_idx = torch.randperm(train_X.shape[0])[:size]\n",
    "    return train_X[batch_idx], train_Y[batch_idx]\n"
   ]
  },
  {
   "cell_type": "markdown",
   "id": "brazilian-lloyd",
   "metadata": {},
   "source": [
    "Finally let's run a quick test: "
   ]
  },
  {
   "cell_type": "code",
   "execution_count": 479,
   "id": "higher-sigma",
   "metadata": {},
   "outputs": [
    {
     "data": {
      "text/plain": [
       "Text(0.5, 1.0, 'Charge rate penalty')"
      ]
     },
     "execution_count": 479,
     "metadata": {},
     "output_type": "execute_result"
    },
    {
     "data": {
      "image/png": "[encoded data removed]",
      "text/plain": [
       "<Figure size 864x216 with 3 Axes>"
      ]
     },
     "metadata": {
      "needs_background": "light"
     },
     "output_type": "display_data"
    }
   ],
   "source": [
    "X, Y = construct_NN_training_df()\n",
    "train_X, train_Y, test_X, test_Y = train_test_split(X, Y, 0.8)\n",
    "\n",
    "net = Net(inputs.shape[1], targets.shape[1], 3, 16)\n",
    "optimizer = optim.Adam(net.parameters(), lr=1e-4)\n",
    "batch_size = 32\n",
    "\n",
    "losses=[]\n",
    "phis = []\n",
    "gammas = []\n",
    "\n",
    "for i in range(2500):\n",
    "    \n",
    "    inputs, targets = get_batch(train_X, train_Y, batch_size)\n",
    "\n",
    "    # in your training loop:\n",
    "    optimizer.zero_grad()   # zero the gradient buffers\n",
    "    output = net(inputs)\n",
    "    loss, phi, gamma = charging_loss_function(targets, output)\n",
    "    loss.backward()\n",
    "    optimizer.step()    # Does the update\n",
    "    \n",
    "    losses.append(loss.item())\n",
    "    phis.append(phi.item())\n",
    "    gammas.append(gamma.item())\n",
    "\n",
    "fig, ax = plt.subplots(1,3, figsize=(12,3))\n",
    "ax[0].plot(losses)\n",
    "ax[1].plot(phis)\n",
    "ax[2].plot(gammas)\n",
    "ax[0].set_title(\"Overall loss\")\n",
    "ax[1].set_title(\"Capacity penalty\")\n",
    "ax[2].set_title(\"Charge rate penalty\")"
   ]
  },
  {
   "cell_type": "code",
   "execution_count": 480,
   "id": "substantial-julian",
   "metadata": {},
   "outputs": [
    {
     "name": "stdout",
     "output_type": "stream",
     "text": [
      "27\n"
     ]
    },
    {
     "data": {
      "text/plain": [
       "[<matplotlib.lines.Line2D at 0x139446400>]"
      ]
     },
     "execution_count": 480,
     "metadata": {},
     "output_type": "execute_result"
    },
    {
     "data": {
      "image/png": "[encoded data removed]",
      "text/plain": [
       "<Figure size 432x288 with 1 Axes>"
      ]
     },
     "metadata": {
      "needs_background": "light"
     },
     "output_type": "display_data"
    }
   ],
   "source": [
    "out = net(test_X).detach().numpy()\n",
    "idx = np.random.randint(out.shape[0])\n",
    "print(idx)\n",
    "plt.plot(out[idx])\n"
   ]
  }
 ],
 "metadata": {
  "kernelspec": {
   "display_name": "Python 3",
   "language": "python",
   "name": "python3"
  },
  "language_info": {
   "codemirror_mode": {
    "name": "ipython",
    "version": 3
   },
   "file_extension": ".py",
   "mimetype": "text/x-python",
   "name": "python",
   "nbconvert_exporter": "python",
   "pygments_lexer": "ipython3",
   "version": "3.9.1"
  }
 },
 "nbformat": 4,
 "nbformat_minor": 5
}
