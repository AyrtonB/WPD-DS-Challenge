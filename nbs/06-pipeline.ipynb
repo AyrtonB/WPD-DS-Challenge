{
 "cells": [
  {
   "cell_type": "code",
   "execution_count": 1,
   "id": "sought-slovenia",
   "metadata": {},
   "outputs": [],
   "source": [
    "#default_exp pipeline"
   ]
  },
  {
   "cell_type": "markdown",
   "id": "latter-methodology",
   "metadata": {},
   "source": [
    "# Pipeline\n",
    "\n",
    "<br>\n",
    "\n",
    "### Imports"
   ]
  },
  {
   "cell_type": "code",
   "execution_count": 2,
   "id": "plastic-vertex",
   "metadata": {},
   "outputs": [],
   "source": [
    "#exports\n",
    "import numpy as np\n",
    "import pandas as pd\n",
    "\n",
    "from dagster import execute_pipeline, pipeline, solid, Field\n",
    "\n",
    "from batopt import clean, discharge"
   ]
  },
  {
   "cell_type": "markdown",
   "id": "heard-wesley",
   "metadata": {},
   "source": [
    "<br>\n",
    "\n",
    "### End-to-End\n",
    "\n",
    "We're now going to combine these steps into a pipeline using dagster, first we'll create the individual components."
   ]
  },
  {
   "cell_type": "code",
   "execution_count": 3,
   "id": "caroline-daughter",
   "metadata": {},
   "outputs": [],
   "source": [
    "@solid()\n",
    "def load_data(_, raw_data_dir: str):\n",
    "    loaded_data = dict()\n",
    "    \n",
    "    loaded_data['pv'] = clean.load_training_dataset(raw_data_dir, 'pv')\n",
    "    loaded_data['demand'] = clean.load_training_dataset(raw_data_dir, 'demand')\n",
    "    loaded_data['weather'] = clean.load_training_dataset(raw_data_dir, 'weather', dt_idx_freq='H')\n",
    "    \n",
    "    return loaded_data\n",
    "\n",
    "@solid()\n",
    "def clean_data(_, loaded_data, intermediate_data_dir: str):\n",
    "    # Cleaning\n",
    "    cleaned_data = dict()\n",
    "\n",
    "    cleaned_data['pv'] = (loaded_data['pv']\n",
    "                          .pipe(clean.interpolate_missing_panel_temps, loaded_data['weather'])\n",
    "                          .pipe(clean.interpolate_missing_site_irradiance, loaded_data['weather'])\n",
    "                          .pipe(clean.interpolate_missing_site_power)\n",
    "                         )\n",
    "    cleaned_data['weather'] = clean.interpolate_missing_weather_solar(loaded_data['pv'], loaded_data['weather'])\n",
    "    cleaned_data['demand'] = loaded_data['demand']\n",
    "    \n",
    "    # Saving\n",
    "    cleaned_data['pv'].to_csv(f'{intermediate_data_dir}/pv_cleaned.csv')\n",
    "    cleaned_data['demand'].to_csv(f'{intermediate_data_dir}/demand_cleaned.csv')\n",
    "    cleaned_data['weather'].to_csv(f'{intermediate_data_dir}/weather_cleaned.csv')\n",
    "            \n",
    "    return intermediate_data_dir\n",
    "\n",
    "@solid()\n",
    "def fit_and_save_discharge_model(_, intermediate_data_dir: str, discharge_opt_model_fp: str, model_params: dict):\n",
    "    X, y = discharge.prepare_training_input_data(intermediate_data_dir)\n",
    "    discharge.fit_and_save_model(X, y, discharge_opt_model_fp, **model_params)\n",
    "    \n",
    "    return \n",
    "\n",
    "@solid()\n",
    "def construct_battery_profile(_, cleaned_data_dir: str, raw_data_dir: str, discharge_opt_model_fp: str):\n",
    "    s_discharge_profile = discharge.optimise_latest_test_discharge_profile(raw_data_dir, cleaned_data_dir, discharge_opt_model_fp)\n",
    "    \n",
    "    s_battery_profile = s_discharge_profile\n",
    "    \n",
    "    return s_battery_profile"
   ]
  },
  {
   "cell_type": "markdown",
   "id": "mighty-thermal",
   "metadata": {},
   "source": [
    "<br>\n",
    "\n",
    "Then we'll combine them in a pipeline"
   ]
  },
  {
   "cell_type": "code",
   "execution_count": 4,
   "id": "composed-adelaide",
   "metadata": {},
   "outputs": [],
   "source": [
    "@pipeline\n",
    "def end_to_end_pipeline(): \n",
    "    loaded_data = load_data()\n",
    "    cleaned_data_dir = clean_data(loaded_data)\n",
    "    \n",
    "    fit_and_save_discharge_model(cleaned_data_dir)\n",
    "    s_battery_profile = construct_battery_profile(cleaned_data_dir)\n",
    "    # Should use `great expectations` to check that the battery profile doesnt break the constraints"
   ]
  },
  {
   "cell_type": "markdown",
   "id": "essential-software",
   "metadata": {},
   "source": [
    "<br>\n",
    "\n",
    "Which we'll now run a test with"
   ]
  },
  {
   "cell_type": "code",
   "execution_count": 5,
   "id": "civilian-pointer",
   "metadata": {},
   "outputs": [
    {
     "name": "stderr",
     "output_type": "stream",
     "text": [
      "2021-02-08 16:16:16 - dagster - DEBUG - end_to_end_pipeline - 079cb2d0-f84b-488c-926e-c83ce1008c67 - 12559 - ENGINE_EVENT - Starting initialization of resources [asset_store].\n",
      "2021-02-08 16:16:16 - dagster - DEBUG - end_to_end_pipeline - 079cb2d0-f84b-488c-926e-c83ce1008c67 - 12559 - ENGINE_EVENT - Finished initialization of resources [asset_store].\n",
      "2021-02-08 16:16:16 - dagster - DEBUG - end_to_end_pipeline - 079cb2d0-f84b-488c-926e-c83ce1008c67 - 12559 - PIPELINE_START - Started execution of pipeline \"end_to_end_pipeline\".\n",
      "2021-02-08 16:16:16 - dagster - DEBUG - end_to_end_pipeline - 079cb2d0-f84b-488c-926e-c83ce1008c67 - 12559 - ENGINE_EVENT - Executing steps in process (pid: 12559)\n",
      "2021-02-08 16:16:16 - dagster - DEBUG - end_to_end_pipeline - 079cb2d0-f84b-488c-926e-c83ce1008c67 - 12559 - load_data.compute - STEP_START - Started execution of step \"load_data.compute\".\n",
      "2021-02-08 16:16:16 - dagster - DEBUG - end_to_end_pipeline - 079cb2d0-f84b-488c-926e-c83ce1008c67 - 12559 - load_data.compute - STEP_INPUT - Got input \"raw_data_dir\" of type \"String\". (Type check passed).\n",
      "2021-02-08 16:16:17 - dagster - DEBUG - end_to_end_pipeline - 079cb2d0-f84b-488c-926e-c83ce1008c67 - 12559 - load_data.compute - STEP_OUTPUT - Yielded output \"result\" of type \"Any\". (Type check passed).\n",
      "2021-02-08 16:16:17 - dagster - DEBUG - end_to_end_pipeline - 079cb2d0-f84b-488c-926e-c83ce1008c67 - 12559 - load_data.compute - OBJECT_STORE_OPERATION - Stored intermediate object for output result in memory object store using pickle.\n",
      "2021-02-08 16:16:17 - dagster - DEBUG - end_to_end_pipeline - 079cb2d0-f84b-488c-926e-c83ce1008c67 - 12559 - load_data.compute - STEP_SUCCESS - Finished execution of step \"load_data.compute\" in 126ms.\n",
      "2021-02-08 16:16:17 - dagster - DEBUG - end_to_end_pipeline - 079cb2d0-f84b-488c-926e-c83ce1008c67 - 12559 - clean_data.compute - STEP_START - Started execution of step \"clean_data.compute\".\n",
      "2021-02-08 16:16:17 - dagster - DEBUG - end_to_end_pipeline - 079cb2d0-f84b-488c-926e-c83ce1008c67 - 12559 - clean_data.compute - OBJECT_STORE_OPERATION - Retrieved intermediate object for input loaded_data in memory object store using pickle.\n",
      "2021-02-08 16:16:17 - dagster - DEBUG - end_to_end_pipeline - 079cb2d0-f84b-488c-926e-c83ce1008c67 - 12559 - clean_data.compute - STEP_INPUT - Got input \"loaded_data\" of type \"Any\". (Type check passed).\n",
      "2021-02-08 16:16:17 - dagster - DEBUG - end_to_end_pipeline - 079cb2d0-f84b-488c-926e-c83ce1008c67 - 12559 - clean_data.compute - STEP_INPUT - Got input \"intermediate_data_dir\" of type \"String\". (Type check passed).\n",
      "2021-02-08 16:16:46 - dagster - DEBUG - end_to_end_pipeline - 079cb2d0-f84b-488c-926e-c83ce1008c67 - 12559 - clean_data.compute - STEP_OUTPUT - Yielded output \"result\" of type \"Any\". (Type check passed).\n",
      "2021-02-08 16:16:46 - dagster - DEBUG - end_to_end_pipeline - 079cb2d0-f84b-488c-926e-c83ce1008c67 - 12559 - clean_data.compute - OBJECT_STORE_OPERATION - Stored intermediate object for output result in memory object store using pickle.\n",
      "2021-02-08 16:16:46 - dagster - DEBUG - end_to_end_pipeline - 079cb2d0-f84b-488c-926e-c83ce1008c67 - 12559 - clean_data.compute - STEP_SUCCESS - Finished execution of step \"clean_data.compute\" in 29.53s.\n",
      "2021-02-08 16:16:46 - dagster - DEBUG - end_to_end_pipeline - 079cb2d0-f84b-488c-926e-c83ce1008c67 - 12559 - construct_battery_profile.compute - STEP_START - Started execution of step \"construct_battery_profile.compute\".\n",
      "2021-02-08 16:16:46 - dagster - DEBUG - end_to_end_pipeline - 079cb2d0-f84b-488c-926e-c83ce1008c67 - 12559 - construct_battery_profile.compute - OBJECT_STORE_OPERATION - Retrieved intermediate object for input cleaned_data_dir in memory object store using pickle.\n",
      "2021-02-08 16:16:46 - dagster - DEBUG - end_to_end_pipeline - 079cb2d0-f84b-488c-926e-c83ce1008c67 - 12559 - construct_battery_profile.compute - STEP_INPUT - Got input \"cleaned_data_dir\" of type \"String\". (Type check passed).\n",
      "2021-02-08 16:16:46 - dagster - DEBUG - end_to_end_pipeline - 079cb2d0-f84b-488c-926e-c83ce1008c67 - 12559 - construct_battery_profile.compute - STEP_INPUT - Got input \"raw_data_dir\" of type \"String\". (Type check passed).\n",
      "2021-02-08 16:16:46 - dagster - DEBUG - end_to_end_pipeline - 079cb2d0-f84b-488c-926e-c83ce1008c67 - 12559 - construct_battery_profile.compute - STEP_INPUT - Got input \"discharge_opt_model_fp\" of type \"String\". (Type check passed).\n",
      "2021-02-08 16:16:47 - dagster - DEBUG - end_to_end_pipeline - 079cb2d0-f84b-488c-926e-c83ce1008c67 - 12559 - construct_battery_profile.compute - STEP_OUTPUT - Yielded output \"result\" of type \"Any\". (Type check passed).\n",
      "2021-02-08 16:16:47 - dagster - DEBUG - end_to_end_pipeline - 079cb2d0-f84b-488c-926e-c83ce1008c67 - 12559 - construct_battery_profile.compute - OBJECT_STORE_OPERATION - Stored intermediate object for output result in memory object store using pickle.\n",
      "2021-02-08 16:16:47 - dagster - DEBUG - end_to_end_pipeline - 079cb2d0-f84b-488c-926e-c83ce1008c67 - 12559 - construct_battery_profile.compute - STEP_SUCCESS - Finished execution of step \"construct_battery_profile.compute\" in 788ms.\n",
      "2021-02-08 16:16:47 - dagster - DEBUG - end_to_end_pipeline - 079cb2d0-f84b-488c-926e-c83ce1008c67 - 12559 - fit_and_save_discharge_model.compute - STEP_START - Started execution of step \"fit_and_save_discharge_model.compute\".\n",
      "2021-02-08 16:16:47 - dagster - DEBUG - end_to_end_pipeline - 079cb2d0-f84b-488c-926e-c83ce1008c67 - 12559 - fit_and_save_discharge_model.compute - OBJECT_STORE_OPERATION - Retrieved intermediate object for input intermediate_data_dir in memory object store using pickle.\n",
      "2021-02-08 16:16:47 - dagster - DEBUG - end_to_end_pipeline - 079cb2d0-f84b-488c-926e-c83ce1008c67 - 12559 - fit_and_save_discharge_model.compute - STEP_INPUT - Got input \"intermediate_data_dir\" of type \"String\". (Type check passed).\n",
      "2021-02-08 16:16:47 - dagster - DEBUG - end_to_end_pipeline - 079cb2d0-f84b-488c-926e-c83ce1008c67 - 12559 - fit_and_save_discharge_model.compute - STEP_INPUT - Got input \"discharge_opt_model_fp\" of type \"String\". (Type check passed).\n",
      "2021-02-08 16:16:47 - dagster - DEBUG - end_to_end_pipeline - 079cb2d0-f84b-488c-926e-c83ce1008c67 - 12559 - fit_and_save_discharge_model.compute - STEP_INPUT - Got input \"model_params\" of type \"dict\". (Type check passed).\n",
      "2021-02-08 16:16:50 - dagster - DEBUG - end_to_end_pipeline - 079cb2d0-f84b-488c-926e-c83ce1008c67 - 12559 - fit_and_save_discharge_model.compute - STEP_OUTPUT - Yielded output \"result\" of type \"Any\". (Type check passed).\n",
      "2021-02-08 16:16:50 - dagster - DEBUG - end_to_end_pipeline - 079cb2d0-f84b-488c-926e-c83ce1008c67 - 12559 - fit_and_save_discharge_model.compute - OBJECT_STORE_OPERATION - Stored intermediate object for output result in memory object store using pickle.\n",
      "2021-02-08 16:16:50 - dagster - DEBUG - end_to_end_pipeline - 079cb2d0-f84b-488c-926e-c83ce1008c67 - 12559 - fit_and_save_discharge_model.compute - STEP_SUCCESS - Finished execution of step \"fit_and_save_discharge_model.compute\" in 2.79s.\n",
      "2021-02-08 16:16:50 - dagster - DEBUG - end_to_end_pipeline - 079cb2d0-f84b-488c-926e-c83ce1008c67 - 12559 - ENGINE_EVENT - Finished steps in process (pid: 12559) in 33.28s\n",
      "2021-02-08 16:16:50 - dagster - DEBUG - end_to_end_pipeline - 079cb2d0-f84b-488c-926e-c83ce1008c67 - 12559 - PIPELINE_SUCCESS - Finished execution of pipeline \"end_to_end_pipeline\".\n"
     ]
    },
    {
     "data": {
      "text/plain": [
       "<dagster.core.execution.results.PipelineExecutionResult at 0x164722640>"
      ]
     },
     "execution_count": 5,
     "metadata": {},
     "output_type": "execute_result"
    }
   ],
   "source": [
    "run_config = {\n",
    "    'solids': {\n",
    "        'load_data': {\n",
    "            'inputs': {\n",
    "                'raw_data_dir': '../data/raw',\n",
    "            },\n",
    "        },\n",
    "        'clean_data': {\n",
    "            'inputs': {\n",
    "                'intermediate_data_dir': '../data/intermediate',\n",
    "            },\n",
    "        },\n",
    "        'fit_and_save_discharge_model': {\n",
    "            'inputs': {\n",
    "                'discharge_opt_model_fp': '../models/discharge_opt.sav',\n",
    "                'model_params': {\n",
    "                    'criterion': 'mse',\n",
    "                    'max_depth': 10,\n",
    "                    'min_samples_leaf': 4,\n",
    "                    'min_samples_split': 2,\n",
    "                    'n_estimators': 100                    \n",
    "                }\n",
    "            },\n",
    "        },\n",
    "        'construct_battery_profile': {\n",
    "            'inputs': {\n",
    "                'raw_data_dir': '../data/raw',\n",
    "                'discharge_opt_model_fp': '../models/discharge_opt.sav',\n",
    "            },\n",
    "        },\n",
    "    }\n",
    "}\n",
    "\n",
    "execute_pipeline(end_to_end_pipeline, run_config=run_config)"
   ]
  },
  {
   "cell_type": "code",
   "execution_count": null,
   "id": "agreed-allah",
   "metadata": {},
   "outputs": [],
   "source": []
  },
  {
   "cell_type": "code",
   "execution_count": null,
   "id": "french-squad",
   "metadata": {},
   "outputs": [],
   "source": []
  },
  {
   "cell_type": "markdown",
   "id": "aerial-alignment",
   "metadata": {},
   "source": [
    "<br>\n",
    "\n",
    "Finally we'll export the relevant code to our `batopt` module"
   ]
  },
  {
   "cell_type": "code",
   "execution_count": 15,
   "id": "satisfied-writing",
   "metadata": {},
   "outputs": [
    {
     "name": "stdout",
     "output_type": "stream",
     "text": [
      "Converted 00-utilities.ipynb.\n",
      "Converted 01-data-cleaning.ipynb.\n",
      "Converted 02-battery-discharge.ipynb.\n",
      "Converted 03-battery-charge.ipynb.\n",
      "Converted 03-pv-forecast.ipynb.\n",
      "Converted 04-battery-optimisation.ipynb.\n",
      "Converted 05-evaluation.ipynb.\n",
      "Converted 06-pipeline.ipynb.\n"
     ]
    }
   ],
   "source": [
    "#hide\n",
    "from nbdev.export import notebook2script\n",
    "    \n",
    "notebook2script()"
   ]
  }
 ],
 "metadata": {
  "kernelspec": {
   "display_name": "Python 3",
   "language": "python",
   "name": "python3"
  },
  "language_info": {
   "codemirror_mode": {
    "name": "ipython",
    "version": 3
   },
   "file_extension": ".py",
   "mimetype": "text/x-python",
   "name": "python",
   "nbconvert_exporter": "python",
   "pygments_lexer": "ipython3",
   "version": "3.9.1"
  }
 },
 "nbformat": 4,
 "nbformat_minor": 5
}
