{
 "cells": [
  {
   "cell_type": "code",
   "execution_count": 1,
   "id": "behavioral-performer",
   "metadata": {},
   "outputs": [],
   "source": [
    "#default_exp retrieval"
   ]
  },
  {
   "cell_type": "markdown",
   "id": "interested-enzyme",
   "metadata": {},
   "source": [
    "# Data Retrieval\n",
    "\n",
    "<br>\n",
    "\n",
    "### Imports"
   ]
  },
  {
   "cell_type": "code",
   "execution_count": 2,
   "id": "flexible-guyana",
   "metadata": {},
   "outputs": [],
   "source": [
    "#exports\n",
    "import json\n",
    "import numpy as np\n",
    "import pandas as pd\n",
    "\n",
    "import requests"
   ]
  },
  {
   "cell_type": "code",
   "execution_count": 3,
   "id": "satisfactory-cliff",
   "metadata": {},
   "outputs": [],
   "source": [
    "import FEAutils as hlp\n",
    "import matplotlib.pyplot as plt\n",
    "from IPython.display import JSON"
   ]
  },
  {
   "cell_type": "markdown",
   "id": "criminal-motion",
   "metadata": {},
   "source": [
    "<br>\n",
    "\n",
    "### User Inputs"
   ]
  },
  {
   "cell_type": "code",
   "execution_count": 4,
   "id": "intended-silence",
   "metadata": {},
   "outputs": [],
   "source": [
    "raw_data_dir = '../data/raw'\n",
    "intermediate_data_dir = '../data/intermediate'"
   ]
  },
  {
   "cell_type": "code",
   "execution_count": null,
   "id": "arctic-bishop",
   "metadata": {},
   "outputs": [],
   "source": []
  },
  {
   "cell_type": "code",
   "execution_count": 5,
   "id": "elder-weapon",
   "metadata": {},
   "outputs": [
    {
     "data": {
      "application/json": {
       "england-and-wales": {
        "division": "england-and-wales",
        "events": [
         {
          "bunting": true,
          "date": "2016-01-01",
          "notes": "",
          "title": "New Year’s Day"
         },
         {
          "bunting": false,
          "date": "2016-03-25",
          "notes": "",
          "title": "Good Friday"
         },
         {
          "bunting": true,
          "date": "2016-03-28",
          "notes": "",
          "title": "Easter Monday"
         },
         {
          "bunting": true,
          "date": "2016-05-02",
          "notes": "",
          "title": "Early May bank holiday"
         },
         {
          "bunting": true,
          "date": "2016-05-30",
          "notes": "",
          "title": "Spring bank holiday"
         },
         {
          "bunting": true,
          "date": "2016-08-29",
          "notes": "",
          "title": "Summer bank holiday"
         },
         {
          "bunting": true,
          "date": "2016-12-26",
          "notes": "",
          "title": "Boxing Day"
         },
         {
          "bunting": true,
          "date": "2016-12-27",
          "notes": "Substitute day",
          "title": "Christmas Day"
         },
         {
          "bunting": true,
          "date": "2017-01-02",
          "notes": "Substitute day",
          "title": "New Year’s Day"
         },
         {
          "bunting": false,
          "date": "2017-04-14",
          "notes": "",
          "title": "Good Friday"
         },
         {
          "bunting": true,
          "date": "2017-04-17",
          "notes": "",
          "title": "Easter Monday"
         },
         {
          "bunting": true,
          "date": "2017-05-01",
          "notes": "",
          "title": "Early May bank holiday"
         },
         {
          "bunting": true,
          "date": "2017-05-29",
          "notes": "",
          "title": "Spring bank holiday"
         },
         {
          "bunting": true,
          "date": "2017-08-28",
          "notes": "",
          "title": "Summer bank holiday"
         },
         {
          "bunting": true,
          "date": "2017-12-25",
          "notes": "",
          "title": "Christmas Day"
         },
         {
          "bunting": true,
          "date": "2017-12-26",
          "notes": "",
          "title": "Boxing Day"
         },
         {
          "bunting": true,
          "date": "2018-01-01",
          "notes": "",
          "title": "New Year’s Day"
         },
         {
          "bunting": false,
          "date": "2018-03-30",
          "notes": "",
          "title": "Good Friday"
         },
         {
          "bunting": true,
          "date": "2018-04-02",
          "notes": "",
          "title": "Easter Monday"
         },
         {
          "bunting": true,
          "date": "2018-05-07",
          "notes": "",
          "title": "Early May bank holiday"
         },
         {
          "bunting": true,
          "date": "2018-05-28",
          "notes": "",
          "title": "Spring bank holiday"
         },
         {
          "bunting": true,
          "date": "2018-08-27",
          "notes": "",
          "title": "Summer bank holiday"
         },
         {
          "bunting": true,
          "date": "2018-12-25",
          "notes": "",
          "title": "Christmas Day"
         },
         {
          "bunting": true,
          "date": "2018-12-26",
          "notes": "",
          "title": "Boxing Day"
         },
         {
          "bunting": true,
          "date": "2019-01-01",
          "notes": "",
          "title": "New Year’s Day"
         },
         {
          "bunting": false,
          "date": "2019-04-19",
          "notes": "",
          "title": "Good Friday"
         },
         {
          "bunting": true,
          "date": "2019-04-22",
          "notes": "",
          "title": "Easter Monday"
         },
         {
          "bunting": true,
          "date": "2019-05-06",
          "notes": "",
          "title": "Early May bank holiday"
         },
         {
          "bunting": true,
          "date": "2019-05-27",
          "notes": "",
          "title": "Spring bank holiday"
         },
         {
          "bunting": true,
          "date": "2019-08-26",
          "notes": "",
          "title": "Summer bank holiday"
         },
         {
          "bunting": true,
          "date": "2019-12-25",
          "notes": "",
          "title": "Christmas Day"
         },
         {
          "bunting": true,
          "date": "2019-12-26",
          "notes": "",
          "title": "Boxing Day"
         },
         {
          "bunting": true,
          "date": "2020-01-01",
          "notes": "",
          "title": "New Year’s Day"
         },
         {
          "bunting": false,
          "date": "2020-04-10",
          "notes": "",
          "title": "Good Friday"
         },
         {
          "bunting": false,
          "date": "2020-04-13",
          "notes": "",
          "title": "Easter Monday"
         },
         {
          "bunting": true,
          "date": "2020-05-08",
          "notes": "",
          "title": "Early May bank holiday (VE day)"
         },
         {
          "bunting": true,
          "date": "2020-05-25",
          "notes": "",
          "title": "Spring bank holiday"
         },
         {
          "bunting": true,
          "date": "2020-08-31",
          "notes": "",
          "title": "Summer bank holiday"
         },
         {
          "bunting": true,
          "date": "2020-12-25",
          "notes": "",
          "title": "Christmas Day"
         },
         {
          "bunting": true,
          "date": "2020-12-28",
          "notes": "Substitute day",
          "title": "Boxing Day"
         },
         {
          "bunting": true,
          "date": "2021-01-01",
          "notes": "",
          "title": "New Year’s Day"
         },
         {
          "bunting": false,
          "date": "2021-04-02",
          "notes": "",
          "title": "Good Friday"
         },
         {
          "bunting": true,
          "date": "2021-04-05",
          "notes": "",
          "title": "Easter Monday"
         },
         {
          "bunting": true,
          "date": "2021-05-03",
          "notes": "",
          "title": "Early May bank holiday"
         },
         {
          "bunting": true,
          "date": "2021-05-31",
          "notes": "",
          "title": "Spring bank holiday"
         },
         {
          "bunting": true,
          "date": "2021-08-30",
          "notes": "",
          "title": "Summer bank holiday"
         },
         {
          "bunting": true,
          "date": "2021-12-27",
          "notes": "Substitute day",
          "title": "Christmas Day"
         },
         {
          "bunting": true,
          "date": "2021-12-28",
          "notes": "Substitute day",
          "title": "Boxing Day"
         },
         {
          "bunting": true,
          "date": "2022-01-03",
          "notes": "Substitute day",
          "title": "New Year’s Day"
         },
         {
          "bunting": false,
          "date": "2022-04-15",
          "notes": "",
          "title": "Good Friday"
         },
         {
          "bunting": true,
          "date": "2022-04-18",
          "notes": "",
          "title": "Easter Monday"
         },
         {
          "bunting": true,
          "date": "2022-05-02",
          "notes": "",
          "title": "Early May bank holiday"
         },
         {
          "bunting": true,
          "date": "2022-06-02",
          "notes": "",
          "title": "Spring bank holiday"
         },
         {
          "bunting": true,
          "date": "2022-06-03",
          "notes": "",
          "title": "Platinum Jubilee bank holiday"
         },
         {
          "bunting": true,
          "date": "2022-08-29",
          "notes": "",
          "title": "Summer bank holiday"
         },
         {
          "bunting": true,
          "date": "2022-12-26",
          "notes": "",
          "title": "Boxing Day"
         },
         {
          "bunting": true,
          "date": "2022-12-27",
          "notes": "Substitute day",
          "title": "Christmas Day"
         }
        ]
       },
       "northern-ireland": {
        "division": "northern-ireland",
        "events": [
         {
          "bunting": true,
          "date": "2016-01-01",
          "notes": "",
          "title": "New Year’s Day"
         },
         {
          "bunting": true,
          "date": "2016-03-17",
          "notes": "",
          "title": "St Patrick’s Day"
         },
         {
          "bunting": false,
          "date": "2016-03-25",
          "notes": "",
          "title": "Good Friday"
         },
         {
          "bunting": true,
          "date": "2016-03-28",
          "notes": "",
          "title": "Easter Monday"
         },
         {
          "bunting": true,
          "date": "2016-05-02",
          "notes": "",
          "title": "Early May bank holiday"
         },
         {
          "bunting": true,
          "date": "2016-05-30",
          "notes": "",
          "title": "Spring bank holiday"
         },
         {
          "bunting": false,
          "date": "2016-07-12",
          "notes": "",
          "title": "Battle of the Boyne (Orangemen’s Day)"
         },
         {
          "bunting": true,
          "date": "2016-08-29",
          "notes": "",
          "title": "Summer bank holiday"
         },
         {
          "bunting": true,
          "date": "2016-12-26",
          "notes": "",
          "title": "Boxing Day"
         },
         {
          "bunting": true,
          "date": "2016-12-27",
          "notes": "Substitute day",
          "title": "Christmas Day"
         },
         {
          "bunting": true,
          "date": "2017-01-02",
          "notes": "Substitute day",
          "title": "New Year’s Day"
         },
         {
          "bunting": true,
          "date": "2017-03-17",
          "notes": "",
          "title": "St Patrick’s Day"
         },
         {
          "bunting": false,
          "date": "2017-04-14",
          "notes": "",
          "title": "Good Friday"
         },
         {
          "bunting": true,
          "date": "2017-04-17",
          "notes": "",
          "title": "Easter Monday"
         },
         {
          "bunting": true,
          "date": "2017-05-01",
          "notes": "",
          "title": "Early May bank holiday"
         },
         {
          "bunting": true,
          "date": "2017-05-29",
          "notes": "",
          "title": "Spring bank holiday"
         },
         {
          "bunting": false,
          "date": "2017-07-12",
          "notes": "",
          "title": "Battle of the Boyne (Orangemen’s Day)"
         },
         {
          "bunting": true,
          "date": "2017-08-28",
          "notes": "",
          "title": "Summer bank holiday"
         },
         {
          "bunting": true,
          "date": "2017-12-25",
          "notes": "",
          "title": "Christmas Day"
         },
         {
          "bunting": true,
          "date": "2017-12-26",
          "notes": "",
          "title": "Boxing Day"
         },
         {
          "bunting": true,
          "date": "2018-01-01",
          "notes": "",
          "title": "New Year’s Day"
         },
         {
          "bunting": true,
          "date": "2018-03-19",
          "notes": "Substitute day",
          "title": "St Patrick’s Day"
         },
         {
          "bunting": false,
          "date": "2018-03-30",
          "notes": "",
          "title": "Good Friday"
         },
         {
          "bunting": true,
          "date": "2018-04-02",
          "notes": "",
          "title": "Easter Monday"
         },
         {
          "bunting": true,
          "date": "2018-05-07",
          "notes": "",
          "title": "Early May bank holiday"
         },
         {
          "bunting": true,
          "date": "2018-05-28",
          "notes": "",
          "title": "Spring bank holiday"
         },
         {
          "bunting": false,
          "date": "2018-07-12",
          "notes": "",
          "title": "Battle of the Boyne (Orangemen’s Day)"
         },
         {
          "bunting": true,
          "date": "2018-08-27",
          "notes": "",
          "title": "Summer bank holiday"
         },
         {
          "bunting": true,
          "date": "2018-12-25",
          "notes": "",
          "title": "Christmas Day"
         },
         {
          "bunting": true,
          "date": "2018-12-26",
          "notes": "",
          "title": "Boxing Day"
         },
         {
          "bunting": true,
          "date": "2019-01-01",
          "notes": "",
          "title": "New Year’s Day"
         },
         {
          "bunting": true,
          "date": "2019-03-18",
          "notes": "Substitute day",
          "title": "St Patrick’s Day"
         },
         {
          "bunting": false,
          "date": "2019-04-19",
          "notes": "",
          "title": "Good Friday"
         },
         {
          "bunting": true,
          "date": "2019-04-22",
          "notes": "",
          "title": "Easter Monday"
         },
         {
          "bunting": true,
          "date": "2019-05-06",
          "notes": "",
          "title": "Early May bank holiday"
         },
         {
          "bunting": true,
          "date": "2019-05-27",
          "notes": "",
          "title": "Spring bank holiday"
         },
         {
          "bunting": false,
          "date": "2019-07-12",
          "notes": "",
          "title": "Battle of the Boyne (Orangemen’s Day)"
         },
         {
          "bunting": true,
          "date": "2019-08-26",
          "notes": "",
          "title": "Summer bank holiday"
         },
         {
          "bunting": true,
          "date": "2019-12-25",
          "notes": "",
          "title": "Christmas Day"
         },
         {
          "bunting": true,
          "date": "2019-12-26",
          "notes": "",
          "title": "Boxing Day"
         },
         {
          "bunting": true,
          "date": "2020-01-01",
          "notes": "",
          "title": "New Year’s Day"
         },
         {
          "bunting": true,
          "date": "2020-03-17",
          "notes": "",
          "title": "St Patrick’s Day"
         },
         {
          "bunting": false,
          "date": "2020-04-10",
          "notes": "",
          "title": "Good Friday"
         },
         {
          "bunting": false,
          "date": "2020-04-13",
          "notes": "",
          "title": "Easter Monday"
         },
         {
          "bunting": true,
          "date": "2020-05-08",
          "notes": "",
          "title": "Early May bank holiday (VE day)"
         },
         {
          "bunting": true,
          "date": "2020-05-25",
          "notes": "",
          "title": "Spring bank holiday"
         },
         {
          "bunting": false,
          "date": "2020-07-13",
          "notes": "Substitute day",
          "title": "Battle of the Boyne (Orangemen’s Day)"
         },
         {
          "bunting": true,
          "date": "2020-08-31",
          "notes": "",
          "title": "Summer bank holiday"
         },
         {
          "bunting": true,
          "date": "2020-12-25",
          "notes": "",
          "title": "Christmas Day"
         },
         {
          "bunting": true,
          "date": "2020-12-28",
          "notes": "Substitute day",
          "title": "Boxing Day"
         },
         {
          "bunting": true,
          "date": "2021-01-01",
          "notes": "",
          "title": "New Year’s Day"
         },
         {
          "bunting": true,
          "date": "2021-03-17",
          "notes": "",
          "title": "St Patrick’s Day"
         },
         {
          "bunting": false,
          "date": "2021-04-02",
          "notes": "",
          "title": "Good Friday"
         },
         {
          "bunting": true,
          "date": "2021-04-05",
          "notes": "",
          "title": "Easter Monday"
         },
         {
          "bunting": true,
          "date": "2021-05-03",
          "notes": "",
          "title": "Early May bank holiday"
         },
         {
          "bunting": true,
          "date": "2021-05-31",
          "notes": "",
          "title": "Spring bank holiday"
         },
         {
          "bunting": false,
          "date": "2021-07-12",
          "notes": "",
          "title": "Battle of the Boyne (Orangemen’s Day)"
         },
         {
          "bunting": true,
          "date": "2021-08-30",
          "notes": "",
          "title": "Summer bank holiday"
         },
         {
          "bunting": true,
          "date": "2021-12-27",
          "notes": "Substitute day",
          "title": "Christmas Day"
         },
         {
          "bunting": true,
          "date": "2021-12-28",
          "notes": "Substitute day",
          "title": "Boxing Day"
         },
         {
          "bunting": true,
          "date": "2022-01-03",
          "notes": "Substitute day",
          "title": "New Year’s Day"
         },
         {
          "bunting": true,
          "date": "2022-03-17",
          "notes": "",
          "title": "St Patrick’s Day"
         },
         {
          "bunting": false,
          "date": "2022-04-15",
          "notes": "",
          "title": "Good Friday"
         },
         {
          "bunting": true,
          "date": "2022-04-18",
          "notes": "",
          "title": "Easter Monday"
         },
         {
          "bunting": true,
          "date": "2022-05-02",
          "notes": "",
          "title": "Early May bank holiday"
         },
         {
          "bunting": true,
          "date": "2022-06-02",
          "notes": "",
          "title": "Spring bank holiday"
         },
         {
          "bunting": true,
          "date": "2022-06-03",
          "notes": "",
          "title": "Platinum Jubilee bank holiday"
         },
         {
          "bunting": false,
          "date": "2022-07-12",
          "notes": "",
          "title": "Battle of the Boyne (Orangemen’s Day)"
         },
         {
          "bunting": true,
          "date": "2022-08-29",
          "notes": "",
          "title": "Summer bank holiday"
         },
         {
          "bunting": true,
          "date": "2022-12-26",
          "notes": "",
          "title": "Boxing Day"
         },
         {
          "bunting": true,
          "date": "2022-12-27",
          "notes": "Substitute day",
          "title": "Christmas Day"
         }
        ]
       },
       "scotland": {
        "division": "scotland",
        "events": [
         {
          "bunting": true,
          "date": "2016-01-01",
          "notes": "",
          "title": "New Year’s Day"
         },
         {
          "bunting": true,
          "date": "2016-01-04",
          "notes": "Substitute day",
          "title": "2nd January"
         },
         {
          "bunting": false,
          "date": "2016-03-25",
          "notes": "",
          "title": "Good Friday"
         },
         {
          "bunting": true,
          "date": "2016-05-02",
          "notes": "",
          "title": "Early May bank holiday"
         },
         {
          "bunting": true,
          "date": "2016-05-30",
          "notes": "",
          "title": "Spring bank holiday"
         },
         {
          "bunting": true,
          "date": "2016-08-01",
          "notes": "",
          "title": "Summer bank holiday"
         },
         {
          "bunting": true,
          "date": "2016-11-30",
          "notes": "",
          "title": "St Andrew’s Day"
         },
         {
          "bunting": true,
          "date": "2016-12-26",
          "notes": "",
          "title": "Boxing Day"
         },
         {
          "bunting": true,
          "date": "2016-12-27",
          "notes": "Substitute day",
          "title": "Christmas Day"
         },
         {
          "bunting": true,
          "date": "2017-01-02",
          "notes": "",
          "title": "2nd January"
         },
         {
          "bunting": true,
          "date": "2017-01-03",
          "notes": "Substitute day",
          "title": "New Year’s Day"
         },
         {
          "bunting": false,
          "date": "2017-04-14",
          "notes": "",
          "title": "Good Friday"
         },
         {
          "bunting": true,
          "date": "2017-05-01",
          "notes": "",
          "title": "Early May bank holiday"
         },
         {
          "bunting": true,
          "date": "2017-05-29",
          "notes": "",
          "title": "Spring bank holiday"
         },
         {
          "bunting": true,
          "date": "2017-08-07",
          "notes": "",
          "title": "Summer bank holiday"
         },
         {
          "bunting": true,
          "date": "2017-11-30",
          "notes": "",
          "title": "St Andrew’s Day"
         },
         {
          "bunting": true,
          "date": "2017-12-25",
          "notes": "",
          "title": "Christmas Day"
         },
         {
          "bunting": true,
          "date": "2017-12-26",
          "notes": "",
          "title": "Boxing Day"
         },
         {
          "bunting": true,
          "date": "2018-01-01",
          "notes": "",
          "title": "New Year’s Day"
         },
         {
          "bunting": true,
          "date": "2018-01-02",
          "notes": "",
          "title": "2nd January"
         },
         {
          "bunting": false,
          "date": "2018-03-30",
          "notes": "",
          "title": "Good Friday"
         },
         {
          "bunting": true,
          "date": "2018-05-07",
          "notes": "",
          "title": "Early May bank holiday"
         },
         {
          "bunting": true,
          "date": "2018-05-28",
          "notes": "",
          "title": "Spring bank holiday"
         },
         {
          "bunting": true,
          "date": "2018-08-06",
          "notes": "",
          "title": "Summer bank holiday"
         },
         {
          "bunting": true,
          "date": "2018-11-30",
          "notes": "",
          "title": "St Andrew’s Day"
         },
         {
          "bunting": true,
          "date": "2018-12-25",
          "notes": "",
          "title": "Christmas Day"
         },
         {
          "bunting": true,
          "date": "2018-12-26",
          "notes": "",
          "title": "Boxing Day"
         },
         {
          "bunting": true,
          "date": "2019-01-01",
          "notes": "",
          "title": "New Year’s Day"
         },
         {
          "bunting": true,
          "date": "2019-01-02",
          "notes": "",
          "title": "2nd January"
         },
         {
          "bunting": false,
          "date": "2019-04-19",
          "notes": "",
          "title": "Good Friday"
         },
         {
          "bunting": true,
          "date": "2019-05-06",
          "notes": "",
          "title": "Early May bank holiday"
         },
         {
          "bunting": true,
          "date": "2019-05-27",
          "notes": "",
          "title": "Spring bank holiday"
         },
         {
          "bunting": true,
          "date": "2019-08-05",
          "notes": "",
          "title": "Summer bank holiday"
         },
         {
          "bunting": true,
          "date": "2019-12-02",
          "notes": "Substitute day",
          "title": "St Andrew’s Day"
         },
         {
          "bunting": true,
          "date": "2019-12-25",
          "notes": "",
          "title": "Christmas Day"
         },
         {
          "bunting": true,
          "date": "2019-12-26",
          "notes": "",
          "title": "Boxing Day"
         },
         {
          "bunting": true,
          "date": "2020-01-01",
          "notes": "",
          "title": "New Year’s Day"
         },
         {
          "bunting": true,
          "date": "2020-01-02",
          "notes": "",
          "title": "2nd January"
         },
         {
          "bunting": false,
          "date": "2020-04-10",
          "notes": "",
          "title": "Good Friday"
         },
         {
          "bunting": true,
          "date": "2020-05-08",
          "notes": "",
          "title": "Early May bank holiday (VE day)"
         },
         {
          "bunting": true,
          "date": "2020-05-25",
          "notes": "",
          "title": "Spring bank holiday"
         },
         {
          "bunting": true,
          "date": "2020-08-03",
          "notes": "",
          "title": "Summer bank holiday"
         },
         {
          "bunting": true,
          "date": "2020-11-30",
          "notes": "",
          "title": "St Andrew’s Day"
         },
         {
          "bunting": true,
          "date": "2020-12-25",
          "notes": "",
          "title": "Christmas Day"
         },
         {
          "bunting": true,
          "date": "2020-12-28",
          "notes": "Substitute day",
          "title": "Boxing Day"
         },
         {
          "bunting": true,
          "date": "2021-01-01",
          "notes": "",
          "title": "New Year’s Day"
         },
         {
          "bunting": true,
          "date": "2021-01-04",
          "notes": "Substitute day",
          "title": "2nd January"
         },
         {
          "bunting": false,
          "date": "2021-04-02",
          "notes": "",
          "title": "Good Friday"
         },
         {
          "bunting": true,
          "date": "2021-05-03",
          "notes": "",
          "title": "Early May bank holiday"
         },
         {
          "bunting": true,
          "date": "2021-05-31",
          "notes": "",
          "title": "Spring bank holiday"
         },
         {
          "bunting": true,
          "date": "2021-08-02",
          "notes": "",
          "title": "Summer bank holiday"
         },
         {
          "bunting": true,
          "date": "2021-11-30",
          "notes": "",
          "title": "St Andrew’s Day"
         },
         {
          "bunting": true,
          "date": "2021-12-27",
          "notes": "Substitute day",
          "title": "Christmas Day"
         },
         {
          "bunting": true,
          "date": "2021-12-28",
          "notes": "Substitute day",
          "title": "Boxing Day"
         },
         {
          "bunting": true,
          "date": "2022-01-03",
          "notes": "Substitute day",
          "title": "New Year’s Day"
         },
         {
          "bunting": true,
          "date": "2022-01-04",
          "notes": "Substitute day",
          "title": "2nd January"
         },
         {
          "bunting": false,
          "date": "2022-04-15",
          "notes": "",
          "title": "Good Friday"
         },
         {
          "bunting": true,
          "date": "2022-05-02",
          "notes": "",
          "title": "Early May bank holiday"
         },
         {
          "bunting": true,
          "date": "2022-06-02",
          "notes": "",
          "title": "Spring bank holiday"
         },
         {
          "bunting": true,
          "date": "2022-06-03",
          "notes": "",
          "title": "Platinum Jubilee bank holiday"
         },
         {
          "bunting": true,
          "date": "2022-08-01",
          "notes": "",
          "title": "Summer bank holiday"
         },
         {
          "bunting": true,
          "date": "2022-11-30",
          "notes": "",
          "title": "St Andrew’s Day"
         },
         {
          "bunting": true,
          "date": "2022-12-26",
          "notes": "",
          "title": "Boxing Day"
         },
         {
          "bunting": true,
          "date": "2022-12-27",
          "notes": "Substitute day",
          "title": "Christmas Day"
         }
        ]
       }
      },
      "text/plain": [
       "<IPython.core.display.JSON object>"
      ]
     },
     "execution_count": 5,
     "metadata": {
      "application/json": {
       "expanded": false,
       "root": "root"
      }
     },
     "output_type": "execute_result"
    }
   ],
   "source": [
    "get_holidays_json = lambda holidays_url='https://www.gov.uk/bank-holidays.json': requests.get(holidays_url).json()\n",
    "\n",
    "holidays_json = get_holidays_json()\n",
    "\n",
    "JSON(holidays_json)"
   ]
  },
  {
   "cell_type": "code",
   "execution_count": null,
   "id": "brazilian-produce",
   "metadata": {},
   "outputs": [],
   "source": []
  },
  {
   "cell_type": "code",
   "execution_count": 6,
   "id": "senior-thread",
   "metadata": {},
   "outputs": [],
   "source": [
    "#exports\n",
    "def save_latest_raw_holiday_data(raw_data_dir, holidays_url='https://www.gov.uk/bank-holidays.json'):\n",
    "    holidays_json = get_holidays_json(holidays_url)\n",
    "    \n",
    "    with open(f'{raw_data_dir}/holidays.json', 'w') as fp:\n",
    "        json.dump(holidays_json, fp)\n",
    "        \n",
    "    return "
   ]
  },
  {
   "cell_type": "code",
   "execution_count": 7,
   "id": "boolean-vertical",
   "metadata": {},
   "outputs": [],
   "source": [
    "save_latest_raw_holiday_data(intermediate_data_dir)"
   ]
  },
  {
   "cell_type": "code",
   "execution_count": null,
   "id": "capable-washer",
   "metadata": {},
   "outputs": [],
   "source": []
  },
  {
   "cell_type": "code",
   "execution_count": 8,
   "id": "asian-enzyme",
   "metadata": {},
   "outputs": [],
   "source": [
    "#exports\n",
    "def load_holidays_df(raw_data_dir):\n",
    "    with open(f'{raw_data_dir}/holidays.json', 'r') as fp:\n",
    "        holidays_json = json.load(fp)\n",
    "\n",
    "    df_holidays = pd.DataFrame(holidays_json['england-and-wales']['events'])\n",
    "    df_holidays['date'] = pd.to_datetime(df_holidays['date'])\n",
    "    \n",
    "    return df_holidays"
   ]
  },
  {
   "cell_type": "code",
   "execution_count": 9,
   "id": "regular-hypothesis",
   "metadata": {},
   "outputs": [
    {
     "data": {
      "text/html": [
       "<div>\n",
       "<style scoped>\n",
       "    .dataframe tbody tr th:only-of-type {\n",
       "        vertical-align: middle;\n",
       "    }\n",
       "\n",
       "    .dataframe tbody tr th {\n",
       "        vertical-align: top;\n",
       "    }\n",
       "\n",
       "    .dataframe thead th {\n",
       "        text-align: right;\n",
       "    }\n",
       "</style>\n",
       "<table border=\"1\" class=\"dataframe\">\n",
       "  <thead>\n",
       "    <tr style=\"text-align: right;\">\n",
       "      <th></th>\n",
       "      <th>title</th>\n",
       "      <th>date</th>\n",
       "      <th>notes</th>\n",
       "      <th>bunting</th>\n",
       "    </tr>\n",
       "  </thead>\n",
       "  <tbody>\n",
       "    <tr>\n",
       "      <th>0</th>\n",
       "      <td>New Year’s Day</td>\n",
       "      <td>2016-01-01</td>\n",
       "      <td></td>\n",
       "      <td>True</td>\n",
       "    </tr>\n",
       "    <tr>\n",
       "      <th>1</th>\n",
       "      <td>Good Friday</td>\n",
       "      <td>2016-03-25</td>\n",
       "      <td></td>\n",
       "      <td>False</td>\n",
       "    </tr>\n",
       "    <tr>\n",
       "      <th>2</th>\n",
       "      <td>Easter Monday</td>\n",
       "      <td>2016-03-28</td>\n",
       "      <td></td>\n",
       "      <td>True</td>\n",
       "    </tr>\n",
       "    <tr>\n",
       "      <th>3</th>\n",
       "      <td>Early May bank holiday</td>\n",
       "      <td>2016-05-02</td>\n",
       "      <td></td>\n",
       "      <td>True</td>\n",
       "    </tr>\n",
       "    <tr>\n",
       "      <th>4</th>\n",
       "      <td>Spring bank holiday</td>\n",
       "      <td>2016-05-30</td>\n",
       "      <td></td>\n",
       "      <td>True</td>\n",
       "    </tr>\n",
       "  </tbody>\n",
       "</table>\n",
       "</div>"
      ],
      "text/plain": [
       "                    title       date notes  bunting\n",
       "0          New Year’s Day 2016-01-01           True\n",
       "1             Good Friday 2016-03-25          False\n",
       "2           Easter Monday 2016-03-28           True\n",
       "3  Early May bank holiday 2016-05-02           True\n",
       "4     Spring bank holiday 2016-05-30           True"
      ]
     },
     "execution_count": 9,
     "metadata": {},
     "output_type": "execute_result"
    }
   ],
   "source": [
    "df_holidays = load_holidays_df(raw_data_dir)\n",
    "\n",
    "df_holidays.head()"
   ]
  },
  {
   "cell_type": "code",
   "execution_count": null,
   "id": "refined-advertising",
   "metadata": {},
   "outputs": [],
   "source": []
  },
  {
   "cell_type": "code",
   "execution_count": 10,
   "id": "absent-error",
   "metadata": {},
   "outputs": [],
   "source": [
    "#exports\n",
    "def holidays_df_to_s(df_holidays):\n",
    "    holidays_dt_range = pd.date_range(df_holidays['date'].min(), df_holidays['date'].max(), freq='30T', tz='UTC')\n",
    "\n",
    "    s_holidays = pd.Series(np.isin(holidays_dt_range.date, df_holidays['date'].dt.date), index=holidays_dt_range).astype(int)\n",
    "    s_holidays.index.name = 'datetime'\n",
    "    s_holidays.name = 'holiday'\n",
    "    \n",
    "    return s_holidays"
   ]
  },
  {
   "cell_type": "code",
   "execution_count": 11,
   "id": "threatened-reality",
   "metadata": {},
   "outputs": [
    {
     "data": {
      "text/plain": [
       "datetime\n",
       "2016-01-01 00:00:00+00:00    1\n",
       "2016-01-01 00:30:00+00:00    1\n",
       "2016-01-01 01:00:00+00:00    1\n",
       "2016-01-01 01:30:00+00:00    1\n",
       "2016-01-01 02:00:00+00:00    1\n",
       "Freq: 30T, Name: holiday, dtype: int64"
      ]
     },
     "execution_count": 11,
     "metadata": {},
     "output_type": "execute_result"
    }
   ],
   "source": [
    "s_holidays = holidays_df_to_s(df_holidays)\n",
    "\n",
    "s_holidays.head()"
   ]
  },
  {
   "cell_type": "code",
   "execution_count": null,
   "id": "dimensional-munich",
   "metadata": {},
   "outputs": [],
   "source": []
  },
  {
   "cell_type": "code",
   "execution_count": 12,
   "id": "lined-integrity",
   "metadata": {},
   "outputs": [
    {
     "data": {
      "text/plain": [
       "(0.1, 0.9)"
      ]
     },
     "execution_count": 12,
     "metadata": {},
     "output_type": "execute_result"
    },
    {
     "data": {
      "image/png": "[encoded data removed]",
      "text/plain": [
       "<Figure size 900x600 with 1 Axes>"
      ]
     },
     "metadata": {
      "needs_background": "light"
     },
     "output_type": "display_data"
    }
   ],
   "source": [
    "fig, ax = plt.subplots(dpi=150)\n",
    "\n",
    "s_holidays['2016'].plot()\n",
    "\n",
    "hlp.hide_spines(ax, positions=['top', 'bottom', 'left', 'right'])\n",
    "ax.set_yticks([])\n",
    "ax.set_ylim(0.1, 0.9)"
   ]
  },
  {
   "cell_type": "code",
   "execution_count": null,
   "id": "human-development",
   "metadata": {},
   "outputs": [],
   "source": []
  },
  {
   "cell_type": "code",
   "execution_count": 13,
   "id": "aware-filing",
   "metadata": {},
   "outputs": [],
   "source": [
    "#exports\n",
    "def load_holidays_s(raw_data_dir):\n",
    "    df_holidays = load_holidays_df(raw_data_dir)\n",
    "    s_holidays = holidays_df_to_s(df_holidays)\n",
    "    \n",
    "    return s_holidays"
   ]
  },
  {
   "cell_type": "code",
   "execution_count": 14,
   "id": "included-cooler",
   "metadata": {},
   "outputs": [
    {
     "data": {
      "text/plain": [
       "datetime\n",
       "2016-01-01 00:00:00+00:00    1\n",
       "2016-01-01 00:30:00+00:00    1\n",
       "2016-01-01 01:00:00+00:00    1\n",
       "2016-01-01 01:30:00+00:00    1\n",
       "2016-01-01 02:00:00+00:00    1\n",
       "Freq: 30T, Name: holiday, dtype: int64"
      ]
     },
     "execution_count": 14,
     "metadata": {},
     "output_type": "execute_result"
    }
   ],
   "source": [
    "s_holidays = load_holidays_s(raw_data_dir)\n",
    "\n",
    "s_holidays.head()"
   ]
  },
  {
   "cell_type": "code",
   "execution_count": null,
   "id": "competent-architect",
   "metadata": {},
   "outputs": [],
   "source": []
  },
  {
   "cell_type": "code",
   "execution_count": 15,
   "id": "northern-maximum",
   "metadata": {},
   "outputs": [],
   "source": [
    "s_holidays.to_csv(f'{intermediate_data_dir}/holidays.csv')"
   ]
  },
  {
   "cell_type": "code",
   "execution_count": null,
   "id": "sharp-nebraska",
   "metadata": {},
   "outputs": [],
   "source": []
  },
  {
   "cell_type": "markdown",
   "id": "sacred-forwarding",
   "metadata": {},
   "source": [
    "<br>\n",
    "\n",
    "Finally we'll export the relevant code to our `batopt` module"
   ]
  },
  {
   "cell_type": "code",
   "execution_count": 16,
   "id": "upset-webmaster",
   "metadata": {},
   "outputs": [
    {
     "name": "stdout",
     "output_type": "stream",
     "text": [
      "Converted 00-utilities.ipynb.\n",
      "Converted 01-retrieval.ipynb.\n",
      "Converted 02-cleaning.ipynb.\n",
      "Converted 03-charging.ipynb.\n",
      "Converted 04-discharging.ipynb.\n",
      "Converted 05-constraints.ipynb.\n",
      "Converted 06-tuning.ipynb.\n",
      "Converted 07-charging-nn.ipynb.\n",
      "Converted 08-pv-forecast.ipynb.\n",
      "Converted 09-christmas.ipynb.\n",
      "Converted 09-pipeline.ipynb.\n",
      "Converted 10-pipeline.ipynb.\n",
      "Converted Untitled.ipynb.\n"
     ]
    }
   ],
   "source": [
    "#hide\n",
    "from nbdev.export import notebook2script\n",
    "    \n",
    "notebook2script()"
   ]
  }
 ],
 "metadata": {
  "kernelspec": {
   "display_name": "Python 3",
   "language": "python",
   "name": "python3"
  },
  "language_info": {
   "codemirror_mode": {
    "name": "ipython",
    "version": 3
   },
   "file_extension": ".py",
   "mimetype": "text/x-python",
   "name": "python",
   "nbconvert_exporter": "python",
   "pygments_lexer": "ipython3",
   "version": "3.9.1"
  }
 },
 "nbformat": 4,
 "nbformat_minor": 5
}
